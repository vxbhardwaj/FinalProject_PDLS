{
 "cells": [
  {
   "cell_type": "markdown",
   "metadata": {
    "_uuid": "7c1fce19a11f95416168ced03c2c70fa818b21a5",
    "colab_type": "text",
    "id": "KBeAf8WgaeSk"
   },
   "source": [
    "Right now, this is substantively identical to version 8 of Henrique Mendoça's RCNN model with Coco transfer learning (see fork link at the top).  The first version, which is an exact copy, got a LB score of 0.162.  I've edited the documentaiton and added the plot code here from his later version.   This version probably does not get such a high score, just because there is a lot of randomness between one run and another.\n",
    "\n",
    "**Mask-RCNN Starter Model for the RSNA Pneumonia Detection Challenge with transfer learning **\n",
    "\n",
    "Using pre-trained COCO weights trained on http://cocodataset.org as in https://github.com/matterport/Mask_RCNN/tree/master/samples/balloon\n",
    "We get the best public kernel performance so far, and also training only within the 6hrs kaggle limit."
   ]
  },
  {
   "cell_type": "code",
   "execution_count": 4,
   "metadata": {
    "_uuid": "40c67b3ff0fa04587dec508363308adaa3ceaf34",
    "colab": {},
    "colab_type": "code",
    "id": "4kjcC6QqywWl",
    "tags": []
   },
   "outputs": [],
   "source": [
    "import os \n",
    "import sys\n",
    "import random\n",
    "import math\n",
    "import numpy as np\n",
    "import cv2\n",
    "import matplotlib.pyplot as plt\n",
    "import json\n",
    "import pydicom\n",
    "from imgaug import augmenters as iaa\n",
    "from tqdm import tqdm\n",
    "import pandas as pd \n",
    "import glob "
   ]
  },
  {
   "cell_type": "code",
   "execution_count": 5,
   "metadata": {
    "_uuid": "6e5764759e6a0a9b698b44645658f66873edd807",
    "colab": {},
    "colab_type": "code",
    "id": "yP0XLJx_x_6o",
    "tags": []
   },
   "outputs": [],
   "source": [
    "DATA_DIR = '/home/jupyter/rsna-pneumonia-data'\n",
    "ROOT_DIR = '/home/jupyter/'"
   ]
  },
  {
   "cell_type": "markdown",
   "metadata": {
    "_uuid": "576df4c47a23d08b1bdb384245e09aa69f88bbd3",
    "colab_type": "text",
    "id": "kdYzLq1zfKL4"
   },
   "source": [
    "### Install Matterport's Mask-RCNN model from github.\n",
    "See the [Matterport's implementation of Mask-RCNN](https://github.com/matterport/Mask_RCNN)."
   ]
  },
  {
   "cell_type": "code",
   "execution_count": 6,
   "metadata": {
    "_uuid": "b37d22551d332f0f7b722cc7204eb614524b6c21",
    "colab": {
     "base_uri": "https://localhost:8080/",
     "height": 143
    },
    "colab_type": "code",
    "id": "KgllzLnDr7kF",
    "outputId": "6c978df7-2013-437e-acd1-5011048dfb53",
    "tags": []
   },
   "outputs": [],
   "source": [
    "# !git clone https://www.github.com/matterport/Mask_RCNN.git\n",
    "# os.chdir('Mask_RCNN')\n",
    "#!python setup.py -q install"
   ]
  },
  {
   "cell_type": "code",
   "execution_count": 7,
   "metadata": {
    "_uuid": "3acbbbe055b6a409d3c50ae0f893acf51b5ae7ba",
    "colab": {
     "base_uri": "https://localhost:8080/",
     "height": 35
    },
    "colab_type": "code",
    "id": "-KZXyWwhzOVU",
    "outputId": "2576cc17-7484-4311-ad72-3c5643dcb5bb",
    "tags": []
   },
   "outputs": [],
   "source": [
    "# Import Mask RCNN\n",
    "sys.path.append(os.path.join(ROOT_DIR, 'Mask_RCNN'))  # To find local version of the library\n",
    "from mrcnn.config import Config\n",
    "from mrcnn import utils\n",
    "import mrcnn.model as modellib\n",
    "from mrcnn import visualize\n",
    "from mrcnn.model import log"
   ]
  },
  {
   "cell_type": "code",
   "execution_count": 8,
   "metadata": {
    "_uuid": "50089cc61791871cdf6a5c0037dc4f28b7b7d7cc",
    "colab": {},
    "colab_type": "code",
    "id": "FghMmiMjzOX2",
    "tags": []
   },
   "outputs": [],
   "source": [
    "train_dicom_dir = os.path.join(DATA_DIR, 'stage_2_train_images')\n",
    "test_dicom_dir = os.path.join(DATA_DIR, 'stage_2_test_images')"
   ]
  },
  {
   "cell_type": "code",
   "execution_count": 9,
   "metadata": {
    "_uuid": "c3ee0cd0ee0b1defdec97b94bc736587c1f7631f",
    "tags": []
   },
   "outputs": [],
   "source": [
    "### Download COCO pre-trained weights\n",
    "# !wget --quiet https://github.com/matterport/Mask_RCNN/releases/download/v2.0/mask_rcnn_coco.h5\n",
    "# !ls -lh mask_rcnn_coco.h5\n",
    "\n",
    "COCO_WEIGHTS_PATH = \"./pneumonia20221214T2308/mask_rcnn_pneumonia_0002.h5\" #\"mask_rcnn_coco.h5\""
   ]
  },
  {
   "cell_type": "markdown",
   "metadata": {
    "_uuid": "032cc5fe4baa051108106675e6ca4f4fdb2846ed",
    "colab_type": "text",
    "id": "gj-tvDvEaDiC"
   },
   "source": [
    "### Some setup functions and classes for Mask-RCNN\n",
    "\n",
    "- dicom_fps is a list of the dicom image path and filenames \n",
    "- image_annotions is a dictionary of the annotations keyed by the filenames\n",
    "- parsing the dataset returns a list of the image filenames and the annotations dictionary"
   ]
  },
  {
   "cell_type": "code",
   "execution_count": 10,
   "metadata": {
    "_uuid": "778cb19865d7cc63440491aef9202b71c61e8bb2",
    "colab": {},
    "colab_type": "code",
    "id": "ivqC4cnszOaM",
    "tags": []
   },
   "outputs": [],
   "source": [
    "def get_dicom_fps(dicom_dir):\n",
    "    dicom_fps = glob.glob(dicom_dir+'/'+'*.dcm')\n",
    "    return list(set(dicom_fps))\n",
    "\n",
    "def parse_dataset(dicom_dir, anns): \n",
    "    image_fps = get_dicom_fps(dicom_dir)\n",
    "    image_annotations = {fp: [] for fp in image_fps}\n",
    "    for index, row in anns.iterrows(): \n",
    "        fp = os.path.join(dicom_dir, row['patientId']+'.dcm')\n",
    "        image_annotations[fp].append(row)\n",
    "    return image_fps, image_annotations "
   ]
  },
  {
   "cell_type": "code",
   "execution_count": 11,
   "metadata": {
    "_uuid": "dfcffc4eaa94a41497717851dee9f702d8a2a73b",
    "colab": {
     "base_uri": "https://localhost:8080/",
     "height": 917
    },
    "colab_type": "code",
    "id": "_SfzTa-1zOck",
    "outputId": "91ae8935-bccb-4b8e-9a7e-aa690f95fd9b",
    "tags": []
   },
   "outputs": [
    {
     "name": "stdout",
     "output_type": "stream",
     "text": [
      "\n",
      "Configurations:\n",
      "BACKBONE                       resnet50\n",
      "BACKBONE_STRIDES               [4, 8, 16, 32, 64]\n",
      "BATCH_SIZE                     8\n",
      "BBOX_STD_DEV                   [0.1 0.1 0.2 0.2]\n",
      "COMPUTE_BACKBONE_SHAPE         None\n",
      "DETECTION_MAX_INSTANCES        3\n",
      "DETECTION_MIN_CONFIDENCE       0.7\n",
      "DETECTION_NMS_THRESHOLD        0.1\n",
      "FPN_CLASSIF_FC_LAYERS_SIZE     1024\n",
      "GPU_COUNT                      1\n",
      "GRADIENT_CLIP_NORM             5.0\n",
      "IMAGES_PER_GPU                 8\n",
      "IMAGE_CHANNEL_COUNT            3\n",
      "IMAGE_MAX_DIM                  256\n",
      "IMAGE_META_SIZE                14\n",
      "IMAGE_MIN_DIM                  256\n",
      "IMAGE_MIN_SCALE                0\n",
      "IMAGE_RESIZE_MODE              square\n",
      "IMAGE_SHAPE                    [256 256   3]\n",
      "LEARNING_MOMENTUM              0.9\n",
      "LEARNING_RATE                  0.001\n",
      "LOSS_WEIGHTS                   {'rpn_class_loss': 1.0, 'rpn_bbox_loss': 1.0, 'mrcnn_class_loss': 1.0, 'mrcnn_bbox_loss': 1.0, 'mrcnn_mask_loss': 1.0}\n",
      "MASK_POOL_SIZE                 14\n",
      "MASK_SHAPE                     [28, 28]\n",
      "MAX_GT_INSTANCES               3\n",
      "MEAN_PIXEL                     [123.7 116.8 103.9]\n",
      "MINI_MASK_SHAPE                (56, 56)\n",
      "NAME                           pneumonia\n",
      "NUM_CLASSES                    2\n",
      "POOL_SIZE                      7\n",
      "POST_NMS_ROIS_INFERENCE        1000\n",
      "POST_NMS_ROIS_TRAINING         2000\n",
      "PRE_NMS_LIMIT                  6000\n",
      "ROI_POSITIVE_RATIO             0.33\n",
      "RPN_ANCHOR_RATIOS              [0.5, 1, 2]\n",
      "RPN_ANCHOR_SCALES              (32, 64, 128, 256)\n",
      "RPN_ANCHOR_STRIDE              1\n",
      "RPN_BBOX_STD_DEV               [0.1 0.1 0.2 0.2]\n",
      "RPN_NMS_THRESHOLD              0.7\n",
      "RPN_TRAIN_ANCHORS_PER_IMAGE    256\n",
      "STEPS_PER_EPOCH                200\n",
      "TOP_DOWN_PYRAMID_SIZE          256\n",
      "TRAIN_BN                       False\n",
      "TRAIN_ROIS_PER_IMAGE           32\n",
      "USE_MINI_MASK                  True\n",
      "USE_RPN_ROIS                   True\n",
      "VALIDATION_STEPS               50\n",
      "WEIGHT_DECAY                   0.0001\n",
      "\n",
      "\n"
     ]
    }
   ],
   "source": [
    "# The following parameters have been selected to reduce running time for demonstration purposes \n",
    "# These are not optimal \n",
    "\n",
    "class DetectorConfig(Config):\n",
    "    \"\"\"Configuration for training pneumonia detection on the RSNA pneumonia dataset.\n",
    "    Overrides values in the base Config class.\n",
    "    \"\"\"\n",
    "    \n",
    "    # Give the configuration a recognizable name  \n",
    "    NAME = 'pneumonia'\n",
    "    \n",
    "    # Train on 1 GPU and 8 images per GPU. We can put multiple images on each\n",
    "    # GPU because the images are small. Batch size is 8 (GPUs * images/GPU).\n",
    "    GPU_COUNT = 1\n",
    "    IMAGES_PER_GPU = 8\n",
    "    \n",
    "    BACKBONE = 'resnet50'\n",
    "    \n",
    "    NUM_CLASSES = 2  # background + 1 pneumonia classes\n",
    "    \n",
    "    IMAGE_MIN_DIM = 256\n",
    "    IMAGE_MAX_DIM = 256\n",
    "    RPN_ANCHOR_SCALES = (32, 64, 128, 256)\n",
    "    TRAIN_ROIS_PER_IMAGE = 32\n",
    "    MAX_GT_INSTANCES = 3\n",
    "    DETECTION_MAX_INSTANCES = 3\n",
    "    DETECTION_MIN_CONFIDENCE = 0.7\n",
    "    DETECTION_NMS_THRESHOLD = 0.1\n",
    "\n",
    "    STEPS_PER_EPOCH = 200\n",
    "    \n",
    "config = DetectorConfig()\n",
    "config.display()"
   ]
  },
  {
   "cell_type": "code",
   "execution_count": 12,
   "metadata": {
    "_uuid": "52bd3ffbdde0173a363055482d675da51c2aba99",
    "colab": {},
    "colab_type": "code",
    "id": "8EBVA1M60yAj",
    "tags": []
   },
   "outputs": [],
   "source": [
    "class DetectorDataset(utils.Dataset):\n",
    "    \"\"\"Dataset class for training pneumonia detection on the RSNA pneumonia dataset.\n",
    "    \"\"\"\n",
    "\n",
    "    def __init__(self, image_fps, image_annotations, orig_height, orig_width):\n",
    "        super().__init__(self)\n",
    "        \n",
    "        # Add classes\n",
    "        self.add_class('pneumonia', 1, 'Lung Opacity')\n",
    "        \n",
    "        # add images \n",
    "        for i, fp in enumerate(image_fps):\n",
    "            annotations = image_annotations[fp]\n",
    "            self.add_image('pneumonia', image_id=i, path=fp, \n",
    "                           annotations=annotations, orig_height=orig_height, orig_width=orig_width)\n",
    "            \n",
    "    def image_reference(self, image_id):\n",
    "        info = self.image_info[image_id]\n",
    "        return info['path']\n",
    "\n",
    "    def load_image(self, image_id):\n",
    "        info = self.image_info[image_id]\n",
    "        fp = info['path']\n",
    "        ds = pydicom.read_file(fp)\n",
    "        image = ds.pixel_array\n",
    "        # If grayscale. Convert to RGB for consistency.\n",
    "        if len(image.shape) != 3 or image.shape[2] != 3:\n",
    "            image = np.stack((image,) * 3, -1)\n",
    "        return image\n",
    "\n",
    "    def load_mask(self, image_id):\n",
    "        info = self.image_info[image_id]\n",
    "        annotations = info['annotations']\n",
    "        count = len(annotations)\n",
    "        if count == 0:\n",
    "            mask = np.zeros((info['orig_height'], info['orig_width'], 1), dtype=np.uint8)\n",
    "            class_ids = np.zeros((1,), dtype=np.int32)\n",
    "        else:\n",
    "            mask = np.zeros((info['orig_height'], info['orig_width'], count), dtype=np.uint8)\n",
    "            class_ids = np.zeros((count,), dtype=np.int32)\n",
    "            for i, a in enumerate(annotations):\n",
    "                if a['Target'] == 1:\n",
    "                    x = int(a['x'])\n",
    "                    y = int(a['y'])\n",
    "                    w = int(a['width'])\n",
    "                    h = int(a['height'])\n",
    "                    mask_instance = mask[:, :, i].copy()\n",
    "                    cv2.rectangle(mask_instance, (x, y), (x+w, y+h), 255, -1)\n",
    "                    mask[:, :, i] = mask_instance\n",
    "                    class_ids[i] = 1\n",
    "        return mask.astype(np.bool), class_ids.astype(np.int32)"
   ]
  },
  {
   "cell_type": "markdown",
   "metadata": {
    "_uuid": "1cb852e262b69d348743767d675573368ab672c9",
    "colab_type": "text",
    "id": "9RlMo04ckd98"
   },
   "source": [
    "### Examine the annotation data, parse the dataset, and view dicom fields"
   ]
  },
  {
   "cell_type": "code",
   "execution_count": 13,
   "metadata": {
    "_uuid": "793b1c6c6ba4e5f0d51e130080aa799f230b5ef6",
    "colab": {
     "base_uri": "https://localhost:8080/",
     "height": 235
    },
    "colab_type": "code",
    "id": "EdhUEFDr0yDA",
    "outputId": "1715a5df-a577-41fd-bf20-f1a27aadb28c",
    "tags": []
   },
   "outputs": [
    {
     "data": {
      "text/html": [
       "<div>\n",
       "<style scoped>\n",
       "    .dataframe tbody tr th:only-of-type {\n",
       "        vertical-align: middle;\n",
       "    }\n",
       "\n",
       "    .dataframe tbody tr th {\n",
       "        vertical-align: top;\n",
       "    }\n",
       "\n",
       "    .dataframe thead th {\n",
       "        text-align: right;\n",
       "    }\n",
       "</style>\n",
       "<table border=\"1\" class=\"dataframe\">\n",
       "  <thead>\n",
       "    <tr style=\"text-align: right;\">\n",
       "      <th></th>\n",
       "      <th>patientId</th>\n",
       "      <th>x</th>\n",
       "      <th>y</th>\n",
       "      <th>width</th>\n",
       "      <th>height</th>\n",
       "      <th>Target</th>\n",
       "    </tr>\n",
       "  </thead>\n",
       "  <tbody>\n",
       "    <tr>\n",
       "      <th>0</th>\n",
       "      <td>0004cfab-14fd-4e49-80ba-63a80b6bddd6</td>\n",
       "      <td>NaN</td>\n",
       "      <td>NaN</td>\n",
       "      <td>NaN</td>\n",
       "      <td>NaN</td>\n",
       "      <td>0</td>\n",
       "    </tr>\n",
       "    <tr>\n",
       "      <th>1</th>\n",
       "      <td>00313ee0-9eaa-42f4-b0ab-c148ed3241cd</td>\n",
       "      <td>NaN</td>\n",
       "      <td>NaN</td>\n",
       "      <td>NaN</td>\n",
       "      <td>NaN</td>\n",
       "      <td>0</td>\n",
       "    </tr>\n",
       "    <tr>\n",
       "      <th>2</th>\n",
       "      <td>00322d4d-1c29-4943-afc9-b6754be640eb</td>\n",
       "      <td>NaN</td>\n",
       "      <td>NaN</td>\n",
       "      <td>NaN</td>\n",
       "      <td>NaN</td>\n",
       "      <td>0</td>\n",
       "    </tr>\n",
       "    <tr>\n",
       "      <th>3</th>\n",
       "      <td>003d8fa0-6bf1-40ed-b54c-ac657f8495c5</td>\n",
       "      <td>NaN</td>\n",
       "      <td>NaN</td>\n",
       "      <td>NaN</td>\n",
       "      <td>NaN</td>\n",
       "      <td>0</td>\n",
       "    </tr>\n",
       "    <tr>\n",
       "      <th>4</th>\n",
       "      <td>00436515-870c-4b36-a041-de91049b9ab4</td>\n",
       "      <td>264.0</td>\n",
       "      <td>152.0</td>\n",
       "      <td>213.0</td>\n",
       "      <td>379.0</td>\n",
       "      <td>1</td>\n",
       "    </tr>\n",
       "  </tbody>\n",
       "</table>\n",
       "</div>"
      ],
      "text/plain": [
       "                              patientId      x      y  width  height  Target\n",
       "0  0004cfab-14fd-4e49-80ba-63a80b6bddd6    NaN    NaN    NaN     NaN       0\n",
       "1  00313ee0-9eaa-42f4-b0ab-c148ed3241cd    NaN    NaN    NaN     NaN       0\n",
       "2  00322d4d-1c29-4943-afc9-b6754be640eb    NaN    NaN    NaN     NaN       0\n",
       "3  003d8fa0-6bf1-40ed-b54c-ac657f8495c5    NaN    NaN    NaN     NaN       0\n",
       "4  00436515-870c-4b36-a041-de91049b9ab4  264.0  152.0  213.0   379.0       1"
      ]
     },
     "execution_count": 13,
     "metadata": {},
     "output_type": "execute_result"
    }
   ],
   "source": [
    "# training dataset\n",
    "anns = pd.read_csv(os.path.join(DATA_DIR, 'stage_2_train_labels.csv'))\n",
    "anns.head()"
   ]
  },
  {
   "cell_type": "code",
   "execution_count": 14,
   "metadata": {
    "_uuid": "7aebc88f910b232e3b8759421914a007c6ffed94",
    "colab": {},
    "colab_type": "code",
    "id": "Mxz-pNbt5txY",
    "tags": []
   },
   "outputs": [],
   "source": [
    "image_fps, image_annotations = parse_dataset(train_dicom_dir, anns=anns)"
   ]
  },
  {
   "cell_type": "code",
   "execution_count": 15,
   "metadata": {
    "_uuid": "6c386dcef041b972f6209dd19e247d547c3c349f",
    "colab": {},
    "colab_type": "code",
    "id": "YPqjEIXWRhSf",
    "tags": []
   },
   "outputs": [
    {
     "data": {
      "text/plain": [
       "Dataset.file_meta -------------------------------\n",
       "(0002, 0000) File Meta Information Group Length  UL: 202\n",
       "(0002, 0001) File Meta Information Version       OB: b'\\x00\\x01'\n",
       "(0002, 0002) Media Storage SOP Class UID         UI: Secondary Capture Image Storage\n",
       "(0002, 0003) Media Storage SOP Instance UID      UI: 1.2.276.0.7230010.3.1.4.8323329.21457.1517874434.273429\n",
       "(0002, 0010) Transfer Syntax UID                 UI: JPEG Baseline (Process 1)\n",
       "(0002, 0012) Implementation Class UID            UI: 1.2.276.0.7230010.3.0.3.6.0\n",
       "(0002, 0013) Implementation Version Name         SH: 'OFFIS_DCMTK_360'\n",
       "-------------------------------------------------\n",
       "(0008, 0005) Specific Character Set              CS: 'ISO_IR 100'\n",
       "(0008, 0016) SOP Class UID                       UI: Secondary Capture Image Storage\n",
       "(0008, 0018) SOP Instance UID                    UI: 1.2.276.0.7230010.3.1.4.8323329.21457.1517874434.273429\n",
       "(0008, 0020) Study Date                          DA: '19010101'\n",
       "(0008, 0030) Study Time                          TM: '000000.00'\n",
       "(0008, 0050) Accession Number                    SH: ''\n",
       "(0008, 0060) Modality                            CS: 'CR'\n",
       "(0008, 0064) Conversion Type                     CS: 'WSD'\n",
       "(0008, 0090) Referring Physician's Name          PN: ''\n",
       "(0008, 103e) Series Description                  LO: 'view: PA'\n",
       "(0010, 0010) Patient's Name                      PN: '5f7cbe92-d4b4-456e-a38c-e2f370570e99'\n",
       "(0010, 0020) Patient ID                          LO: '5f7cbe92-d4b4-456e-a38c-e2f370570e99'\n",
       "(0010, 0030) Patient's Birth Date                DA: ''\n",
       "(0010, 0040) Patient's Sex                       CS: 'M'\n",
       "(0010, 1010) Patient's Age                       AS: '60'\n",
       "(0018, 0015) Body Part Examined                  CS: 'CHEST'\n",
       "(0018, 5101) View Position                       CS: 'PA'\n",
       "(0020, 000d) Study Instance UID                  UI: 1.2.276.0.7230010.3.1.2.8323329.21457.1517874434.273428\n",
       "(0020, 000e) Series Instance UID                 UI: 1.2.276.0.7230010.3.1.3.8323329.21457.1517874434.273427\n",
       "(0020, 0010) Study ID                            SH: ''\n",
       "(0020, 0011) Series Number                       IS: '1'\n",
       "(0020, 0013) Instance Number                     IS: '1'\n",
       "(0020, 0020) Patient Orientation                 CS: ''\n",
       "(0028, 0002) Samples per Pixel                   US: 1\n",
       "(0028, 0004) Photometric Interpretation          CS: 'MONOCHROME2'\n",
       "(0028, 0010) Rows                                US: 1024\n",
       "(0028, 0011) Columns                             US: 1024\n",
       "(0028, 0030) Pixel Spacing                       DS: [0.14300000000000002, 0.14300000000000002]\n",
       "(0028, 0100) Bits Allocated                      US: 8\n",
       "(0028, 0101) Bits Stored                         US: 8\n",
       "(0028, 0102) High Bit                            US: 7\n",
       "(0028, 0103) Pixel Representation                US: 0\n",
       "(0028, 2110) Lossy Image Compression             CS: '01'\n",
       "(0028, 2114) Lossy Image Compression Method      CS: 'ISO_10918_1'\n",
       "(7fe0, 0010) Pixel Data                          OB: Array of 146214 elements"
      ]
     },
     "execution_count": 15,
     "metadata": {},
     "output_type": "execute_result"
    }
   ],
   "source": [
    "ds = pydicom.read_file(image_fps[0]) # read dicom image from filepath \n",
    "image = ds.pixel_array # get image array\n",
    "# show dicom fields \n",
    "ds"
   ]
  },
  {
   "cell_type": "code",
   "execution_count": 16,
   "metadata": {
    "_uuid": "74277ae9af4a3b044e62b664d10d76b23848bb43",
    "colab": {},
    "colab_type": "code",
    "id": "gYNSd1AhRqOV",
    "tags": []
   },
   "outputs": [],
   "source": [
    "# Original DICOM image size: 1024 x 1024\n",
    "ORIG_SIZE = 1024"
   ]
  },
  {
   "cell_type": "markdown",
   "metadata": {
    "_uuid": "6563bbca143e4bceb1ea850714d7b43bb1e1178d",
    "colab_type": "text",
    "id": "4FlRu8ML-ceg"
   },
   "source": [
    "### Split the data into training and validation datasets"
   ]
  },
  {
   "cell_type": "code",
   "execution_count": 17,
   "metadata": {
    "_uuid": "6175c72e73639e3190e127f67783988eadced9ba",
    "colab": {
     "base_uri": "https://localhost:8080/",
     "height": 35
    },
    "colab_type": "code",
    "id": "7jByVCZt-ZOC",
    "outputId": "f1aa267d-7530-4620-ffc5-2f7aa39083bb",
    "tags": []
   },
   "outputs": [
    {
     "name": "stdout",
     "output_type": "stream",
     "text": [
      "25350 1334\n"
     ]
    }
   ],
   "source": [
    "# split dataset into training vs. validation dataset \n",
    "# split ratio is set to 0.95 vs. 0.05 (train vs. validation, respectively)\n",
    "image_fps_list = list(image_fps)\n",
    "random.seed(42)\n",
    "random.shuffle(image_fps_list)\n",
    "\n",
    "val_size = int(0.05 * len(image_fps_list))\n",
    "image_fps_val = image_fps_list[:val_size]\n",
    "image_fps_train = image_fps_list[val_size:]\n",
    "\n",
    "print(len(image_fps_train), len(image_fps_val))"
   ]
  },
  {
   "cell_type": "markdown",
   "metadata": {
    "_uuid": "a5143c19dc22bc00d318a3b28cb7e13c7fbacc8a",
    "colab_type": "text",
    "id": "9KUvacUbgiEX"
   },
   "source": [
    "### Create and prepare the training dataset using the DetectorDataset class."
   ]
  },
  {
   "cell_type": "code",
   "execution_count": 18,
   "metadata": {
    "_uuid": "86c3333d4dfb8b7d00ce1f401693d0df4e6254e1",
    "colab": {},
    "colab_type": "code",
    "id": "jwMkhotP0yFf",
    "tags": []
   },
   "outputs": [],
   "source": [
    "# prepare the training dataset\n",
    "dataset_train = DetectorDataset(image_fps_train, image_annotations, ORIG_SIZE, ORIG_SIZE)\n",
    "dataset_train.prepare()"
   ]
  },
  {
   "cell_type": "code",
   "execution_count": 19,
   "metadata": {
    "_uuid": "313347d838fa8321a714858c8073f98c50c5be26",
    "colab": {},
    "colab_type": "code",
    "id": "K1TkWuGP0yHl",
    "tags": []
   },
   "outputs": [],
   "source": [
    "# prepare the validation dataset\n",
    "dataset_val = DetectorDataset(image_fps_val, image_annotations, ORIG_SIZE, ORIG_SIZE)\n",
    "dataset_val.prepare()"
   ]
  },
  {
   "cell_type": "markdown",
   "metadata": {
    "_uuid": "600a8135d4e382f62797d69e9358f5697873c8f9",
    "colab_type": "text",
    "id": "pEXEt8fygWuC"
   },
   "source": [
    "### Display a random image with bounding boxes"
   ]
  },
  {
   "cell_type": "code",
   "execution_count": 20,
   "metadata": {
    "_uuid": "491b78ec96d28fcdbbf8e2d7f9320a05d64c9249",
    "colab": {
     "base_uri": "https://localhost:8080/",
     "height": 359
    },
    "colab_type": "code",
    "id": "4xwsrf9G1lHR",
    "outputId": "a13386d3-a918-41fe-8824-13625c9d7b08",
    "tags": []
   },
   "outputs": [],
   "source": [
    "# Load and display random sample and their bounding boxes\n",
    "\n",
    "# class_ids = [0]\n",
    "# while class_ids[0] == 0:  ## look for a mask\n",
    "#     image_id = random.choice(dataset_train.image_ids)\n",
    "#     image_fp = dataset_train.image_reference(image_id)\n",
    "#     image = dataset_train.load_image(image_id)\n",
    "#     mask, class_ids = dataset_train.load_mask(image_id)\n",
    "\n",
    "# print(image.shape)\n",
    "\n",
    "# plt.figure(figsize=(10, 10))\n",
    "# plt.subplot(1, 2, 1)\n",
    "# plt.imshow(image)\n",
    "# plt.axis('off')\n",
    "\n",
    "# plt.subplot(1, 2, 2)\n",
    "# masked = np.zeros(image.shape[:2])\n",
    "# for i in range(mask.shape[2]):\n",
    "#     masked += image[:, :, 0] * mask[:, :, i]\n",
    "# plt.imshow(masked, cmap='gray')\n",
    "# plt.axis('off')\n",
    "\n",
    "# print(image_fp)\n",
    "# print(class_ids)"
   ]
  },
  {
   "cell_type": "markdown",
   "metadata": {
    "_uuid": "342b6008873fe7a6a0870a712ee47a87f0d2828d",
    "colab_type": "text",
    "id": "ustAIH78hZI_"
   },
   "source": [
    "### Image Augmentation. Try finetuning some variables to custom values"
   ]
  },
  {
   "cell_type": "code",
   "execution_count": 21,
   "metadata": {
    "_uuid": "4ab9d6086ce611a46f189c047956c43b29783e6d",
    "colab": {},
    "colab_type": "code",
    "id": "STZnQTE61lME",
    "tags": []
   },
   "outputs": [
    {
     "name": "stderr",
     "output_type": "stream",
     "text": [
      "/opt/conda/lib/python3.7/site-packages/imgaug/imgaug.py:184: DeprecationWarning: Function `ContrastNormalization()` is deprecated. Use `imgaug.contrast.LinearContrast` instead.\n",
      "  warn_deprecated(msg, stacklevel=3)\n"
     ]
    }
   ],
   "source": [
    "# Image augmentation (light but constant)\n",
    "augmentation = iaa.Sequential([\n",
    "    iaa.OneOf([ ## geometric transform\n",
    "        iaa.Affine(\n",
    "            scale={\"x\": (0.98, 1.02), \"y\": (0.98, 1.02)},\n",
    "            translate_percent={\"x\": (-0.02, 0.02), \"y\": (-0.04, 0.04)},\n",
    "            rotate=(-2, 2),\n",
    "            shear=(-1, 1),\n",
    "        ),\n",
    "        iaa.PiecewiseAffine(scale=(0.001, 0.025)),\n",
    "    ]),\n",
    "    iaa.OneOf([ ## brightness or contrast\n",
    "        iaa.Multiply((0.9, 1.1)),\n",
    "        iaa.ContrastNormalization((0.9, 1.1)),\n",
    "    ]),\n",
    "    iaa.OneOf([ ## blur or sharpen\n",
    "        iaa.GaussianBlur(sigma=(0.0, 0.1)),\n",
    "        iaa.Sharpen(alpha=(0.0, 0.1)),\n",
    "    ]),\n",
    "])\n",
    "\n",
    "# test on the same image as above\n",
    "# imggrid = augmentation.draw_grid(image[:, :, 0], cols=5, rows=2)\n",
    "# plt.figure(figsize=(30, 12))\n",
    "# _ = plt.imshow(imggrid[:, :, 0], cmap='gray')"
   ]
  },
  {
   "cell_type": "markdown",
   "metadata": {
    "_uuid": "7e65d2cecb283f446f34cdde19b663a8a8e9590f",
    "colab_type": "text",
    "id": "M4kt7LKuc78e"
   },
   "source": [
    "### Now it's time to train the model. Note that training even a basic model can take a few hours. \n"
   ]
  },
  {
   "cell_type": "code",
   "execution_count": 22,
   "metadata": {},
   "outputs": [],
   "source": [
    "import keras\n",
    "import time\n",
    "\n",
    "class TimeHistory(keras.callbacks.Callback):\n",
    "    def on_train_begin(self, logs={}):\n",
    "        self.times = []\n",
    "\n",
    "    def on_epoch_begin(self, batch, logs={}):\n",
    "        self.epoch_time_start = time.time()\n",
    "\n",
    "    def on_epoch_end(self, batch, logs={}):\n",
    "        self.times.append(time.time() - self.epoch_time_start)"
   ]
  },
  {
   "cell_type": "code",
   "execution_count": 23,
   "metadata": {
    "_uuid": "138d6197fc8dce9f1f8a7b5a6c27aa2069698e03",
    "tags": []
   },
   "outputs": [
    {
     "name": "stderr",
     "output_type": "stream",
     "text": [
      "2022-12-14 23:55:44.450120: I tensorflow/stream_executor/cuda/cuda_gpu_executor.cc:937] successful NUMA node read from SysFS had negative value (-1), but there must be at least one NUMA node, so returning NUMA node zero\n",
      "2022-12-14 23:55:45.314964: I tensorflow/stream_executor/cuda/cuda_gpu_executor.cc:937] successful NUMA node read from SysFS had negative value (-1), but there must be at least one NUMA node, so returning NUMA node zero\n",
      "2022-12-14 23:55:45.315472: I tensorflow/stream_executor/cuda/cuda_gpu_executor.cc:937] successful NUMA node read from SysFS had negative value (-1), but there must be at least one NUMA node, so returning NUMA node zero\n",
      "2022-12-14 23:55:52.544194: I tensorflow/core/platform/cpu_feature_guard.cc:142] This TensorFlow binary is optimized with oneAPI Deep Neural Network Library (oneDNN) to use the following CPU instructions in performance-critical operations:  AVX2 AVX512F FMA\n",
      "To enable them in other operations, rebuild TensorFlow with the appropriate compiler flags.\n",
      "2022-12-14 23:55:52.546307: I tensorflow/stream_executor/cuda/cuda_gpu_executor.cc:937] successful NUMA node read from SysFS had negative value (-1), but there must be at least one NUMA node, so returning NUMA node zero\n",
      "2022-12-14 23:55:52.546877: I tensorflow/stream_executor/cuda/cuda_gpu_executor.cc:937] successful NUMA node read from SysFS had negative value (-1), but there must be at least one NUMA node, so returning NUMA node zero\n",
      "2022-12-14 23:55:52.547227: I tensorflow/stream_executor/cuda/cuda_gpu_executor.cc:937] successful NUMA node read from SysFS had negative value (-1), but there must be at least one NUMA node, so returning NUMA node zero\n",
      "2022-12-14 23:56:04.493194: I tensorflow/stream_executor/cuda/cuda_gpu_executor.cc:937] successful NUMA node read from SysFS had negative value (-1), but there must be at least one NUMA node, so returning NUMA node zero\n",
      "2022-12-14 23:56:04.493646: I tensorflow/stream_executor/cuda/cuda_gpu_executor.cc:937] successful NUMA node read from SysFS had negative value (-1), but there must be at least one NUMA node, so returning NUMA node zero\n",
      "2022-12-14 23:56:04.493907: I tensorflow/stream_executor/cuda/cuda_gpu_executor.cc:937] successful NUMA node read from SysFS had negative value (-1), but there must be at least one NUMA node, so returning NUMA node zero\n",
      "2022-12-14 23:56:04.494085: I tensorflow/core/common_runtime/gpu/gpu_device.cc:1510] Created device /job:localhost/replica:0/task:0/device:GPU:0 with 14634 MB memory:  -> device: 0, name: Tesla V100-SXM2-16GB, pci bus id: 0000:00:04.0, compute capability: 7.0\n"
     ]
    },
    {
     "name": "stdout",
     "output_type": "stream",
     "text": [
      "Re-starting from epoch 2\n"
     ]
    }
   ],
   "source": [
    "model = modellib.MaskRCNN(mode='training', config=config, model_dir=ROOT_DIR)\n",
    "\n",
    "# Exclude the last layers because they require a matching\n",
    "# number of classes\n",
    "model.load_weights(COCO_WEIGHTS_PATH, by_name=True, exclude=[\n",
    "    \"mrcnn_class_logits\", \"mrcnn_bbox_fc\",\n",
    "    \"mrcnn_bbox\", \"mrcnn_mask\"])"
   ]
  },
  {
   "cell_type": "code",
   "execution_count": 24,
   "metadata": {
    "_uuid": "64cce2581ffdb8c2b1cb07948ada4a93f64874b0",
    "colab": {
     "base_uri": "https://localhost:8080/",
     "height": 2575
    },
    "colab_type": "code",
    "id": "RVgNhHjl1lOS",
    "outputId": "2cba9efc-eeea-472d-d155-3c3d856585bf",
    "tags": []
   },
   "outputs": [],
   "source": [
    "LEARNING_RATE = 0.005\n",
    "\n",
    "# Train Mask-RCNN Model \n",
    "import warnings \n",
    "warnings.filterwarnings(\"ignore\")"
   ]
  },
  {
   "cell_type": "code",
   "execution_count": 22,
   "metadata": {
    "_uuid": "cf339a499519d174bcdf2311a1802f0e3acb1758",
    "tags": []
   },
   "outputs": [
    {
     "name": "stdout",
     "output_type": "stream",
     "text": [
      "\n",
      "Starting at epoch 0. LR=0.005\n",
      "\n",
      "Checkpoint Path: /home/jupyter/pneumonia20221214T2308/mask_rcnn_pneumonia_{epoch:04d}.h5\n",
      "Selecting layers to train\n",
      "fpn_c5p5               (Conv2D)\n",
      "fpn_c4p4               (Conv2D)\n",
      "fpn_c3p3               (Conv2D)\n",
      "fpn_c2p2               (Conv2D)\n",
      "fpn_p5                 (Conv2D)\n",
      "fpn_p2                 (Conv2D)\n",
      "fpn_p3                 (Conv2D)\n",
      "fpn_p4                 (Conv2D)\n",
      "rpn_model              (Functional)\n",
      "mrcnn_mask_conv1       (TimeDistributed)\n",
      "mrcnn_mask_bn1         (TimeDistributed)\n",
      "mrcnn_mask_conv2       (TimeDistributed)\n",
      "mrcnn_mask_bn2         (TimeDistributed)\n",
      "mrcnn_class_conv1      (TimeDistributed)\n",
      "mrcnn_class_bn1        (TimeDistributed)\n",
      "mrcnn_mask_conv3       (TimeDistributed)\n",
      "mrcnn_mask_bn3         (TimeDistributed)\n",
      "mrcnn_class_conv2      (TimeDistributed)\n",
      "mrcnn_class_bn2        (TimeDistributed)\n",
      "mrcnn_mask_conv4       (TimeDistributed)\n",
      "mrcnn_mask_bn4         (TimeDistributed)\n",
      "mrcnn_bbox_fc          (TimeDistributed)\n",
      "mrcnn_mask_deconv      (TimeDistributed)\n",
      "mrcnn_class_logits     (TimeDistributed)\n",
      "mrcnn_mask             (TimeDistributed)\n"
     ]
    },
    {
     "name": "stderr",
     "output_type": "stream",
     "text": [
      "2022-12-14 23:08:49.056957: I tensorflow/stream_executor/cuda/cuda_gpu_executor.cc:937] successful NUMA node read from SysFS had negative value (-1), but there must be at least one NUMA node, so returning NUMA node zero\n",
      "2022-12-14 23:08:49.057489: I tensorflow/stream_executor/cuda/cuda_gpu_executor.cc:937] successful NUMA node read from SysFS had negative value (-1), but there must be at least one NUMA node, so returning NUMA node zero\n",
      "2022-12-14 23:08:49.057828: I tensorflow/stream_executor/cuda/cuda_gpu_executor.cc:937] successful NUMA node read from SysFS had negative value (-1), but there must be at least one NUMA node, so returning NUMA node zero\n",
      "2022-12-14 23:08:49.058224: I tensorflow/stream_executor/cuda/cuda_gpu_executor.cc:937] successful NUMA node read from SysFS had negative value (-1), but there must be at least one NUMA node, so returning NUMA node zero\n",
      "2022-12-14 23:08:49.058544: I tensorflow/stream_executor/cuda/cuda_gpu_executor.cc:937] successful NUMA node read from SysFS had negative value (-1), but there must be at least one NUMA node, so returning NUMA node zero\n",
      "2022-12-14 23:08:49.058792: I tensorflow/core/common_runtime/gpu/gpu_device.cc:1510] Created device /job:localhost/replica:0/task:0/device:GPU:0 with 14634 MB memory:  -> device: 0, name: Tesla V100-SXM2-16GB, pci bus id: 0000:00:04.0, compute capability: 7.0\n"
     ]
    },
    {
     "name": "stdout",
     "output_type": "stream",
     "text": [
      "Epoch 1/2\n"
     ]
    },
    {
     "name": "stderr",
     "output_type": "stream",
     "text": [
      "2022-12-14 23:09:28.685742: W tensorflow/core/grappler/costs/op_level_cost_estimator.cc:690] Error in PredictCost() for the op: op: \"CropAndResize\" attr { key: \"T\" value { type: DT_FLOAT } } attr { key: \"extrapolation_value\" value { f: 0 } } attr { key: \"method\" value { s: \"bilinear\" } } inputs { dtype: DT_FLOAT shape { dim { size: -1153 } dim { size: 56 } dim { size: 56 } dim { size: 1 } } } inputs { dtype: DT_FLOAT shape { dim { size: -41 } dim { size: 4 } } } inputs { dtype: DT_INT32 shape { dim { size: -41 } } } inputs { dtype: DT_INT32 shape { dim { size: 2 } } value { dtype: DT_INT32 tensor_shape { dim { size: 2 } } tensor_content: \"\\034\\000\\000\\000\\034\\000\\000\\000\" } } device { type: \"GPU\" vendor: \"NVIDIA\" model: \"Tesla V100-SXM2-16GB\" frequency: 1530 num_cores: 80 environment { key: \"architecture\" value: \"7.0\" } environment { key: \"cuda\" value: \"11000\" } environment { key: \"cudnn\" value: \"8005\" } num_registers: 65536 l1_cache_size: 24576 l2_cache_size: 6291456 shared_memory_size_per_multiprocessor: 98304 memory_size: 15345844224 bandwidth: 898048000 } outputs { dtype: DT_FLOAT shape { dim { size: -41 } dim { size: 28 } dim { size: 28 } dim { size: 1 } } }\n",
      "2022-12-14 23:09:28.686104: W tensorflow/core/grappler/costs/op_level_cost_estimator.cc:690] Error in PredictCost() for the op: op: \"CropAndResize\" attr { key: \"T\" value { type: DT_FLOAT } } attr { key: \"extrapolation_value\" value { f: 0 } } attr { key: \"method\" value { s: \"bilinear\" } } inputs { dtype: DT_FLOAT shape { dim { size: -1159 } dim { size: 56 } dim { size: 56 } dim { size: 1 } } } inputs { dtype: DT_FLOAT shape { dim { size: -53 } dim { size: 4 } } } inputs { dtype: DT_INT32 shape { dim { size: -53 } } } inputs { dtype: DT_INT32 shape { dim { size: 2 } } value { dtype: DT_INT32 tensor_shape { dim { size: 2 } } tensor_content: \"\\034\\000\\000\\000\\034\\000\\000\\000\" } } device { type: \"GPU\" vendor: \"NVIDIA\" model: \"Tesla V100-SXM2-16GB\" frequency: 1530 num_cores: 80 environment { key: \"architecture\" value: \"7.0\" } environment { key: \"cuda\" value: \"11000\" } environment { key: \"cudnn\" value: \"8005\" } num_registers: 65536 l1_cache_size: 24576 l2_cache_size: 6291456 shared_memory_size_per_multiprocessor: 98304 memory_size: 15345844224 bandwidth: 898048000 } outputs { dtype: DT_FLOAT shape { dim { size: -53 } dim { size: 28 } dim { size: 28 } dim { size: 1 } } }\n",
      "2022-12-14 23:09:28.686374: W tensorflow/core/grappler/costs/op_level_cost_estimator.cc:690] Error in PredictCost() for the op: op: \"CropAndResize\" attr { key: \"T\" value { type: DT_FLOAT } } attr { key: \"extrapolation_value\" value { f: 0 } } attr { key: \"method\" value { s: \"bilinear\" } } inputs { dtype: DT_FLOAT shape { dim { size: -1161 } dim { size: 56 } dim { size: 56 } dim { size: 1 } } } inputs { dtype: DT_FLOAT shape { dim { size: -57 } dim { size: 4 } } } inputs { dtype: DT_INT32 shape { dim { size: -57 } } } inputs { dtype: DT_INT32 shape { dim { size: 2 } } value { dtype: DT_INT32 tensor_shape { dim { size: 2 } } tensor_content: \"\\034\\000\\000\\000\\034\\000\\000\\000\" } } device { type: \"GPU\" vendor: \"NVIDIA\" model: \"Tesla V100-SXM2-16GB\" frequency: 1530 num_cores: 80 environment { key: \"architecture\" value: \"7.0\" } environment { key: \"cuda\" value: \"11000\" } environment { key: \"cudnn\" value: \"8005\" } num_registers: 65536 l1_cache_size: 24576 l2_cache_size: 6291456 shared_memory_size_per_multiprocessor: 98304 memory_size: 15345844224 bandwidth: 898048000 } outputs { dtype: DT_FLOAT shape { dim { size: -57 } dim { size: 28 } dim { size: 28 } dim { size: 1 } } }\n",
      "2022-12-14 23:09:28.686708: W tensorflow/core/grappler/costs/op_level_cost_estimator.cc:690] Error in PredictCost() for the op: op: \"CropAndResize\" attr { key: \"T\" value { type: DT_FLOAT } } attr { key: \"extrapolation_value\" value { f: 0 } } attr { key: \"method\" value { s: \"bilinear\" } } inputs { dtype: DT_FLOAT shape { dim { size: -1163 } dim { size: 56 } dim { size: 56 } dim { size: 1 } } } inputs { dtype: DT_FLOAT shape { dim { size: -61 } dim { size: 4 } } } inputs { dtype: DT_INT32 shape { dim { size: -61 } } } inputs { dtype: DT_INT32 shape { dim { size: 2 } } value { dtype: DT_INT32 tensor_shape { dim { size: 2 } } tensor_content: \"\\034\\000\\000\\000\\034\\000\\000\\000\" } } device { type: \"GPU\" vendor: \"NVIDIA\" model: \"Tesla V100-SXM2-16GB\" frequency: 1530 num_cores: 80 environment { key: \"architecture\" value: \"7.0\" } environment { key: \"cuda\" value: \"11000\" } environment { key: \"cudnn\" value: \"8005\" } num_registers: 65536 l1_cache_size: 24576 l2_cache_size: 6291456 shared_memory_size_per_multiprocessor: 98304 memory_size: 15345844224 bandwidth: 898048000 } outputs { dtype: DT_FLOAT shape { dim { size: -61 } dim { size: 28 } dim { size: 28 } dim { size: 1 } } }\n",
      "2022-12-14 23:09:28.687077: W tensorflow/core/grappler/costs/op_level_cost_estimator.cc:690] Error in PredictCost() for the op: op: \"CropAndResize\" attr { key: \"T\" value { type: DT_FLOAT } } attr { key: \"extrapolation_value\" value { f: 0 } } attr { key: \"method\" value { s: \"bilinear\" } } inputs { dtype: DT_FLOAT shape { dim { size: -1165 } dim { size: 56 } dim { size: 56 } dim { size: 1 } } } inputs { dtype: DT_FLOAT shape { dim { size: -65 } dim { size: 4 } } } inputs { dtype: DT_INT32 shape { dim { size: -65 } } } inputs { dtype: DT_INT32 shape { dim { size: 2 } } value { dtype: DT_INT32 tensor_shape { dim { size: 2 } } tensor_content: \"\\034\\000\\000\\000\\034\\000\\000\\000\" } } device { type: \"GPU\" vendor: \"NVIDIA\" model: \"Tesla V100-SXM2-16GB\" frequency: 1530 num_cores: 80 environment { key: \"architecture\" value: \"7.0\" } environment { key: \"cuda\" value: \"11000\" } environment { key: \"cudnn\" value: \"8005\" } num_registers: 65536 l1_cache_size: 24576 l2_cache_size: 6291456 shared_memory_size_per_multiprocessor: 98304 memory_size: 15345844224 bandwidth: 898048000 } outputs { dtype: DT_FLOAT shape { dim { size: -65 } dim { size: 28 } dim { size: 28 } dim { size: 1 } } }\n",
      "2022-12-14 23:09:28.687379: W tensorflow/core/grappler/costs/op_level_cost_estimator.cc:690] Error in PredictCost() for the op: op: \"CropAndResize\" attr { key: \"T\" value { type: DT_FLOAT } } attr { key: \"extrapolation_value\" value { f: 0 } } attr { key: \"method\" value { s: \"bilinear\" } } inputs { dtype: DT_FLOAT shape { dim { size: -1167 } dim { size: 56 } dim { size: 56 } dim { size: 1 } } } inputs { dtype: DT_FLOAT shape { dim { size: -69 } dim { size: 4 } } } inputs { dtype: DT_INT32 shape { dim { size: -69 } } } inputs { dtype: DT_INT32 shape { dim { size: 2 } } value { dtype: DT_INT32 tensor_shape { dim { size: 2 } } tensor_content: \"\\034\\000\\000\\000\\034\\000\\000\\000\" } } device { type: \"GPU\" vendor: \"NVIDIA\" model: \"Tesla V100-SXM2-16GB\" frequency: 1530 num_cores: 80 environment { key: \"architecture\" value: \"7.0\" } environment { key: \"cuda\" value: \"11000\" } environment { key: \"cudnn\" value: \"8005\" } num_registers: 65536 l1_cache_size: 24576 l2_cache_size: 6291456 shared_memory_size_per_multiprocessor: 98304 memory_size: 15345844224 bandwidth: 898048000 } outputs { dtype: DT_FLOAT shape { dim { size: -69 } dim { size: 28 } dim { size: 28 } dim { size: 1 } } }\n",
      "2022-12-14 23:09:28.687668: W tensorflow/core/grappler/costs/op_level_cost_estimator.cc:690] Error in PredictCost() for the op: op: \"CropAndResize\" attr { key: \"T\" value { type: DT_FLOAT } } attr { key: \"extrapolation_value\" value { f: 0 } } attr { key: \"method\" value { s: \"bilinear\" } } inputs { dtype: DT_FLOAT shape { dim { size: -1155 } dim { size: 56 } dim { size: 56 } dim { size: 1 } } } inputs { dtype: DT_FLOAT shape { dim { size: -45 } dim { size: 4 } } } inputs { dtype: DT_INT32 shape { dim { size: -45 } } } inputs { dtype: DT_INT32 shape { dim { size: 2 } } value { dtype: DT_INT32 tensor_shape { dim { size: 2 } } tensor_content: \"\\034\\000\\000\\000\\034\\000\\000\\000\" } } device { type: \"GPU\" vendor: \"NVIDIA\" model: \"Tesla V100-SXM2-16GB\" frequency: 1530 num_cores: 80 environment { key: \"architecture\" value: \"7.0\" } environment { key: \"cuda\" value: \"11000\" } environment { key: \"cudnn\" value: \"8005\" } num_registers: 65536 l1_cache_size: 24576 l2_cache_size: 6291456 shared_memory_size_per_multiprocessor: 98304 memory_size: 15345844224 bandwidth: 898048000 } outputs { dtype: DT_FLOAT shape { dim { size: -45 } dim { size: 28 } dim { size: 28 } dim { size: 1 } } }\n",
      "2022-12-14 23:09:28.687981: W tensorflow/core/grappler/costs/op_level_cost_estimator.cc:690] Error in PredictCost() for the op: op: \"CropAndResize\" attr { key: \"T\" value { type: DT_FLOAT } } attr { key: \"extrapolation_value\" value { f: 0 } } attr { key: \"method\" value { s: \"bilinear\" } } inputs { dtype: DT_FLOAT shape { dim { size: -1157 } dim { size: 56 } dim { size: 56 } dim { size: 1 } } } inputs { dtype: DT_FLOAT shape { dim { size: -49 } dim { size: 4 } } } inputs { dtype: DT_INT32 shape { dim { size: -49 } } } inputs { dtype: DT_INT32 shape { dim { size: 2 } } value { dtype: DT_INT32 tensor_shape { dim { size: 2 } } tensor_content: \"\\034\\000\\000\\000\\034\\000\\000\\000\" } } device { type: \"GPU\" vendor: \"NVIDIA\" model: \"Tesla V100-SXM2-16GB\" frequency: 1530 num_cores: 80 environment { key: \"architecture\" value: \"7.0\" } environment { key: \"cuda\" value: \"11000\" } environment { key: \"cudnn\" value: \"8005\" } num_registers: 65536 l1_cache_size: 24576 l2_cache_size: 6291456 shared_memory_size_per_multiprocessor: 98304 memory_size: 15345844224 bandwidth: 898048000 } outputs { dtype: DT_FLOAT shape { dim { size: -49 } dim { size: 28 } dim { size: 28 } dim { size: 1 } } }\n",
      "2022-12-14 23:09:28.694621: W tensorflow/core/grappler/costs/op_level_cost_estimator.cc:690] Error in PredictCost() for the op: op: \"CropAndResize\" attr { key: \"T\" value { type: DT_FLOAT } } attr { key: \"extrapolation_value\" value { f: 0 } } attr { key: \"method\" value { s: \"bilinear\" } } inputs { dtype: DT_FLOAT shape { dim { size: -14 } dim { size: -320 } dim { size: -321 } dim { size: 256 } } } inputs { dtype: DT_FLOAT shape { dim { size: -186 } dim { size: 4 } } } inputs { dtype: DT_INT32 shape { dim { size: -186 } } } inputs { dtype: DT_INT32 shape { dim { size: 2 } } value { dtype: DT_INT32 tensor_shape { dim { size: 2 } } tensor_content: \"\\007\\000\\000\\000\\007\\000\\000\\000\" } } device { type: \"GPU\" vendor: \"NVIDIA\" model: \"Tesla V100-SXM2-16GB\" frequency: 1530 num_cores: 80 environment { key: \"architecture\" value: \"7.0\" } environment { key: \"cuda\" value: \"11000\" } environment { key: \"cudnn\" value: \"8005\" } num_registers: 65536 l1_cache_size: 24576 l2_cache_size: 6291456 shared_memory_size_per_multiprocessor: 98304 memory_size: 15345844224 bandwidth: 898048000 } outputs { dtype: DT_FLOAT shape { dim { size: -186 } dim { size: 7 } dim { size: 7 } dim { size: 256 } } }\n",
      "2022-12-14 23:09:28.694789: W tensorflow/core/grappler/costs/op_level_cost_estimator.cc:690] Error in PredictCost() for the op: op: \"CropAndResize\" attr { key: \"T\" value { type: DT_FLOAT } } attr { key: \"extrapolation_value\" value { f: 0 } } attr { key: \"method\" value { s: \"bilinear\" } } inputs { dtype: DT_FLOAT shape { dim { size: -14 } dim { size: -320 } dim { size: -321 } dim { size: 256 } } } inputs { dtype: DT_FLOAT shape { dim { size: -186 } dim { size: 4 } } } inputs { dtype: DT_INT32 shape { dim { size: -186 } } } inputs { dtype: DT_INT32 shape { dim { size: 2 } } value { dtype: DT_INT32 tensor_shape { dim { size: 2 } } tensor_content: \"\\016\\000\\000\\000\\016\\000\\000\\000\" } } device { type: \"GPU\" vendor: \"NVIDIA\" model: \"Tesla V100-SXM2-16GB\" frequency: 1530 num_cores: 80 environment { key: \"architecture\" value: \"7.0\" } environment { key: \"cuda\" value: \"11000\" } environment { key: \"cudnn\" value: \"8005\" } num_registers: 65536 l1_cache_size: 24576 l2_cache_size: 6291456 shared_memory_size_per_multiprocessor: 98304 memory_size: 15345844224 bandwidth: 898048000 } outputs { dtype: DT_FLOAT shape { dim { size: -186 } dim { size: 14 } dim { size: 14 } dim { size: 256 } } }\n",
      "2022-12-14 23:09:28.694944: W tensorflow/core/grappler/costs/op_level_cost_estimator.cc:690] Error in PredictCost() for the op: op: \"CropAndResize\" attr { key: \"T\" value { type: DT_FLOAT } } attr { key: \"extrapolation_value\" value { f: 0 } } attr { key: \"method\" value { s: \"bilinear\" } } inputs { dtype: DT_FLOAT shape { dim { size: -14 } dim { size: -328 } dim { size: -329 } dim { size: 256 } } } inputs { dtype: DT_FLOAT shape { dim { size: -188 } dim { size: 4 } } } inputs { dtype: DT_INT32 shape { dim { size: -188 } } } inputs { dtype: DT_INT32 shape { dim { size: 2 } } value { dtype: DT_INT32 tensor_shape { dim { size: 2 } } tensor_content: \"\\007\\000\\000\\000\\007\\000\\000\\000\" } } device { type: \"GPU\" vendor: \"NVIDIA\" model: \"Tesla V100-SXM2-16GB\" frequency: 1530 num_cores: 80 environment { key: \"architecture\" value: \"7.0\" } environment { key: \"cuda\" value: \"11000\" } environment { key: \"cudnn\" value: \"8005\" } num_registers: 65536 l1_cache_size: 24576 l2_cache_size: 6291456 shared_memory_size_per_multiprocessor: 98304 memory_size: 15345844224 bandwidth: 898048000 } outputs { dtype: DT_FLOAT shape { dim { size: -188 } dim { size: 7 } dim { size: 7 } dim { size: 256 } } }\n",
      "2022-12-14 23:09:28.695097: W tensorflow/core/grappler/costs/op_level_cost_estimator.cc:690] Error in PredictCost() for the op: op: \"CropAndResize\" attr { key: \"T\" value { type: DT_FLOAT } } attr { key: \"extrapolation_value\" value { f: 0 } } attr { key: \"method\" value { s: \"bilinear\" } } inputs { dtype: DT_FLOAT shape { dim { size: -14 } dim { size: -328 } dim { size: -329 } dim { size: 256 } } } inputs { dtype: DT_FLOAT shape { dim { size: -188 } dim { size: 4 } } } inputs { dtype: DT_INT32 shape { dim { size: -188 } } } inputs { dtype: DT_INT32 shape { dim { size: 2 } } value { dtype: DT_INT32 tensor_shape { dim { size: 2 } } tensor_content: \"\\016\\000\\000\\000\\016\\000\\000\\000\" } } device { type: \"GPU\" vendor: \"NVIDIA\" model: \"Tesla V100-SXM2-16GB\" frequency: 1530 num_cores: 80 environment { key: \"architecture\" value: \"7.0\" } environment { key: \"cuda\" value: \"11000\" } environment { key: \"cudnn\" value: \"8005\" } num_registers: 65536 l1_cache_size: 24576 l2_cache_size: 6291456 shared_memory_size_per_multiprocessor: 98304 memory_size: 15345844224 bandwidth: 898048000 } outputs { dtype: DT_FLOAT shape { dim { size: -188 } dim { size: 14 } dim { size: 14 } dim { size: 256 } } }\n",
      "2022-12-14 23:09:28.695251: W tensorflow/core/grappler/costs/op_level_cost_estimator.cc:690] Error in PredictCost() for the op: op: \"CropAndResize\" attr { key: \"T\" value { type: DT_FLOAT } } attr { key: \"extrapolation_value\" value { f: 0 } } attr { key: \"method\" value { s: \"bilinear\" } } inputs { dtype: DT_FLOAT shape { dim { size: -14 } dim { size: -336 } dim { size: -337 } dim { size: 256 } } } inputs { dtype: DT_FLOAT shape { dim { size: -190 } dim { size: 4 } } } inputs { dtype: DT_INT32 shape { dim { size: -190 } } } inputs { dtype: DT_INT32 shape { dim { size: 2 } } value { dtype: DT_INT32 tensor_shape { dim { size: 2 } } tensor_content: \"\\007\\000\\000\\000\\007\\000\\000\\000\" } } device { type: \"GPU\" vendor: \"NVIDIA\" model: \"Tesla V100-SXM2-16GB\" frequency: 1530 num_cores: 80 environment { key: \"architecture\" value: \"7.0\" } environment { key: \"cuda\" value: \"11000\" } environment { key: \"cudnn\" value: \"8005\" } num_registers: 65536 l1_cache_size: 24576 l2_cache_size: 6291456 shared_memory_size_per_multiprocessor: 98304 memory_size: 15345844224 bandwidth: 898048000 } outputs { dtype: DT_FLOAT shape { dim { size: -190 } dim { size: 7 } dim { size: 7 } dim { size: 256 } } }\n",
      "2022-12-14 23:09:28.695400: W tensorflow/core/grappler/costs/op_level_cost_estimator.cc:690] Error in PredictCost() for the op: op: \"CropAndResize\" attr { key: \"T\" value { type: DT_FLOAT } } attr { key: \"extrapolation_value\" value { f: 0 } } attr { key: \"method\" value { s: \"bilinear\" } } inputs { dtype: DT_FLOAT shape { dim { size: -14 } dim { size: -336 } dim { size: -337 } dim { size: 256 } } } inputs { dtype: DT_FLOAT shape { dim { size: -190 } dim { size: 4 } } } inputs { dtype: DT_INT32 shape { dim { size: -190 } } } inputs { dtype: DT_INT32 shape { dim { size: 2 } } value { dtype: DT_INT32 tensor_shape { dim { size: 2 } } tensor_content: \"\\016\\000\\000\\000\\016\\000\\000\\000\" } } device { type: \"GPU\" vendor: \"NVIDIA\" model: \"Tesla V100-SXM2-16GB\" frequency: 1530 num_cores: 80 environment { key: \"architecture\" value: \"7.0\" } environment { key: \"cuda\" value: \"11000\" } environment { key: \"cudnn\" value: \"8005\" } num_registers: 65536 l1_cache_size: 24576 l2_cache_size: 6291456 shared_memory_size_per_multiprocessor: 98304 memory_size: 15345844224 bandwidth: 898048000 } outputs { dtype: DT_FLOAT shape { dim { size: -190 } dim { size: 14 } dim { size: 14 } dim { size: 256 } } }\n",
      "2022-12-14 23:09:28.695580: W tensorflow/core/grappler/costs/op_level_cost_estimator.cc:690] Error in PredictCost() for the op: op: \"CropAndResize\" attr { key: \"T\" value { type: DT_FLOAT } } attr { key: \"extrapolation_value\" value { f: 0 } } attr { key: \"method\" value { s: \"bilinear\" } } inputs { dtype: DT_FLOAT shape { dim { size: -14 } dim { size: -344 } dim { size: -345 } dim { size: 256 } } } inputs { dtype: DT_FLOAT shape { dim { size: -192 } dim { size: 4 } } } inputs { dtype: DT_INT32 shape { dim { size: -192 } } } inputs { dtype: DT_INT32 shape { dim { size: 2 } } value { dtype: DT_INT32 tensor_shape { dim { size: 2 } } tensor_content: \"\\007\\000\\000\\000\\007\\000\\000\\000\" } } device { type: \"GPU\" vendor: \"NVIDIA\" model: \"Tesla V100-SXM2-16GB\" frequency: 1530 num_cores: 80 environment { key: \"architecture\" value: \"7.0\" } environment { key: \"cuda\" value: \"11000\" } environment { key: \"cudnn\" value: \"8005\" } num_registers: 65536 l1_cache_size: 24576 l2_cache_size: 6291456 shared_memory_size_per_multiprocessor: 98304 memory_size: 15345844224 bandwidth: 898048000 } outputs { dtype: DT_FLOAT shape { dim { size: -192 } dim { size: 7 } dim { size: 7 } dim { size: 256 } } }\n",
      "2022-12-14 23:09:28.695740: W tensorflow/core/grappler/costs/op_level_cost_estimator.cc:690] Error in PredictCost() for the op: op: \"CropAndResize\" attr { key: \"T\" value { type: DT_FLOAT } } attr { key: \"extrapolation_value\" value { f: 0 } } attr { key: \"method\" value { s: \"bilinear\" } } inputs { dtype: DT_FLOAT shape { dim { size: -14 } dim { size: -344 } dim { size: -345 } dim { size: 256 } } } inputs { dtype: DT_FLOAT shape { dim { size: -192 } dim { size: 4 } } } inputs { dtype: DT_INT32 shape { dim { size: -192 } } } inputs { dtype: DT_INT32 shape { dim { size: 2 } } value { dtype: DT_INT32 tensor_shape { dim { size: 2 } } tensor_content: \"\\016\\000\\000\\000\\016\\000\\000\\000\" } } device { type: \"GPU\" vendor: \"NVIDIA\" model: \"Tesla V100-SXM2-16GB\" frequency: 1530 num_cores: 80 environment { key: \"architecture\" value: \"7.0\" } environment { key: \"cuda\" value: \"11000\" } environment { key: \"cudnn\" value: \"8005\" } num_registers: 65536 l1_cache_size: 24576 l2_cache_size: 6291456 shared_memory_size_per_multiprocessor: 98304 memory_size: 15345844224 bandwidth: 898048000 } outputs { dtype: DT_FLOAT shape { dim { size: -192 } dim { size: 14 } dim { size: 14 } dim { size: 256 } } }\n",
      "2022-12-14 23:09:37.674939: I tensorflow/stream_executor/cuda/cuda_dnn.cc:369] Loaded cuDNN version 8005\n"
     ]
    },
    {
     "name": "stdout",
     "output_type": "stream",
     "text": [
      "  1/200 [..............................] - ETA: 2:38:50 - batch: 0.0000e+00 - size: 8.0000 - loss: 12.4070 - rpn_class_loss: 1.6693 - rpn_bbox_loss: 10.7167 - mrcnn_class_loss: 0.0210 - mrcnn_bbox_loss: 0.0000e+00 - mrcnn_mask_loss: 0.0000e+00"
     ]
    },
    {
     "name": "stderr",
     "output_type": "stream",
     "text": [
      "2022-12-14 23:10:04.632895: I tensorflow/core/profiler/lib/profiler_session.cc:131] Profiler session initializing.\n",
      "2022-12-14 23:10:04.632948: I tensorflow/core/profiler/lib/profiler_session.cc:146] Profiler session started.\n",
      "2022-12-14 23:10:04.633007: I tensorflow/core/profiler/internal/gpu/cupti_tracer.cc:1614] Profiler found 1 GPUs\n",
      "2022-12-14 23:10:05.642071: I tensorflow/core/profiler/lib/profiler_session.cc:66] Profiler session collecting data.\n",
      "2022-12-14 23:10:05.647025: I tensorflow/core/profiler/internal/gpu/cupti_tracer.cc:1748] CUPTI activity buffer flushed\n",
      "2022-12-14 23:10:05.844871: I tensorflow/core/profiler/internal/gpu/cupti_collector.cc:673]  GpuTracer has collected 4766 callback api events and 4765 activity events. \n",
      "2022-12-14 23:10:06.090693: I tensorflow/core/profiler/lib/profiler_session.cc:164] Profiler session tear down.\n",
      "2022-12-14 23:10:06.378150: I tensorflow/core/profiler/rpc/client/save_profile.cc:136] Creating directory: /home/jupyter/pneumonia20221214T2308/plugins/profile/2022_12_14_23_10_06\n",
      "\n",
      "2022-12-14 23:10:06.499931: I tensorflow/core/profiler/rpc/client/save_profile.cc:142] Dumped gzipped tool data for trace.json.gz to /home/jupyter/pneumonia20221214T2308/plugins/profile/2022_12_14_23_10_06/34f32647c941.trace.json.gz\n"
     ]
    },
    {
     "name": "stdout",
     "output_type": "stream",
     "text": [
      "  2/200 [..............................] - ETA: 7:24 - batch: 0.5000 - size: 8.0000 - loss: 11.7943 - rpn_class_loss: 1.1715 - rpn_bbox_loss: 7.6023 - mrcnn_class_loss: 1.0775 - mrcnn_bbox_loss: 1.6076 - mrcnn_mask_loss: 0.3353                "
     ]
    },
    {
     "name": "stderr",
     "output_type": "stream",
     "text": [
      "2022-12-14 23:10:06.728761: I tensorflow/core/profiler/rpc/client/save_profile.cc:136] Creating directory: /home/jupyter/pneumonia20221214T2308/plugins/profile/2022_12_14_23_10_06\n",
      "\n",
      "2022-12-14 23:10:06.741933: I tensorflow/core/profiler/rpc/client/save_profile.cc:142] Dumped gzipped tool data for memory_profile.json.gz to /home/jupyter/pneumonia20221214T2308/plugins/profile/2022_12_14_23_10_06/34f32647c941.memory_profile.json.gz\n",
      "2022-12-14 23:10:06.748428: I tensorflow/core/profiler/rpc/client/capture_profile.cc:251] Creating directory: /home/jupyter/pneumonia20221214T2308/plugins/profile/2022_12_14_23_10_06\n",
      "Dumped tool data for xplane.pb to /home/jupyter/pneumonia20221214T2308/plugins/profile/2022_12_14_23_10_06/34f32647c941.xplane.pb\n",
      "Dumped tool data for overview_page.pb to /home/jupyter/pneumonia20221214T2308/plugins/profile/2022_12_14_23_10_06/34f32647c941.overview_page.pb\n",
      "Dumped tool data for input_pipeline.pb to /home/jupyter/pneumonia20221214T2308/plugins/profile/2022_12_14_23_10_06/34f32647c941.input_pipeline.pb\n",
      "Dumped tool data for tensorflow_stats.pb to /home/jupyter/pneumonia20221214T2308/plugins/profile/2022_12_14_23_10_06/34f32647c941.tensorflow_stats.pb\n",
      "Dumped tool data for kernel_stats.pb to /home/jupyter/pneumonia20221214T2308/plugins/profile/2022_12_14_23_10_06/34f32647c941.kernel_stats.pb\n",
      "\n"
     ]
    },
    {
     "name": "stdout",
     "output_type": "stream",
     "text": [
      "200/200 [==============================] - ETA: 0s - batch: 99.5000 - size: 8.0000 - loss: 14.5263 - rpn_class_loss: 0.6217 - rpn_bbox_loss: 7.5394 - mrcnn_class_loss: 0.7329 - mrcnn_bbox_loss: 5.6286 - mrcnn_mask_loss: 0.0037"
     ]
    },
    {
     "name": "stderr",
     "output_type": "stream",
     "text": [
      "2022-12-14 23:11:16.989785: W tensorflow/core/grappler/costs/op_level_cost_estimator.cc:690] Error in PredictCost() for the op: op: \"CropAndResize\" attr { key: \"T\" value { type: DT_FLOAT } } attr { key: \"extrapolation_value\" value { f: 0 } } attr { key: \"method\" value { s: \"bilinear\" } } inputs { dtype: DT_FLOAT shape { dim { size: -896 } dim { size: 56 } dim { size: 56 } dim { size: 1 } } } inputs { dtype: DT_FLOAT shape { dim { size: -28 } dim { size: 4 } } } inputs { dtype: DT_INT32 shape { dim { size: -28 } } } inputs { dtype: DT_INT32 shape { dim { size: 2 } } value { dtype: DT_INT32 tensor_shape { dim { size: 2 } } tensor_content: \"\\034\\000\\000\\000\\034\\000\\000\\000\" } } device { type: \"GPU\" vendor: \"NVIDIA\" model: \"Tesla V100-SXM2-16GB\" frequency: 1530 num_cores: 80 environment { key: \"architecture\" value: \"7.0\" } environment { key: \"cuda\" value: \"11000\" } environment { key: \"cudnn\" value: \"8005\" } num_registers: 65536 l1_cache_size: 24576 l2_cache_size: 6291456 shared_memory_size_per_multiprocessor: 98304 memory_size: 15345844224 bandwidth: 898048000 } outputs { dtype: DT_FLOAT shape { dim { size: -28 } dim { size: 28 } dim { size: 28 } dim { size: 1 } } }\n",
      "2022-12-14 23:11:16.991058: W tensorflow/core/grappler/costs/op_level_cost_estimator.cc:690] Error in PredictCost() for the op: op: \"CropAndResize\" attr { key: \"T\" value { type: DT_FLOAT } } attr { key: \"extrapolation_value\" value { f: 0 } } attr { key: \"method\" value { s: \"bilinear\" } } inputs { dtype: DT_FLOAT shape { dim { size: -902 } dim { size: 56 } dim { size: 56 } dim { size: 1 } } } inputs { dtype: DT_FLOAT shape { dim { size: -40 } dim { size: 4 } } } inputs { dtype: DT_INT32 shape { dim { size: -40 } } } inputs { dtype: DT_INT32 shape { dim { size: 2 } } value { dtype: DT_INT32 tensor_shape { dim { size: 2 } } tensor_content: \"\\034\\000\\000\\000\\034\\000\\000\\000\" } } device { type: \"GPU\" vendor: \"NVIDIA\" model: \"Tesla V100-SXM2-16GB\" frequency: 1530 num_cores: 80 environment { key: \"architecture\" value: \"7.0\" } environment { key: \"cuda\" value: \"11000\" } environment { key: \"cudnn\" value: \"8005\" } num_registers: 65536 l1_cache_size: 24576 l2_cache_size: 6291456 shared_memory_size_per_multiprocessor: 98304 memory_size: 15345844224 bandwidth: 898048000 } outputs { dtype: DT_FLOAT shape { dim { size: -40 } dim { size: 28 } dim { size: 28 } dim { size: 1 } } }\n",
      "2022-12-14 23:11:16.991587: W tensorflow/core/grappler/costs/op_level_cost_estimator.cc:690] Error in PredictCost() for the op: op: \"CropAndResize\" attr { key: \"T\" value { type: DT_FLOAT } } attr { key: \"extrapolation_value\" value { f: 0 } } attr { key: \"method\" value { s: \"bilinear\" } } inputs { dtype: DT_FLOAT shape { dim { size: -904 } dim { size: 56 } dim { size: 56 } dim { size: 1 } } } inputs { dtype: DT_FLOAT shape { dim { size: -44 } dim { size: 4 } } } inputs { dtype: DT_INT32 shape { dim { size: -44 } } } inputs { dtype: DT_INT32 shape { dim { size: 2 } } value { dtype: DT_INT32 tensor_shape { dim { size: 2 } } tensor_content: \"\\034\\000\\000\\000\\034\\000\\000\\000\" } } device { type: \"GPU\" vendor: \"NVIDIA\" model: \"Tesla V100-SXM2-16GB\" frequency: 1530 num_cores: 80 environment { key: \"architecture\" value: \"7.0\" } environment { key: \"cuda\" value: \"11000\" } environment { key: \"cudnn\" value: \"8005\" } num_registers: 65536 l1_cache_size: 24576 l2_cache_size: 6291456 shared_memory_size_per_multiprocessor: 98304 memory_size: 15345844224 bandwidth: 898048000 } outputs { dtype: DT_FLOAT shape { dim { size: -44 } dim { size: 28 } dim { size: 28 } dim { size: 1 } } }\n",
      "2022-12-14 23:11:16.992040: W tensorflow/core/grappler/costs/op_level_cost_estimator.cc:690] Error in PredictCost() for the op: op: \"CropAndResize\" attr { key: \"T\" value { type: DT_FLOAT } } attr { key: \"extrapolation_value\" value { f: 0 } } attr { key: \"method\" value { s: \"bilinear\" } } inputs { dtype: DT_FLOAT shape { dim { size: -906 } dim { size: 56 } dim { size: 56 } dim { size: 1 } } } inputs { dtype: DT_FLOAT shape { dim { size: -48 } dim { size: 4 } } } inputs { dtype: DT_INT32 shape { dim { size: -48 } } } inputs { dtype: DT_INT32 shape { dim { size: 2 } } value { dtype: DT_INT32 tensor_shape { dim { size: 2 } } tensor_content: \"\\034\\000\\000\\000\\034\\000\\000\\000\" } } device { type: \"GPU\" vendor: \"NVIDIA\" model: \"Tesla V100-SXM2-16GB\" frequency: 1530 num_cores: 80 environment { key: \"architecture\" value: \"7.0\" } environment { key: \"cuda\" value: \"11000\" } environment { key: \"cudnn\" value: \"8005\" } num_registers: 65536 l1_cache_size: 24576 l2_cache_size: 6291456 shared_memory_size_per_multiprocessor: 98304 memory_size: 15345844224 bandwidth: 898048000 } outputs { dtype: DT_FLOAT shape { dim { size: -48 } dim { size: 28 } dim { size: 28 } dim { size: 1 } } }\n",
      "2022-12-14 23:11:16.992474: W tensorflow/core/grappler/costs/op_level_cost_estimator.cc:690] Error in PredictCost() for the op: op: \"CropAndResize\" attr { key: \"T\" value { type: DT_FLOAT } } attr { key: \"extrapolation_value\" value { f: 0 } } attr { key: \"method\" value { s: \"bilinear\" } } inputs { dtype: DT_FLOAT shape { dim { size: -908 } dim { size: 56 } dim { size: 56 } dim { size: 1 } } } inputs { dtype: DT_FLOAT shape { dim { size: -52 } dim { size: 4 } } } inputs { dtype: DT_INT32 shape { dim { size: -52 } } } inputs { dtype: DT_INT32 shape { dim { size: 2 } } value { dtype: DT_INT32 tensor_shape { dim { size: 2 } } tensor_content: \"\\034\\000\\000\\000\\034\\000\\000\\000\" } } device { type: \"GPU\" vendor: \"NVIDIA\" model: \"Tesla V100-SXM2-16GB\" frequency: 1530 num_cores: 80 environment { key: \"architecture\" value: \"7.0\" } environment { key: \"cuda\" value: \"11000\" } environment { key: \"cudnn\" value: \"8005\" } num_registers: 65536 l1_cache_size: 24576 l2_cache_size: 6291456 shared_memory_size_per_multiprocessor: 98304 memory_size: 15345844224 bandwidth: 898048000 } outputs { dtype: DT_FLOAT shape { dim { size: -52 } dim { size: 28 } dim { size: 28 } dim { size: 1 } } }\n",
      "2022-12-14 23:11:16.992939: W tensorflow/core/grappler/costs/op_level_cost_estimator.cc:690] Error in PredictCost() for the op: op: \"CropAndResize\" attr { key: \"T\" value { type: DT_FLOAT } } attr { key: \"extrapolation_value\" value { f: 0 } } attr { key: \"method\" value { s: \"bilinear\" } } inputs { dtype: DT_FLOAT shape { dim { size: -910 } dim { size: 56 } dim { size: 56 } dim { size: 1 } } } inputs { dtype: DT_FLOAT shape { dim { size: -56 } dim { size: 4 } } } inputs { dtype: DT_INT32 shape { dim { size: -56 } } } inputs { dtype: DT_INT32 shape { dim { size: 2 } } value { dtype: DT_INT32 tensor_shape { dim { size: 2 } } tensor_content: \"\\034\\000\\000\\000\\034\\000\\000\\000\" } } device { type: \"GPU\" vendor: \"NVIDIA\" model: \"Tesla V100-SXM2-16GB\" frequency: 1530 num_cores: 80 environment { key: \"architecture\" value: \"7.0\" } environment { key: \"cuda\" value: \"11000\" } environment { key: \"cudnn\" value: \"8005\" } num_registers: 65536 l1_cache_size: 24576 l2_cache_size: 6291456 shared_memory_size_per_multiprocessor: 98304 memory_size: 15345844224 bandwidth: 898048000 } outputs { dtype: DT_FLOAT shape { dim { size: -56 } dim { size: 28 } dim { size: 28 } dim { size: 1 } } }\n",
      "2022-12-14 23:11:16.993497: W tensorflow/core/grappler/costs/op_level_cost_estimator.cc:690] Error in PredictCost() for the op: op: \"CropAndResize\" attr { key: \"T\" value { type: DT_FLOAT } } attr { key: \"extrapolation_value\" value { f: 0 } } attr { key: \"method\" value { s: \"bilinear\" } } inputs { dtype: DT_FLOAT shape { dim { size: -898 } dim { size: 56 } dim { size: 56 } dim { size: 1 } } } inputs { dtype: DT_FLOAT shape { dim { size: -32 } dim { size: 4 } } } inputs { dtype: DT_INT32 shape { dim { size: -32 } } } inputs { dtype: DT_INT32 shape { dim { size: 2 } } value { dtype: DT_INT32 tensor_shape { dim { size: 2 } } tensor_content: \"\\034\\000\\000\\000\\034\\000\\000\\000\" } } device { type: \"GPU\" vendor: \"NVIDIA\" model: \"Tesla V100-SXM2-16GB\" frequency: 1530 num_cores: 80 environment { key: \"architecture\" value: \"7.0\" } environment { key: \"cuda\" value: \"11000\" } environment { key: \"cudnn\" value: \"8005\" } num_registers: 65536 l1_cache_size: 24576 l2_cache_size: 6291456 shared_memory_size_per_multiprocessor: 98304 memory_size: 15345844224 bandwidth: 898048000 } outputs { dtype: DT_FLOAT shape { dim { size: -32 } dim { size: 28 } dim { size: 28 } dim { size: 1 } } }\n",
      "2022-12-14 23:11:16.993785: W tensorflow/core/grappler/costs/op_level_cost_estimator.cc:690] Error in PredictCost() for the op: op: \"CropAndResize\" attr { key: \"T\" value { type: DT_FLOAT } } attr { key: \"extrapolation_value\" value { f: 0 } } attr { key: \"method\" value { s: \"bilinear\" } } inputs { dtype: DT_FLOAT shape { dim { size: -900 } dim { size: 56 } dim { size: 56 } dim { size: 1 } } } inputs { dtype: DT_FLOAT shape { dim { size: -36 } dim { size: 4 } } } inputs { dtype: DT_INT32 shape { dim { size: -36 } } } inputs { dtype: DT_INT32 shape { dim { size: 2 } } value { dtype: DT_INT32 tensor_shape { dim { size: 2 } } tensor_content: \"\\034\\000\\000\\000\\034\\000\\000\\000\" } } device { type: \"GPU\" vendor: \"NVIDIA\" model: \"Tesla V100-SXM2-16GB\" frequency: 1530 num_cores: 80 environment { key: \"architecture\" value: \"7.0\" } environment { key: \"cuda\" value: \"11000\" } environment { key: \"cudnn\" value: \"8005\" } num_registers: 65536 l1_cache_size: 24576 l2_cache_size: 6291456 shared_memory_size_per_multiprocessor: 98304 memory_size: 15345844224 bandwidth: 898048000 } outputs { dtype: DT_FLOAT shape { dim { size: -36 } dim { size: 28 } dim { size: 28 } dim { size: 1 } } }\n",
      "2022-12-14 23:11:17.024086: W tensorflow/core/grappler/costs/op_level_cost_estimator.cc:690] Error in PredictCost() for the op: op: \"CropAndResize\" attr { key: \"T\" value { type: DT_FLOAT } } attr { key: \"extrapolation_value\" value { f: 0 } } attr { key: \"method\" value { s: \"bilinear\" } } inputs { dtype: DT_FLOAT shape { dim { size: -199 } dim { size: -463 } dim { size: -464 } dim { size: 256 } } } inputs { dtype: DT_FLOAT shape { dim { size: -173 } dim { size: 4 } } } inputs { dtype: DT_INT32 shape { dim { size: -173 } } } inputs { dtype: DT_INT32 shape { dim { size: 2 } } value { dtype: DT_INT32 tensor_shape { dim { size: 2 } } tensor_content: \"\\007\\000\\000\\000\\007\\000\\000\\000\" } } device { type: \"GPU\" vendor: \"NVIDIA\" model: \"Tesla V100-SXM2-16GB\" frequency: 1530 num_cores: 80 environment { key: \"architecture\" value: \"7.0\" } environment { key: \"cuda\" value: \"11000\" } environment { key: \"cudnn\" value: \"8005\" } num_registers: 65536 l1_cache_size: 24576 l2_cache_size: 6291456 shared_memory_size_per_multiprocessor: 98304 memory_size: 15345844224 bandwidth: 898048000 } outputs { dtype: DT_FLOAT shape { dim { size: -173 } dim { size: 7 } dim { size: 7 } dim { size: 256 } } }\n",
      "2022-12-14 23:11:17.024501: W tensorflow/core/grappler/costs/op_level_cost_estimator.cc:690] Error in PredictCost() for the op: op: \"CropAndResize\" attr { key: \"T\" value { type: DT_FLOAT } } attr { key: \"extrapolation_value\" value { f: 0 } } attr { key: \"method\" value { s: \"bilinear\" } } inputs { dtype: DT_FLOAT shape { dim { size: -199 } dim { size: -463 } dim { size: -464 } dim { size: 256 } } } inputs { dtype: DT_FLOAT shape { dim { size: -173 } dim { size: 4 } } } inputs { dtype: DT_INT32 shape { dim { size: -173 } } } inputs { dtype: DT_INT32 shape { dim { size: 2 } } value { dtype: DT_INT32 tensor_shape { dim { size: 2 } } tensor_content: \"\\016\\000\\000\\000\\016\\000\\000\\000\" } } device { type: \"GPU\" vendor: \"NVIDIA\" model: \"Tesla V100-SXM2-16GB\" frequency: 1530 num_cores: 80 environment { key: \"architecture\" value: \"7.0\" } environment { key: \"cuda\" value: \"11000\" } environment { key: \"cudnn\" value: \"8005\" } num_registers: 65536 l1_cache_size: 24576 l2_cache_size: 6291456 shared_memory_size_per_multiprocessor: 98304 memory_size: 15345844224 bandwidth: 898048000 } outputs { dtype: DT_FLOAT shape { dim { size: -173 } dim { size: 14 } dim { size: 14 } dim { size: 256 } } }\n",
      "2022-12-14 23:11:17.024779: W tensorflow/core/grappler/costs/op_level_cost_estimator.cc:690] Error in PredictCost() for the op: op: \"CropAndResize\" attr { key: \"T\" value { type: DT_FLOAT } } attr { key: \"extrapolation_value\" value { f: 0 } } attr { key: \"method\" value { s: \"bilinear\" } } inputs { dtype: DT_FLOAT shape { dim { size: -199 } dim { size: -453 } dim { size: -454 } dim { size: 256 } } } inputs { dtype: DT_FLOAT shape { dim { size: -175 } dim { size: 4 } } } inputs { dtype: DT_INT32 shape { dim { size: -175 } } } inputs { dtype: DT_INT32 shape { dim { size: 2 } } value { dtype: DT_INT32 tensor_shape { dim { size: 2 } } tensor_content: \"\\007\\000\\000\\000\\007\\000\\000\\000\" } } device { type: \"GPU\" vendor: \"NVIDIA\" model: \"Tesla V100-SXM2-16GB\" frequency: 1530 num_cores: 80 environment { key: \"architecture\" value: \"7.0\" } environment { key: \"cuda\" value: \"11000\" } environment { key: \"cudnn\" value: \"8005\" } num_registers: 65536 l1_cache_size: 24576 l2_cache_size: 6291456 shared_memory_size_per_multiprocessor: 98304 memory_size: 15345844224 bandwidth: 898048000 } outputs { dtype: DT_FLOAT shape { dim { size: -175 } dim { size: 7 } dim { size: 7 } dim { size: 256 } } }\n",
      "2022-12-14 23:11:17.025111: W tensorflow/core/grappler/costs/op_level_cost_estimator.cc:690] Error in PredictCost() for the op: op: \"CropAndResize\" attr { key: \"T\" value { type: DT_FLOAT } } attr { key: \"extrapolation_value\" value { f: 0 } } attr { key: \"method\" value { s: \"bilinear\" } } inputs { dtype: DT_FLOAT shape { dim { size: -199 } dim { size: -453 } dim { size: -454 } dim { size: 256 } } } inputs { dtype: DT_FLOAT shape { dim { size: -175 } dim { size: 4 } } } inputs { dtype: DT_INT32 shape { dim { size: -175 } } } inputs { dtype: DT_INT32 shape { dim { size: 2 } } value { dtype: DT_INT32 tensor_shape { dim { size: 2 } } tensor_content: \"\\016\\000\\000\\000\\016\\000\\000\\000\" } } device { type: \"GPU\" vendor: \"NVIDIA\" model: \"Tesla V100-SXM2-16GB\" frequency: 1530 num_cores: 80 environment { key: \"architecture\" value: \"7.0\" } environment { key: \"cuda\" value: \"11000\" } environment { key: \"cudnn\" value: \"8005\" } num_registers: 65536 l1_cache_size: 24576 l2_cache_size: 6291456 shared_memory_size_per_multiprocessor: 98304 memory_size: 15345844224 bandwidth: 898048000 } outputs { dtype: DT_FLOAT shape { dim { size: -175 } dim { size: 14 } dim { size: 14 } dim { size: 256 } } }\n",
      "2022-12-14 23:11:17.025412: W tensorflow/core/grappler/costs/op_level_cost_estimator.cc:690] Error in PredictCost() for the op: op: \"CropAndResize\" attr { key: \"T\" value { type: DT_FLOAT } } attr { key: \"extrapolation_value\" value { f: 0 } } attr { key: \"method\" value { s: \"bilinear\" } } inputs { dtype: DT_FLOAT shape { dim { size: -199 } dim { size: -441 } dim { size: -442 } dim { size: 256 } } } inputs { dtype: DT_FLOAT shape { dim { size: -177 } dim { size: 4 } } } inputs { dtype: DT_INT32 shape { dim { size: -177 } } } inputs { dtype: DT_INT32 shape { dim { size: 2 } } value { dtype: DT_INT32 tensor_shape { dim { size: 2 } } tensor_content: \"\\007\\000\\000\\000\\007\\000\\000\\000\" } } device { type: \"GPU\" vendor: \"NVIDIA\" model: \"Tesla V100-SXM2-16GB\" frequency: 1530 num_cores: 80 environment { key: \"architecture\" value: \"7.0\" } environment { key: \"cuda\" value: \"11000\" } environment { key: \"cudnn\" value: \"8005\" } num_registers: 65536 l1_cache_size: 24576 l2_cache_size: 6291456 shared_memory_size_per_multiprocessor: 98304 memory_size: 15345844224 bandwidth: 898048000 } outputs { dtype: DT_FLOAT shape { dim { size: -177 } dim { size: 7 } dim { size: 7 } dim { size: 256 } } }\n",
      "2022-12-14 23:11:17.025760: W tensorflow/core/grappler/costs/op_level_cost_estimator.cc:690] Error in PredictCost() for the op: op: \"CropAndResize\" attr { key: \"T\" value { type: DT_FLOAT } } attr { key: \"extrapolation_value\" value { f: 0 } } attr { key: \"method\" value { s: \"bilinear\" } } inputs { dtype: DT_FLOAT shape { dim { size: -199 } dim { size: -441 } dim { size: -442 } dim { size: 256 } } } inputs { dtype: DT_FLOAT shape { dim { size: -177 } dim { size: 4 } } } inputs { dtype: DT_INT32 shape { dim { size: -177 } } } inputs { dtype: DT_INT32 shape { dim { size: 2 } } value { dtype: DT_INT32 tensor_shape { dim { size: 2 } } tensor_content: \"\\016\\000\\000\\000\\016\\000\\000\\000\" } } device { type: \"GPU\" vendor: \"NVIDIA\" model: \"Tesla V100-SXM2-16GB\" frequency: 1530 num_cores: 80 environment { key: \"architecture\" value: \"7.0\" } environment { key: \"cuda\" value: \"11000\" } environment { key: \"cudnn\" value: \"8005\" } num_registers: 65536 l1_cache_size: 24576 l2_cache_size: 6291456 shared_memory_size_per_multiprocessor: 98304 memory_size: 15345844224 bandwidth: 898048000 } outputs { dtype: DT_FLOAT shape { dim { size: -177 } dim { size: 14 } dim { size: 14 } dim { size: 256 } } }\n",
      "2022-12-14 23:11:17.026236: W tensorflow/core/grappler/costs/op_level_cost_estimator.cc:690] Error in PredictCost() for the op: op: \"CropAndResize\" attr { key: \"T\" value { type: DT_FLOAT } } attr { key: \"extrapolation_value\" value { f: 0 } } attr { key: \"method\" value { s: \"bilinear\" } } inputs { dtype: DT_FLOAT shape { dim { size: -199 } dim { size: -427 } dim { size: -428 } dim { size: 256 } } } inputs { dtype: DT_FLOAT shape { dim { size: -179 } dim { size: 4 } } } inputs { dtype: DT_INT32 shape { dim { size: -179 } } } inputs { dtype: DT_INT32 shape { dim { size: 2 } } value { dtype: DT_INT32 tensor_shape { dim { size: 2 } } tensor_content: \"\\007\\000\\000\\000\\007\\000\\000\\000\" } } device { type: \"GPU\" vendor: \"NVIDIA\" model: \"Tesla V100-SXM2-16GB\" frequency: 1530 num_cores: 80 environment { key: \"architecture\" value: \"7.0\" } environment { key: \"cuda\" value: \"11000\" } environment { key: \"cudnn\" value: \"8005\" } num_registers: 65536 l1_cache_size: 24576 l2_cache_size: 6291456 shared_memory_size_per_multiprocessor: 98304 memory_size: 15345844224 bandwidth: 898048000 } outputs { dtype: DT_FLOAT shape { dim { size: -179 } dim { size: 7 } dim { size: 7 } dim { size: 256 } } }\n",
      "2022-12-14 23:11:17.026529: W tensorflow/core/grappler/costs/op_level_cost_estimator.cc:690] Error in PredictCost() for the op: op: \"CropAndResize\" attr { key: \"T\" value { type: DT_FLOAT } } attr { key: \"extrapolation_value\" value { f: 0 } } attr { key: \"method\" value { s: \"bilinear\" } } inputs { dtype: DT_FLOAT shape { dim { size: -199 } dim { size: -427 } dim { size: -428 } dim { size: 256 } } } inputs { dtype: DT_FLOAT shape { dim { size: -179 } dim { size: 4 } } } inputs { dtype: DT_INT32 shape { dim { size: -179 } } } inputs { dtype: DT_INT32 shape { dim { size: 2 } } value { dtype: DT_INT32 tensor_shape { dim { size: 2 } } tensor_content: \"\\016\\000\\000\\000\\016\\000\\000\\000\" } } device { type: \"GPU\" vendor: \"NVIDIA\" model: \"Tesla V100-SXM2-16GB\" frequency: 1530 num_cores: 80 environment { key: \"architecture\" value: \"7.0\" } environment { key: \"cuda\" value: \"11000\" } environment { key: \"cudnn\" value: \"8005\" } num_registers: 65536 l1_cache_size: 24576 l2_cache_size: 6291456 shared_memory_size_per_multiprocessor: 98304 memory_size: 15345844224 bandwidth: 898048000 } outputs { dtype: DT_FLOAT shape { dim { size: -179 } dim { size: 14 } dim { size: 14 } dim { size: 256 } } }\n"
     ]
    },
    {
     "name": "stdout",
     "output_type": "stream",
     "text": [
      "200/200 [==============================] - 186s 693ms/step - batch: 99.5000 - size: 8.0000 - loss: 14.5263 - rpn_class_loss: 0.6217 - rpn_bbox_loss: 7.5394 - mrcnn_class_loss: 0.7329 - mrcnn_bbox_loss: 5.6286 - mrcnn_mask_loss: 0.0037 - val_loss: 4.3827 - val_rpn_class_loss: 0.2233 - val_rpn_bbox_loss: 1.4003 - val_mrcnn_class_loss: 1.4934 - val_mrcnn_bbox_loss: 1.2657 - val_mrcnn_mask_loss: 1.7981e-07\n",
      "Epoch 2/2\n",
      "200/200 [==============================] - 90s 451ms/step - batch: 99.5000 - size: 8.0000 - loss: 2.9202 - rpn_class_loss: 0.2771 - rpn_bbox_loss: 0.8537 - mrcnn_class_loss: 0.7381 - mrcnn_bbox_loss: 1.0513 - mrcnn_mask_loss: 1.6870e-07 - val_loss: 4.5198 - val_rpn_class_loss: 0.2125 - val_rpn_bbox_loss: 3.4452 - val_mrcnn_class_loss: 0.1646 - val_mrcnn_bbox_loss: 0.6975 - val_mrcnn_mask_loss: 7.4012e-09\n",
      "CPU times: user 2min 32s, sys: 36.7 s, total: 3min 8s\n",
      "Wall time: 5min 3s\n"
     ]
    }
   ],
   "source": [
    "%%time\n",
    "time_callback = TimeHistory()\n",
    "## train heads with higher lr to speedup the learning\n",
    "model.train(dataset_train, dataset_val,\n",
    "            learning_rate=LEARNING_RATE,\n",
    "            epochs=2,\n",
    "            layers='heads',\n",
    "            augmentation=None,\n",
    "            custom_callbacks=[time_callback])\n",
    "times = time_callback.times\n",
    "times_list = []\n",
    "times_list.extend(times)\n",
    "history = model.keras_model.history.history.copy()"
   ]
  },
  {
   "cell_type": "code",
   "execution_count": 23,
   "metadata": {},
   "outputs": [
    {
     "name": "stdout",
     "output_type": "stream",
     "text": [
      "Epoch Training time: [185.87911534309387, 89.93181729316711]\n",
      "{'loss': [14.52625340104103, 2.920219239294529], 'rpn_class_loss': [0.6216818, 0.2770945], 'rpn_bbox_loss': [7.539376, 0.85369647], 'mrcnn_class_loss': [0.7328842, 0.73809403], 'mrcnn_bbox_loss': [5.628623, 1.051334], 'mrcnn_mask_loss': [0.0036877068, 1.6870105e-07], 'val_loss': [4.382680654525757, 4.519847779273987], 'val_rpn_class_loss': [0.22329462, 0.21250427], 'val_rpn_bbox_loss': [1.400268, 3.4452329], 'val_mrcnn_class_loss': [1.4933953, 0.16456474], 'val_mrcnn_bbox_loss': [1.2657222, 0.6975447], 'val_mrcnn_mask_loss': [1.7981137e-07, 7.4012148e-09]}\n"
     ]
    }
   ],
   "source": [
    "print('Epoch Training time:', times)\n",
    "print(history)"
   ]
  },
  {
   "cell_type": "code",
   "execution_count": 25,
   "metadata": {},
   "outputs": [],
   "source": [
    "times_list = [185.87911534309387, 89.93181729316711]\n",
    "history = {'loss': [14.52625340104103, 2.920219239294529], 'rpn_class_loss': [0.6216818, 0.2770945], 'rpn_bbox_loss': [7.539376, 0.85369647], 'mrcnn_class_loss': [0.7328842, 0.73809403], 'mrcnn_bbox_loss': [5.628623, 1.051334], 'mrcnn_mask_loss': [0.0036877068, 1.6870105e-07], 'val_loss': [4.382680654525757, 4.519847779273987], 'val_rpn_class_loss': [0.22329462, 0.21250427], 'val_rpn_bbox_loss': [1.400268, 3.4452329], 'val_mrcnn_class_loss': [1.4933953, 0.16456474], 'val_mrcnn_bbox_loss': [1.2657222, 0.6975447], 'val_mrcnn_mask_loss': [1.7981137e-07, 7.4012148e-09]}"
   ]
  },
  {
   "cell_type": "code",
   "execution_count": 26,
   "metadata": {
    "_uuid": "8004790d27f041793562e994bbe95edf67f8978b",
    "tags": []
   },
   "outputs": [
    {
     "name": "stdout",
     "output_type": "stream",
     "text": [
      "\n",
      "Starting at epoch 2. LR=0.005\n",
      "\n",
      "Checkpoint Path: /home/jupyter/pneumonia20221214T2308/mask_rcnn_pneumonia_{epoch:04d}.h5\n",
      "Selecting layers to train\n",
      "conv1                  (Conv2D)\n",
      "bn_conv1               (BatchNorm)\n",
      "res2a_branch2a         (Conv2D)\n",
      "bn2a_branch2a          (BatchNorm)\n",
      "res2a_branch2b         (Conv2D)\n",
      "bn2a_branch2b          (BatchNorm)\n",
      "res2a_branch2c         (Conv2D)\n",
      "res2a_branch1          (Conv2D)\n",
      "bn2a_branch2c          (BatchNorm)\n",
      "bn2a_branch1           (BatchNorm)\n",
      "res2b_branch2a         (Conv2D)\n",
      "bn2b_branch2a          (BatchNorm)\n",
      "res2b_branch2b         (Conv2D)\n",
      "bn2b_branch2b          (BatchNorm)\n",
      "res2b_branch2c         (Conv2D)\n",
      "bn2b_branch2c          (BatchNorm)\n",
      "res2c_branch2a         (Conv2D)\n",
      "bn2c_branch2a          (BatchNorm)\n",
      "res2c_branch2b         (Conv2D)\n",
      "bn2c_branch2b          (BatchNorm)\n",
      "res2c_branch2c         (Conv2D)\n",
      "bn2c_branch2c          (BatchNorm)\n",
      "res3a_branch2a         (Conv2D)\n",
      "bn3a_branch2a          (BatchNorm)\n",
      "res3a_branch2b         (Conv2D)\n",
      "bn3a_branch2b          (BatchNorm)\n",
      "res3a_branch2c         (Conv2D)\n",
      "res3a_branch1          (Conv2D)\n",
      "bn3a_branch2c          (BatchNorm)\n",
      "bn3a_branch1           (BatchNorm)\n",
      "res3b_branch2a         (Conv2D)\n",
      "bn3b_branch2a          (BatchNorm)\n",
      "res3b_branch2b         (Conv2D)\n",
      "bn3b_branch2b          (BatchNorm)\n",
      "res3b_branch2c         (Conv2D)\n",
      "bn3b_branch2c          (BatchNorm)\n",
      "res3c_branch2a         (Conv2D)\n",
      "bn3c_branch2a          (BatchNorm)\n",
      "res3c_branch2b         (Conv2D)\n",
      "bn3c_branch2b          (BatchNorm)\n",
      "res3c_branch2c         (Conv2D)\n",
      "bn3c_branch2c          (BatchNorm)\n",
      "res3d_branch2a         (Conv2D)\n",
      "bn3d_branch2a          (BatchNorm)\n",
      "res3d_branch2b         (Conv2D)\n",
      "bn3d_branch2b          (BatchNorm)\n",
      "res3d_branch2c         (Conv2D)\n",
      "bn3d_branch2c          (BatchNorm)\n",
      "res4a_branch2a         (Conv2D)\n",
      "bn4a_branch2a          (BatchNorm)\n",
      "res4a_branch2b         (Conv2D)\n",
      "bn4a_branch2b          (BatchNorm)\n",
      "res4a_branch2c         (Conv2D)\n",
      "res4a_branch1          (Conv2D)\n",
      "bn4a_branch2c          (BatchNorm)\n",
      "bn4a_branch1           (BatchNorm)\n",
      "res4b_branch2a         (Conv2D)\n",
      "bn4b_branch2a          (BatchNorm)\n",
      "res4b_branch2b         (Conv2D)\n",
      "bn4b_branch2b          (BatchNorm)\n",
      "res4b_branch2c         (Conv2D)\n",
      "bn4b_branch2c          (BatchNorm)\n",
      "res4c_branch2a         (Conv2D)\n",
      "bn4c_branch2a          (BatchNorm)\n",
      "res4c_branch2b         (Conv2D)\n",
      "bn4c_branch2b          (BatchNorm)\n",
      "res4c_branch2c         (Conv2D)\n",
      "bn4c_branch2c          (BatchNorm)\n",
      "res4d_branch2a         (Conv2D)\n",
      "bn4d_branch2a          (BatchNorm)\n",
      "res4d_branch2b         (Conv2D)\n",
      "bn4d_branch2b          (BatchNorm)\n",
      "res4d_branch2c         (Conv2D)\n",
      "bn4d_branch2c          (BatchNorm)\n",
      "res4e_branch2a         (Conv2D)\n",
      "bn4e_branch2a          (BatchNorm)\n",
      "res4e_branch2b         (Conv2D)\n",
      "bn4e_branch2b          (BatchNorm)\n",
      "res4e_branch2c         (Conv2D)\n",
      "bn4e_branch2c          (BatchNorm)\n",
      "res4f_branch2a         (Conv2D)\n",
      "bn4f_branch2a          (BatchNorm)\n",
      "res4f_branch2b         (Conv2D)\n",
      "bn4f_branch2b          (BatchNorm)\n",
      "res4f_branch2c         (Conv2D)\n",
      "bn4f_branch2c          (BatchNorm)\n",
      "res5a_branch2a         (Conv2D)\n",
      "bn5a_branch2a          (BatchNorm)\n",
      "res5a_branch2b         (Conv2D)\n",
      "bn5a_branch2b          (BatchNorm)\n",
      "res5a_branch2c         (Conv2D)\n",
      "res5a_branch1          (Conv2D)\n",
      "bn5a_branch2c          (BatchNorm)\n",
      "bn5a_branch1           (BatchNorm)\n",
      "res5b_branch2a         (Conv2D)\n",
      "bn5b_branch2a          (BatchNorm)\n",
      "res5b_branch2b         (Conv2D)\n",
      "bn5b_branch2b          (BatchNorm)\n",
      "res5b_branch2c         (Conv2D)\n",
      "bn5b_branch2c          (BatchNorm)\n",
      "res5c_branch2a         (Conv2D)\n",
      "bn5c_branch2a          (BatchNorm)\n",
      "res5c_branch2b         (Conv2D)\n",
      "bn5c_branch2b          (BatchNorm)\n",
      "res5c_branch2c         (Conv2D)\n",
      "bn5c_branch2c          (BatchNorm)\n",
      "fpn_c5p5               (Conv2D)\n",
      "fpn_c4p4               (Conv2D)\n",
      "fpn_c3p3               (Conv2D)\n",
      "fpn_c2p2               (Conv2D)\n",
      "fpn_p5                 (Conv2D)\n",
      "fpn_p2                 (Conv2D)\n",
      "fpn_p3                 (Conv2D)\n",
      "fpn_p4                 (Conv2D)\n",
      "rpn_model              (Functional)\n",
      "anchors                (ConstLayer)\n",
      "mrcnn_mask_conv1       (TimeDistributed)\n",
      "mrcnn_mask_bn1         (TimeDistributed)\n",
      "mrcnn_mask_conv2       (TimeDistributed)\n",
      "mrcnn_mask_bn2         (TimeDistributed)\n",
      "mrcnn_class_conv1      (TimeDistributed)\n",
      "mrcnn_class_bn1        (TimeDistributed)\n",
      "mrcnn_mask_conv3       (TimeDistributed)\n",
      "mrcnn_mask_bn3         (TimeDistributed)\n",
      "mrcnn_class_conv2      (TimeDistributed)\n",
      "mrcnn_class_bn2        (TimeDistributed)\n",
      "mrcnn_mask_conv4       (TimeDistributed)\n",
      "mrcnn_mask_bn4         (TimeDistributed)\n",
      "mrcnn_bbox_fc          (TimeDistributed)\n",
      "mrcnn_mask_deconv      (TimeDistributed)\n",
      "mrcnn_class_logits     (TimeDistributed)\n",
      "mrcnn_mask             (TimeDistributed)\n"
     ]
    },
    {
     "name": "stderr",
     "output_type": "stream",
     "text": [
      "2022-12-14 23:58:15.936459: I tensorflow/stream_executor/cuda/cuda_gpu_executor.cc:937] successful NUMA node read from SysFS had negative value (-1), but there must be at least one NUMA node, so returning NUMA node zero\n",
      "2022-12-14 23:58:15.937007: I tensorflow/stream_executor/cuda/cuda_gpu_executor.cc:937] successful NUMA node read from SysFS had negative value (-1), but there must be at least one NUMA node, so returning NUMA node zero\n",
      "2022-12-14 23:58:15.937288: I tensorflow/stream_executor/cuda/cuda_gpu_executor.cc:937] successful NUMA node read from SysFS had negative value (-1), but there must be at least one NUMA node, so returning NUMA node zero\n",
      "2022-12-14 23:58:15.937675: I tensorflow/stream_executor/cuda/cuda_gpu_executor.cc:937] successful NUMA node read from SysFS had negative value (-1), but there must be at least one NUMA node, so returning NUMA node zero\n",
      "2022-12-14 23:58:15.937973: I tensorflow/stream_executor/cuda/cuda_gpu_executor.cc:937] successful NUMA node read from SysFS had negative value (-1), but there must be at least one NUMA node, so returning NUMA node zero\n",
      "2022-12-14 23:58:15.938162: I tensorflow/core/common_runtime/gpu/gpu_device.cc:1510] Created device /job:localhost/replica:0/task:0/device:GPU:0 with 14634 MB memory:  -> device: 0, name: Tesla V100-SXM2-16GB, pci bus id: 0000:00:04.0, compute capability: 7.0\n"
     ]
    },
    {
     "name": "stdout",
     "output_type": "stream",
     "text": [
      "Epoch 3/7\n"
     ]
    },
    {
     "name": "stderr",
     "output_type": "stream",
     "text": [
      "2022-12-15 00:00:45.229469: W tensorflow/core/grappler/costs/op_level_cost_estimator.cc:690] Error in PredictCost() for the op: op: \"CropAndResize\" attr { key: \"T\" value { type: DT_FLOAT } } attr { key: \"extrapolation_value\" value { f: 0 } } attr { key: \"method\" value { s: \"bilinear\" } } inputs { dtype: DT_FLOAT shape { dim { size: -1279 } dim { size: 56 } dim { size: 56 } dim { size: 1 } } } inputs { dtype: DT_FLOAT shape { dim { size: -41 } dim { size: 4 } } } inputs { dtype: DT_INT32 shape { dim { size: -41 } } } inputs { dtype: DT_INT32 shape { dim { size: 2 } } value { dtype: DT_INT32 tensor_shape { dim { size: 2 } } tensor_content: \"\\034\\000\\000\\000\\034\\000\\000\\000\" } } device { type: \"GPU\" vendor: \"NVIDIA\" model: \"Tesla V100-SXM2-16GB\" frequency: 1530 num_cores: 80 environment { key: \"architecture\" value: \"7.0\" } environment { key: \"cuda\" value: \"11000\" } environment { key: \"cudnn\" value: \"8005\" } num_registers: 65536 l1_cache_size: 24576 l2_cache_size: 6291456 shared_memory_size_per_multiprocessor: 98304 memory_size: 15345844224 bandwidth: 898048000 } outputs { dtype: DT_FLOAT shape { dim { size: -41 } dim { size: 28 } dim { size: 28 } dim { size: 1 } } }\n",
      "2022-12-15 00:00:45.230869: W tensorflow/core/grappler/costs/op_level_cost_estimator.cc:690] Error in PredictCost() for the op: op: \"CropAndResize\" attr { key: \"T\" value { type: DT_FLOAT } } attr { key: \"extrapolation_value\" value { f: 0 } } attr { key: \"method\" value { s: \"bilinear\" } } inputs { dtype: DT_FLOAT shape { dim { size: -1285 } dim { size: 56 } dim { size: 56 } dim { size: 1 } } } inputs { dtype: DT_FLOAT shape { dim { size: -53 } dim { size: 4 } } } inputs { dtype: DT_INT32 shape { dim { size: -53 } } } inputs { dtype: DT_INT32 shape { dim { size: 2 } } value { dtype: DT_INT32 tensor_shape { dim { size: 2 } } tensor_content: \"\\034\\000\\000\\000\\034\\000\\000\\000\" } } device { type: \"GPU\" vendor: \"NVIDIA\" model: \"Tesla V100-SXM2-16GB\" frequency: 1530 num_cores: 80 environment { key: \"architecture\" value: \"7.0\" } environment { key: \"cuda\" value: \"11000\" } environment { key: \"cudnn\" value: \"8005\" } num_registers: 65536 l1_cache_size: 24576 l2_cache_size: 6291456 shared_memory_size_per_multiprocessor: 98304 memory_size: 15345844224 bandwidth: 898048000 } outputs { dtype: DT_FLOAT shape { dim { size: -53 } dim { size: 28 } dim { size: 28 } dim { size: 1 } } }\n",
      "2022-12-15 00:00:45.232673: W tensorflow/core/grappler/costs/op_level_cost_estimator.cc:690] Error in PredictCost() for the op: op: \"CropAndResize\" attr { key: \"T\" value { type: DT_FLOAT } } attr { key: \"extrapolation_value\" value { f: 0 } } attr { key: \"method\" value { s: \"bilinear\" } } inputs { dtype: DT_FLOAT shape { dim { size: -1287 } dim { size: 56 } dim { size: 56 } dim { size: 1 } } } inputs { dtype: DT_FLOAT shape { dim { size: -57 } dim { size: 4 } } } inputs { dtype: DT_INT32 shape { dim { size: -57 } } } inputs { dtype: DT_INT32 shape { dim { size: 2 } } value { dtype: DT_INT32 tensor_shape { dim { size: 2 } } tensor_content: \"\\034\\000\\000\\000\\034\\000\\000\\000\" } } device { type: \"GPU\" vendor: \"NVIDIA\" model: \"Tesla V100-SXM2-16GB\" frequency: 1530 num_cores: 80 environment { key: \"architecture\" value: \"7.0\" } environment { key: \"cuda\" value: \"11000\" } environment { key: \"cudnn\" value: \"8005\" } num_registers: 65536 l1_cache_size: 24576 l2_cache_size: 6291456 shared_memory_size_per_multiprocessor: 98304 memory_size: 15345844224 bandwidth: 898048000 } outputs { dtype: DT_FLOAT shape { dim { size: -57 } dim { size: 28 } dim { size: 28 } dim { size: 1 } } }\n",
      "2022-12-15 00:00:45.234427: W tensorflow/core/grappler/costs/op_level_cost_estimator.cc:690] Error in PredictCost() for the op: op: \"CropAndResize\" attr { key: \"T\" value { type: DT_FLOAT } } attr { key: \"extrapolation_value\" value { f: 0 } } attr { key: \"method\" value { s: \"bilinear\" } } inputs { dtype: DT_FLOAT shape { dim { size: -1289 } dim { size: 56 } dim { size: 56 } dim { size: 1 } } } inputs { dtype: DT_FLOAT shape { dim { size: -61 } dim { size: 4 } } } inputs { dtype: DT_INT32 shape { dim { size: -61 } } } inputs { dtype: DT_INT32 shape { dim { size: 2 } } value { dtype: DT_INT32 tensor_shape { dim { size: 2 } } tensor_content: \"\\034\\000\\000\\000\\034\\000\\000\\000\" } } device { type: \"GPU\" vendor: \"NVIDIA\" model: \"Tesla V100-SXM2-16GB\" frequency: 1530 num_cores: 80 environment { key: \"architecture\" value: \"7.0\" } environment { key: \"cuda\" value: \"11000\" } environment { key: \"cudnn\" value: \"8005\" } num_registers: 65536 l1_cache_size: 24576 l2_cache_size: 6291456 shared_memory_size_per_multiprocessor: 98304 memory_size: 15345844224 bandwidth: 898048000 } outputs { dtype: DT_FLOAT shape { dim { size: -61 } dim { size: 28 } dim { size: 28 } dim { size: 1 } } }\n",
      "2022-12-15 00:00:45.235865: W tensorflow/core/grappler/costs/op_level_cost_estimator.cc:690] Error in PredictCost() for the op: op: \"CropAndResize\" attr { key: \"T\" value { type: DT_FLOAT } } attr { key: \"extrapolation_value\" value { f: 0 } } attr { key: \"method\" value { s: \"bilinear\" } } inputs { dtype: DT_FLOAT shape { dim { size: -1291 } dim { size: 56 } dim { size: 56 } dim { size: 1 } } } inputs { dtype: DT_FLOAT shape { dim { size: -65 } dim { size: 4 } } } inputs { dtype: DT_INT32 shape { dim { size: -65 } } } inputs { dtype: DT_INT32 shape { dim { size: 2 } } value { dtype: DT_INT32 tensor_shape { dim { size: 2 } } tensor_content: \"\\034\\000\\000\\000\\034\\000\\000\\000\" } } device { type: \"GPU\" vendor: \"NVIDIA\" model: \"Tesla V100-SXM2-16GB\" frequency: 1530 num_cores: 80 environment { key: \"architecture\" value: \"7.0\" } environment { key: \"cuda\" value: \"11000\" } environment { key: \"cudnn\" value: \"8005\" } num_registers: 65536 l1_cache_size: 24576 l2_cache_size: 6291456 shared_memory_size_per_multiprocessor: 98304 memory_size: 15345844224 bandwidth: 898048000 } outputs { dtype: DT_FLOAT shape { dim { size: -65 } dim { size: 28 } dim { size: 28 } dim { size: 1 } } }\n",
      "2022-12-15 00:00:45.237025: W tensorflow/core/grappler/costs/op_level_cost_estimator.cc:690] Error in PredictCost() for the op: op: \"CropAndResize\" attr { key: \"T\" value { type: DT_FLOAT } } attr { key: \"extrapolation_value\" value { f: 0 } } attr { key: \"method\" value { s: \"bilinear\" } } inputs { dtype: DT_FLOAT shape { dim { size: -1293 } dim { size: 56 } dim { size: 56 } dim { size: 1 } } } inputs { dtype: DT_FLOAT shape { dim { size: -69 } dim { size: 4 } } } inputs { dtype: DT_INT32 shape { dim { size: -69 } } } inputs { dtype: DT_INT32 shape { dim { size: 2 } } value { dtype: DT_INT32 tensor_shape { dim { size: 2 } } tensor_content: \"\\034\\000\\000\\000\\034\\000\\000\\000\" } } device { type: \"GPU\" vendor: \"NVIDIA\" model: \"Tesla V100-SXM2-16GB\" frequency: 1530 num_cores: 80 environment { key: \"architecture\" value: \"7.0\" } environment { key: \"cuda\" value: \"11000\" } environment { key: \"cudnn\" value: \"8005\" } num_registers: 65536 l1_cache_size: 24576 l2_cache_size: 6291456 shared_memory_size_per_multiprocessor: 98304 memory_size: 15345844224 bandwidth: 898048000 } outputs { dtype: DT_FLOAT shape { dim { size: -69 } dim { size: 28 } dim { size: 28 } dim { size: 1 } } }\n",
      "2022-12-15 00:00:45.237997: W tensorflow/core/grappler/costs/op_level_cost_estimator.cc:690] Error in PredictCost() for the op: op: \"CropAndResize\" attr { key: \"T\" value { type: DT_FLOAT } } attr { key: \"extrapolation_value\" value { f: 0 } } attr { key: \"method\" value { s: \"bilinear\" } } inputs { dtype: DT_FLOAT shape { dim { size: -1281 } dim { size: 56 } dim { size: 56 } dim { size: 1 } } } inputs { dtype: DT_FLOAT shape { dim { size: -45 } dim { size: 4 } } } inputs { dtype: DT_INT32 shape { dim { size: -45 } } } inputs { dtype: DT_INT32 shape { dim { size: 2 } } value { dtype: DT_INT32 tensor_shape { dim { size: 2 } } tensor_content: \"\\034\\000\\000\\000\\034\\000\\000\\000\" } } device { type: \"GPU\" vendor: \"NVIDIA\" model: \"Tesla V100-SXM2-16GB\" frequency: 1530 num_cores: 80 environment { key: \"architecture\" value: \"7.0\" } environment { key: \"cuda\" value: \"11000\" } environment { key: \"cudnn\" value: \"8005\" } num_registers: 65536 l1_cache_size: 24576 l2_cache_size: 6291456 shared_memory_size_per_multiprocessor: 98304 memory_size: 15345844224 bandwidth: 898048000 } outputs { dtype: DT_FLOAT shape { dim { size: -45 } dim { size: 28 } dim { size: 28 } dim { size: 1 } } }\n",
      "2022-12-15 00:00:45.239023: W tensorflow/core/grappler/costs/op_level_cost_estimator.cc:690] Error in PredictCost() for the op: op: \"CropAndResize\" attr { key: \"T\" value { type: DT_FLOAT } } attr { key: \"extrapolation_value\" value { f: 0 } } attr { key: \"method\" value { s: \"bilinear\" } } inputs { dtype: DT_FLOAT shape { dim { size: -1283 } dim { size: 56 } dim { size: 56 } dim { size: 1 } } } inputs { dtype: DT_FLOAT shape { dim { size: -49 } dim { size: 4 } } } inputs { dtype: DT_INT32 shape { dim { size: -49 } } } inputs { dtype: DT_INT32 shape { dim { size: 2 } } value { dtype: DT_INT32 tensor_shape { dim { size: 2 } } tensor_content: \"\\034\\000\\000\\000\\034\\000\\000\\000\" } } device { type: \"GPU\" vendor: \"NVIDIA\" model: \"Tesla V100-SXM2-16GB\" frequency: 1530 num_cores: 80 environment { key: \"architecture\" value: \"7.0\" } environment { key: \"cuda\" value: \"11000\" } environment { key: \"cudnn\" value: \"8005\" } num_registers: 65536 l1_cache_size: 24576 l2_cache_size: 6291456 shared_memory_size_per_multiprocessor: 98304 memory_size: 15345844224 bandwidth: 898048000 } outputs { dtype: DT_FLOAT shape { dim { size: -49 } dim { size: 28 } dim { size: 28 } dim { size: 1 } } }\n",
      "2022-12-15 00:00:45.258517: W tensorflow/core/grappler/costs/op_level_cost_estimator.cc:690] Error in PredictCost() for the op: op: \"CropAndResize\" attr { key: \"T\" value { type: DT_FLOAT } } attr { key: \"extrapolation_value\" value { f: 0 } } attr { key: \"method\" value { s: \"bilinear\" } } inputs { dtype: DT_FLOAT shape { dim { size: -14 } dim { size: -344 } dim { size: -345 } dim { size: 256 } } } inputs { dtype: DT_FLOAT shape { dim { size: -192 } dim { size: 4 } } } inputs { dtype: DT_INT32 shape { dim { size: -192 } } } inputs { dtype: DT_INT32 shape { dim { size: 2 } } value { dtype: DT_INT32 tensor_shape { dim { size: 2 } } tensor_content: \"\\007\\000\\000\\000\\007\\000\\000\\000\" } } device { type: \"GPU\" vendor: \"NVIDIA\" model: \"Tesla V100-SXM2-16GB\" frequency: 1530 num_cores: 80 environment { key: \"architecture\" value: \"7.0\" } environment { key: \"cuda\" value: \"11000\" } environment { key: \"cudnn\" value: \"8005\" } num_registers: 65536 l1_cache_size: 24576 l2_cache_size: 6291456 shared_memory_size_per_multiprocessor: 98304 memory_size: 15345844224 bandwidth: 898048000 } outputs { dtype: DT_FLOAT shape { dim { size: -192 } dim { size: 7 } dim { size: 7 } dim { size: 256 } } }\n",
      "2022-12-15 00:00:45.259727: W tensorflow/core/grappler/costs/op_level_cost_estimator.cc:690] Error in PredictCost() for the op: op: \"CropAndResize\" attr { key: \"T\" value { type: DT_FLOAT } } attr { key: \"extrapolation_value\" value { f: 0 } } attr { key: \"method\" value { s: \"bilinear\" } } inputs { dtype: DT_FLOAT shape { dim { size: -14 } dim { size: -344 } dim { size: -345 } dim { size: 256 } } } inputs { dtype: DT_FLOAT shape { dim { size: -192 } dim { size: 4 } } } inputs { dtype: DT_INT32 shape { dim { size: -192 } } } inputs { dtype: DT_INT32 shape { dim { size: 2 } } value { dtype: DT_INT32 tensor_shape { dim { size: 2 } } tensor_content: \"\\016\\000\\000\\000\\016\\000\\000\\000\" } } device { type: \"GPU\" vendor: \"NVIDIA\" model: \"Tesla V100-SXM2-16GB\" frequency: 1530 num_cores: 80 environment { key: \"architecture\" value: \"7.0\" } environment { key: \"cuda\" value: \"11000\" } environment { key: \"cudnn\" value: \"8005\" } num_registers: 65536 l1_cache_size: 24576 l2_cache_size: 6291456 shared_memory_size_per_multiprocessor: 98304 memory_size: 15345844224 bandwidth: 898048000 } outputs { dtype: DT_FLOAT shape { dim { size: -192 } dim { size: 14 } dim { size: 14 } dim { size: 256 } } }\n",
      "2022-12-15 00:00:45.260775: W tensorflow/core/grappler/costs/op_level_cost_estimator.cc:690] Error in PredictCost() for the op: op: \"CropAndResize\" attr { key: \"T\" value { type: DT_FLOAT } } attr { key: \"extrapolation_value\" value { f: 0 } } attr { key: \"method\" value { s: \"bilinear\" } } inputs { dtype: DT_FLOAT shape { dim { size: -14 } dim { size: -336 } dim { size: -337 } dim { size: 256 } } } inputs { dtype: DT_FLOAT shape { dim { size: -186 } dim { size: 4 } } } inputs { dtype: DT_INT32 shape { dim { size: -186 } } } inputs { dtype: DT_INT32 shape { dim { size: 2 } } value { dtype: DT_INT32 tensor_shape { dim { size: 2 } } tensor_content: \"\\007\\000\\000\\000\\007\\000\\000\\000\" } } device { type: \"GPU\" vendor: \"NVIDIA\" model: \"Tesla V100-SXM2-16GB\" frequency: 1530 num_cores: 80 environment { key: \"architecture\" value: \"7.0\" } environment { key: \"cuda\" value: \"11000\" } environment { key: \"cudnn\" value: \"8005\" } num_registers: 65536 l1_cache_size: 24576 l2_cache_size: 6291456 shared_memory_size_per_multiprocessor: 98304 memory_size: 15345844224 bandwidth: 898048000 } outputs { dtype: DT_FLOAT shape { dim { size: -186 } dim { size: 7 } dim { size: 7 } dim { size: 256 } } }\n",
      "2022-12-15 00:00:45.261750: W tensorflow/core/grappler/costs/op_level_cost_estimator.cc:690] Error in PredictCost() for the op: op: \"CropAndResize\" attr { key: \"T\" value { type: DT_FLOAT } } attr { key: \"extrapolation_value\" value { f: 0 } } attr { key: \"method\" value { s: \"bilinear\" } } inputs { dtype: DT_FLOAT shape { dim { size: -14 } dim { size: -336 } dim { size: -337 } dim { size: 256 } } } inputs { dtype: DT_FLOAT shape { dim { size: -186 } dim { size: 4 } } } inputs { dtype: DT_INT32 shape { dim { size: -186 } } } inputs { dtype: DT_INT32 shape { dim { size: 2 } } value { dtype: DT_INT32 tensor_shape { dim { size: 2 } } tensor_content: \"\\016\\000\\000\\000\\016\\000\\000\\000\" } } device { type: \"GPU\" vendor: \"NVIDIA\" model: \"Tesla V100-SXM2-16GB\" frequency: 1530 num_cores: 80 environment { key: \"architecture\" value: \"7.0\" } environment { key: \"cuda\" value: \"11000\" } environment { key: \"cudnn\" value: \"8005\" } num_registers: 65536 l1_cache_size: 24576 l2_cache_size: 6291456 shared_memory_size_per_multiprocessor: 98304 memory_size: 15345844224 bandwidth: 898048000 } outputs { dtype: DT_FLOAT shape { dim { size: -186 } dim { size: 14 } dim { size: 14 } dim { size: 256 } } }\n",
      "2022-12-15 00:00:45.262660: W tensorflow/core/grappler/costs/op_level_cost_estimator.cc:690] Error in PredictCost() for the op: op: \"CropAndResize\" attr { key: \"T\" value { type: DT_FLOAT } } attr { key: \"extrapolation_value\" value { f: 0 } } attr { key: \"method\" value { s: \"bilinear\" } } inputs { dtype: DT_FLOAT shape { dim { size: -14 } dim { size: -328 } dim { size: -329 } dim { size: 256 } } } inputs { dtype: DT_FLOAT shape { dim { size: -188 } dim { size: 4 } } } inputs { dtype: DT_INT32 shape { dim { size: -188 } } } inputs { dtype: DT_INT32 shape { dim { size: 2 } } value { dtype: DT_INT32 tensor_shape { dim { size: 2 } } tensor_content: \"\\007\\000\\000\\000\\007\\000\\000\\000\" } } device { type: \"GPU\" vendor: \"NVIDIA\" model: \"Tesla V100-SXM2-16GB\" frequency: 1530 num_cores: 80 environment { key: \"architecture\" value: \"7.0\" } environment { key: \"cuda\" value: \"11000\" } environment { key: \"cudnn\" value: \"8005\" } num_registers: 65536 l1_cache_size: 24576 l2_cache_size: 6291456 shared_memory_size_per_multiprocessor: 98304 memory_size: 15345844224 bandwidth: 898048000 } outputs { dtype: DT_FLOAT shape { dim { size: -188 } dim { size: 7 } dim { size: 7 } dim { size: 256 } } }\n",
      "2022-12-15 00:00:45.263580: W tensorflow/core/grappler/costs/op_level_cost_estimator.cc:690] Error in PredictCost() for the op: op: \"CropAndResize\" attr { key: \"T\" value { type: DT_FLOAT } } attr { key: \"extrapolation_value\" value { f: 0 } } attr { key: \"method\" value { s: \"bilinear\" } } inputs { dtype: DT_FLOAT shape { dim { size: -14 } dim { size: -328 } dim { size: -329 } dim { size: 256 } } } inputs { dtype: DT_FLOAT shape { dim { size: -188 } dim { size: 4 } } } inputs { dtype: DT_INT32 shape { dim { size: -188 } } } inputs { dtype: DT_INT32 shape { dim { size: 2 } } value { dtype: DT_INT32 tensor_shape { dim { size: 2 } } tensor_content: \"\\016\\000\\000\\000\\016\\000\\000\\000\" } } device { type: \"GPU\" vendor: \"NVIDIA\" model: \"Tesla V100-SXM2-16GB\" frequency: 1530 num_cores: 80 environment { key: \"architecture\" value: \"7.0\" } environment { key: \"cuda\" value: \"11000\" } environment { key: \"cudnn\" value: \"8005\" } num_registers: 65536 l1_cache_size: 24576 l2_cache_size: 6291456 shared_memory_size_per_multiprocessor: 98304 memory_size: 15345844224 bandwidth: 898048000 } outputs { dtype: DT_FLOAT shape { dim { size: -188 } dim { size: 14 } dim { size: 14 } dim { size: 256 } } }\n",
      "2022-12-15 00:00:45.264459: W tensorflow/core/grappler/costs/op_level_cost_estimator.cc:690] Error in PredictCost() for the op: op: \"CropAndResize\" attr { key: \"T\" value { type: DT_FLOAT } } attr { key: \"extrapolation_value\" value { f: 0 } } attr { key: \"method\" value { s: \"bilinear\" } } inputs { dtype: DT_FLOAT shape { dim { size: -14 } dim { size: -320 } dim { size: -321 } dim { size: 256 } } } inputs { dtype: DT_FLOAT shape { dim { size: -190 } dim { size: 4 } } } inputs { dtype: DT_INT32 shape { dim { size: -190 } } } inputs { dtype: DT_INT32 shape { dim { size: 2 } } value { dtype: DT_INT32 tensor_shape { dim { size: 2 } } tensor_content: \"\\007\\000\\000\\000\\007\\000\\000\\000\" } } device { type: \"GPU\" vendor: \"NVIDIA\" model: \"Tesla V100-SXM2-16GB\" frequency: 1530 num_cores: 80 environment { key: \"architecture\" value: \"7.0\" } environment { key: \"cuda\" value: \"11000\" } environment { key: \"cudnn\" value: \"8005\" } num_registers: 65536 l1_cache_size: 24576 l2_cache_size: 6291456 shared_memory_size_per_multiprocessor: 98304 memory_size: 15345844224 bandwidth: 898048000 } outputs { dtype: DT_FLOAT shape { dim { size: -190 } dim { size: 7 } dim { size: 7 } dim { size: 256 } } }\n",
      "2022-12-15 00:00:45.265278: W tensorflow/core/grappler/costs/op_level_cost_estimator.cc:690] Error in PredictCost() for the op: op: \"CropAndResize\" attr { key: \"T\" value { type: DT_FLOAT } } attr { key: \"extrapolation_value\" value { f: 0 } } attr { key: \"method\" value { s: \"bilinear\" } } inputs { dtype: DT_FLOAT shape { dim { size: -14 } dim { size: -320 } dim { size: -321 } dim { size: 256 } } } inputs { dtype: DT_FLOAT shape { dim { size: -190 } dim { size: 4 } } } inputs { dtype: DT_INT32 shape { dim { size: -190 } } } inputs { dtype: DT_INT32 shape { dim { size: 2 } } value { dtype: DT_INT32 tensor_shape { dim { size: 2 } } tensor_content: \"\\016\\000\\000\\000\\016\\000\\000\\000\" } } device { type: \"GPU\" vendor: \"NVIDIA\" model: \"Tesla V100-SXM2-16GB\" frequency: 1530 num_cores: 80 environment { key: \"architecture\" value: \"7.0\" } environment { key: \"cuda\" value: \"11000\" } environment { key: \"cudnn\" value: \"8005\" } num_registers: 65536 l1_cache_size: 24576 l2_cache_size: 6291456 shared_memory_size_per_multiprocessor: 98304 memory_size: 15345844224 bandwidth: 898048000 } outputs { dtype: DT_FLOAT shape { dim { size: -190 } dim { size: 14 } dim { size: 14 } dim { size: 256 } } }\n",
      "2022-12-15 00:01:08.438182: I tensorflow/stream_executor/cuda/cuda_dnn.cc:369] Loaded cuDNN version 8005\n"
     ]
    },
    {
     "name": "stdout",
     "output_type": "stream",
     "text": [
      "  1/200 [..............................] - ETA: 6:26:11 - batch: 0.0000e+00 - size: 8.0000 - loss: 34.9966 - rpn_class_loss: 15.0859 - rpn_bbox_loss: 18.2542 - mrcnn_class_loss: 1.6566 - mrcnn_bbox_loss: 0.0000e+00 - mrcnn_mask_loss: 0.0000e+00"
     ]
    },
    {
     "name": "stderr",
     "output_type": "stream",
     "text": [
      "2022-12-15 00:01:40.317902: I tensorflow/core/profiler/lib/profiler_session.cc:131] Profiler session initializing.\n",
      "2022-12-15 00:01:40.317980: I tensorflow/core/profiler/lib/profiler_session.cc:146] Profiler session started.\n",
      "2022-12-15 00:01:40.318033: I tensorflow/core/profiler/internal/gpu/cupti_tracer.cc:1614] Profiler found 1 GPUs\n",
      "2022-12-15 00:01:42.252201: I tensorflow/core/profiler/lib/profiler_session.cc:66] Profiler session collecting data.\n",
      "2022-12-15 00:01:42.265555: I tensorflow/core/profiler/internal/gpu/cupti_tracer.cc:1748] CUPTI activity buffer flushed\n",
      "2022-12-15 00:01:42.701408: I tensorflow/core/profiler/internal/gpu/cupti_collector.cc:673]  GpuTracer has collected 8347 callback api events and 8346 activity events. \n",
      "2022-12-15 00:01:43.808494: I tensorflow/core/profiler/lib/profiler_session.cc:164] Profiler session tear down.\n",
      "2022-12-15 00:01:45.843424: I tensorflow/core/profiler/rpc/client/save_profile.cc:136] Creating directory: /home/jupyter/pneumonia20221214T2308/plugins/profile/2022_12_15_00_01_43\n",
      "\n",
      "2022-12-15 00:01:46.520169: I tensorflow/core/profiler/rpc/client/save_profile.cc:142] Dumped gzipped tool data for trace.json.gz to /home/jupyter/pneumonia20221214T2308/plugins/profile/2022_12_15_00_01_43/04c6558322e4.trace.json.gz\n",
      "2022-12-15 00:01:48.270523: I tensorflow/core/profiler/rpc/client/save_profile.cc:136] Creating directory: /home/jupyter/pneumonia20221214T2308/plugins/profile/2022_12_15_00_01_43\n",
      "\n",
      "2022-12-15 00:01:48.300967: I tensorflow/core/profiler/rpc/client/save_profile.cc:142] Dumped gzipped tool data for memory_profile.json.gz to /home/jupyter/pneumonia20221214T2308/plugins/profile/2022_12_15_00_01_43/04c6558322e4.memory_profile.json.gz\n",
      "2022-12-15 00:01:48.357935: I tensorflow/core/profiler/rpc/client/capture_profile.cc:251] Creating directory: /home/jupyter/pneumonia20221214T2308/plugins/profile/2022_12_15_00_01_43\n",
      "Dumped tool data for xplane.pb to /home/jupyter/pneumonia20221214T2308/plugins/profile/2022_12_15_00_01_43/04c6558322e4.xplane.pb\n",
      "Dumped tool data for overview_page.pb to /home/jupyter/pneumonia20221214T2308/plugins/profile/2022_12_15_00_01_43/04c6558322e4.overview_page.pb\n",
      "Dumped tool data for input_pipeline.pb to /home/jupyter/pneumonia20221214T2308/plugins/profile/2022_12_15_00_01_43/04c6558322e4.input_pipeline.pb\n",
      "Dumped tool data for tensorflow_stats.pb to /home/jupyter/pneumonia20221214T2308/plugins/profile/2022_12_15_00_01_43/04c6558322e4.tensorflow_stats.pb\n",
      "Dumped tool data for kernel_stats.pb to /home/jupyter/pneumonia20221214T2308/plugins/profile/2022_12_15_00_01_43/04c6558322e4.kernel_stats.pb\n",
      "\n"
     ]
    },
    {
     "name": "stdout",
     "output_type": "stream",
     "text": [
      "200/200 [==============================] - ETA: 0s - batch: 99.5000 - size: 8.0000 - loss: 2.2019 - rpn_class_loss: 0.2017 - rpn_bbox_loss: 0.7649 - mrcnn_class_loss: 0.4836 - mrcnn_bbox_loss: 0.7355 - mrcnn_mask_loss: 0.0161"
     ]
    },
    {
     "name": "stderr",
     "output_type": "stream",
     "text": [
      "2022-12-15 00:06:07.654937: W tensorflow/core/grappler/costs/op_level_cost_estimator.cc:690] Error in PredictCost() for the op: op: \"CropAndResize\" attr { key: \"T\" value { type: DT_FLOAT } } attr { key: \"extrapolation_value\" value { f: 0 } } attr { key: \"method\" value { s: \"bilinear\" } } inputs { dtype: DT_FLOAT shape { dim { size: -896 } dim { size: 56 } dim { size: 56 } dim { size: 1 } } } inputs { dtype: DT_FLOAT shape { dim { size: -28 } dim { size: 4 } } } inputs { dtype: DT_INT32 shape { dim { size: -28 } } } inputs { dtype: DT_INT32 shape { dim { size: 2 } } value { dtype: DT_INT32 tensor_shape { dim { size: 2 } } tensor_content: \"\\034\\000\\000\\000\\034\\000\\000\\000\" } } device { type: \"GPU\" vendor: \"NVIDIA\" model: \"Tesla V100-SXM2-16GB\" frequency: 1530 num_cores: 80 environment { key: \"architecture\" value: \"7.0\" } environment { key: \"cuda\" value: \"11000\" } environment { key: \"cudnn\" value: \"8005\" } num_registers: 65536 l1_cache_size: 24576 l2_cache_size: 6291456 shared_memory_size_per_multiprocessor: 98304 memory_size: 15345844224 bandwidth: 898048000 } outputs { dtype: DT_FLOAT shape { dim { size: -28 } dim { size: 28 } dim { size: 28 } dim { size: 1 } } }\n",
      "2022-12-15 00:06:07.676778: W tensorflow/core/grappler/costs/op_level_cost_estimator.cc:690] Error in PredictCost() for the op: op: \"CropAndResize\" attr { key: \"T\" value { type: DT_FLOAT } } attr { key: \"extrapolation_value\" value { f: 0 } } attr { key: \"method\" value { s: \"bilinear\" } } inputs { dtype: DT_FLOAT shape { dim { size: -902 } dim { size: 56 } dim { size: 56 } dim { size: 1 } } } inputs { dtype: DT_FLOAT shape { dim { size: -40 } dim { size: 4 } } } inputs { dtype: DT_INT32 shape { dim { size: -40 } } } inputs { dtype: DT_INT32 shape { dim { size: 2 } } value { dtype: DT_INT32 tensor_shape { dim { size: 2 } } tensor_content: \"\\034\\000\\000\\000\\034\\000\\000\\000\" } } device { type: \"GPU\" vendor: \"NVIDIA\" model: \"Tesla V100-SXM2-16GB\" frequency: 1530 num_cores: 80 environment { key: \"architecture\" value: \"7.0\" } environment { key: \"cuda\" value: \"11000\" } environment { key: \"cudnn\" value: \"8005\" } num_registers: 65536 l1_cache_size: 24576 l2_cache_size: 6291456 shared_memory_size_per_multiprocessor: 98304 memory_size: 15345844224 bandwidth: 898048000 } outputs { dtype: DT_FLOAT shape { dim { size: -40 } dim { size: 28 } dim { size: 28 } dim { size: 1 } } }\n",
      "2022-12-15 00:06:07.677422: W tensorflow/core/grappler/costs/op_level_cost_estimator.cc:690] Error in PredictCost() for the op: op: \"CropAndResize\" attr { key: \"T\" value { type: DT_FLOAT } } attr { key: \"extrapolation_value\" value { f: 0 } } attr { key: \"method\" value { s: \"bilinear\" } } inputs { dtype: DT_FLOAT shape { dim { size: -904 } dim { size: 56 } dim { size: 56 } dim { size: 1 } } } inputs { dtype: DT_FLOAT shape { dim { size: -44 } dim { size: 4 } } } inputs { dtype: DT_INT32 shape { dim { size: -44 } } } inputs { dtype: DT_INT32 shape { dim { size: 2 } } value { dtype: DT_INT32 tensor_shape { dim { size: 2 } } tensor_content: \"\\034\\000\\000\\000\\034\\000\\000\\000\" } } device { type: \"GPU\" vendor: \"NVIDIA\" model: \"Tesla V100-SXM2-16GB\" frequency: 1530 num_cores: 80 environment { key: \"architecture\" value: \"7.0\" } environment { key: \"cuda\" value: \"11000\" } environment { key: \"cudnn\" value: \"8005\" } num_registers: 65536 l1_cache_size: 24576 l2_cache_size: 6291456 shared_memory_size_per_multiprocessor: 98304 memory_size: 15345844224 bandwidth: 898048000 } outputs { dtype: DT_FLOAT shape { dim { size: -44 } dim { size: 28 } dim { size: 28 } dim { size: 1 } } }\n",
      "2022-12-15 00:06:07.677970: W tensorflow/core/grappler/costs/op_level_cost_estimator.cc:690] Error in PredictCost() for the op: op: \"CropAndResize\" attr { key: \"T\" value { type: DT_FLOAT } } attr { key: \"extrapolation_value\" value { f: 0 } } attr { key: \"method\" value { s: \"bilinear\" } } inputs { dtype: DT_FLOAT shape { dim { size: -906 } dim { size: 56 } dim { size: 56 } dim { size: 1 } } } inputs { dtype: DT_FLOAT shape { dim { size: -48 } dim { size: 4 } } } inputs { dtype: DT_INT32 shape { dim { size: -48 } } } inputs { dtype: DT_INT32 shape { dim { size: 2 } } value { dtype: DT_INT32 tensor_shape { dim { size: 2 } } tensor_content: \"\\034\\000\\000\\000\\034\\000\\000\\000\" } } device { type: \"GPU\" vendor: \"NVIDIA\" model: \"Tesla V100-SXM2-16GB\" frequency: 1530 num_cores: 80 environment { key: \"architecture\" value: \"7.0\" } environment { key: \"cuda\" value: \"11000\" } environment { key: \"cudnn\" value: \"8005\" } num_registers: 65536 l1_cache_size: 24576 l2_cache_size: 6291456 shared_memory_size_per_multiprocessor: 98304 memory_size: 15345844224 bandwidth: 898048000 } outputs { dtype: DT_FLOAT shape { dim { size: -48 } dim { size: 28 } dim { size: 28 } dim { size: 1 } } }\n",
      "2022-12-15 00:06:07.678503: W tensorflow/core/grappler/costs/op_level_cost_estimator.cc:690] Error in PredictCost() for the op: op: \"CropAndResize\" attr { key: \"T\" value { type: DT_FLOAT } } attr { key: \"extrapolation_value\" value { f: 0 } } attr { key: \"method\" value { s: \"bilinear\" } } inputs { dtype: DT_FLOAT shape { dim { size: -908 } dim { size: 56 } dim { size: 56 } dim { size: 1 } } } inputs { dtype: DT_FLOAT shape { dim { size: -52 } dim { size: 4 } } } inputs { dtype: DT_INT32 shape { dim { size: -52 } } } inputs { dtype: DT_INT32 shape { dim { size: 2 } } value { dtype: DT_INT32 tensor_shape { dim { size: 2 } } tensor_content: \"\\034\\000\\000\\000\\034\\000\\000\\000\" } } device { type: \"GPU\" vendor: \"NVIDIA\" model: \"Tesla V100-SXM2-16GB\" frequency: 1530 num_cores: 80 environment { key: \"architecture\" value: \"7.0\" } environment { key: \"cuda\" value: \"11000\" } environment { key: \"cudnn\" value: \"8005\" } num_registers: 65536 l1_cache_size: 24576 l2_cache_size: 6291456 shared_memory_size_per_multiprocessor: 98304 memory_size: 15345844224 bandwidth: 898048000 } outputs { dtype: DT_FLOAT shape { dim { size: -52 } dim { size: 28 } dim { size: 28 } dim { size: 1 } } }\n",
      "2022-12-15 00:06:07.679052: W tensorflow/core/grappler/costs/op_level_cost_estimator.cc:690] Error in PredictCost() for the op: op: \"CropAndResize\" attr { key: \"T\" value { type: DT_FLOAT } } attr { key: \"extrapolation_value\" value { f: 0 } } attr { key: \"method\" value { s: \"bilinear\" } } inputs { dtype: DT_FLOAT shape { dim { size: -910 } dim { size: 56 } dim { size: 56 } dim { size: 1 } } } inputs { dtype: DT_FLOAT shape { dim { size: -56 } dim { size: 4 } } } inputs { dtype: DT_INT32 shape { dim { size: -56 } } } inputs { dtype: DT_INT32 shape { dim { size: 2 } } value { dtype: DT_INT32 tensor_shape { dim { size: 2 } } tensor_content: \"\\034\\000\\000\\000\\034\\000\\000\\000\" } } device { type: \"GPU\" vendor: \"NVIDIA\" model: \"Tesla V100-SXM2-16GB\" frequency: 1530 num_cores: 80 environment { key: \"architecture\" value: \"7.0\" } environment { key: \"cuda\" value: \"11000\" } environment { key: \"cudnn\" value: \"8005\" } num_registers: 65536 l1_cache_size: 24576 l2_cache_size: 6291456 shared_memory_size_per_multiprocessor: 98304 memory_size: 15345844224 bandwidth: 898048000 } outputs { dtype: DT_FLOAT shape { dim { size: -56 } dim { size: 28 } dim { size: 28 } dim { size: 1 } } }\n",
      "2022-12-15 00:06:07.688571: W tensorflow/core/grappler/costs/op_level_cost_estimator.cc:690] Error in PredictCost() for the op: op: \"CropAndResize\" attr { key: \"T\" value { type: DT_FLOAT } } attr { key: \"extrapolation_value\" value { f: 0 } } attr { key: \"method\" value { s: \"bilinear\" } } inputs { dtype: DT_FLOAT shape { dim { size: -898 } dim { size: 56 } dim { size: 56 } dim { size: 1 } } } inputs { dtype: DT_FLOAT shape { dim { size: -32 } dim { size: 4 } } } inputs { dtype: DT_INT32 shape { dim { size: -32 } } } inputs { dtype: DT_INT32 shape { dim { size: 2 } } value { dtype: DT_INT32 tensor_shape { dim { size: 2 } } tensor_content: \"\\034\\000\\000\\000\\034\\000\\000\\000\" } } device { type: \"GPU\" vendor: \"NVIDIA\" model: \"Tesla V100-SXM2-16GB\" frequency: 1530 num_cores: 80 environment { key: \"architecture\" value: \"7.0\" } environment { key: \"cuda\" value: \"11000\" } environment { key: \"cudnn\" value: \"8005\" } num_registers: 65536 l1_cache_size: 24576 l2_cache_size: 6291456 shared_memory_size_per_multiprocessor: 98304 memory_size: 15345844224 bandwidth: 898048000 } outputs { dtype: DT_FLOAT shape { dim { size: -32 } dim { size: 28 } dim { size: 28 } dim { size: 1 } } }\n",
      "2022-12-15 00:06:07.689383: W tensorflow/core/grappler/costs/op_level_cost_estimator.cc:690] Error in PredictCost() for the op: op: \"CropAndResize\" attr { key: \"T\" value { type: DT_FLOAT } } attr { key: \"extrapolation_value\" value { f: 0 } } attr { key: \"method\" value { s: \"bilinear\" } } inputs { dtype: DT_FLOAT shape { dim { size: -900 } dim { size: 56 } dim { size: 56 } dim { size: 1 } } } inputs { dtype: DT_FLOAT shape { dim { size: -36 } dim { size: 4 } } } inputs { dtype: DT_INT32 shape { dim { size: -36 } } } inputs { dtype: DT_INT32 shape { dim { size: 2 } } value { dtype: DT_INT32 tensor_shape { dim { size: 2 } } tensor_content: \"\\034\\000\\000\\000\\034\\000\\000\\000\" } } device { type: \"GPU\" vendor: \"NVIDIA\" model: \"Tesla V100-SXM2-16GB\" frequency: 1530 num_cores: 80 environment { key: \"architecture\" value: \"7.0\" } environment { key: \"cuda\" value: \"11000\" } environment { key: \"cudnn\" value: \"8005\" } num_registers: 65536 l1_cache_size: 24576 l2_cache_size: 6291456 shared_memory_size_per_multiprocessor: 98304 memory_size: 15345844224 bandwidth: 898048000 } outputs { dtype: DT_FLOAT shape { dim { size: -36 } dim { size: 28 } dim { size: 28 } dim { size: 1 } } }\n",
      "2022-12-15 00:06:07.698587: W tensorflow/core/grappler/costs/op_level_cost_estimator.cc:690] Error in PredictCost() for the op: op: \"CropAndResize\" attr { key: \"T\" value { type: DT_FLOAT } } attr { key: \"extrapolation_value\" value { f: 0 } } attr { key: \"method\" value { s: \"bilinear\" } } inputs { dtype: DT_FLOAT shape { dim { size: -199 } dim { size: -463 } dim { size: -464 } dim { size: 256 } } } inputs { dtype: DT_FLOAT shape { dim { size: -173 } dim { size: 4 } } } inputs { dtype: DT_INT32 shape { dim { size: -173 } } } inputs { dtype: DT_INT32 shape { dim { size: 2 } } value { dtype: DT_INT32 tensor_shape { dim { size: 2 } } tensor_content: \"\\007\\000\\000\\000\\007\\000\\000\\000\" } } device { type: \"GPU\" vendor: \"NVIDIA\" model: \"Tesla V100-SXM2-16GB\" frequency: 1530 num_cores: 80 environment { key: \"architecture\" value: \"7.0\" } environment { key: \"cuda\" value: \"11000\" } environment { key: \"cudnn\" value: \"8005\" } num_registers: 65536 l1_cache_size: 24576 l2_cache_size: 6291456 shared_memory_size_per_multiprocessor: 98304 memory_size: 15345844224 bandwidth: 898048000 } outputs { dtype: DT_FLOAT shape { dim { size: -173 } dim { size: 7 } dim { size: 7 } dim { size: 256 } } }\n",
      "2022-12-15 00:06:07.741593: W tensorflow/core/grappler/costs/op_level_cost_estimator.cc:690] Error in PredictCost() for the op: op: \"CropAndResize\" attr { key: \"T\" value { type: DT_FLOAT } } attr { key: \"extrapolation_value\" value { f: 0 } } attr { key: \"method\" value { s: \"bilinear\" } } inputs { dtype: DT_FLOAT shape { dim { size: -199 } dim { size: -463 } dim { size: -464 } dim { size: 256 } } } inputs { dtype: DT_FLOAT shape { dim { size: -173 } dim { size: 4 } } } inputs { dtype: DT_INT32 shape { dim { size: -173 } } } inputs { dtype: DT_INT32 shape { dim { size: 2 } } value { dtype: DT_INT32 tensor_shape { dim { size: 2 } } tensor_content: \"\\016\\000\\000\\000\\016\\000\\000\\000\" } } device { type: \"GPU\" vendor: \"NVIDIA\" model: \"Tesla V100-SXM2-16GB\" frequency: 1530 num_cores: 80 environment { key: \"architecture\" value: \"7.0\" } environment { key: \"cuda\" value: \"11000\" } environment { key: \"cudnn\" value: \"8005\" } num_registers: 65536 l1_cache_size: 24576 l2_cache_size: 6291456 shared_memory_size_per_multiprocessor: 98304 memory_size: 15345844224 bandwidth: 898048000 } outputs { dtype: DT_FLOAT shape { dim { size: -173 } dim { size: 14 } dim { size: 14 } dim { size: 256 } } }\n",
      "2022-12-15 00:06:07.742716: W tensorflow/core/grappler/costs/op_level_cost_estimator.cc:690] Error in PredictCost() for the op: op: \"CropAndResize\" attr { key: \"T\" value { type: DT_FLOAT } } attr { key: \"extrapolation_value\" value { f: 0 } } attr { key: \"method\" value { s: \"bilinear\" } } inputs { dtype: DT_FLOAT shape { dim { size: -199 } dim { size: -453 } dim { size: -454 } dim { size: 256 } } } inputs { dtype: DT_FLOAT shape { dim { size: -175 } dim { size: 4 } } } inputs { dtype: DT_INT32 shape { dim { size: -175 } } } inputs { dtype: DT_INT32 shape { dim { size: 2 } } value { dtype: DT_INT32 tensor_shape { dim { size: 2 } } tensor_content: \"\\007\\000\\000\\000\\007\\000\\000\\000\" } } device { type: \"GPU\" vendor: \"NVIDIA\" model: \"Tesla V100-SXM2-16GB\" frequency: 1530 num_cores: 80 environment { key: \"architecture\" value: \"7.0\" } environment { key: \"cuda\" value: \"11000\" } environment { key: \"cudnn\" value: \"8005\" } num_registers: 65536 l1_cache_size: 24576 l2_cache_size: 6291456 shared_memory_size_per_multiprocessor: 98304 memory_size: 15345844224 bandwidth: 898048000 } outputs { dtype: DT_FLOAT shape { dim { size: -175 } dim { size: 7 } dim { size: 7 } dim { size: 256 } } }\n",
      "2022-12-15 00:06:07.748821: W tensorflow/core/grappler/costs/op_level_cost_estimator.cc:690] Error in PredictCost() for the op: op: \"CropAndResize\" attr { key: \"T\" value { type: DT_FLOAT } } attr { key: \"extrapolation_value\" value { f: 0 } } attr { key: \"method\" value { s: \"bilinear\" } } inputs { dtype: DT_FLOAT shape { dim { size: -199 } dim { size: -453 } dim { size: -454 } dim { size: 256 } } } inputs { dtype: DT_FLOAT shape { dim { size: -175 } dim { size: 4 } } } inputs { dtype: DT_INT32 shape { dim { size: -175 } } } inputs { dtype: DT_INT32 shape { dim { size: 2 } } value { dtype: DT_INT32 tensor_shape { dim { size: 2 } } tensor_content: \"\\016\\000\\000\\000\\016\\000\\000\\000\" } } device { type: \"GPU\" vendor: \"NVIDIA\" model: \"Tesla V100-SXM2-16GB\" frequency: 1530 num_cores: 80 environment { key: \"architecture\" value: \"7.0\" } environment { key: \"cuda\" value: \"11000\" } environment { key: \"cudnn\" value: \"8005\" } num_registers: 65536 l1_cache_size: 24576 l2_cache_size: 6291456 shared_memory_size_per_multiprocessor: 98304 memory_size: 15345844224 bandwidth: 898048000 } outputs { dtype: DT_FLOAT shape { dim { size: -175 } dim { size: 14 } dim { size: 14 } dim { size: 256 } } }\n",
      "2022-12-15 00:06:07.749616: W tensorflow/core/grappler/costs/op_level_cost_estimator.cc:690] Error in PredictCost() for the op: op: \"CropAndResize\" attr { key: \"T\" value { type: DT_FLOAT } } attr { key: \"extrapolation_value\" value { f: 0 } } attr { key: \"method\" value { s: \"bilinear\" } } inputs { dtype: DT_FLOAT shape { dim { size: -199 } dim { size: -441 } dim { size: -442 } dim { size: 256 } } } inputs { dtype: DT_FLOAT shape { dim { size: -177 } dim { size: 4 } } } inputs { dtype: DT_INT32 shape { dim { size: -177 } } } inputs { dtype: DT_INT32 shape { dim { size: 2 } } value { dtype: DT_INT32 tensor_shape { dim { size: 2 } } tensor_content: \"\\007\\000\\000\\000\\007\\000\\000\\000\" } } device { type: \"GPU\" vendor: \"NVIDIA\" model: \"Tesla V100-SXM2-16GB\" frequency: 1530 num_cores: 80 environment { key: \"architecture\" value: \"7.0\" } environment { key: \"cuda\" value: \"11000\" } environment { key: \"cudnn\" value: \"8005\" } num_registers: 65536 l1_cache_size: 24576 l2_cache_size: 6291456 shared_memory_size_per_multiprocessor: 98304 memory_size: 15345844224 bandwidth: 898048000 } outputs { dtype: DT_FLOAT shape { dim { size: -177 } dim { size: 7 } dim { size: 7 } dim { size: 256 } } }\n",
      "2022-12-15 00:06:07.750272: W tensorflow/core/grappler/costs/op_level_cost_estimator.cc:690] Error in PredictCost() for the op: op: \"CropAndResize\" attr { key: \"T\" value { type: DT_FLOAT } } attr { key: \"extrapolation_value\" value { f: 0 } } attr { key: \"method\" value { s: \"bilinear\" } } inputs { dtype: DT_FLOAT shape { dim { size: -199 } dim { size: -441 } dim { size: -442 } dim { size: 256 } } } inputs { dtype: DT_FLOAT shape { dim { size: -177 } dim { size: 4 } } } inputs { dtype: DT_INT32 shape { dim { size: -177 } } } inputs { dtype: DT_INT32 shape { dim { size: 2 } } value { dtype: DT_INT32 tensor_shape { dim { size: 2 } } tensor_content: \"\\016\\000\\000\\000\\016\\000\\000\\000\" } } device { type: \"GPU\" vendor: \"NVIDIA\" model: \"Tesla V100-SXM2-16GB\" frequency: 1530 num_cores: 80 environment { key: \"architecture\" value: \"7.0\" } environment { key: \"cuda\" value: \"11000\" } environment { key: \"cudnn\" value: \"8005\" } num_registers: 65536 l1_cache_size: 24576 l2_cache_size: 6291456 shared_memory_size_per_multiprocessor: 98304 memory_size: 15345844224 bandwidth: 898048000 } outputs { dtype: DT_FLOAT shape { dim { size: -177 } dim { size: 14 } dim { size: 14 } dim { size: 256 } } }\n",
      "2022-12-15 00:06:07.751019: W tensorflow/core/grappler/costs/op_level_cost_estimator.cc:690] Error in PredictCost() for the op: op: \"CropAndResize\" attr { key: \"T\" value { type: DT_FLOAT } } attr { key: \"extrapolation_value\" value { f: 0 } } attr { key: \"method\" value { s: \"bilinear\" } } inputs { dtype: DT_FLOAT shape { dim { size: -199 } dim { size: -427 } dim { size: -428 } dim { size: 256 } } } inputs { dtype: DT_FLOAT shape { dim { size: -179 } dim { size: 4 } } } inputs { dtype: DT_INT32 shape { dim { size: -179 } } } inputs { dtype: DT_INT32 shape { dim { size: 2 } } value { dtype: DT_INT32 tensor_shape { dim { size: 2 } } tensor_content: \"\\007\\000\\000\\000\\007\\000\\000\\000\" } } device { type: \"GPU\" vendor: \"NVIDIA\" model: \"Tesla V100-SXM2-16GB\" frequency: 1530 num_cores: 80 environment { key: \"architecture\" value: \"7.0\" } environment { key: \"cuda\" value: \"11000\" } environment { key: \"cudnn\" value: \"8005\" } num_registers: 65536 l1_cache_size: 24576 l2_cache_size: 6291456 shared_memory_size_per_multiprocessor: 98304 memory_size: 15345844224 bandwidth: 898048000 } outputs { dtype: DT_FLOAT shape { dim { size: -179 } dim { size: 7 } dim { size: 7 } dim { size: 256 } } }\n",
      "2022-12-15 00:06:07.751783: W tensorflow/core/grappler/costs/op_level_cost_estimator.cc:690] Error in PredictCost() for the op: op: \"CropAndResize\" attr { key: \"T\" value { type: DT_FLOAT } } attr { key: \"extrapolation_value\" value { f: 0 } } attr { key: \"method\" value { s: \"bilinear\" } } inputs { dtype: DT_FLOAT shape { dim { size: -199 } dim { size: -427 } dim { size: -428 } dim { size: 256 } } } inputs { dtype: DT_FLOAT shape { dim { size: -179 } dim { size: 4 } } } inputs { dtype: DT_INT32 shape { dim { size: -179 } } } inputs { dtype: DT_INT32 shape { dim { size: 2 } } value { dtype: DT_INT32 tensor_shape { dim { size: 2 } } tensor_content: \"\\016\\000\\000\\000\\016\\000\\000\\000\" } } device { type: \"GPU\" vendor: \"NVIDIA\" model: \"Tesla V100-SXM2-16GB\" frequency: 1530 num_cores: 80 environment { key: \"architecture\" value: \"7.0\" } environment { key: \"cuda\" value: \"11000\" } environment { key: \"cudnn\" value: \"8005\" } num_registers: 65536 l1_cache_size: 24576 l2_cache_size: 6291456 shared_memory_size_per_multiprocessor: 98304 memory_size: 15345844224 bandwidth: 898048000 } outputs { dtype: DT_FLOAT shape { dim { size: -179 } dim { size: 14 } dim { size: 14 } dim { size: 256 } } }\n"
     ]
    },
    {
     "name": "stdout",
     "output_type": "stream",
     "text": [
      "200/200 [==============================] - 548s 2s/step - batch: 99.5000 - size: 8.0000 - loss: 2.2019 - rpn_class_loss: 0.2017 - rpn_bbox_loss: 0.7649 - mrcnn_class_loss: 0.4836 - mrcnn_bbox_loss: 0.7355 - mrcnn_mask_loss: 0.0161 - val_loss: 1.6915 - val_rpn_class_loss: 0.0797 - val_rpn_bbox_loss: 0.4311 - val_mrcnn_class_loss: 0.5427 - val_mrcnn_bbox_loss: 0.6373 - val_mrcnn_mask_loss: 7.8826e-04\n",
      "Epoch 4/7\n",
      "200/200 [==============================] - 315s 2s/step - batch: 99.5000 - size: 8.0000 - loss: 1.5224 - rpn_class_loss: 0.0807 - rpn_bbox_loss: 0.3858 - mrcnn_class_loss: 0.4659 - mrcnn_bbox_loss: 0.5893 - mrcnn_mask_loss: 6.8863e-04 - val_loss: 1.7280 - val_rpn_class_loss: 0.0733 - val_rpn_bbox_loss: 0.4580 - val_mrcnn_class_loss: 0.5649 - val_mrcnn_bbox_loss: 0.6315 - val_mrcnn_mask_loss: 2.2781e-04\n",
      "Epoch 5/7\n",
      "200/200 [==============================] - 429s 2s/step - batch: 99.5000 - size: 8.0000 - loss: 1.5440 - rpn_class_loss: 0.0748 - rpn_bbox_loss: 0.4101 - mrcnn_class_loss: 0.4799 - mrcnn_bbox_loss: 0.5788 - mrcnn_mask_loss: 4.4576e-04 - val_loss: 1.6562 - val_rpn_class_loss: 0.0687 - val_rpn_bbox_loss: 0.4583 - val_mrcnn_class_loss: 0.4976 - val_mrcnn_bbox_loss: 0.6316 - val_mrcnn_mask_loss: 1.4603e-04\n",
      "Epoch 6/7\n",
      "200/200 [==============================] - 442s 2s/step - batch: 99.5000 - size: 8.0000 - loss: 1.5335 - rpn_class_loss: 0.0841 - rpn_bbox_loss: 0.4218 - mrcnn_class_loss: 0.4439 - mrcnn_bbox_loss: 0.5834 - mrcnn_mask_loss: 3.9290e-04 - val_loss: 1.6623 - val_rpn_class_loss: 0.0729 - val_rpn_bbox_loss: 0.4850 - val_mrcnn_class_loss: 0.4825 - val_mrcnn_bbox_loss: 0.6219 - val_mrcnn_mask_loss: 5.8322e-05\n",
      "Epoch 7/7\n",
      "200/200 [==============================] - 452s 2s/step - batch: 99.5000 - size: 8.0000 - loss: 1.4682 - rpn_class_loss: 0.0754 - rpn_bbox_loss: 0.3788 - mrcnn_class_loss: 0.4388 - mrcnn_bbox_loss: 0.5750 - mrcnn_mask_loss: 2.6326e-04 - val_loss: 1.6929 - val_rpn_class_loss: 0.0641 - val_rpn_bbox_loss: 0.4942 - val_mrcnn_class_loss: 0.5110 - val_mrcnn_bbox_loss: 0.6235 - val_mrcnn_mask_loss: 5.7615e-05\n",
      "CPU times: user 7min 30s, sys: 55.6 s, total: 8min 26s\n",
      "Wall time: 37min 54s\n"
     ]
    }
   ],
   "source": [
    "%%time\n",
    "time_callback = TimeHistory()\n",
    "model.train(dataset_train, dataset_val,\n",
    "            learning_rate=LEARNING_RATE,\n",
    "            epochs=7,\n",
    "            layers='all',\n",
    "            augmentation=augmentation,\n",
    "           custom_callbacks=[time_callback])\n",
    "\n",
    "times = time_callback.times\n",
    "times_list.extend(times)\n",
    "news = model.keras_model.history.history\n",
    "for k in news: history[k] = history[k] + news[k]"
   ]
  },
  {
   "cell_type": "code",
   "execution_count": 27,
   "metadata": {
    "tags": []
   },
   "outputs": [
    {
     "name": "stdout",
     "output_type": "stream",
     "text": [
      "Epoch Training time: [548.3073365688324, 315.4393117427826, 429.21446919441223, 441.90249371528625, 451.62142634391785]\n",
      "{'loss': [14.52625340104103, 2.920219239294529, 2.201862550973892, 1.5224493128061294, 1.543996348977089, 1.5335412353277207, 1.4682456463575364], 'rpn_class_loss': [0.6216818, 0.2770945, 0.20172833, 0.0807244, 0.07475084, 0.08410248, 0.07544587], 'rpn_bbox_loss': [7.539376, 0.85369647, 0.76491934, 0.38578588, 0.41013923, 0.42178383, 0.37878516], 'mrcnn_class_loss': [0.7328842, 0.73809403, 0.48361835, 0.46592033, 0.4798547, 0.44388306, 0.43880072], 'mrcnn_bbox_loss': [5.628623, 1.051334, 0.7354679, 0.5893301, 0.57880574, 0.583379, 0.5749506], 'mrcnn_mask_loss': [0.0036877068, 1.6870105e-07, 0.016128808, 0.00068863184, 0.0004457589, 0.00039289697, 0.00026326295], 'val_loss': [4.382680654525757, 4.519847779273987, 1.6915145015716553, 1.7279615259170533, 1.6561826109886169, 1.662349808216095, 1.6928636479377746], 'val_rpn_class_loss': [0.22329462, 0.21250427, 0.07972044, 0.0733042, 0.068661556, 0.07293365, 0.06406745], 'val_rpn_bbox_loss': [1.400268, 3.4452329, 0.43106744, 0.45802787, 0.45825022, 0.48496997, 0.49418068], 'val_mrcnn_class_loss': [1.4933953, 0.16456474, 0.5426754, 0.564895, 0.49755564, 0.48253316, 0.5110085], 'val_mrcnn_bbox_loss': [1.2657222, 0.6975447, 0.6372629, 0.63150656, 0.63156915, 0.62185466, 0.6235493], 'val_mrcnn_mask_loss': [1.7981137e-07, 7.4012148e-09, 0.0007882574, 0.0002278085, 0.00014602643, 5.8322203e-05, 5.7615405e-05]}\n"
     ]
    }
   ],
   "source": [
    "print('Epoch Training time:', times)\n",
    "print(history)"
   ]
  },
  {
   "cell_type": "code",
   "execution_count": 28,
   "metadata": {
    "_uuid": "ccea214a520c686735e138f64977dcd7f3e3330a",
    "tags": []
   },
   "outputs": [
    {
     "name": "stdout",
     "output_type": "stream",
     "text": [
      "\n",
      "Starting at epoch 7. LR=0.001\n",
      "\n",
      "Checkpoint Path: /home/jupyter/pneumonia20221214T2308/mask_rcnn_pneumonia_{epoch:04d}.h5\n",
      "Selecting layers to train\n",
      "conv1                  (Conv2D)\n",
      "bn_conv1               (BatchNorm)\n",
      "res2a_branch2a         (Conv2D)\n",
      "bn2a_branch2a          (BatchNorm)\n",
      "res2a_branch2b         (Conv2D)\n",
      "bn2a_branch2b          (BatchNorm)\n",
      "res2a_branch2c         (Conv2D)\n",
      "res2a_branch1          (Conv2D)\n",
      "bn2a_branch2c          (BatchNorm)\n",
      "bn2a_branch1           (BatchNorm)\n",
      "res2b_branch2a         (Conv2D)\n",
      "bn2b_branch2a          (BatchNorm)\n",
      "res2b_branch2b         (Conv2D)\n",
      "bn2b_branch2b          (BatchNorm)\n",
      "res2b_branch2c         (Conv2D)\n",
      "bn2b_branch2c          (BatchNorm)\n",
      "res2c_branch2a         (Conv2D)\n",
      "bn2c_branch2a          (BatchNorm)\n",
      "res2c_branch2b         (Conv2D)\n",
      "bn2c_branch2b          (BatchNorm)\n",
      "res2c_branch2c         (Conv2D)\n",
      "bn2c_branch2c          (BatchNorm)\n",
      "res3a_branch2a         (Conv2D)\n",
      "bn3a_branch2a          (BatchNorm)\n",
      "res3a_branch2b         (Conv2D)\n",
      "bn3a_branch2b          (BatchNorm)\n",
      "res3a_branch2c         (Conv2D)\n",
      "res3a_branch1          (Conv2D)\n",
      "bn3a_branch2c          (BatchNorm)\n",
      "bn3a_branch1           (BatchNorm)\n",
      "res3b_branch2a         (Conv2D)\n",
      "bn3b_branch2a          (BatchNorm)\n",
      "res3b_branch2b         (Conv2D)\n",
      "bn3b_branch2b          (BatchNorm)\n",
      "res3b_branch2c         (Conv2D)\n",
      "bn3b_branch2c          (BatchNorm)\n",
      "res3c_branch2a         (Conv2D)\n",
      "bn3c_branch2a          (BatchNorm)\n",
      "res3c_branch2b         (Conv2D)\n",
      "bn3c_branch2b          (BatchNorm)\n",
      "res3c_branch2c         (Conv2D)\n",
      "bn3c_branch2c          (BatchNorm)\n",
      "res3d_branch2a         (Conv2D)\n",
      "bn3d_branch2a          (BatchNorm)\n",
      "res3d_branch2b         (Conv2D)\n",
      "bn3d_branch2b          (BatchNorm)\n",
      "res3d_branch2c         (Conv2D)\n",
      "bn3d_branch2c          (BatchNorm)\n",
      "res4a_branch2a         (Conv2D)\n",
      "bn4a_branch2a          (BatchNorm)\n",
      "res4a_branch2b         (Conv2D)\n",
      "bn4a_branch2b          (BatchNorm)\n",
      "res4a_branch2c         (Conv2D)\n",
      "res4a_branch1          (Conv2D)\n",
      "bn4a_branch2c          (BatchNorm)\n",
      "bn4a_branch1           (BatchNorm)\n",
      "res4b_branch2a         (Conv2D)\n",
      "bn4b_branch2a          (BatchNorm)\n",
      "res4b_branch2b         (Conv2D)\n",
      "bn4b_branch2b          (BatchNorm)\n",
      "res4b_branch2c         (Conv2D)\n",
      "bn4b_branch2c          (BatchNorm)\n",
      "res4c_branch2a         (Conv2D)\n",
      "bn4c_branch2a          (BatchNorm)\n",
      "res4c_branch2b         (Conv2D)\n",
      "bn4c_branch2b          (BatchNorm)\n",
      "res4c_branch2c         (Conv2D)\n",
      "bn4c_branch2c          (BatchNorm)\n",
      "res4d_branch2a         (Conv2D)\n",
      "bn4d_branch2a          (BatchNorm)\n",
      "res4d_branch2b         (Conv2D)\n",
      "bn4d_branch2b          (BatchNorm)\n",
      "res4d_branch2c         (Conv2D)\n",
      "bn4d_branch2c          (BatchNorm)\n",
      "res4e_branch2a         (Conv2D)\n",
      "bn4e_branch2a          (BatchNorm)\n",
      "res4e_branch2b         (Conv2D)\n",
      "bn4e_branch2b          (BatchNorm)\n",
      "res4e_branch2c         (Conv2D)\n",
      "bn4e_branch2c          (BatchNorm)\n",
      "res4f_branch2a         (Conv2D)\n",
      "bn4f_branch2a          (BatchNorm)\n",
      "res4f_branch2b         (Conv2D)\n",
      "bn4f_branch2b          (BatchNorm)\n",
      "res4f_branch2c         (Conv2D)\n",
      "bn4f_branch2c          (BatchNorm)\n",
      "res5a_branch2a         (Conv2D)\n",
      "bn5a_branch2a          (BatchNorm)\n",
      "res5a_branch2b         (Conv2D)\n",
      "bn5a_branch2b          (BatchNorm)\n",
      "res5a_branch2c         (Conv2D)\n",
      "res5a_branch1          (Conv2D)\n",
      "bn5a_branch2c          (BatchNorm)\n",
      "bn5a_branch1           (BatchNorm)\n",
      "res5b_branch2a         (Conv2D)\n",
      "bn5b_branch2a          (BatchNorm)\n",
      "res5b_branch2b         (Conv2D)\n",
      "bn5b_branch2b          (BatchNorm)\n",
      "res5b_branch2c         (Conv2D)\n",
      "bn5b_branch2c          (BatchNorm)\n",
      "res5c_branch2a         (Conv2D)\n",
      "bn5c_branch2a          (BatchNorm)\n",
      "res5c_branch2b         (Conv2D)\n",
      "bn5c_branch2b          (BatchNorm)\n",
      "res5c_branch2c         (Conv2D)\n",
      "bn5c_branch2c          (BatchNorm)\n",
      "fpn_c5p5               (Conv2D)\n",
      "fpn_c4p4               (Conv2D)\n",
      "fpn_c3p3               (Conv2D)\n",
      "fpn_c2p2               (Conv2D)\n",
      "fpn_p5                 (Conv2D)\n",
      "fpn_p2                 (Conv2D)\n",
      "fpn_p3                 (Conv2D)\n",
      "fpn_p4                 (Conv2D)\n",
      "rpn_model              (Functional)\n",
      "anchors                (ConstLayer)\n",
      "mrcnn_mask_conv1       (TimeDistributed)\n",
      "mrcnn_mask_bn1         (TimeDistributed)\n",
      "mrcnn_mask_conv2       (TimeDistributed)\n",
      "mrcnn_mask_bn2         (TimeDistributed)\n",
      "mrcnn_class_conv1      (TimeDistributed)\n",
      "mrcnn_class_bn1        (TimeDistributed)\n",
      "mrcnn_mask_conv3       (TimeDistributed)\n",
      "mrcnn_mask_bn3         (TimeDistributed)\n",
      "mrcnn_class_conv2      (TimeDistributed)\n",
      "mrcnn_class_bn2        (TimeDistributed)\n",
      "mrcnn_mask_conv4       (TimeDistributed)\n",
      "mrcnn_mask_bn4         (TimeDistributed)\n",
      "mrcnn_bbox_fc          (TimeDistributed)\n",
      "mrcnn_mask_deconv      (TimeDistributed)\n",
      "mrcnn_class_logits     (TimeDistributed)\n",
      "mrcnn_mask             (TimeDistributed)\n",
      "Epoch 8/15\n"
     ]
    },
    {
     "name": "stderr",
     "output_type": "stream",
     "text": [
      "2022-12-15 00:44:07.700286: W tensorflow/core/grappler/costs/op_level_cost_estimator.cc:690] Error in PredictCost() for the op: op: \"CropAndResize\" attr { key: \"T\" value { type: DT_FLOAT } } attr { key: \"extrapolation_value\" value { f: 0 } } attr { key: \"method\" value { s: \"bilinear\" } } inputs { dtype: DT_FLOAT shape { dim { size: -1279 } dim { size: 56 } dim { size: 56 } dim { size: 1 } } } inputs { dtype: DT_FLOAT shape { dim { size: -41 } dim { size: 4 } } } inputs { dtype: DT_INT32 shape { dim { size: -41 } } } inputs { dtype: DT_INT32 shape { dim { size: 2 } } value { dtype: DT_INT32 tensor_shape { dim { size: 2 } } tensor_content: \"\\034\\000\\000\\000\\034\\000\\000\\000\" } } device { type: \"GPU\" vendor: \"NVIDIA\" model: \"Tesla V100-SXM2-16GB\" frequency: 1530 num_cores: 80 environment { key: \"architecture\" value: \"7.0\" } environment { key: \"cuda\" value: \"11000\" } environment { key: \"cudnn\" value: \"8005\" } num_registers: 65536 l1_cache_size: 24576 l2_cache_size: 6291456 shared_memory_size_per_multiprocessor: 98304 memory_size: 15345844224 bandwidth: 898048000 } outputs { dtype: DT_FLOAT shape { dim { size: -41 } dim { size: 28 } dim { size: 28 } dim { size: 1 } } }\n",
      "2022-12-15 00:44:07.701061: W tensorflow/core/grappler/costs/op_level_cost_estimator.cc:690] Error in PredictCost() for the op: op: \"CropAndResize\" attr { key: \"T\" value { type: DT_FLOAT } } attr { key: \"extrapolation_value\" value { f: 0 } } attr { key: \"method\" value { s: \"bilinear\" } } inputs { dtype: DT_FLOAT shape { dim { size: -1285 } dim { size: 56 } dim { size: 56 } dim { size: 1 } } } inputs { dtype: DT_FLOAT shape { dim { size: -53 } dim { size: 4 } } } inputs { dtype: DT_INT32 shape { dim { size: -53 } } } inputs { dtype: DT_INT32 shape { dim { size: 2 } } value { dtype: DT_INT32 tensor_shape { dim { size: 2 } } tensor_content: \"\\034\\000\\000\\000\\034\\000\\000\\000\" } } device { type: \"GPU\" vendor: \"NVIDIA\" model: \"Tesla V100-SXM2-16GB\" frequency: 1530 num_cores: 80 environment { key: \"architecture\" value: \"7.0\" } environment { key: \"cuda\" value: \"11000\" } environment { key: \"cudnn\" value: \"8005\" } num_registers: 65536 l1_cache_size: 24576 l2_cache_size: 6291456 shared_memory_size_per_multiprocessor: 98304 memory_size: 15345844224 bandwidth: 898048000 } outputs { dtype: DT_FLOAT shape { dim { size: -53 } dim { size: 28 } dim { size: 28 } dim { size: 1 } } }\n",
      "2022-12-15 00:44:07.701602: W tensorflow/core/grappler/costs/op_level_cost_estimator.cc:690] Error in PredictCost() for the op: op: \"CropAndResize\" attr { key: \"T\" value { type: DT_FLOAT } } attr { key: \"extrapolation_value\" value { f: 0 } } attr { key: \"method\" value { s: \"bilinear\" } } inputs { dtype: DT_FLOAT shape { dim { size: -1287 } dim { size: 56 } dim { size: 56 } dim { size: 1 } } } inputs { dtype: DT_FLOAT shape { dim { size: -57 } dim { size: 4 } } } inputs { dtype: DT_INT32 shape { dim { size: -57 } } } inputs { dtype: DT_INT32 shape { dim { size: 2 } } value { dtype: DT_INT32 tensor_shape { dim { size: 2 } } tensor_content: \"\\034\\000\\000\\000\\034\\000\\000\\000\" } } device { type: \"GPU\" vendor: \"NVIDIA\" model: \"Tesla V100-SXM2-16GB\" frequency: 1530 num_cores: 80 environment { key: \"architecture\" value: \"7.0\" } environment { key: \"cuda\" value: \"11000\" } environment { key: \"cudnn\" value: \"8005\" } num_registers: 65536 l1_cache_size: 24576 l2_cache_size: 6291456 shared_memory_size_per_multiprocessor: 98304 memory_size: 15345844224 bandwidth: 898048000 } outputs { dtype: DT_FLOAT shape { dim { size: -57 } dim { size: 28 } dim { size: 28 } dim { size: 1 } } }\n",
      "2022-12-15 00:44:07.702148: W tensorflow/core/grappler/costs/op_level_cost_estimator.cc:690] Error in PredictCost() for the op: op: \"CropAndResize\" attr { key: \"T\" value { type: DT_FLOAT } } attr { key: \"extrapolation_value\" value { f: 0 } } attr { key: \"method\" value { s: \"bilinear\" } } inputs { dtype: DT_FLOAT shape { dim { size: -1289 } dim { size: 56 } dim { size: 56 } dim { size: 1 } } } inputs { dtype: DT_FLOAT shape { dim { size: -61 } dim { size: 4 } } } inputs { dtype: DT_INT32 shape { dim { size: -61 } } } inputs { dtype: DT_INT32 shape { dim { size: 2 } } value { dtype: DT_INT32 tensor_shape { dim { size: 2 } } tensor_content: \"\\034\\000\\000\\000\\034\\000\\000\\000\" } } device { type: \"GPU\" vendor: \"NVIDIA\" model: \"Tesla V100-SXM2-16GB\" frequency: 1530 num_cores: 80 environment { key: \"architecture\" value: \"7.0\" } environment { key: \"cuda\" value: \"11000\" } environment { key: \"cudnn\" value: \"8005\" } num_registers: 65536 l1_cache_size: 24576 l2_cache_size: 6291456 shared_memory_size_per_multiprocessor: 98304 memory_size: 15345844224 bandwidth: 898048000 } outputs { dtype: DT_FLOAT shape { dim { size: -61 } dim { size: 28 } dim { size: 28 } dim { size: 1 } } }\n",
      "2022-12-15 00:44:07.702813: W tensorflow/core/grappler/costs/op_level_cost_estimator.cc:690] Error in PredictCost() for the op: op: \"CropAndResize\" attr { key: \"T\" value { type: DT_FLOAT } } attr { key: \"extrapolation_value\" value { f: 0 } } attr { key: \"method\" value { s: \"bilinear\" } } inputs { dtype: DT_FLOAT shape { dim { size: -1291 } dim { size: 56 } dim { size: 56 } dim { size: 1 } } } inputs { dtype: DT_FLOAT shape { dim { size: -65 } dim { size: 4 } } } inputs { dtype: DT_INT32 shape { dim { size: -65 } } } inputs { dtype: DT_INT32 shape { dim { size: 2 } } value { dtype: DT_INT32 tensor_shape { dim { size: 2 } } tensor_content: \"\\034\\000\\000\\000\\034\\000\\000\\000\" } } device { type: \"GPU\" vendor: \"NVIDIA\" model: \"Tesla V100-SXM2-16GB\" frequency: 1530 num_cores: 80 environment { key: \"architecture\" value: \"7.0\" } environment { key: \"cuda\" value: \"11000\" } environment { key: \"cudnn\" value: \"8005\" } num_registers: 65536 l1_cache_size: 24576 l2_cache_size: 6291456 shared_memory_size_per_multiprocessor: 98304 memory_size: 15345844224 bandwidth: 898048000 } outputs { dtype: DT_FLOAT shape { dim { size: -65 } dim { size: 28 } dim { size: 28 } dim { size: 1 } } }\n",
      "2022-12-15 00:44:07.703413: W tensorflow/core/grappler/costs/op_level_cost_estimator.cc:690] Error in PredictCost() for the op: op: \"CropAndResize\" attr { key: \"T\" value { type: DT_FLOAT } } attr { key: \"extrapolation_value\" value { f: 0 } } attr { key: \"method\" value { s: \"bilinear\" } } inputs { dtype: DT_FLOAT shape { dim { size: -1293 } dim { size: 56 } dim { size: 56 } dim { size: 1 } } } inputs { dtype: DT_FLOAT shape { dim { size: -69 } dim { size: 4 } } } inputs { dtype: DT_INT32 shape { dim { size: -69 } } } inputs { dtype: DT_INT32 shape { dim { size: 2 } } value { dtype: DT_INT32 tensor_shape { dim { size: 2 } } tensor_content: \"\\034\\000\\000\\000\\034\\000\\000\\000\" } } device { type: \"GPU\" vendor: \"NVIDIA\" model: \"Tesla V100-SXM2-16GB\" frequency: 1530 num_cores: 80 environment { key: \"architecture\" value: \"7.0\" } environment { key: \"cuda\" value: \"11000\" } environment { key: \"cudnn\" value: \"8005\" } num_registers: 65536 l1_cache_size: 24576 l2_cache_size: 6291456 shared_memory_size_per_multiprocessor: 98304 memory_size: 15345844224 bandwidth: 898048000 } outputs { dtype: DT_FLOAT shape { dim { size: -69 } dim { size: 28 } dim { size: 28 } dim { size: 1 } } }\n",
      "2022-12-15 00:44:07.703970: W tensorflow/core/grappler/costs/op_level_cost_estimator.cc:690] Error in PredictCost() for the op: op: \"CropAndResize\" attr { key: \"T\" value { type: DT_FLOAT } } attr { key: \"extrapolation_value\" value { f: 0 } } attr { key: \"method\" value { s: \"bilinear\" } } inputs { dtype: DT_FLOAT shape { dim { size: -1281 } dim { size: 56 } dim { size: 56 } dim { size: 1 } } } inputs { dtype: DT_FLOAT shape { dim { size: -45 } dim { size: 4 } } } inputs { dtype: DT_INT32 shape { dim { size: -45 } } } inputs { dtype: DT_INT32 shape { dim { size: 2 } } value { dtype: DT_INT32 tensor_shape { dim { size: 2 } } tensor_content: \"\\034\\000\\000\\000\\034\\000\\000\\000\" } } device { type: \"GPU\" vendor: \"NVIDIA\" model: \"Tesla V100-SXM2-16GB\" frequency: 1530 num_cores: 80 environment { key: \"architecture\" value: \"7.0\" } environment { key: \"cuda\" value: \"11000\" } environment { key: \"cudnn\" value: \"8005\" } num_registers: 65536 l1_cache_size: 24576 l2_cache_size: 6291456 shared_memory_size_per_multiprocessor: 98304 memory_size: 15345844224 bandwidth: 898048000 } outputs { dtype: DT_FLOAT shape { dim { size: -45 } dim { size: 28 } dim { size: 28 } dim { size: 1 } } }\n",
      "2022-12-15 00:44:07.704534: W tensorflow/core/grappler/costs/op_level_cost_estimator.cc:690] Error in PredictCost() for the op: op: \"CropAndResize\" attr { key: \"T\" value { type: DT_FLOAT } } attr { key: \"extrapolation_value\" value { f: 0 } } attr { key: \"method\" value { s: \"bilinear\" } } inputs { dtype: DT_FLOAT shape { dim { size: -1283 } dim { size: 56 } dim { size: 56 } dim { size: 1 } } } inputs { dtype: DT_FLOAT shape { dim { size: -49 } dim { size: 4 } } } inputs { dtype: DT_INT32 shape { dim { size: -49 } } } inputs { dtype: DT_INT32 shape { dim { size: 2 } } value { dtype: DT_INT32 tensor_shape { dim { size: 2 } } tensor_content: \"\\034\\000\\000\\000\\034\\000\\000\\000\" } } device { type: \"GPU\" vendor: \"NVIDIA\" model: \"Tesla V100-SXM2-16GB\" frequency: 1530 num_cores: 80 environment { key: \"architecture\" value: \"7.0\" } environment { key: \"cuda\" value: \"11000\" } environment { key: \"cudnn\" value: \"8005\" } num_registers: 65536 l1_cache_size: 24576 l2_cache_size: 6291456 shared_memory_size_per_multiprocessor: 98304 memory_size: 15345844224 bandwidth: 898048000 } outputs { dtype: DT_FLOAT shape { dim { size: -49 } dim { size: 28 } dim { size: 28 } dim { size: 1 } } }\n",
      "2022-12-15 00:44:07.718401: W tensorflow/core/grappler/costs/op_level_cost_estimator.cc:690] Error in PredictCost() for the op: op: \"CropAndResize\" attr { key: \"T\" value { type: DT_FLOAT } } attr { key: \"extrapolation_value\" value { f: 0 } } attr { key: \"method\" value { s: \"bilinear\" } } inputs { dtype: DT_FLOAT shape { dim { size: -14 } dim { size: -344 } dim { size: -345 } dim { size: 256 } } } inputs { dtype: DT_FLOAT shape { dim { size: -192 } dim { size: 4 } } } inputs { dtype: DT_INT32 shape { dim { size: -192 } } } inputs { dtype: DT_INT32 shape { dim { size: 2 } } value { dtype: DT_INT32 tensor_shape { dim { size: 2 } } tensor_content: \"\\007\\000\\000\\000\\007\\000\\000\\000\" } } device { type: \"GPU\" vendor: \"NVIDIA\" model: \"Tesla V100-SXM2-16GB\" frequency: 1530 num_cores: 80 environment { key: \"architecture\" value: \"7.0\" } environment { key: \"cuda\" value: \"11000\" } environment { key: \"cudnn\" value: \"8005\" } num_registers: 65536 l1_cache_size: 24576 l2_cache_size: 6291456 shared_memory_size_per_multiprocessor: 98304 memory_size: 15345844224 bandwidth: 898048000 } outputs { dtype: DT_FLOAT shape { dim { size: -192 } dim { size: 7 } dim { size: 7 } dim { size: 256 } } }\n",
      "2022-12-15 00:44:07.718812: W tensorflow/core/grappler/costs/op_level_cost_estimator.cc:690] Error in PredictCost() for the op: op: \"CropAndResize\" attr { key: \"T\" value { type: DT_FLOAT } } attr { key: \"extrapolation_value\" value { f: 0 } } attr { key: \"method\" value { s: \"bilinear\" } } inputs { dtype: DT_FLOAT shape { dim { size: -14 } dim { size: -344 } dim { size: -345 } dim { size: 256 } } } inputs { dtype: DT_FLOAT shape { dim { size: -192 } dim { size: 4 } } } inputs { dtype: DT_INT32 shape { dim { size: -192 } } } inputs { dtype: DT_INT32 shape { dim { size: 2 } } value { dtype: DT_INT32 tensor_shape { dim { size: 2 } } tensor_content: \"\\016\\000\\000\\000\\016\\000\\000\\000\" } } device { type: \"GPU\" vendor: \"NVIDIA\" model: \"Tesla V100-SXM2-16GB\" frequency: 1530 num_cores: 80 environment { key: \"architecture\" value: \"7.0\" } environment { key: \"cuda\" value: \"11000\" } environment { key: \"cudnn\" value: \"8005\" } num_registers: 65536 l1_cache_size: 24576 l2_cache_size: 6291456 shared_memory_size_per_multiprocessor: 98304 memory_size: 15345844224 bandwidth: 898048000 } outputs { dtype: DT_FLOAT shape { dim { size: -192 } dim { size: 14 } dim { size: 14 } dim { size: 256 } } }\n",
      "2022-12-15 00:44:07.719166: W tensorflow/core/grappler/costs/op_level_cost_estimator.cc:690] Error in PredictCost() for the op: op: \"CropAndResize\" attr { key: \"T\" value { type: DT_FLOAT } } attr { key: \"extrapolation_value\" value { f: 0 } } attr { key: \"method\" value { s: \"bilinear\" } } inputs { dtype: DT_FLOAT shape { dim { size: -14 } dim { size: -336 } dim { size: -337 } dim { size: 256 } } } inputs { dtype: DT_FLOAT shape { dim { size: -186 } dim { size: 4 } } } inputs { dtype: DT_INT32 shape { dim { size: -186 } } } inputs { dtype: DT_INT32 shape { dim { size: 2 } } value { dtype: DT_INT32 tensor_shape { dim { size: 2 } } tensor_content: \"\\007\\000\\000\\000\\007\\000\\000\\000\" } } device { type: \"GPU\" vendor: \"NVIDIA\" model: \"Tesla V100-SXM2-16GB\" frequency: 1530 num_cores: 80 environment { key: \"architecture\" value: \"7.0\" } environment { key: \"cuda\" value: \"11000\" } environment { key: \"cudnn\" value: \"8005\" } num_registers: 65536 l1_cache_size: 24576 l2_cache_size: 6291456 shared_memory_size_per_multiprocessor: 98304 memory_size: 15345844224 bandwidth: 898048000 } outputs { dtype: DT_FLOAT shape { dim { size: -186 } dim { size: 7 } dim { size: 7 } dim { size: 256 } } }\n",
      "2022-12-15 00:44:07.719544: W tensorflow/core/grappler/costs/op_level_cost_estimator.cc:690] Error in PredictCost() for the op: op: \"CropAndResize\" attr { key: \"T\" value { type: DT_FLOAT } } attr { key: \"extrapolation_value\" value { f: 0 } } attr { key: \"method\" value { s: \"bilinear\" } } inputs { dtype: DT_FLOAT shape { dim { size: -14 } dim { size: -336 } dim { size: -337 } dim { size: 256 } } } inputs { dtype: DT_FLOAT shape { dim { size: -186 } dim { size: 4 } } } inputs { dtype: DT_INT32 shape { dim { size: -186 } } } inputs { dtype: DT_INT32 shape { dim { size: 2 } } value { dtype: DT_INT32 tensor_shape { dim { size: 2 } } tensor_content: \"\\016\\000\\000\\000\\016\\000\\000\\000\" } } device { type: \"GPU\" vendor: \"NVIDIA\" model: \"Tesla V100-SXM2-16GB\" frequency: 1530 num_cores: 80 environment { key: \"architecture\" value: \"7.0\" } environment { key: \"cuda\" value: \"11000\" } environment { key: \"cudnn\" value: \"8005\" } num_registers: 65536 l1_cache_size: 24576 l2_cache_size: 6291456 shared_memory_size_per_multiprocessor: 98304 memory_size: 15345844224 bandwidth: 898048000 } outputs { dtype: DT_FLOAT shape { dim { size: -186 } dim { size: 14 } dim { size: 14 } dim { size: 256 } } }\n",
      "2022-12-15 00:44:07.719901: W tensorflow/core/grappler/costs/op_level_cost_estimator.cc:690] Error in PredictCost() for the op: op: \"CropAndResize\" attr { key: \"T\" value { type: DT_FLOAT } } attr { key: \"extrapolation_value\" value { f: 0 } } attr { key: \"method\" value { s: \"bilinear\" } } inputs { dtype: DT_FLOAT shape { dim { size: -14 } dim { size: -328 } dim { size: -329 } dim { size: 256 } } } inputs { dtype: DT_FLOAT shape { dim { size: -188 } dim { size: 4 } } } inputs { dtype: DT_INT32 shape { dim { size: -188 } } } inputs { dtype: DT_INT32 shape { dim { size: 2 } } value { dtype: DT_INT32 tensor_shape { dim { size: 2 } } tensor_content: \"\\007\\000\\000\\000\\007\\000\\000\\000\" } } device { type: \"GPU\" vendor: \"NVIDIA\" model: \"Tesla V100-SXM2-16GB\" frequency: 1530 num_cores: 80 environment { key: \"architecture\" value: \"7.0\" } environment { key: \"cuda\" value: \"11000\" } environment { key: \"cudnn\" value: \"8005\" } num_registers: 65536 l1_cache_size: 24576 l2_cache_size: 6291456 shared_memory_size_per_multiprocessor: 98304 memory_size: 15345844224 bandwidth: 898048000 } outputs { dtype: DT_FLOAT shape { dim { size: -188 } dim { size: 7 } dim { size: 7 } dim { size: 256 } } }\n",
      "2022-12-15 00:44:07.720269: W tensorflow/core/grappler/costs/op_level_cost_estimator.cc:690] Error in PredictCost() for the op: op: \"CropAndResize\" attr { key: \"T\" value { type: DT_FLOAT } } attr { key: \"extrapolation_value\" value { f: 0 } } attr { key: \"method\" value { s: \"bilinear\" } } inputs { dtype: DT_FLOAT shape { dim { size: -14 } dim { size: -328 } dim { size: -329 } dim { size: 256 } } } inputs { dtype: DT_FLOAT shape { dim { size: -188 } dim { size: 4 } } } inputs { dtype: DT_INT32 shape { dim { size: -188 } } } inputs { dtype: DT_INT32 shape { dim { size: 2 } } value { dtype: DT_INT32 tensor_shape { dim { size: 2 } } tensor_content: \"\\016\\000\\000\\000\\016\\000\\000\\000\" } } device { type: \"GPU\" vendor: \"NVIDIA\" model: \"Tesla V100-SXM2-16GB\" frequency: 1530 num_cores: 80 environment { key: \"architecture\" value: \"7.0\" } environment { key: \"cuda\" value: \"11000\" } environment { key: \"cudnn\" value: \"8005\" } num_registers: 65536 l1_cache_size: 24576 l2_cache_size: 6291456 shared_memory_size_per_multiprocessor: 98304 memory_size: 15345844224 bandwidth: 898048000 } outputs { dtype: DT_FLOAT shape { dim { size: -188 } dim { size: 14 } dim { size: 14 } dim { size: 256 } } }\n",
      "2022-12-15 00:44:07.720674: W tensorflow/core/grappler/costs/op_level_cost_estimator.cc:690] Error in PredictCost() for the op: op: \"CropAndResize\" attr { key: \"T\" value { type: DT_FLOAT } } attr { key: \"extrapolation_value\" value { f: 0 } } attr { key: \"method\" value { s: \"bilinear\" } } inputs { dtype: DT_FLOAT shape { dim { size: -14 } dim { size: -320 } dim { size: -321 } dim { size: 256 } } } inputs { dtype: DT_FLOAT shape { dim { size: -190 } dim { size: 4 } } } inputs { dtype: DT_INT32 shape { dim { size: -190 } } } inputs { dtype: DT_INT32 shape { dim { size: 2 } } value { dtype: DT_INT32 tensor_shape { dim { size: 2 } } tensor_content: \"\\007\\000\\000\\000\\007\\000\\000\\000\" } } device { type: \"GPU\" vendor: \"NVIDIA\" model: \"Tesla V100-SXM2-16GB\" frequency: 1530 num_cores: 80 environment { key: \"architecture\" value: \"7.0\" } environment { key: \"cuda\" value: \"11000\" } environment { key: \"cudnn\" value: \"8005\" } num_registers: 65536 l1_cache_size: 24576 l2_cache_size: 6291456 shared_memory_size_per_multiprocessor: 98304 memory_size: 15345844224 bandwidth: 898048000 } outputs { dtype: DT_FLOAT shape { dim { size: -190 } dim { size: 7 } dim { size: 7 } dim { size: 256 } } }\n",
      "2022-12-15 00:44:07.720999: W tensorflow/core/grappler/costs/op_level_cost_estimator.cc:690] Error in PredictCost() for the op: op: \"CropAndResize\" attr { key: \"T\" value { type: DT_FLOAT } } attr { key: \"extrapolation_value\" value { f: 0 } } attr { key: \"method\" value { s: \"bilinear\" } } inputs { dtype: DT_FLOAT shape { dim { size: -14 } dim { size: -320 } dim { size: -321 } dim { size: 256 } } } inputs { dtype: DT_FLOAT shape { dim { size: -190 } dim { size: 4 } } } inputs { dtype: DT_INT32 shape { dim { size: -190 } } } inputs { dtype: DT_INT32 shape { dim { size: 2 } } value { dtype: DT_INT32 tensor_shape { dim { size: 2 } } tensor_content: \"\\016\\000\\000\\000\\016\\000\\000\\000\" } } device { type: \"GPU\" vendor: \"NVIDIA\" model: \"Tesla V100-SXM2-16GB\" frequency: 1530 num_cores: 80 environment { key: \"architecture\" value: \"7.0\" } environment { key: \"cuda\" value: \"11000\" } environment { key: \"cudnn\" value: \"8005\" } num_registers: 65536 l1_cache_size: 24576 l2_cache_size: 6291456 shared_memory_size_per_multiprocessor: 98304 memory_size: 15345844224 bandwidth: 898048000 } outputs { dtype: DT_FLOAT shape { dim { size: -190 } dim { size: 14 } dim { size: 14 } dim { size: 256 } } }\n"
     ]
    },
    {
     "name": "stdout",
     "output_type": "stream",
     "text": [
      "  1/200 [..............................] - ETA: 4:43:30 - batch: 0.0000e+00 - size: 8.0000 - loss: 3.2926 - rpn_class_loss: 0.0992 - rpn_bbox_loss: 0.4828 - mrcnn_class_loss: 0.5039 - mrcnn_bbox_loss: 0.5603 - mrcnn_mask_loss: 1.0807e-04"
     ]
    },
    {
     "name": "stderr",
     "output_type": "stream",
     "text": [
      "2022-12-15 00:44:24.232382: I tensorflow/core/profiler/lib/profiler_session.cc:131] Profiler session initializing.\n",
      "2022-12-15 00:44:24.232442: I tensorflow/core/profiler/lib/profiler_session.cc:146] Profiler session started.\n",
      "2022-12-15 00:44:26.602154: I tensorflow/core/profiler/lib/profiler_session.cc:66] Profiler session collecting data.\n",
      "2022-12-15 00:44:26.618554: I tensorflow/core/profiler/internal/gpu/cupti_tracer.cc:1748] CUPTI activity buffer flushed\n",
      "2022-12-15 00:44:27.371714: I tensorflow/core/profiler/internal/gpu/cupti_collector.cc:673]  GpuTracer has collected 8514 callback api events and 8513 activity events. \n",
      "2022-12-15 00:44:28.659482: I tensorflow/core/profiler/lib/profiler_session.cc:164] Profiler session tear down.\n",
      "2022-12-15 00:44:30.181209: I tensorflow/core/profiler/rpc/client/save_profile.cc:136] Creating directory: /home/jupyter/pneumonia20221214T2308/plugins/profile/2022_12_15_00_44_28\n",
      "\n",
      "2022-12-15 00:44:31.132158: I tensorflow/core/profiler/rpc/client/save_profile.cc:142] Dumped gzipped tool data for trace.json.gz to /home/jupyter/pneumonia20221214T2308/plugins/profile/2022_12_15_00_44_28/04c6558322e4.trace.json.gz\n",
      "2022-12-15 00:44:32.859156: I tensorflow/core/profiler/rpc/client/save_profile.cc:136] Creating directory: /home/jupyter/pneumonia20221214T2308/plugins/profile/2022_12_15_00_44_28\n",
      "\n",
      "2022-12-15 00:44:32.906119: I tensorflow/core/profiler/rpc/client/save_profile.cc:142] Dumped gzipped tool data for memory_profile.json.gz to /home/jupyter/pneumonia20221214T2308/plugins/profile/2022_12_15_00_44_28/04c6558322e4.memory_profile.json.gz\n",
      "2022-12-15 00:44:32.966317: I tensorflow/core/profiler/rpc/client/capture_profile.cc:251] Creating directory: /home/jupyter/pneumonia20221214T2308/plugins/profile/2022_12_15_00_44_28\n",
      "Dumped tool data for xplane.pb to /home/jupyter/pneumonia20221214T2308/plugins/profile/2022_12_15_00_44_28/04c6558322e4.xplane.pb\n",
      "Dumped tool data for overview_page.pb to /home/jupyter/pneumonia20221214T2308/plugins/profile/2022_12_15_00_44_28/04c6558322e4.overview_page.pb\n",
      "Dumped tool data for input_pipeline.pb to /home/jupyter/pneumonia20221214T2308/plugins/profile/2022_12_15_00_44_28/04c6558322e4.input_pipeline.pb\n",
      "Dumped tool data for tensorflow_stats.pb to /home/jupyter/pneumonia20221214T2308/plugins/profile/2022_12_15_00_44_28/04c6558322e4.tensorflow_stats.pb\n",
      "Dumped tool data for kernel_stats.pb to /home/jupyter/pneumonia20221214T2308/plugins/profile/2022_12_15_00_44_28/04c6558322e4.kernel_stats.pb\n",
      "\n"
     ]
    },
    {
     "name": "stdout",
     "output_type": "stream",
     "text": [
      "200/200 [==============================] - ETA: 0s - batch: 99.5000 - size: 8.0000 - loss: 2.9065 - rpn_class_loss: 0.0702 - rpn_bbox_loss: 0.4064 - mrcnn_class_loss: 0.4219 - mrcnn_bbox_loss: 0.5545 - mrcnn_mask_loss: 2.2078e-04"
     ]
    },
    {
     "name": "stderr",
     "output_type": "stream",
     "text": [
      "2022-12-15 00:49:20.903177: W tensorflow/core/grappler/costs/op_level_cost_estimator.cc:690] Error in PredictCost() for the op: op: \"CropAndResize\" attr { key: \"T\" value { type: DT_FLOAT } } attr { key: \"extrapolation_value\" value { f: 0 } } attr { key: \"method\" value { s: \"bilinear\" } } inputs { dtype: DT_FLOAT shape { dim { size: -896 } dim { size: 56 } dim { size: 56 } dim { size: 1 } } } inputs { dtype: DT_FLOAT shape { dim { size: -28 } dim { size: 4 } } } inputs { dtype: DT_INT32 shape { dim { size: -28 } } } inputs { dtype: DT_INT32 shape { dim { size: 2 } } value { dtype: DT_INT32 tensor_shape { dim { size: 2 } } tensor_content: \"\\034\\000\\000\\000\\034\\000\\000\\000\" } } device { type: \"GPU\" vendor: \"NVIDIA\" model: \"Tesla V100-SXM2-16GB\" frequency: 1530 num_cores: 80 environment { key: \"architecture\" value: \"7.0\" } environment { key: \"cuda\" value: \"11000\" } environment { key: \"cudnn\" value: \"8005\" } num_registers: 65536 l1_cache_size: 24576 l2_cache_size: 6291456 shared_memory_size_per_multiprocessor: 98304 memory_size: 15345844224 bandwidth: 898048000 } outputs { dtype: DT_FLOAT shape { dim { size: -28 } dim { size: 28 } dim { size: 28 } dim { size: 1 } } }\n",
      "2022-12-15 00:49:20.932708: W tensorflow/core/grappler/costs/op_level_cost_estimator.cc:690] Error in PredictCost() for the op: op: \"CropAndResize\" attr { key: \"T\" value { type: DT_FLOAT } } attr { key: \"extrapolation_value\" value { f: 0 } } attr { key: \"method\" value { s: \"bilinear\" } } inputs { dtype: DT_FLOAT shape { dim { size: -902 } dim { size: 56 } dim { size: 56 } dim { size: 1 } } } inputs { dtype: DT_FLOAT shape { dim { size: -40 } dim { size: 4 } } } inputs { dtype: DT_INT32 shape { dim { size: -40 } } } inputs { dtype: DT_INT32 shape { dim { size: 2 } } value { dtype: DT_INT32 tensor_shape { dim { size: 2 } } tensor_content: \"\\034\\000\\000\\000\\034\\000\\000\\000\" } } device { type: \"GPU\" vendor: \"NVIDIA\" model: \"Tesla V100-SXM2-16GB\" frequency: 1530 num_cores: 80 environment { key: \"architecture\" value: \"7.0\" } environment { key: \"cuda\" value: \"11000\" } environment { key: \"cudnn\" value: \"8005\" } num_registers: 65536 l1_cache_size: 24576 l2_cache_size: 6291456 shared_memory_size_per_multiprocessor: 98304 memory_size: 15345844224 bandwidth: 898048000 } outputs { dtype: DT_FLOAT shape { dim { size: -40 } dim { size: 28 } dim { size: 28 } dim { size: 1 } } }\n",
      "2022-12-15 00:49:20.933332: W tensorflow/core/grappler/costs/op_level_cost_estimator.cc:690] Error in PredictCost() for the op: op: \"CropAndResize\" attr { key: \"T\" value { type: DT_FLOAT } } attr { key: \"extrapolation_value\" value { f: 0 } } attr { key: \"method\" value { s: \"bilinear\" } } inputs { dtype: DT_FLOAT shape { dim { size: -904 } dim { size: 56 } dim { size: 56 } dim { size: 1 } } } inputs { dtype: DT_FLOAT shape { dim { size: -44 } dim { size: 4 } } } inputs { dtype: DT_INT32 shape { dim { size: -44 } } } inputs { dtype: DT_INT32 shape { dim { size: 2 } } value { dtype: DT_INT32 tensor_shape { dim { size: 2 } } tensor_content: \"\\034\\000\\000\\000\\034\\000\\000\\000\" } } device { type: \"GPU\" vendor: \"NVIDIA\" model: \"Tesla V100-SXM2-16GB\" frequency: 1530 num_cores: 80 environment { key: \"architecture\" value: \"7.0\" } environment { key: \"cuda\" value: \"11000\" } environment { key: \"cudnn\" value: \"8005\" } num_registers: 65536 l1_cache_size: 24576 l2_cache_size: 6291456 shared_memory_size_per_multiprocessor: 98304 memory_size: 15345844224 bandwidth: 898048000 } outputs { dtype: DT_FLOAT shape { dim { size: -44 } dim { size: 28 } dim { size: 28 } dim { size: 1 } } }\n",
      "2022-12-15 00:49:20.933730: W tensorflow/core/grappler/costs/op_level_cost_estimator.cc:690] Error in PredictCost() for the op: op: \"CropAndResize\" attr { key: \"T\" value { type: DT_FLOAT } } attr { key: \"extrapolation_value\" value { f: 0 } } attr { key: \"method\" value { s: \"bilinear\" } } inputs { dtype: DT_FLOAT shape { dim { size: -906 } dim { size: 56 } dim { size: 56 } dim { size: 1 } } } inputs { dtype: DT_FLOAT shape { dim { size: -48 } dim { size: 4 } } } inputs { dtype: DT_INT32 shape { dim { size: -48 } } } inputs { dtype: DT_INT32 shape { dim { size: 2 } } value { dtype: DT_INT32 tensor_shape { dim { size: 2 } } tensor_content: \"\\034\\000\\000\\000\\034\\000\\000\\000\" } } device { type: \"GPU\" vendor: \"NVIDIA\" model: \"Tesla V100-SXM2-16GB\" frequency: 1530 num_cores: 80 environment { key: \"architecture\" value: \"7.0\" } environment { key: \"cuda\" value: \"11000\" } environment { key: \"cudnn\" value: \"8005\" } num_registers: 65536 l1_cache_size: 24576 l2_cache_size: 6291456 shared_memory_size_per_multiprocessor: 98304 memory_size: 15345844224 bandwidth: 898048000 } outputs { dtype: DT_FLOAT shape { dim { size: -48 } dim { size: 28 } dim { size: 28 } dim { size: 1 } } }\n",
      "2022-12-15 00:49:20.934134: W tensorflow/core/grappler/costs/op_level_cost_estimator.cc:690] Error in PredictCost() for the op: op: \"CropAndResize\" attr { key: \"T\" value { type: DT_FLOAT } } attr { key: \"extrapolation_value\" value { f: 0 } } attr { key: \"method\" value { s: \"bilinear\" } } inputs { dtype: DT_FLOAT shape { dim { size: -908 } dim { size: 56 } dim { size: 56 } dim { size: 1 } } } inputs { dtype: DT_FLOAT shape { dim { size: -52 } dim { size: 4 } } } inputs { dtype: DT_INT32 shape { dim { size: -52 } } } inputs { dtype: DT_INT32 shape { dim { size: 2 } } value { dtype: DT_INT32 tensor_shape { dim { size: 2 } } tensor_content: \"\\034\\000\\000\\000\\034\\000\\000\\000\" } } device { type: \"GPU\" vendor: \"NVIDIA\" model: \"Tesla V100-SXM2-16GB\" frequency: 1530 num_cores: 80 environment { key: \"architecture\" value: \"7.0\" } environment { key: \"cuda\" value: \"11000\" } environment { key: \"cudnn\" value: \"8005\" } num_registers: 65536 l1_cache_size: 24576 l2_cache_size: 6291456 shared_memory_size_per_multiprocessor: 98304 memory_size: 15345844224 bandwidth: 898048000 } outputs { dtype: DT_FLOAT shape { dim { size: -52 } dim { size: 28 } dim { size: 28 } dim { size: 1 } } }\n",
      "2022-12-15 00:49:20.934535: W tensorflow/core/grappler/costs/op_level_cost_estimator.cc:690] Error in PredictCost() for the op: op: \"CropAndResize\" attr { key: \"T\" value { type: DT_FLOAT } } attr { key: \"extrapolation_value\" value { f: 0 } } attr { key: \"method\" value { s: \"bilinear\" } } inputs { dtype: DT_FLOAT shape { dim { size: -910 } dim { size: 56 } dim { size: 56 } dim { size: 1 } } } inputs { dtype: DT_FLOAT shape { dim { size: -56 } dim { size: 4 } } } inputs { dtype: DT_INT32 shape { dim { size: -56 } } } inputs { dtype: DT_INT32 shape { dim { size: 2 } } value { dtype: DT_INT32 tensor_shape { dim { size: 2 } } tensor_content: \"\\034\\000\\000\\000\\034\\000\\000\\000\" } } device { type: \"GPU\" vendor: \"NVIDIA\" model: \"Tesla V100-SXM2-16GB\" frequency: 1530 num_cores: 80 environment { key: \"architecture\" value: \"7.0\" } environment { key: \"cuda\" value: \"11000\" } environment { key: \"cudnn\" value: \"8005\" } num_registers: 65536 l1_cache_size: 24576 l2_cache_size: 6291456 shared_memory_size_per_multiprocessor: 98304 memory_size: 15345844224 bandwidth: 898048000 } outputs { dtype: DT_FLOAT shape { dim { size: -56 } dim { size: 28 } dim { size: 28 } dim { size: 1 } } }\n",
      "2022-12-15 00:49:20.934945: W tensorflow/core/grappler/costs/op_level_cost_estimator.cc:690] Error in PredictCost() for the op: op: \"CropAndResize\" attr { key: \"T\" value { type: DT_FLOAT } } attr { key: \"extrapolation_value\" value { f: 0 } } attr { key: \"method\" value { s: \"bilinear\" } } inputs { dtype: DT_FLOAT shape { dim { size: -898 } dim { size: 56 } dim { size: 56 } dim { size: 1 } } } inputs { dtype: DT_FLOAT shape { dim { size: -32 } dim { size: 4 } } } inputs { dtype: DT_INT32 shape { dim { size: -32 } } } inputs { dtype: DT_INT32 shape { dim { size: 2 } } value { dtype: DT_INT32 tensor_shape { dim { size: 2 } } tensor_content: \"\\034\\000\\000\\000\\034\\000\\000\\000\" } } device { type: \"GPU\" vendor: \"NVIDIA\" model: \"Tesla V100-SXM2-16GB\" frequency: 1530 num_cores: 80 environment { key: \"architecture\" value: \"7.0\" } environment { key: \"cuda\" value: \"11000\" } environment { key: \"cudnn\" value: \"8005\" } num_registers: 65536 l1_cache_size: 24576 l2_cache_size: 6291456 shared_memory_size_per_multiprocessor: 98304 memory_size: 15345844224 bandwidth: 898048000 } outputs { dtype: DT_FLOAT shape { dim { size: -32 } dim { size: 28 } dim { size: 28 } dim { size: 1 } } }\n",
      "2022-12-15 00:49:20.935310: W tensorflow/core/grappler/costs/op_level_cost_estimator.cc:690] Error in PredictCost() for the op: op: \"CropAndResize\" attr { key: \"T\" value { type: DT_FLOAT } } attr { key: \"extrapolation_value\" value { f: 0 } } attr { key: \"method\" value { s: \"bilinear\" } } inputs { dtype: DT_FLOAT shape { dim { size: -900 } dim { size: 56 } dim { size: 56 } dim { size: 1 } } } inputs { dtype: DT_FLOAT shape { dim { size: -36 } dim { size: 4 } } } inputs { dtype: DT_INT32 shape { dim { size: -36 } } } inputs { dtype: DT_INT32 shape { dim { size: 2 } } value { dtype: DT_INT32 tensor_shape { dim { size: 2 } } tensor_content: \"\\034\\000\\000\\000\\034\\000\\000\\000\" } } device { type: \"GPU\" vendor: \"NVIDIA\" model: \"Tesla V100-SXM2-16GB\" frequency: 1530 num_cores: 80 environment { key: \"architecture\" value: \"7.0\" } environment { key: \"cuda\" value: \"11000\" } environment { key: \"cudnn\" value: \"8005\" } num_registers: 65536 l1_cache_size: 24576 l2_cache_size: 6291456 shared_memory_size_per_multiprocessor: 98304 memory_size: 15345844224 bandwidth: 898048000 } outputs { dtype: DT_FLOAT shape { dim { size: -36 } dim { size: 28 } dim { size: 28 } dim { size: 1 } } }\n",
      "2022-12-15 00:49:20.955486: W tensorflow/core/grappler/costs/op_level_cost_estimator.cc:690] Error in PredictCost() for the op: op: \"CropAndResize\" attr { key: \"T\" value { type: DT_FLOAT } } attr { key: \"extrapolation_value\" value { f: 0 } } attr { key: \"method\" value { s: \"bilinear\" } } inputs { dtype: DT_FLOAT shape { dim { size: -199 } dim { size: -463 } dim { size: -464 } dim { size: 256 } } } inputs { dtype: DT_FLOAT shape { dim { size: -179 } dim { size: 4 } } } inputs { dtype: DT_INT32 shape { dim { size: -179 } } } inputs { dtype: DT_INT32 shape { dim { size: 2 } } value { dtype: DT_INT32 tensor_shape { dim { size: 2 } } tensor_content: \"\\007\\000\\000\\000\\007\\000\\000\\000\" } } device { type: \"GPU\" vendor: \"NVIDIA\" model: \"Tesla V100-SXM2-16GB\" frequency: 1530 num_cores: 80 environment { key: \"architecture\" value: \"7.0\" } environment { key: \"cuda\" value: \"11000\" } environment { key: \"cudnn\" value: \"8005\" } num_registers: 65536 l1_cache_size: 24576 l2_cache_size: 6291456 shared_memory_size_per_multiprocessor: 98304 memory_size: 15345844224 bandwidth: 898048000 } outputs { dtype: DT_FLOAT shape { dim { size: -179 } dim { size: 7 } dim { size: 7 } dim { size: 256 } } }\n",
      "2022-12-15 00:49:20.960407: W tensorflow/core/grappler/costs/op_level_cost_estimator.cc:690] Error in PredictCost() for the op: op: \"CropAndResize\" attr { key: \"T\" value { type: DT_FLOAT } } attr { key: \"extrapolation_value\" value { f: 0 } } attr { key: \"method\" value { s: \"bilinear\" } } inputs { dtype: DT_FLOAT shape { dim { size: -199 } dim { size: -463 } dim { size: -464 } dim { size: 256 } } } inputs { dtype: DT_FLOAT shape { dim { size: -179 } dim { size: 4 } } } inputs { dtype: DT_INT32 shape { dim { size: -179 } } } inputs { dtype: DT_INT32 shape { dim { size: 2 } } value { dtype: DT_INT32 tensor_shape { dim { size: 2 } } tensor_content: \"\\016\\000\\000\\000\\016\\000\\000\\000\" } } device { type: \"GPU\" vendor: \"NVIDIA\" model: \"Tesla V100-SXM2-16GB\" frequency: 1530 num_cores: 80 environment { key: \"architecture\" value: \"7.0\" } environment { key: \"cuda\" value: \"11000\" } environment { key: \"cudnn\" value: \"8005\" } num_registers: 65536 l1_cache_size: 24576 l2_cache_size: 6291456 shared_memory_size_per_multiprocessor: 98304 memory_size: 15345844224 bandwidth: 898048000 } outputs { dtype: DT_FLOAT shape { dim { size: -179 } dim { size: 14 } dim { size: 14 } dim { size: 256 } } }\n",
      "2022-12-15 00:49:20.960775: W tensorflow/core/grappler/costs/op_level_cost_estimator.cc:690] Error in PredictCost() for the op: op: \"CropAndResize\" attr { key: \"T\" value { type: DT_FLOAT } } attr { key: \"extrapolation_value\" value { f: 0 } } attr { key: \"method\" value { s: \"bilinear\" } } inputs { dtype: DT_FLOAT shape { dim { size: -199 } dim { size: -453 } dim { size: -454 } dim { size: 256 } } } inputs { dtype: DT_FLOAT shape { dim { size: -173 } dim { size: 4 } } } inputs { dtype: DT_INT32 shape { dim { size: -173 } } } inputs { dtype: DT_INT32 shape { dim { size: 2 } } value { dtype: DT_INT32 tensor_shape { dim { size: 2 } } tensor_content: \"\\007\\000\\000\\000\\007\\000\\000\\000\" } } device { type: \"GPU\" vendor: \"NVIDIA\" model: \"Tesla V100-SXM2-16GB\" frequency: 1530 num_cores: 80 environment { key: \"architecture\" value: \"7.0\" } environment { key: \"cuda\" value: \"11000\" } environment { key: \"cudnn\" value: \"8005\" } num_registers: 65536 l1_cache_size: 24576 l2_cache_size: 6291456 shared_memory_size_per_multiprocessor: 98304 memory_size: 15345844224 bandwidth: 898048000 } outputs { dtype: DT_FLOAT shape { dim { size: -173 } dim { size: 7 } dim { size: 7 } dim { size: 256 } } }\n",
      "2022-12-15 00:49:20.961163: W tensorflow/core/grappler/costs/op_level_cost_estimator.cc:690] Error in PredictCost() for the op: op: \"CropAndResize\" attr { key: \"T\" value { type: DT_FLOAT } } attr { key: \"extrapolation_value\" value { f: 0 } } attr { key: \"method\" value { s: \"bilinear\" } } inputs { dtype: DT_FLOAT shape { dim { size: -199 } dim { size: -453 } dim { size: -454 } dim { size: 256 } } } inputs { dtype: DT_FLOAT shape { dim { size: -173 } dim { size: 4 } } } inputs { dtype: DT_INT32 shape { dim { size: -173 } } } inputs { dtype: DT_INT32 shape { dim { size: 2 } } value { dtype: DT_INT32 tensor_shape { dim { size: 2 } } tensor_content: \"\\016\\000\\000\\000\\016\\000\\000\\000\" } } device { type: \"GPU\" vendor: \"NVIDIA\" model: \"Tesla V100-SXM2-16GB\" frequency: 1530 num_cores: 80 environment { key: \"architecture\" value: \"7.0\" } environment { key: \"cuda\" value: \"11000\" } environment { key: \"cudnn\" value: \"8005\" } num_registers: 65536 l1_cache_size: 24576 l2_cache_size: 6291456 shared_memory_size_per_multiprocessor: 98304 memory_size: 15345844224 bandwidth: 898048000 } outputs { dtype: DT_FLOAT shape { dim { size: -173 } dim { size: 14 } dim { size: 14 } dim { size: 256 } } }\n",
      "2022-12-15 00:49:20.961658: W tensorflow/core/grappler/costs/op_level_cost_estimator.cc:690] Error in PredictCost() for the op: op: \"CropAndResize\" attr { key: \"T\" value { type: DT_FLOAT } } attr { key: \"extrapolation_value\" value { f: 0 } } attr { key: \"method\" value { s: \"bilinear\" } } inputs { dtype: DT_FLOAT shape { dim { size: -199 } dim { size: -441 } dim { size: -442 } dim { size: 256 } } } inputs { dtype: DT_FLOAT shape { dim { size: -175 } dim { size: 4 } } } inputs { dtype: DT_INT32 shape { dim { size: -175 } } } inputs { dtype: DT_INT32 shape { dim { size: 2 } } value { dtype: DT_INT32 tensor_shape { dim { size: 2 } } tensor_content: \"\\007\\000\\000\\000\\007\\000\\000\\000\" } } device { type: \"GPU\" vendor: \"NVIDIA\" model: \"Tesla V100-SXM2-16GB\" frequency: 1530 num_cores: 80 environment { key: \"architecture\" value: \"7.0\" } environment { key: \"cuda\" value: \"11000\" } environment { key: \"cudnn\" value: \"8005\" } num_registers: 65536 l1_cache_size: 24576 l2_cache_size: 6291456 shared_memory_size_per_multiprocessor: 98304 memory_size: 15345844224 bandwidth: 898048000 } outputs { dtype: DT_FLOAT shape { dim { size: -175 } dim { size: 7 } dim { size: 7 } dim { size: 256 } } }\n",
      "2022-12-15 00:49:20.962109: W tensorflow/core/grappler/costs/op_level_cost_estimator.cc:690] Error in PredictCost() for the op: op: \"CropAndResize\" attr { key: \"T\" value { type: DT_FLOAT } } attr { key: \"extrapolation_value\" value { f: 0 } } attr { key: \"method\" value { s: \"bilinear\" } } inputs { dtype: DT_FLOAT shape { dim { size: -199 } dim { size: -441 } dim { size: -442 } dim { size: 256 } } } inputs { dtype: DT_FLOAT shape { dim { size: -175 } dim { size: 4 } } } inputs { dtype: DT_INT32 shape { dim { size: -175 } } } inputs { dtype: DT_INT32 shape { dim { size: 2 } } value { dtype: DT_INT32 tensor_shape { dim { size: 2 } } tensor_content: \"\\016\\000\\000\\000\\016\\000\\000\\000\" } } device { type: \"GPU\" vendor: \"NVIDIA\" model: \"Tesla V100-SXM2-16GB\" frequency: 1530 num_cores: 80 environment { key: \"architecture\" value: \"7.0\" } environment { key: \"cuda\" value: \"11000\" } environment { key: \"cudnn\" value: \"8005\" } num_registers: 65536 l1_cache_size: 24576 l2_cache_size: 6291456 shared_memory_size_per_multiprocessor: 98304 memory_size: 15345844224 bandwidth: 898048000 } outputs { dtype: DT_FLOAT shape { dim { size: -175 } dim { size: 14 } dim { size: 14 } dim { size: 256 } } }\n",
      "2022-12-15 00:49:20.962561: W tensorflow/core/grappler/costs/op_level_cost_estimator.cc:690] Error in PredictCost() for the op: op: \"CropAndResize\" attr { key: \"T\" value { type: DT_FLOAT } } attr { key: \"extrapolation_value\" value { f: 0 } } attr { key: \"method\" value { s: \"bilinear\" } } inputs { dtype: DT_FLOAT shape { dim { size: -199 } dim { size: -427 } dim { size: -428 } dim { size: 256 } } } inputs { dtype: DT_FLOAT shape { dim { size: -177 } dim { size: 4 } } } inputs { dtype: DT_INT32 shape { dim { size: -177 } } } inputs { dtype: DT_INT32 shape { dim { size: 2 } } value { dtype: DT_INT32 tensor_shape { dim { size: 2 } } tensor_content: \"\\007\\000\\000\\000\\007\\000\\000\\000\" } } device { type: \"GPU\" vendor: \"NVIDIA\" model: \"Tesla V100-SXM2-16GB\" frequency: 1530 num_cores: 80 environment { key: \"architecture\" value: \"7.0\" } environment { key: \"cuda\" value: \"11000\" } environment { key: \"cudnn\" value: \"8005\" } num_registers: 65536 l1_cache_size: 24576 l2_cache_size: 6291456 shared_memory_size_per_multiprocessor: 98304 memory_size: 15345844224 bandwidth: 898048000 } outputs { dtype: DT_FLOAT shape { dim { size: -177 } dim { size: 7 } dim { size: 7 } dim { size: 256 } } }\n",
      "2022-12-15 00:49:20.962943: W tensorflow/core/grappler/costs/op_level_cost_estimator.cc:690] Error in PredictCost() for the op: op: \"CropAndResize\" attr { key: \"T\" value { type: DT_FLOAT } } attr { key: \"extrapolation_value\" value { f: 0 } } attr { key: \"method\" value { s: \"bilinear\" } } inputs { dtype: DT_FLOAT shape { dim { size: -199 } dim { size: -427 } dim { size: -428 } dim { size: 256 } } } inputs { dtype: DT_FLOAT shape { dim { size: -177 } dim { size: 4 } } } inputs { dtype: DT_INT32 shape { dim { size: -177 } } } inputs { dtype: DT_INT32 shape { dim { size: 2 } } value { dtype: DT_INT32 tensor_shape { dim { size: 2 } } tensor_content: \"\\016\\000\\000\\000\\016\\000\\000\\000\" } } device { type: \"GPU\" vendor: \"NVIDIA\" model: \"Tesla V100-SXM2-16GB\" frequency: 1530 num_cores: 80 environment { key: \"architecture\" value: \"7.0\" } environment { key: \"cuda\" value: \"11000\" } environment { key: \"cudnn\" value: \"8005\" } num_registers: 65536 l1_cache_size: 24576 l2_cache_size: 6291456 shared_memory_size_per_multiprocessor: 98304 memory_size: 15345844224 bandwidth: 898048000 } outputs { dtype: DT_FLOAT shape { dim { size: -177 } dim { size: 14 } dim { size: 14 } dim { size: 256 } } }\n"
     ]
    },
    {
     "name": "stdout",
     "output_type": "stream",
     "text": [
      "200/200 [==============================] - 418s 2s/step - batch: 99.5000 - size: 8.0000 - loss: 2.9065 - rpn_class_loss: 0.0702 - rpn_bbox_loss: 0.4064 - mrcnn_class_loss: 0.4219 - mrcnn_bbox_loss: 0.5545 - mrcnn_mask_loss: 2.2078e-04 - val_loss: 3.1698 - val_rpn_class_loss: 0.0582 - val_rpn_bbox_loss: 0.4438 - val_mrcnn_class_loss: 0.4809 - val_mrcnn_bbox_loss: 0.6018 - val_mrcnn_mask_loss: 1.6368e-04\n",
      "Epoch 9/15\n",
      "200/200 [==============================] - 437s 2s/step - batch: 99.5000 - size: 8.0000 - loss: 2.7730 - rpn_class_loss: 0.0635 - rpn_bbox_loss: 0.3726 - mrcnn_class_loss: 0.4097 - mrcnn_bbox_loss: 0.5405 - mrcnn_mask_loss: 2.6193e-04 - val_loss: 3.0803 - val_rpn_class_loss: 0.0632 - val_rpn_bbox_loss: 0.4070 - val_mrcnn_class_loss: 0.4634 - val_mrcnn_bbox_loss: 0.6061 - val_mrcnn_mask_loss: 5.1256e-04\n",
      "Epoch 10/15\n",
      "200/200 [==============================] - 433s 2s/step - batch: 99.5000 - size: 8.0000 - loss: 2.8385 - rpn_class_loss: 0.0658 - rpn_bbox_loss: 0.3945 - mrcnn_class_loss: 0.4173 - mrcnn_bbox_loss: 0.5415 - mrcnn_mask_loss: 1.4491e-04 - val_loss: 3.2376 - val_rpn_class_loss: 0.0666 - val_rpn_bbox_loss: 0.4339 - val_mrcnn_class_loss: 0.5156 - val_mrcnn_bbox_loss: 0.6027 - val_mrcnn_mask_loss: 2.9603e-05\n",
      "Epoch 11/15\n",
      "200/200 [==============================] - 452s 2s/step - batch: 99.5000 - size: 8.0000 - loss: 2.7608 - rpn_class_loss: 0.0640 - rpn_bbox_loss: 0.3846 - mrcnn_class_loss: 0.3939 - mrcnn_bbox_loss: 0.5377 - mrcnn_mask_loss: 1.5713e-04 - val_loss: 3.0894 - val_rpn_class_loss: 0.0606 - val_rpn_bbox_loss: 0.4203 - val_mrcnn_class_loss: 0.4597 - val_mrcnn_bbox_loss: 0.6038 - val_mrcnn_mask_loss: 3.5139e-04\n",
      "Epoch 12/15\n",
      "200/200 [==============================] - 426s 2s/step - batch: 99.5000 - size: 8.0000 - loss: 2.7945 - rpn_class_loss: 0.0678 - rpn_bbox_loss: 0.3677 - mrcnn_class_loss: 0.4253 - mrcnn_bbox_loss: 0.5363 - mrcnn_mask_loss: 1.5051e-04 - val_loss: 3.1449 - val_rpn_class_loss: 0.0576 - val_rpn_bbox_loss: 0.4113 - val_mrcnn_class_loss: 0.5231 - val_mrcnn_bbox_loss: 0.5803 - val_mrcnn_mask_loss: 8.9663e-05\n",
      "Epoch 13/15\n",
      "200/200 [==============================] - 450s 2s/step - batch: 99.5000 - size: 8.0000 - loss: 2.9374 - rpn_class_loss: 0.0686 - rpn_bbox_loss: 0.4269 - mrcnn_class_loss: 0.4071 - mrcnn_bbox_loss: 0.5659 - mrcnn_mask_loss: 1.9168e-04 - val_loss: 3.0965 - val_rpn_class_loss: 0.0551 - val_rpn_bbox_loss: 0.4257 - val_mrcnn_class_loss: 0.4702 - val_mrcnn_bbox_loss: 0.5972 - val_mrcnn_mask_loss: 6.5981e-05\n",
      "Epoch 14/15\n",
      "200/200 [==============================] - 418s 2s/step - batch: 99.5000 - size: 8.0000 - loss: 2.9298 - rpn_class_loss: 0.0640 - rpn_bbox_loss: 0.4128 - mrcnn_class_loss: 0.4165 - mrcnn_bbox_loss: 0.5714 - mrcnn_mask_loss: 1.0355e-04 - val_loss: 3.0873 - val_rpn_class_loss: 0.0574 - val_rpn_bbox_loss: 0.3940 - val_mrcnn_class_loss: 0.4911 - val_mrcnn_bbox_loss: 0.6011 - val_mrcnn_mask_loss: 1.2877e-04\n",
      "Epoch 15/15\n",
      "200/200 [==============================] - 454s 2s/step - batch: 99.5000 - size: 8.0000 - loss: 2.9708 - rpn_class_loss: 0.0622 - rpn_bbox_loss: 0.4376 - mrcnn_class_loss: 0.4257 - mrcnn_bbox_loss: 0.5598 - mrcnn_mask_loss: 1.1026e-04 - val_loss: 3.0761 - val_rpn_class_loss: 0.0577 - val_rpn_bbox_loss: 0.4061 - val_mrcnn_class_loss: 0.4610 - val_mrcnn_bbox_loss: 0.6131 - val_mrcnn_mask_loss: 6.3236e-05\n",
      "CPU times: user 11min, sys: 1min 26s, total: 12min 26s\n",
      "Wall time: 1h 55s\n"
     ]
    }
   ],
   "source": [
    "%%time\n",
    "time_callback = TimeHistory()\n",
    "model.train(dataset_train, dataset_val,\n",
    "            learning_rate=LEARNING_RATE/5,\n",
    "            epochs=15,\n",
    "            layers='all',\n",
    "            augmentation=augmentation,\n",
    "            custom_callbacks=[time_callback])\n",
    "\n",
    "times = time_callback.times\n",
    "times_list.extend(times)\n",
    "news = model.keras_model.history.history\n",
    "for k in news: history[k] = history[k] + news[k]"
   ]
  },
  {
   "cell_type": "code",
   "execution_count": 29,
   "metadata": {
    "tags": []
   },
   "outputs": [
    {
     "name": "stdout",
     "output_type": "stream",
     "text": [
      "Epoch Training time: [418.2546012401581, 436.84853172302246, 433.4643096923828, 452.2518992424011, 425.5893085002899, 450.37851452827454, 417.9939739704132, 453.8830142021179]\n",
      "{'loss': [14.52625340104103, 2.920219239294529, 2.201862550973892, 1.5224493128061294, 1.543996348977089, 1.5335412353277207, 1.4682456463575364, 2.906486257314682, 2.7730079770088194, 2.838539335727692, 2.7608440566062926, 2.794515290260315, 2.9374066507816314, 2.929827147722244, 2.97077424287796], 'rpn_class_loss': [0.6216818, 0.2770945, 0.20172833, 0.0807244, 0.07475084, 0.08410248, 0.07544587, 0.07017115, 0.06347559, 0.06579848, 0.064049914, 0.06776536, 0.068569005, 0.064036466, 0.062203225], 'rpn_bbox_loss': [7.539376, 0.85369647, 0.76491934, 0.38578588, 0.41013923, 0.42178383, 0.37878516, 0.4064187, 0.37256417, 0.3945341, 0.3846083, 0.36766773, 0.42694244, 0.41284794, 0.4375618], 'mrcnn_class_loss': [0.7328842, 0.73809403, 0.48361835, 0.46592033, 0.4798547, 0.44388306, 0.43880072, 0.42190945, 0.4097131, 0.41726643, 0.39391282, 0.42534518, 0.4070815, 0.41653472, 0.42569107], 'mrcnn_bbox_loss': [5.628623, 1.051334, 0.7354679, 0.5893301, 0.57880574, 0.583379, 0.5749506, 0.554523, 0.54048914, 0.5415256, 0.53769404, 0.53632855, 0.56591856, 0.5713907, 0.5598209], 'mrcnn_mask_loss': [0.0036877068, 1.6870105e-07, 0.016128808, 0.00068863184, 0.0004457589, 0.00039289697, 0.00026326295, 0.00022078474, 0.0002619268, 0.00014490738, 0.00015713055, 0.00015051114, 0.00019168427, 0.00010354946, 0.000110257424], 'val_loss': [4.382680654525757, 4.519847779273987, 1.6915145015716553, 1.7279615259170533, 1.6561826109886169, 1.662349808216095, 1.6928636479377746, 3.169791646003723, 3.0803346061706542, 3.237553391456604, 3.0893896436691284, 3.144887342453003, 3.096460528373718, 3.0872728538513186, 3.0760766649246216], 'val_rpn_class_loss': [0.22329462, 0.21250427, 0.07972044, 0.0733042, 0.068661556, 0.07293365, 0.06406745, 0.058183774, 0.063212946, 0.06658768, 0.06058295, 0.057649713, 0.055107486, 0.0573605, 0.057730015], 'val_rpn_bbox_loss': [1.400268, 3.4452329, 0.43106744, 0.45802787, 0.45825022, 0.48496997, 0.49418068, 0.4437967, 0.40700698, 0.4339135, 0.42031714, 0.41125715, 0.42570415, 0.39395303, 0.4060909], 'val_mrcnn_class_loss': [1.4933953, 0.16456474, 0.5426754, 0.564895, 0.49755564, 0.48253316, 0.5110085, 0.4809471, 0.46335837, 0.51559466, 0.45968643, 0.52310216, 0.47015172, 0.49112785, 0.46101055], 'val_mrcnn_bbox_loss': [1.2657222, 0.6975447, 0.6372629, 0.63150656, 0.63156915, 0.62185466, 0.6235493, 0.6018045, 0.6060765, 0.6026514, 0.60375684, 0.5803449, 0.5972011, 0.60106623, 0.61314344], 'val_mrcnn_mask_loss': [1.7981137e-07, 7.4012148e-09, 0.0007882574, 0.0002278085, 0.00014602643, 5.8322203e-05, 5.7615405e-05, 0.0001636808, 0.0005125612, 2.9602665e-05, 0.00035139217, 8.966295e-05, 6.598124e-05, 0.00012876879, 6.32359e-05]}\n"
     ]
    }
   ],
   "source": [
    "print('Epoch Training time:', times)\n",
    "print(history)"
   ]
  },
  {
   "cell_type": "code",
   "execution_count": 30,
   "metadata": {
    "_uuid": "cfce1fa95369d39f958d269e27b07332b9d36f89",
    "tags": []
   },
   "outputs": [],
   "source": [
    "epochs = range(1,len(next(iter(history.values())))+1)\n",
    "df = pd.DataFrame(history, index=epochs)\n",
    "df['epoch_train_time'] = times_list\n",
    "df.to_csv(ROOT_DIR + 'v100-loss.csv')"
   ]
  },
  {
   "cell_type": "code",
   "execution_count": 31,
   "metadata": {},
   "outputs": [
    {
     "data": {
      "text/html": [
       "<div>\n",
       "<style scoped>\n",
       "    .dataframe tbody tr th:only-of-type {\n",
       "        vertical-align: middle;\n",
       "    }\n",
       "\n",
       "    .dataframe tbody tr th {\n",
       "        vertical-align: top;\n",
       "    }\n",
       "\n",
       "    .dataframe thead th {\n",
       "        text-align: right;\n",
       "    }\n",
       "</style>\n",
       "<table border=\"1\" class=\"dataframe\">\n",
       "  <thead>\n",
       "    <tr style=\"text-align: right;\">\n",
       "      <th></th>\n",
       "      <th>loss</th>\n",
       "      <th>rpn_class_loss</th>\n",
       "      <th>rpn_bbox_loss</th>\n",
       "      <th>mrcnn_class_loss</th>\n",
       "      <th>mrcnn_bbox_loss</th>\n",
       "      <th>mrcnn_mask_loss</th>\n",
       "      <th>val_loss</th>\n",
       "      <th>val_rpn_class_loss</th>\n",
       "      <th>val_rpn_bbox_loss</th>\n",
       "      <th>val_mrcnn_class_loss</th>\n",
       "      <th>val_mrcnn_bbox_loss</th>\n",
       "      <th>val_mrcnn_mask_loss</th>\n",
       "      <th>epoch_train_time</th>\n",
       "    </tr>\n",
       "  </thead>\n",
       "  <tbody>\n",
       "    <tr>\n",
       "      <th>1</th>\n",
       "      <td>14.526253</td>\n",
       "      <td>0.621682</td>\n",
       "      <td>7.539376</td>\n",
       "      <td>0.732884</td>\n",
       "      <td>5.628623</td>\n",
       "      <td>3.687707e-03</td>\n",
       "      <td>4.382681</td>\n",
       "      <td>0.223295</td>\n",
       "      <td>1.400268</td>\n",
       "      <td>1.493395</td>\n",
       "      <td>1.265722</td>\n",
       "      <td>1.798114e-07</td>\n",
       "      <td>185.879115</td>\n",
       "    </tr>\n",
       "    <tr>\n",
       "      <th>2</th>\n",
       "      <td>2.920219</td>\n",
       "      <td>0.277095</td>\n",
       "      <td>0.853696</td>\n",
       "      <td>0.738094</td>\n",
       "      <td>1.051334</td>\n",
       "      <td>1.687010e-07</td>\n",
       "      <td>4.519848</td>\n",
       "      <td>0.212504</td>\n",
       "      <td>3.445233</td>\n",
       "      <td>0.164565</td>\n",
       "      <td>0.697545</td>\n",
       "      <td>7.401215e-09</td>\n",
       "      <td>89.931817</td>\n",
       "    </tr>\n",
       "    <tr>\n",
       "      <th>3</th>\n",
       "      <td>2.201863</td>\n",
       "      <td>0.201728</td>\n",
       "      <td>0.764919</td>\n",
       "      <td>0.483618</td>\n",
       "      <td>0.735468</td>\n",
       "      <td>1.612881e-02</td>\n",
       "      <td>1.691515</td>\n",
       "      <td>0.079720</td>\n",
       "      <td>0.431067</td>\n",
       "      <td>0.542675</td>\n",
       "      <td>0.637263</td>\n",
       "      <td>7.882574e-04</td>\n",
       "      <td>548.307337</td>\n",
       "    </tr>\n",
       "    <tr>\n",
       "      <th>4</th>\n",
       "      <td>1.522449</td>\n",
       "      <td>0.080724</td>\n",
       "      <td>0.385786</td>\n",
       "      <td>0.465920</td>\n",
       "      <td>0.589330</td>\n",
       "      <td>6.886318e-04</td>\n",
       "      <td>1.727962</td>\n",
       "      <td>0.073304</td>\n",
       "      <td>0.458028</td>\n",
       "      <td>0.564895</td>\n",
       "      <td>0.631507</td>\n",
       "      <td>2.278085e-04</td>\n",
       "      <td>315.439312</td>\n",
       "    </tr>\n",
       "    <tr>\n",
       "      <th>5</th>\n",
       "      <td>1.543996</td>\n",
       "      <td>0.074751</td>\n",
       "      <td>0.410139</td>\n",
       "      <td>0.479855</td>\n",
       "      <td>0.578806</td>\n",
       "      <td>4.457589e-04</td>\n",
       "      <td>1.656183</td>\n",
       "      <td>0.068662</td>\n",
       "      <td>0.458250</td>\n",
       "      <td>0.497556</td>\n",
       "      <td>0.631569</td>\n",
       "      <td>1.460264e-04</td>\n",
       "      <td>429.214469</td>\n",
       "    </tr>\n",
       "  </tbody>\n",
       "</table>\n",
       "</div>"
      ],
      "text/plain": [
       "        loss  rpn_class_loss  rpn_bbox_loss  mrcnn_class_loss  \\\n",
       "1  14.526253        0.621682       7.539376          0.732884   \n",
       "2   2.920219        0.277095       0.853696          0.738094   \n",
       "3   2.201863        0.201728       0.764919          0.483618   \n",
       "4   1.522449        0.080724       0.385786          0.465920   \n",
       "5   1.543996        0.074751       0.410139          0.479855   \n",
       "\n",
       "   mrcnn_bbox_loss  mrcnn_mask_loss  val_loss  val_rpn_class_loss  \\\n",
       "1         5.628623     3.687707e-03  4.382681            0.223295   \n",
       "2         1.051334     1.687010e-07  4.519848            0.212504   \n",
       "3         0.735468     1.612881e-02  1.691515            0.079720   \n",
       "4         0.589330     6.886318e-04  1.727962            0.073304   \n",
       "5         0.578806     4.457589e-04  1.656183            0.068662   \n",
       "\n",
       "   val_rpn_bbox_loss  val_mrcnn_class_loss  val_mrcnn_bbox_loss  \\\n",
       "1           1.400268              1.493395             1.265722   \n",
       "2           3.445233              0.164565             0.697545   \n",
       "3           0.431067              0.542675             0.637263   \n",
       "4           0.458028              0.564895             0.631507   \n",
       "5           0.458250              0.497556             0.631569   \n",
       "\n",
       "   val_mrcnn_mask_loss  epoch_train_time  \n",
       "1         1.798114e-07        185.879115  \n",
       "2         7.401215e-09         89.931817  \n",
       "3         7.882574e-04        548.307337  \n",
       "4         2.278085e-04        315.439312  \n",
       "5         1.460264e-04        429.214469  "
      ]
     },
     "execution_count": 31,
     "metadata": {},
     "output_type": "execute_result"
    }
   ],
   "source": [
    "df.head()"
   ]
  },
  {
   "cell_type": "code",
   "execution_count": 32,
   "metadata": {
    "_uuid": "5edee0adf833e2ff6ff86c6ee65d782a8486d3c9",
    "tags": []
   },
   "outputs": [
    {
     "data": {
      "image/png": "[encoded data removed]",
      "text/plain": [
       "<Figure size 1080x360 with 1 Axes>"
      ]
     },
     "metadata": {
      "needs_background": "light"
     },
     "output_type": "display_data"
    }
   ],
   "source": [
    "plt.figure(figsize=(15,5))\n",
    "plt.subplot(111)\n",
    "plt.plot(epochs, history[\"loss\"], label=\"Train loss\")\n",
    "plt.plot(epochs, history[\"val_loss\"], label=\"Valid loss\")\n",
    "plt.title('Masked RCNN Loss')\n",
    "plt.legend()\n",
    "plt.savefig('v100-mrccn-loss-plot.png')\n",
    "# plt.show()"
   ]
  },
  {
   "cell_type": "code",
   "execution_count": 33,
   "metadata": {
    "_uuid": "db5c10d3f7da099e5751a04a6e6d49819882ecd4",
    "colab": {
     "base_uri": "https://localhost:8080/",
     "height": 35
    },
    "colab_type": "code",
    "id": "eraRlzgPmmIZ",
    "outputId": "de9e688c-ba4f-4b62-f842-dbcf00ce397c",
    "tags": []
   },
   "outputs": [
    {
     "name": "stdout",
     "output_type": "stream",
     "text": [
      "No weight files in /home/jupyter/pneumonia20221214T0103\n",
      "No weight files in /home/jupyter/pneumonia20221214T0109\n",
      "No weight files in /home/jupyter/pneumonia20221214T0155\n",
      "No weight files in /home/jupyter/pneumonia20221214T0159\n",
      "No weight files in /home/jupyter/pneumonia20221214T0207\n",
      "No weight files in /home/jupyter/pneumonia20221214T0256\n",
      "No weight files in /home/jupyter/pneumonia20221214T0732\n",
      "Found model /home/jupyter/pneumonia20221214T2308/mask_rcnn_pneumonia_0015.h5\n"
     ]
    }
   ],
   "source": [
    "# select trained model \n",
    "dir_names = next(os.walk(model.model_dir))[1]\n",
    "key = config.NAME.lower()\n",
    "dir_names = filter(lambda f: f.startswith(key), dir_names)\n",
    "dir_names = sorted(dir_names)\n",
    "\n",
    "if not dir_names:\n",
    "    import errno\n",
    "    raise FileNotFoundError(\n",
    "        errno.ENOENT,\n",
    "        \"Could not find model directory under {}\".format(self.model_dir))\n",
    "    \n",
    "fps = []\n",
    "# Pick last directory\n",
    "for d in dir_names: \n",
    "    dir_name = os.path.join(model.model_dir, d)\n",
    "    # Find the last checkpoint\n",
    "    checkpoints = next(os.walk(dir_name))[2]\n",
    "    checkpoints = filter(lambda f: f.startswith(\"mask_rcnn\"), checkpoints)\n",
    "    checkpoints = sorted(checkpoints)\n",
    "    if not checkpoints:\n",
    "        print('No weight files in {}'.format(dir_name))\n",
    "    else:\n",
    "        checkpoint = os.path.join(dir_name, checkpoints[-1])\n",
    "        fps.append(checkpoint)\n",
    "\n",
    "model_path = sorted(fps)[-1]\n",
    "print('Found model {}'.format(model_path))"
   ]
  },
  {
   "cell_type": "code",
   "execution_count": 34,
   "metadata": {
    "_uuid": "52138636b2ae5bf444bba808518cd8313bde65cd",
    "colab": {
     "base_uri": "https://localhost:8080/",
     "height": 53
    },
    "colab_type": "code",
    "id": "TgpT9AzC2Bgz",
    "outputId": "60f5a175-4666-497d-b4e8-0bdab39a92d0",
    "tags": []
   },
   "outputs": [
    {
     "name": "stdout",
     "output_type": "stream",
     "text": [
      "Loading weights from  /home/jupyter/pneumonia20221214T2308/mask_rcnn_pneumonia_0015.h5\n",
      "Re-starting from epoch 15\n"
     ]
    }
   ],
   "source": [
    "class InferenceConfig(DetectorConfig):\n",
    "    GPU_COUNT = 1\n",
    "    IMAGES_PER_GPU = 1\n",
    "\n",
    "inference_config = InferenceConfig()\n",
    "\n",
    "# Recreate the model in inference mode\n",
    "model = modellib.MaskRCNN(mode='inference', \n",
    "                          config=inference_config,\n",
    "                          model_dir=ROOT_DIR)\n",
    "\n",
    "# Load trained weights (fill in path to trained weights here)\n",
    "assert model_path != \"\", \"Provide path to trained weights\"\n",
    "print(\"Loading weights from \", model_path)\n",
    "model.load_weights(model_path, by_name=True)"
   ]
  },
  {
   "cell_type": "markdown",
   "metadata": {
    "_uuid": "164e18701a830bc6c42a791feea13549de37289b",
    "colab_type": "text",
    "id": "WcV1cL_aiSc4"
   },
   "source": [
    "### Final steps - Create the submission file"
   ]
  },
  {
   "cell_type": "code",
   "execution_count": 35,
   "metadata": {
    "_uuid": "fd9f53fa319a425693e07fe4898ddeeaa5d07f99",
    "colab": {},
    "colab_type": "code",
    "id": "qRWBVJKYNdWM",
    "tags": []
   },
   "outputs": [],
   "source": [
    "# Get filenames of test dataset DICOM images\n",
    "test_image_fps = get_dicom_fps(test_dicom_dir)"
   ]
  },
  {
   "cell_type": "code",
   "execution_count": 36,
   "metadata": {
    "_uuid": "4a5c0c6134408ddbf5a34496d7e9d7be5692e9a1",
    "colab": {},
    "colab_type": "code",
    "id": "C6UWVrbM2Bob",
    "tags": []
   },
   "outputs": [],
   "source": [
    "# Make predictions on test images, write out sample submission\n",
    "def predict(image_fps, filepath='submission.csv', min_conf=0.95):\n",
    "    # assume square image\n",
    "    resize_factor = ORIG_SIZE / config.IMAGE_SHAPE[0]\n",
    "    #resize_factor = ORIG_SIZE\n",
    "    with open(filepath, 'w') as file:\n",
    "        file.write(\"patientId,PredictionString\\n\")\n",
    "\n",
    "        for image_id in tqdm(image_fps):\n",
    "            ds = pydicom.read_file(image_id)\n",
    "            image = ds.pixel_array\n",
    "            # If grayscale. Convert to RGB for consistency.\n",
    "            if len(image.shape) != 3 or image.shape[2] != 3:\n",
    "                image = np.stack((image,) * 3, -1)\n",
    "            image, window, scale, padding, crop = utils.resize_image(\n",
    "                image,\n",
    "                min_dim=config.IMAGE_MIN_DIM,\n",
    "                min_scale=config.IMAGE_MIN_SCALE,\n",
    "                max_dim=config.IMAGE_MAX_DIM,\n",
    "                mode=config.IMAGE_RESIZE_MODE)\n",
    "\n",
    "            patient_id = os.path.splitext(os.path.basename(image_id))[0]\n",
    "\n",
    "            results = model.detect([image])\n",
    "            r = results[0]\n",
    "\n",
    "            out_str = \"\"\n",
    "            out_str += patient_id\n",
    "            out_str += \",\"\n",
    "            assert( len(r['rois']) == len(r['class_ids']) == len(r['scores']) )\n",
    "            if len(r['rois']) == 0:\n",
    "                pass\n",
    "            else:\n",
    "                num_instances = len(r['rois'])\n",
    "\n",
    "                for i in range(num_instances):\n",
    "                    if r['scores'][i] > min_conf:\n",
    "                        out_str += ' '\n",
    "                        out_str += str(round(r['scores'][i], 2))\n",
    "                        out_str += ' '\n",
    "\n",
    "                        # x1, y1, width, height\n",
    "                        x1 = r['rois'][i][1]\n",
    "                        y1 = r['rois'][i][0]\n",
    "                        width = r['rois'][i][3] - x1\n",
    "                        height = r['rois'][i][2] - y1\n",
    "                        bboxes_str = \"{} {} {} {}\".format(x1*resize_factor, y1*resize_factor, \\\n",
    "                                                           width*resize_factor, height*resize_factor)\n",
    "                        out_str += bboxes_str\n",
    "\n",
    "            file.write(out_str+\"\\n\")"
   ]
  },
  {
   "cell_type": "code",
   "execution_count": null,
   "metadata": {},
   "outputs": [
    {
     "name": "stderr",
     "output_type": "stream",
     "text": [
      "  0% 0/3000 [00:00<?, ?it/s]2022-12-15 01:44:20.233262: W tensorflow/core/grappler/costs/op_level_cost_estimator.cc:690] Error in PredictCost() for the op: op: \"CropAndResize\" attr { key: \"T\" value { type: DT_FLOAT } } attr { key: \"extrapolation_value\" value { f: 0 } } attr { key: \"method\" value { s: \"bilinear\" } } inputs { dtype: DT_FLOAT shape { dim { size: -50 } dim { size: -208 } dim { size: -209 } dim { size: 256 } } } inputs { dtype: DT_FLOAT shape { dim { size: -19 } dim { size: 4 } } } inputs { dtype: DT_INT32 shape { dim { size: -19 } } } inputs { dtype: DT_INT32 shape { dim { size: 2 } } value { dtype: DT_INT32 tensor_shape { dim { size: 2 } } tensor_content: \"\\007\\000\\000\\000\\007\\000\\000\\000\" } } device { type: \"GPU\" vendor: \"NVIDIA\" model: \"Tesla V100-SXM2-16GB\" frequency: 1530 num_cores: 80 environment { key: \"architecture\" value: \"7.0\" } environment { key: \"cuda\" value: \"11000\" } environment { key: \"cudnn\" value: \"8005\" } num_registers: 65536 l1_cache_size: 24576 l2_cache_size: 6291456 shared_memory_size_per_multiprocessor: 98304 memory_size: 15345844224 bandwidth: 898048000 } outputs { dtype: DT_FLOAT shape { dim { size: -19 } dim { size: 7 } dim { size: 7 } dim { size: 256 } } }\n",
      "2022-12-15 01:44:20.233460: W tensorflow/core/grappler/costs/op_level_cost_estimator.cc:690] Error in PredictCost() for the op: op: \"CropAndResize\" attr { key: \"T\" value { type: DT_FLOAT } } attr { key: \"extrapolation_value\" value { f: 0 } } attr { key: \"method\" value { s: \"bilinear\" } } inputs { dtype: DT_FLOAT shape { dim { size: -50 } dim { size: -198 } dim { size: -199 } dim { size: 256 } } } inputs { dtype: DT_FLOAT shape { dim { size: -22 } dim { size: 4 } } } inputs { dtype: DT_INT32 shape { dim { size: -22 } } } inputs { dtype: DT_INT32 shape { dim { size: 2 } } value { dtype: DT_INT32 tensor_shape { dim { size: 2 } } tensor_content: \"\\007\\000\\000\\000\\007\\000\\000\\000\" } } device { type: \"GPU\" vendor: \"NVIDIA\" model: \"Tesla V100-SXM2-16GB\" frequency: 1530 num_cores: 80 environment { key: \"architecture\" value: \"7.0\" } environment { key: \"cuda\" value: \"11000\" } environment { key: \"cudnn\" value: \"8005\" } num_registers: 65536 l1_cache_size: 24576 l2_cache_size: 6291456 shared_memory_size_per_multiprocessor: 98304 memory_size: 15345844224 bandwidth: 898048000 } outputs { dtype: DT_FLOAT shape { dim { size: -22 } dim { size: 7 } dim { size: 7 } dim { size: 256 } } }\n",
      "2022-12-15 01:44:20.233594: W tensorflow/core/grappler/costs/op_level_cost_estimator.cc:690] Error in PredictCost() for the op: op: \"CropAndResize\" attr { key: \"T\" value { type: DT_FLOAT } } attr { key: \"extrapolation_value\" value { f: 0 } } attr { key: \"method\" value { s: \"bilinear\" } } inputs { dtype: DT_FLOAT shape { dim { size: -50 } dim { size: -186 } dim { size: -187 } dim { size: 256 } } } inputs { dtype: DT_FLOAT shape { dim { size: -24 } dim { size: 4 } } } inputs { dtype: DT_INT32 shape { dim { size: -24 } } } inputs { dtype: DT_INT32 shape { dim { size: 2 } } value { dtype: DT_INT32 tensor_shape { dim { size: 2 } } tensor_content: \"\\007\\000\\000\\000\\007\\000\\000\\000\" } } device { type: \"GPU\" vendor: \"NVIDIA\" model: \"Tesla V100-SXM2-16GB\" frequency: 1530 num_cores: 80 environment { key: \"architecture\" value: \"7.0\" } environment { key: \"cuda\" value: \"11000\" } environment { key: \"cudnn\" value: \"8005\" } num_registers: 65536 l1_cache_size: 24576 l2_cache_size: 6291456 shared_memory_size_per_multiprocessor: 98304 memory_size: 15345844224 bandwidth: 898048000 } outputs { dtype: DT_FLOAT shape { dim { size: -24 } dim { size: 7 } dim { size: 7 } dim { size: 256 } } }\n",
      "2022-12-15 01:44:20.233755: W tensorflow/core/grappler/costs/op_level_cost_estimator.cc:690] Error in PredictCost() for the op: op: \"CropAndResize\" attr { key: \"T\" value { type: DT_FLOAT } } attr { key: \"extrapolation_value\" value { f: 0 } } attr { key: \"method\" value { s: \"bilinear\" } } inputs { dtype: DT_FLOAT shape { dim { size: -50 } dim { size: -172 } dim { size: -173 } dim { size: 256 } } } inputs { dtype: DT_FLOAT shape { dim { size: -26 } dim { size: 4 } } } inputs { dtype: DT_INT32 shape { dim { size: -26 } } } inputs { dtype: DT_INT32 shape { dim { size: 2 } } value { dtype: DT_INT32 tensor_shape { dim { size: 2 } } tensor_content: \"\\007\\000\\000\\000\\007\\000\\000\\000\" } } device { type: \"GPU\" vendor: \"NVIDIA\" model: \"Tesla V100-SXM2-16GB\" frequency: 1530 num_cores: 80 environment { key: \"architecture\" value: \"7.0\" } environment { key: \"cuda\" value: \"11000\" } environment { key: \"cudnn\" value: \"8005\" } num_registers: 65536 l1_cache_size: 24576 l2_cache_size: 6291456 shared_memory_size_per_multiprocessor: 98304 memory_size: 15345844224 bandwidth: 898048000 } outputs { dtype: DT_FLOAT shape { dim { size: -26 } dim { size: 7 } dim { size: 7 } dim { size: 256 } } }\n",
      "2022-12-15 01:44:20.239884: W tensorflow/core/grappler/costs/op_level_cost_estimator.cc:690] Error in PredictCost() for the op: op: \"CropAndResize\" attr { key: \"T\" value { type: DT_FLOAT } } attr { key: \"extrapolation_value\" value { f: 0 } } attr { key: \"method\" value { s: \"bilinear\" } } inputs { dtype: DT_FLOAT shape { dim { size: -50 } dim { size: -208 } dim { size: -209 } dim { size: 256 } } } inputs { dtype: DT_FLOAT shape { dim { size: -34 } dim { size: 4 } } } inputs { dtype: DT_INT32 shape { dim { size: -34 } } } inputs { dtype: DT_INT32 shape { dim { size: 2 } } value { dtype: DT_INT32 tensor_shape { dim { size: 2 } } tensor_content: \"\\016\\000\\000\\000\\016\\000\\000\\000\" } } device { type: \"GPU\" vendor: \"NVIDIA\" model: \"Tesla V100-SXM2-16GB\" frequency: 1530 num_cores: 80 environment { key: \"architecture\" value: \"7.0\" } environment { key: \"cuda\" value: \"11000\" } environment { key: \"cudnn\" value: \"8005\" } num_registers: 65536 l1_cache_size: 24576 l2_cache_size: 6291456 shared_memory_size_per_multiprocessor: 98304 memory_size: 15345844224 bandwidth: 898048000 } outputs { dtype: DT_FLOAT shape { dim { size: -34 } dim { size: 14 } dim { size: 14 } dim { size: 256 } } }\n",
      "2022-12-15 01:44:20.240059: W tensorflow/core/grappler/costs/op_level_cost_estimator.cc:690] Error in PredictCost() for the op: op: \"CropAndResize\" attr { key: \"T\" value { type: DT_FLOAT } } attr { key: \"extrapolation_value\" value { f: 0 } } attr { key: \"method\" value { s: \"bilinear\" } } inputs { dtype: DT_FLOAT shape { dim { size: -50 } dim { size: -198 } dim { size: -199 } dim { size: 256 } } } inputs { dtype: DT_FLOAT shape { dim { size: -36 } dim { size: 4 } } } inputs { dtype: DT_INT32 shape { dim { size: -36 } } } inputs { dtype: DT_INT32 shape { dim { size: 2 } } value { dtype: DT_INT32 tensor_shape { dim { size: 2 } } tensor_content: \"\\016\\000\\000\\000\\016\\000\\000\\000\" } } device { type: \"GPU\" vendor: \"NVIDIA\" model: \"Tesla V100-SXM2-16GB\" frequency: 1530 num_cores: 80 environment { key: \"architecture\" value: \"7.0\" } environment { key: \"cuda\" value: \"11000\" } environment { key: \"cudnn\" value: \"8005\" } num_registers: 65536 l1_cache_size: 24576 l2_cache_size: 6291456 shared_memory_size_per_multiprocessor: 98304 memory_size: 15345844224 bandwidth: 898048000 } outputs { dtype: DT_FLOAT shape { dim { size: -36 } dim { size: 14 } dim { size: 14 } dim { size: 256 } } }\n",
      "2022-12-15 01:44:20.240236: W tensorflow/core/grappler/costs/op_level_cost_estimator.cc:690] Error in PredictCost() for the op: op: \"CropAndResize\" attr { key: \"T\" value { type: DT_FLOAT } } attr { key: \"extrapolation_value\" value { f: 0 } } attr { key: \"method\" value { s: \"bilinear\" } } inputs { dtype: DT_FLOAT shape { dim { size: -50 } dim { size: -186 } dim { size: -187 } dim { size: 256 } } } inputs { dtype: DT_FLOAT shape { dim { size: -38 } dim { size: 4 } } } inputs { dtype: DT_INT32 shape { dim { size: -38 } } } inputs { dtype: DT_INT32 shape { dim { size: 2 } } value { dtype: DT_INT32 tensor_shape { dim { size: 2 } } tensor_content: \"\\016\\000\\000\\000\\016\\000\\000\\000\" } } device { type: \"GPU\" vendor: \"NVIDIA\" model: \"Tesla V100-SXM2-16GB\" frequency: 1530 num_cores: 80 environment { key: \"architecture\" value: \"7.0\" } environment { key: \"cuda\" value: \"11000\" } environment { key: \"cudnn\" value: \"8005\" } num_registers: 65536 l1_cache_size: 24576 l2_cache_size: 6291456 shared_memory_size_per_multiprocessor: 98304 memory_size: 15345844224 bandwidth: 898048000 } outputs { dtype: DT_FLOAT shape { dim { size: -38 } dim { size: 14 } dim { size: 14 } dim { size: 256 } } }\n",
      "2022-12-15 01:44:20.240466: W tensorflow/core/grappler/costs/op_level_cost_estimator.cc:690] Error in PredictCost() for the op: op: \"CropAndResize\" attr { key: \"T\" value { type: DT_FLOAT } } attr { key: \"extrapolation_value\" value { f: 0 } } attr { key: \"method\" value { s: \"bilinear\" } } inputs { dtype: DT_FLOAT shape { dim { size: -50 } dim { size: -172 } dim { size: -173 } dim { size: 256 } } } inputs { dtype: DT_FLOAT shape { dim { size: -40 } dim { size: 4 } } } inputs { dtype: DT_INT32 shape { dim { size: -40 } } } inputs { dtype: DT_INT32 shape { dim { size: 2 } } value { dtype: DT_INT32 tensor_shape { dim { size: 2 } } tensor_content: \"\\016\\000\\000\\000\\016\\000\\000\\000\" } } device { type: \"GPU\" vendor: \"NVIDIA\" model: \"Tesla V100-SXM2-16GB\" frequency: 1530 num_cores: 80 environment { key: \"architecture\" value: \"7.0\" } environment { key: \"cuda\" value: \"11000\" } environment { key: \"cudnn\" value: \"8005\" } num_registers: 65536 l1_cache_size: 24576 l2_cache_size: 6291456 shared_memory_size_per_multiprocessor: 98304 memory_size: 15345844224 bandwidth: 898048000 } outputs { dtype: DT_FLOAT shape { dim { size: -40 } dim { size: 14 } dim { size: 14 } dim { size: 256 } } }\n",
      " 87% 2615/3000 [05:15<00:49,  7.73it/s]"
     ]
    }
   ],
   "source": [
    "submission_fp = os.path.join(ROOT_DIR, 'submission-0.95.csv')\n",
    "predict(test_image_fps, filepath=submission_fp, min_conf=0.95)\n",
    "print(submission_fp)"
   ]
  },
  {
   "cell_type": "code",
   "execution_count": null,
   "metadata": {},
   "outputs": [],
   "source": []
  },
  {
   "cell_type": "code",
   "execution_count": null,
   "metadata": {},
   "outputs": [],
   "source": []
  }
 ],
 "metadata": {
  "accelerator": "GPU",
  "colab": {
   "collapsed_sections": [],
   "name": "lesson-3-rsna-pneumonia-detection-challenge-kaggle",
   "provenance": [],
   "version": "0.3.2"
  },
  "kernelspec": {
   "display_name": "Python 3 (ipykernel) (Local)",
   "language": "python",
   "name": "local-python3"
  },
  "language_info": {
   "codemirror_mode": {
    "name": "ipython",
    "version": 3
   },
   "file_extension": ".py",
   "mimetype": "text/x-python",
   "name": "python",
   "nbconvert_exporter": "python",
   "pygments_lexer": "ipython3",
   "version": "3.7.12"
  }
 },
 "nbformat": 4,
 "nbformat_minor": 4
}
