{
 "cells": [
  {
   "cell_type": "markdown",
   "metadata": {
    "_uuid": "7c1fce19a11f95416168ced03c2c70fa818b21a5",
    "colab_type": "text",
    "id": "KBeAf8WgaeSk"
   },
   "source": [
    "Right now, this is substantively identical to version 8 of Henrique Mendoça's RCNN model with Coco transfer learning (see fork link at the top).  The first version, which is an exact copy, got a LB score of 0.162.  I've edited the documentaiton and added the plot code here from his later version.   This version probably does not get such a high score, just because there is a lot of randomness between one run and another.\n",
    "\n",
    "**Mask-RCNN Starter Model for the RSNA Pneumonia Detection Challenge with transfer learning **\n",
    "\n",
    "Using pre-trained COCO weights trained on http://cocodataset.org as in https://github.com/matterport/Mask_RCNN/tree/master/samples/balloon\n",
    "We get the best public kernel performance so far, and also training only within the 6hrs kaggle limit."
   ]
  },
  {
   "cell_type": "code",
   "execution_count": 1,
   "metadata": {
    "_uuid": "40c67b3ff0fa04587dec508363308adaa3ceaf34",
    "colab": {},
    "colab_type": "code",
    "id": "4kjcC6QqywWl",
    "tags": []
   },
   "outputs": [],
   "source": [
    "import os \n",
    "import sys\n",
    "import random\n",
    "import math\n",
    "import numpy as np\n",
    "import cv2\n",
    "import matplotlib.pyplot as plt\n",
    "import json\n",
    "import pydicom\n",
    "from imgaug import augmenters as iaa\n",
    "from tqdm import tqdm\n",
    "import pandas as pd \n",
    "import glob "
   ]
  },
  {
   "cell_type": "code",
   "execution_count": 45,
   "metadata": {
    "_uuid": "6e5764759e6a0a9b698b44645658f66873edd807",
    "colab": {},
    "colab_type": "code",
    "id": "yP0XLJx_x_6o",
    "tags": []
   },
   "outputs": [],
   "source": [
    "DATA_DIR = '/home/jupyter/rsna-pneumonia-data'\n",
    "ROOT_DIR = '/home/jupyter/'"
   ]
  },
  {
   "cell_type": "markdown",
   "metadata": {
    "_uuid": "576df4c47a23d08b1bdb384245e09aa69f88bbd3",
    "colab_type": "text",
    "id": "kdYzLq1zfKL4"
   },
   "source": [
    "### Install Matterport's Mask-RCNN model from github.\n",
    "See the [Matterport's implementation of Mask-RCNN](https://github.com/matterport/Mask_RCNN)."
   ]
  },
  {
   "cell_type": "code",
   "execution_count": 3,
   "metadata": {
    "_uuid": "b37d22551d332f0f7b722cc7204eb614524b6c21",
    "colab": {
     "base_uri": "https://localhost:8080/",
     "height": 143
    },
    "colab_type": "code",
    "id": "KgllzLnDr7kF",
    "outputId": "6c978df7-2013-437e-acd1-5011048dfb53",
    "tags": []
   },
   "outputs": [],
   "source": [
    "# !git clone https://www.github.com/matterport/Mask_RCNN.git\n",
    "# os.chdir('Mask_RCNN')\n",
    "#!python setup.py -q install"
   ]
  },
  {
   "cell_type": "code",
   "execution_count": 4,
   "metadata": {
    "_uuid": "3acbbbe055b6a409d3c50ae0f893acf51b5ae7ba",
    "colab": {
     "base_uri": "https://localhost:8080/",
     "height": 35
    },
    "colab_type": "code",
    "id": "-KZXyWwhzOVU",
    "outputId": "2576cc17-7484-4311-ad72-3c5643dcb5bb",
    "tags": []
   },
   "outputs": [],
   "source": [
    "# Import Mask RCNN\n",
    "sys.path.append(os.path.join(ROOT_DIR, 'Mask_RCNN'))  # To find local version of the library\n",
    "from mrcnn.config import Config\n",
    "from mrcnn import utils\n",
    "import mrcnn.model as modellib\n",
    "from mrcnn import visualize\n",
    "from mrcnn.model import log"
   ]
  },
  {
   "cell_type": "code",
   "execution_count": 5,
   "metadata": {
    "_uuid": "50089cc61791871cdf6a5c0037dc4f28b7b7d7cc",
    "colab": {},
    "colab_type": "code",
    "id": "FghMmiMjzOX2",
    "tags": []
   },
   "outputs": [],
   "source": [
    "train_dicom_dir = os.path.join(DATA_DIR, 'stage_2_train_images')\n",
    "test_dicom_dir = os.path.join(DATA_DIR, 'stage_2_test_images')"
   ]
  },
  {
   "cell_type": "code",
   "execution_count": 7,
   "metadata": {
    "_uuid": "c3ee0cd0ee0b1defdec97b94bc736587c1f7631f",
    "tags": []
   },
   "outputs": [
    {
     "name": "stdout",
     "output_type": "stream",
     "text": [
      "-rw-r--r-- 1 root root 246M Dec  6  2021 mask_rcnn_coco.h5\n"
     ]
    }
   ],
   "source": [
    "### Download COCO pre-trained weights\n",
    "# !wget --quiet https://github.com/matterport/Mask_RCNN/releases/download/v2.0/mask_rcnn_coco.h5\n",
    "!ls -lh mask_rcnn_coco.h5\n",
    "\n",
    "COCO_WEIGHTS_PATH = \"./pneumonia20221213T0503/mask_rcnn_pneumonia_0007.h5\" #\"mask_rcnn_coco.h5\""
   ]
  },
  {
   "cell_type": "markdown",
   "metadata": {
    "_uuid": "032cc5fe4baa051108106675e6ca4f4fdb2846ed",
    "colab_type": "text",
    "id": "gj-tvDvEaDiC"
   },
   "source": [
    "### Some setup functions and classes for Mask-RCNN\n",
    "\n",
    "- dicom_fps is a list of the dicom image path and filenames \n",
    "- image_annotions is a dictionary of the annotations keyed by the filenames\n",
    "- parsing the dataset returns a list of the image filenames and the annotations dictionary"
   ]
  },
  {
   "cell_type": "code",
   "execution_count": 8,
   "metadata": {
    "_uuid": "778cb19865d7cc63440491aef9202b71c61e8bb2",
    "colab": {},
    "colab_type": "code",
    "id": "ivqC4cnszOaM",
    "tags": []
   },
   "outputs": [],
   "source": [
    "def get_dicom_fps(dicom_dir):\n",
    "    dicom_fps = glob.glob(dicom_dir+'/'+'*.dcm')\n",
    "    return list(set(dicom_fps))\n",
    "\n",
    "def parse_dataset(dicom_dir, anns): \n",
    "    image_fps = get_dicom_fps(dicom_dir)\n",
    "    image_annotations = {fp: [] for fp in image_fps}\n",
    "    for index, row in anns.iterrows(): \n",
    "        fp = os.path.join(dicom_dir, row['patientId']+'.dcm')\n",
    "        image_annotations[fp].append(row)\n",
    "    return image_fps, image_annotations "
   ]
  },
  {
   "cell_type": "code",
   "execution_count": 9,
   "metadata": {
    "_uuid": "dfcffc4eaa94a41497717851dee9f702d8a2a73b",
    "colab": {
     "base_uri": "https://localhost:8080/",
     "height": 917
    },
    "colab_type": "code",
    "id": "_SfzTa-1zOck",
    "outputId": "91ae8935-bccb-4b8e-9a7e-aa690f95fd9b",
    "tags": []
   },
   "outputs": [
    {
     "name": "stdout",
     "output_type": "stream",
     "text": [
      "\n",
      "Configurations:\n",
      "BACKBONE                       resnet50\n",
      "BACKBONE_STRIDES               [4, 8, 16, 32, 64]\n",
      "BATCH_SIZE                     8\n",
      "BBOX_STD_DEV                   [0.1 0.1 0.2 0.2]\n",
      "COMPUTE_BACKBONE_SHAPE         None\n",
      "DETECTION_MAX_INSTANCES        3\n",
      "DETECTION_MIN_CONFIDENCE       0.7\n",
      "DETECTION_NMS_THRESHOLD        0.1\n",
      "FPN_CLASSIF_FC_LAYERS_SIZE     1024\n",
      "GPU_COUNT                      1\n",
      "GRADIENT_CLIP_NORM             5.0\n",
      "IMAGES_PER_GPU                 8\n",
      "IMAGE_CHANNEL_COUNT            3\n",
      "IMAGE_MAX_DIM                  256\n",
      "IMAGE_META_SIZE                14\n",
      "IMAGE_MIN_DIM                  256\n",
      "IMAGE_MIN_SCALE                0\n",
      "IMAGE_RESIZE_MODE              square\n",
      "IMAGE_SHAPE                    [256 256   3]\n",
      "LEARNING_MOMENTUM              0.9\n",
      "LEARNING_RATE                  0.001\n",
      "LOSS_WEIGHTS                   {'rpn_class_loss': 1.0, 'rpn_bbox_loss': 1.0, 'mrcnn_class_loss': 1.0, 'mrcnn_bbox_loss': 1.0, 'mrcnn_mask_loss': 1.0}\n",
      "MASK_POOL_SIZE                 14\n",
      "MASK_SHAPE                     [28, 28]\n",
      "MAX_GT_INSTANCES               3\n",
      "MEAN_PIXEL                     [123.7 116.8 103.9]\n",
      "MINI_MASK_SHAPE                (56, 56)\n",
      "NAME                           pneumonia\n",
      "NUM_CLASSES                    2\n",
      "POOL_SIZE                      7\n",
      "POST_NMS_ROIS_INFERENCE        1000\n",
      "POST_NMS_ROIS_TRAINING         2000\n",
      "PRE_NMS_LIMIT                  6000\n",
      "ROI_POSITIVE_RATIO             0.33\n",
      "RPN_ANCHOR_RATIOS              [0.5, 1, 2]\n",
      "RPN_ANCHOR_SCALES              (32, 64, 128, 256, 1)\n",
      "RPN_ANCHOR_STRIDE              1\n",
      "RPN_BBOX_STD_DEV               [0.1 0.1 0.2 0.2]\n",
      "RPN_NMS_THRESHOLD              0.7\n",
      "RPN_TRAIN_ANCHORS_PER_IMAGE    256\n",
      "STEPS_PER_EPOCH                200\n",
      "TOP_DOWN_PYRAMID_SIZE          256\n",
      "TRAIN_BN                       False\n",
      "TRAIN_ROIS_PER_IMAGE           32\n",
      "USE_MINI_MASK                  True\n",
      "USE_RPN_ROIS                   True\n",
      "VALIDATION_STEPS               50\n",
      "WEIGHT_DECAY                   0.0001\n",
      "\n",
      "\n"
     ]
    }
   ],
   "source": [
    "# The following parameters have been selected to reduce running time for demonstration purposes \n",
    "# These are not optimal \n",
    "\n",
    "class DetectorConfig(Config):\n",
    "    \"\"\"Configuration for training pneumonia detection on the RSNA pneumonia dataset.\n",
    "    Overrides values in the base Config class.\n",
    "    \"\"\"\n",
    "    \n",
    "    # Give the configuration a recognizable name  \n",
    "    NAME = 'pneumonia'\n",
    "    \n",
    "    # Train on 1 GPU and 8 images per GPU. We can put multiple images on each\n",
    "    # GPU because the images are small. Batch size is 8 (GPUs * images/GPU).\n",
    "    GPU_COUNT = 1\n",
    "    IMAGES_PER_GPU = 8\n",
    "    \n",
    "    BACKBONE = 'resnet50'\n",
    "    \n",
    "    NUM_CLASSES = 2  # background + 1 pneumonia classes\n",
    "    \n",
    "    IMAGE_MIN_DIM = 256\n",
    "    IMAGE_MAX_DIM = 256\n",
    "    RPN_ANCHOR_SCALES = (32, 64, 128, 256, 1)\n",
    "    TRAIN_ROIS_PER_IMAGE = 32\n",
    "    MAX_GT_INSTANCES = 3\n",
    "    DETECTION_MAX_INSTANCES = 3\n",
    "    DETECTION_MIN_CONFIDENCE = 0.7\n",
    "    DETECTION_NMS_THRESHOLD = 0.1\n",
    "\n",
    "    STEPS_PER_EPOCH = 200\n",
    "    \n",
    "config = DetectorConfig()\n",
    "config.display()"
   ]
  },
  {
   "cell_type": "code",
   "execution_count": 10,
   "metadata": {
    "_uuid": "52bd3ffbdde0173a363055482d675da51c2aba99",
    "colab": {},
    "colab_type": "code",
    "id": "8EBVA1M60yAj",
    "tags": []
   },
   "outputs": [],
   "source": [
    "class DetectorDataset(utils.Dataset):\n",
    "    \"\"\"Dataset class for training pneumonia detection on the RSNA pneumonia dataset.\n",
    "    \"\"\"\n",
    "\n",
    "    def __init__(self, image_fps, image_annotations, orig_height, orig_width):\n",
    "        super().__init__(self)\n",
    "        \n",
    "        # Add classes\n",
    "        self.add_class('pneumonia', 1, 'Lung Opacity')\n",
    "        \n",
    "        # add images \n",
    "        for i, fp in enumerate(image_fps):\n",
    "            annotations = image_annotations[fp]\n",
    "            self.add_image('pneumonia', image_id=i, path=fp, \n",
    "                           annotations=annotations, orig_height=orig_height, orig_width=orig_width)\n",
    "            \n",
    "    def image_reference(self, image_id):\n",
    "        info = self.image_info[image_id]\n",
    "        return info['path']\n",
    "\n",
    "    def load_image(self, image_id):\n",
    "        info = self.image_info[image_id]\n",
    "        fp = info['path']\n",
    "        ds = pydicom.read_file(fp)\n",
    "        image = ds.pixel_array\n",
    "        # If grayscale. Convert to RGB for consistency.\n",
    "        if len(image.shape) != 3 or image.shape[2] != 3:\n",
    "            image = np.stack((image,) * 3, -1)\n",
    "        return image\n",
    "\n",
    "    def load_mask(self, image_id):\n",
    "        info = self.image_info[image_id]\n",
    "        annotations = info['annotations']\n",
    "        count = len(annotations)\n",
    "        if count == 0:\n",
    "            mask = np.zeros((info['orig_height'], info['orig_width'], 1), dtype=np.uint8)\n",
    "            class_ids = np.zeros((1,), dtype=np.int32)\n",
    "        else:\n",
    "            mask = np.zeros((info['orig_height'], info['orig_width'], count), dtype=np.uint8)\n",
    "            class_ids = np.zeros((count,), dtype=np.int32)\n",
    "            for i, a in enumerate(annotations):\n",
    "                if a['Target'] == 1:\n",
    "                    x = int(a['x'])\n",
    "                    y = int(a['y'])\n",
    "                    w = int(a['width'])\n",
    "                    h = int(a['height'])\n",
    "                    mask_instance = mask[:, :, i].copy()\n",
    "                    cv2.rectangle(mask_instance, (x, y), (x+w, y+h), 255, -1)\n",
    "                    mask[:, :, i] = mask_instance\n",
    "                    class_ids[i] = 1\n",
    "        return mask.astype(np.bool), class_ids.astype(np.int32)"
   ]
  },
  {
   "cell_type": "markdown",
   "metadata": {
    "_uuid": "1cb852e262b69d348743767d675573368ab672c9",
    "colab_type": "text",
    "id": "9RlMo04ckd98"
   },
   "source": [
    "### Examine the annotation data, parse the dataset, and view dicom fields"
   ]
  },
  {
   "cell_type": "code",
   "execution_count": 11,
   "metadata": {
    "_uuid": "793b1c6c6ba4e5f0d51e130080aa799f230b5ef6",
    "colab": {
     "base_uri": "https://localhost:8080/",
     "height": 235
    },
    "colab_type": "code",
    "id": "EdhUEFDr0yDA",
    "outputId": "1715a5df-a577-41fd-bf20-f1a27aadb28c",
    "tags": []
   },
   "outputs": [
    {
     "data": {
      "text/html": [
       "<div>\n",
       "<style scoped>\n",
       "    .dataframe tbody tr th:only-of-type {\n",
       "        vertical-align: middle;\n",
       "    }\n",
       "\n",
       "    .dataframe tbody tr th {\n",
       "        vertical-align: top;\n",
       "    }\n",
       "\n",
       "    .dataframe thead th {\n",
       "        text-align: right;\n",
       "    }\n",
       "</style>\n",
       "<table border=\"1\" class=\"dataframe\">\n",
       "  <thead>\n",
       "    <tr style=\"text-align: right;\">\n",
       "      <th></th>\n",
       "      <th>patientId</th>\n",
       "      <th>x</th>\n",
       "      <th>y</th>\n",
       "      <th>width</th>\n",
       "      <th>height</th>\n",
       "      <th>Target</th>\n",
       "    </tr>\n",
       "  </thead>\n",
       "  <tbody>\n",
       "    <tr>\n",
       "      <th>0</th>\n",
       "      <td>0004cfab-14fd-4e49-80ba-63a80b6bddd6</td>\n",
       "      <td>NaN</td>\n",
       "      <td>NaN</td>\n",
       "      <td>NaN</td>\n",
       "      <td>NaN</td>\n",
       "      <td>0</td>\n",
       "    </tr>\n",
       "    <tr>\n",
       "      <th>1</th>\n",
       "      <td>00313ee0-9eaa-42f4-b0ab-c148ed3241cd</td>\n",
       "      <td>NaN</td>\n",
       "      <td>NaN</td>\n",
       "      <td>NaN</td>\n",
       "      <td>NaN</td>\n",
       "      <td>0</td>\n",
       "    </tr>\n",
       "    <tr>\n",
       "      <th>2</th>\n",
       "      <td>00322d4d-1c29-4943-afc9-b6754be640eb</td>\n",
       "      <td>NaN</td>\n",
       "      <td>NaN</td>\n",
       "      <td>NaN</td>\n",
       "      <td>NaN</td>\n",
       "      <td>0</td>\n",
       "    </tr>\n",
       "    <tr>\n",
       "      <th>3</th>\n",
       "      <td>003d8fa0-6bf1-40ed-b54c-ac657f8495c5</td>\n",
       "      <td>NaN</td>\n",
       "      <td>NaN</td>\n",
       "      <td>NaN</td>\n",
       "      <td>NaN</td>\n",
       "      <td>0</td>\n",
       "    </tr>\n",
       "    <tr>\n",
       "      <th>4</th>\n",
       "      <td>00436515-870c-4b36-a041-de91049b9ab4</td>\n",
       "      <td>264.0</td>\n",
       "      <td>152.0</td>\n",
       "      <td>213.0</td>\n",
       "      <td>379.0</td>\n",
       "      <td>1</td>\n",
       "    </tr>\n",
       "  </tbody>\n",
       "</table>\n",
       "</div>"
      ],
      "text/plain": [
       "                              patientId      x      y  width  height  Target\n",
       "0  0004cfab-14fd-4e49-80ba-63a80b6bddd6    NaN    NaN    NaN     NaN       0\n",
       "1  00313ee0-9eaa-42f4-b0ab-c148ed3241cd    NaN    NaN    NaN     NaN       0\n",
       "2  00322d4d-1c29-4943-afc9-b6754be640eb    NaN    NaN    NaN     NaN       0\n",
       "3  003d8fa0-6bf1-40ed-b54c-ac657f8495c5    NaN    NaN    NaN     NaN       0\n",
       "4  00436515-870c-4b36-a041-de91049b9ab4  264.0  152.0  213.0   379.0       1"
      ]
     },
     "execution_count": 11,
     "metadata": {},
     "output_type": "execute_result"
    }
   ],
   "source": [
    "# training dataset\n",
    "anns = pd.read_csv(os.path.join(DATA_DIR, 'stage_2_train_labels.csv'))\n",
    "anns.head()"
   ]
  },
  {
   "cell_type": "code",
   "execution_count": 12,
   "metadata": {
    "_uuid": "7aebc88f910b232e3b8759421914a007c6ffed94",
    "colab": {},
    "colab_type": "code",
    "id": "Mxz-pNbt5txY",
    "tags": []
   },
   "outputs": [],
   "source": [
    "image_fps, image_annotations = parse_dataset(train_dicom_dir, anns=anns)"
   ]
  },
  {
   "cell_type": "code",
   "execution_count": 13,
   "metadata": {
    "_uuid": "6c386dcef041b972f6209dd19e247d547c3c349f",
    "colab": {},
    "colab_type": "code",
    "id": "YPqjEIXWRhSf",
    "tags": []
   },
   "outputs": [
    {
     "data": {
      "text/plain": [
       "Dataset.file_meta -------------------------------\n",
       "(0002, 0000) File Meta Information Group Length  UL: 202\n",
       "(0002, 0001) File Meta Information Version       OB: b'\\x00\\x01'\n",
       "(0002, 0002) Media Storage SOP Class UID         UI: Secondary Capture Image Storage\n",
       "(0002, 0003) Media Storage SOP Instance UID      UI: 1.2.276.0.7230010.3.1.4.8323329.25505.1517874465.111746\n",
       "(0002, 0010) Transfer Syntax UID                 UI: JPEG Baseline (Process 1)\n",
       "(0002, 0012) Implementation Class UID            UI: 1.2.276.0.7230010.3.0.3.6.0\n",
       "(0002, 0013) Implementation Version Name         SH: 'OFFIS_DCMTK_360'\n",
       "-------------------------------------------------\n",
       "(0008, 0005) Specific Character Set              CS: 'ISO_IR 100'\n",
       "(0008, 0016) SOP Class UID                       UI: Secondary Capture Image Storage\n",
       "(0008, 0018) SOP Instance UID                    UI: 1.2.276.0.7230010.3.1.4.8323329.25505.1517874465.111746\n",
       "(0008, 0020) Study Date                          DA: '19010101'\n",
       "(0008, 0030) Study Time                          TM: '000000.00'\n",
       "(0008, 0050) Accession Number                    SH: ''\n",
       "(0008, 0060) Modality                            CS: 'CR'\n",
       "(0008, 0064) Conversion Type                     CS: 'WSD'\n",
       "(0008, 0090) Referring Physician's Name          PN: ''\n",
       "(0008, 103e) Series Description                  LO: 'view: AP'\n",
       "(0010, 0010) Patient's Name                      PN: '81bc7673-4ca4-41c2-8019-f1dd9a873ce3'\n",
       "(0010, 0020) Patient ID                          LO: '81bc7673-4ca4-41c2-8019-f1dd9a873ce3'\n",
       "(0010, 0030) Patient's Birth Date                DA: ''\n",
       "(0010, 0040) Patient's Sex                       CS: 'F'\n",
       "(0010, 1010) Patient's Age                       AS: '52'\n",
       "(0018, 0015) Body Part Examined                  CS: 'CHEST'\n",
       "(0018, 5101) View Position                       CS: 'AP'\n",
       "(0020, 000d) Study Instance UID                  UI: 1.2.276.0.7230010.3.1.2.8323329.25505.1517874465.111745\n",
       "(0020, 000e) Series Instance UID                 UI: 1.2.276.0.7230010.3.1.3.8323329.25505.1517874465.111744\n",
       "(0020, 0010) Study ID                            SH: ''\n",
       "(0020, 0011) Series Number                       IS: '1'\n",
       "(0020, 0013) Instance Number                     IS: '1'\n",
       "(0020, 0020) Patient Orientation                 CS: ''\n",
       "(0028, 0002) Samples per Pixel                   US: 1\n",
       "(0028, 0004) Photometric Interpretation          CS: 'MONOCHROME2'\n",
       "(0028, 0010) Rows                                US: 1024\n",
       "(0028, 0011) Columns                             US: 1024\n",
       "(0028, 0030) Pixel Spacing                       DS: [0.171, 0.171]\n",
       "(0028, 0100) Bits Allocated                      US: 8\n",
       "(0028, 0101) Bits Stored                         US: 8\n",
       "(0028, 0102) High Bit                            US: 7\n",
       "(0028, 0103) Pixel Representation                US: 0\n",
       "(0028, 2110) Lossy Image Compression             CS: '01'\n",
       "(0028, 2114) Lossy Image Compression Method      CS: 'ISO_10918_1'\n",
       "(7fe0, 0010) Pixel Data                          OB: Array of 96372 elements"
      ]
     },
     "execution_count": 13,
     "metadata": {},
     "output_type": "execute_result"
    }
   ],
   "source": [
    "ds = pydicom.read_file(image_fps[0]) # read dicom image from filepath \n",
    "image = ds.pixel_array # get image array\n",
    "# show dicom fields \n",
    "ds"
   ]
  },
  {
   "cell_type": "code",
   "execution_count": 14,
   "metadata": {
    "_uuid": "74277ae9af4a3b044e62b664d10d76b23848bb43",
    "colab": {},
    "colab_type": "code",
    "id": "gYNSd1AhRqOV",
    "tags": []
   },
   "outputs": [],
   "source": [
    "# Original DICOM image size: 1024 x 1024\n",
    "ORIG_SIZE = 1024"
   ]
  },
  {
   "cell_type": "markdown",
   "metadata": {
    "_uuid": "6563bbca143e4bceb1ea850714d7b43bb1e1178d",
    "colab_type": "text",
    "id": "4FlRu8ML-ceg"
   },
   "source": [
    "### Split the data into training and validation datasets"
   ]
  },
  {
   "cell_type": "code",
   "execution_count": 15,
   "metadata": {
    "_uuid": "6175c72e73639e3190e127f67783988eadced9ba",
    "colab": {
     "base_uri": "https://localhost:8080/",
     "height": 35
    },
    "colab_type": "code",
    "id": "7jByVCZt-ZOC",
    "outputId": "f1aa267d-7530-4620-ffc5-2f7aa39083bb",
    "tags": []
   },
   "outputs": [
    {
     "name": "stdout",
     "output_type": "stream",
     "text": [
      "25350 1334\n"
     ]
    }
   ],
   "source": [
    "# split dataset into training vs. validation dataset \n",
    "# split ratio is set to 0.95 vs. 0.05 (train vs. validation, respectively)\n",
    "image_fps_list = list(image_fps)\n",
    "random.seed(42)\n",
    "random.shuffle(image_fps_list)\n",
    "\n",
    "val_size = int(0.05 * len(image_fps_list))\n",
    "image_fps_val = image_fps_list[:val_size]\n",
    "image_fps_train = image_fps_list[val_size:]\n",
    "\n",
    "print(len(image_fps_train), len(image_fps_val))"
   ]
  },
  {
   "cell_type": "markdown",
   "metadata": {
    "_uuid": "a5143c19dc22bc00d318a3b28cb7e13c7fbacc8a",
    "colab_type": "text",
    "id": "9KUvacUbgiEX"
   },
   "source": [
    "### Create and prepare the training dataset using the DetectorDataset class."
   ]
  },
  {
   "cell_type": "code",
   "execution_count": 16,
   "metadata": {
    "_uuid": "86c3333d4dfb8b7d00ce1f401693d0df4e6254e1",
    "colab": {},
    "colab_type": "code",
    "id": "jwMkhotP0yFf",
    "tags": []
   },
   "outputs": [],
   "source": [
    "# prepare the training dataset\n",
    "dataset_train = DetectorDataset(image_fps_train, image_annotations, ORIG_SIZE, ORIG_SIZE)\n",
    "dataset_train.prepare()"
   ]
  },
  {
   "cell_type": "code",
   "execution_count": 17,
   "metadata": {
    "_uuid": "313347d838fa8321a714858c8073f98c50c5be26",
    "colab": {},
    "colab_type": "code",
    "id": "K1TkWuGP0yHl",
    "tags": []
   },
   "outputs": [],
   "source": [
    "# prepare the validation dataset\n",
    "dataset_val = DetectorDataset(image_fps_val, image_annotations, ORIG_SIZE, ORIG_SIZE)\n",
    "dataset_val.prepare()"
   ]
  },
  {
   "cell_type": "markdown",
   "metadata": {
    "_uuid": "600a8135d4e382f62797d69e9358f5697873c8f9",
    "colab_type": "text",
    "id": "pEXEt8fygWuC"
   },
   "source": [
    "### Display a random image with bounding boxes"
   ]
  },
  {
   "cell_type": "code",
   "execution_count": 18,
   "metadata": {
    "_uuid": "491b78ec96d28fcdbbf8e2d7f9320a05d64c9249",
    "colab": {
     "base_uri": "https://localhost:8080/",
     "height": 359
    },
    "colab_type": "code",
    "id": "4xwsrf9G1lHR",
    "outputId": "a13386d3-a918-41fe-8824-13625c9d7b08",
    "tags": []
   },
   "outputs": [],
   "source": [
    "# Load and display random sample and their bounding boxes\n",
    "\n",
    "# class_ids = [0]\n",
    "# while class_ids[0] == 0:  ## look for a mask\n",
    "#     image_id = random.choice(dataset_train.image_ids)\n",
    "#     image_fp = dataset_train.image_reference(image_id)\n",
    "#     image = dataset_train.load_image(image_id)\n",
    "#     mask, class_ids = dataset_train.load_mask(image_id)\n",
    "\n",
    "# print(image.shape)\n",
    "\n",
    "# plt.figure(figsize=(10, 10))\n",
    "# plt.subplot(1, 2, 1)\n",
    "# plt.imshow(image)\n",
    "# plt.axis('off')\n",
    "\n",
    "# plt.subplot(1, 2, 2)\n",
    "# masked = np.zeros(image.shape[:2])\n",
    "# for i in range(mask.shape[2]):\n",
    "#     masked += image[:, :, 0] * mask[:, :, i]\n",
    "# plt.imshow(masked, cmap='gray')\n",
    "# plt.axis('off')\n",
    "\n",
    "# print(image_fp)\n",
    "# print(class_ids)"
   ]
  },
  {
   "cell_type": "markdown",
   "metadata": {
    "_uuid": "342b6008873fe7a6a0870a712ee47a87f0d2828d",
    "colab_type": "text",
    "id": "ustAIH78hZI_"
   },
   "source": [
    "### Image Augmentation. Try finetuning some variables to custom values"
   ]
  },
  {
   "cell_type": "code",
   "execution_count": 19,
   "metadata": {
    "_uuid": "4ab9d6086ce611a46f189c047956c43b29783e6d",
    "colab": {},
    "colab_type": "code",
    "id": "STZnQTE61lME",
    "tags": []
   },
   "outputs": [
    {
     "name": "stderr",
     "output_type": "stream",
     "text": [
      "/opt/conda/lib/python3.7/site-packages/imgaug/imgaug.py:184: DeprecationWarning: Function `ContrastNormalization()` is deprecated. Use `imgaug.contrast.LinearContrast` instead.\n",
      "  warn_deprecated(msg, stacklevel=3)\n"
     ]
    }
   ],
   "source": [
    "# Image augmentation (light but constant)\n",
    "augmentation = iaa.Sequential([\n",
    "    iaa.OneOf([ ## geometric transform\n",
    "        iaa.Affine(\n",
    "            scale={\"x\": (0.98, 1.02), \"y\": (0.98, 1.02)},\n",
    "            translate_percent={\"x\": (-0.02, 0.02), \"y\": (-0.04, 0.04)},\n",
    "            rotate=(-2, 2),\n",
    "            shear=(-1, 1),\n",
    "        ),\n",
    "        iaa.PiecewiseAffine(scale=(0.001, 0.025)),\n",
    "    ]),\n",
    "    iaa.OneOf([ ## brightness or contrast\n",
    "        iaa.Multiply((0.9, 1.1)),\n",
    "        iaa.ContrastNormalization((0.9, 1.1)),\n",
    "    ]),\n",
    "    iaa.OneOf([ ## blur or sharpen\n",
    "        iaa.GaussianBlur(sigma=(0.0, 0.1)),\n",
    "        iaa.Sharpen(alpha=(0.0, 0.1)),\n",
    "    ]),\n",
    "])\n",
    "\n",
    "# test on the same image as above\n",
    "# imggrid = augmentation.draw_grid(image[:, :, 0], cols=5, rows=2)\n",
    "# plt.figure(figsize=(30, 12))\n",
    "# _ = plt.imshow(imggrid[:, :, 0], cmap='gray')"
   ]
  },
  {
   "cell_type": "markdown",
   "metadata": {
    "_uuid": "7e65d2cecb283f446f34cdde19b663a8a8e9590f",
    "colab_type": "text",
    "id": "M4kt7LKuc78e"
   },
   "source": [
    "### Now it's time to train the model. Note that training even a basic model can take a few hours. \n"
   ]
  },
  {
   "cell_type": "code",
   "execution_count": 25,
   "metadata": {},
   "outputs": [],
   "source": [
    "import keras\n",
    "import time\n",
    "\n",
    "class TimeHistory(keras.callbacks.Callback):\n",
    "    def on_train_begin(self, logs={}):\n",
    "        self.times = []\n",
    "\n",
    "    def on_epoch_begin(self, batch, logs={}):\n",
    "        self.epoch_time_start = time.time()\n",
    "\n",
    "    def on_epoch_end(self, batch, logs={}):\n",
    "        self.times.append(time.time() - self.epoch_time_start)"
   ]
  },
  {
   "cell_type": "code",
   "execution_count": 21,
   "metadata": {
    "_uuid": "138d6197fc8dce9f1f8a7b5a6c27aa2069698e03",
    "tags": []
   },
   "outputs": [
    {
     "name": "stderr",
     "output_type": "stream",
     "text": [
      "2022-12-13 07:49:56.961737: I tensorflow/stream_executor/cuda/cuda_gpu_executor.cc:937] successful NUMA node read from SysFS had negative value (-1), but there must be at least one NUMA node, so returning NUMA node zero\n",
      "2022-12-13 07:49:56.972638: I tensorflow/stream_executor/cuda/cuda_gpu_executor.cc:937] successful NUMA node read from SysFS had negative value (-1), but there must be at least one NUMA node, so returning NUMA node zero\n",
      "2022-12-13 07:49:56.972907: I tensorflow/stream_executor/cuda/cuda_gpu_executor.cc:937] successful NUMA node read from SysFS had negative value (-1), but there must be at least one NUMA node, so returning NUMA node zero\n",
      "2022-12-13 07:50:01.331518: I tensorflow/core/platform/cpu_feature_guard.cc:142] This TensorFlow binary is optimized with oneAPI Deep Neural Network Library (oneDNN) to use the following CPU instructions in performance-critical operations:  AVX2 AVX512F FMA\n",
      "To enable them in other operations, rebuild TensorFlow with the appropriate compiler flags.\n",
      "2022-12-13 07:50:01.332478: I tensorflow/stream_executor/cuda/cuda_gpu_executor.cc:937] successful NUMA node read from SysFS had negative value (-1), but there must be at least one NUMA node, so returning NUMA node zero\n",
      "2022-12-13 07:50:01.333024: I tensorflow/stream_executor/cuda/cuda_gpu_executor.cc:937] successful NUMA node read from SysFS had negative value (-1), but there must be at least one NUMA node, so returning NUMA node zero\n",
      "2022-12-13 07:50:01.333361: I tensorflow/stream_executor/cuda/cuda_gpu_executor.cc:937] successful NUMA node read from SysFS had negative value (-1), but there must be at least one NUMA node, so returning NUMA node zero\n",
      "2022-12-13 07:50:02.079100: I tensorflow/stream_executor/cuda/cuda_gpu_executor.cc:937] successful NUMA node read from SysFS had negative value (-1), but there must be at least one NUMA node, so returning NUMA node zero\n",
      "2022-12-13 07:50:02.079769: I tensorflow/stream_executor/cuda/cuda_gpu_executor.cc:937] successful NUMA node read from SysFS had negative value (-1), but there must be at least one NUMA node, so returning NUMA node zero\n",
      "2022-12-13 07:50:02.080226: I tensorflow/stream_executor/cuda/cuda_gpu_executor.cc:937] successful NUMA node read from SysFS had negative value (-1), but there must be at least one NUMA node, so returning NUMA node zero\n",
      "2022-12-13 07:50:02.080611: I tensorflow/core/common_runtime/gpu/gpu_device.cc:1510] Created device /job:localhost/replica:0/task:0/device:GPU:0 with 14634 MB memory:  -> device: 0, name: Tesla V100-SXM2-16GB, pci bus id: 0000:00:04.0, compute capability: 7.0\n"
     ]
    },
    {
     "name": "stdout",
     "output_type": "stream",
     "text": [
      "Re-starting from epoch 7\n"
     ]
    }
   ],
   "source": [
    "model = modellib.MaskRCNN(mode='training', config=config, model_dir=ROOT_DIR)\n",
    "\n",
    "# Exclude the last layers because they require a matching\n",
    "# number of classes\n",
    "model.load_weights(COCO_WEIGHTS_PATH, by_name=True, exclude=[\n",
    "    \"mrcnn_class_logits\", \"mrcnn_bbox_fc\",\n",
    "    \"mrcnn_bbox\", \"mrcnn_mask\"])"
   ]
  },
  {
   "cell_type": "code",
   "execution_count": 22,
   "metadata": {
    "_uuid": "64cce2581ffdb8c2b1cb07948ada4a93f64874b0",
    "colab": {
     "base_uri": "https://localhost:8080/",
     "height": 2575
    },
    "colab_type": "code",
    "id": "RVgNhHjl1lOS",
    "outputId": "2cba9efc-eeea-472d-d155-3c3d856585bf",
    "tags": []
   },
   "outputs": [],
   "source": [
    "LEARNING_RATE = 0.005\n",
    "\n",
    "# Train Mask-RCNN Model \n",
    "import warnings \n",
    "warnings.filterwarnings(\"ignore\")"
   ]
  },
  {
   "cell_type": "code",
   "execution_count": 26,
   "metadata": {
    "_uuid": "cf339a499519d174bcdf2311a1802f0e3acb1758",
    "tags": []
   },
   "outputs": [
    {
     "name": "stdout",
     "output_type": "stream",
     "text": [
      "\n",
      "Starting at epoch 0. LR=0.005\n",
      "\n",
      "Checkpoint Path: /home/jupyter/pneumonia20221213T0503/mask_rcnn_pneumonia_{epoch:04d}.h5\n",
      "Selecting layers to train\n",
      "fpn_c5p5               (Conv2D)\n",
      "fpn_c4p4               (Conv2D)\n",
      "fpn_c3p3               (Conv2D)\n",
      "fpn_c2p2               (Conv2D)\n",
      "fpn_p5                 (Conv2D)\n",
      "fpn_p2                 (Conv2D)\n",
      "fpn_p3                 (Conv2D)\n",
      "fpn_p4                 (Conv2D)\n",
      "rpn_model              (Functional)\n",
      "mrcnn_mask_conv1       (TimeDistributed)\n",
      "mrcnn_mask_bn1         (TimeDistributed)\n",
      "mrcnn_mask_conv2       (TimeDistributed)\n",
      "mrcnn_mask_bn2         (TimeDistributed)\n",
      "mrcnn_class_conv1      (TimeDistributed)\n",
      "mrcnn_class_bn1        (TimeDistributed)\n",
      "mrcnn_mask_conv3       (TimeDistributed)\n",
      "mrcnn_mask_bn3         (TimeDistributed)\n",
      "mrcnn_class_conv2      (TimeDistributed)\n",
      "mrcnn_class_bn2        (TimeDistributed)\n",
      "mrcnn_mask_conv4       (TimeDistributed)\n",
      "mrcnn_mask_bn4         (TimeDistributed)\n",
      "mrcnn_bbox_fc          (TimeDistributed)\n",
      "mrcnn_mask_deconv      (TimeDistributed)\n",
      "mrcnn_class_logits     (TimeDistributed)\n",
      "mrcnn_mask             (TimeDistributed)\n",
      "Epoch 1/2\n"
     ]
    },
    {
     "name": "stderr",
     "output_type": "stream",
     "text": [
      "2022-12-13 05:06:06.966325: W tensorflow/core/grappler/costs/op_level_cost_estimator.cc:690] Error in PredictCost() for the op: op: \"CropAndResize\" attr { key: \"T\" value { type: DT_FLOAT } } attr { key: \"extrapolation_value\" value { f: 0 } } attr { key: \"method\" value { s: \"bilinear\" } } inputs { dtype: DT_FLOAT shape { dim { size: -1153 } dim { size: 56 } dim { size: 56 } dim { size: 1 } } } inputs { dtype: DT_FLOAT shape { dim { size: -41 } dim { size: 4 } } } inputs { dtype: DT_INT32 shape { dim { size: -41 } } } inputs { dtype: DT_INT32 shape { dim { size: 2 } } value { dtype: DT_INT32 tensor_shape { dim { size: 2 } } tensor_content: \"\\034\\000\\000\\000\\034\\000\\000\\000\" } } device { type: \"GPU\" vendor: \"NVIDIA\" model: \"Tesla V100-SXM2-16GB\" frequency: 1530 num_cores: 80 environment { key: \"architecture\" value: \"7.0\" } environment { key: \"cuda\" value: \"11000\" } environment { key: \"cudnn\" value: \"8005\" } num_registers: 65536 l1_cache_size: 24576 l2_cache_size: 6291456 shared_memory_size_per_multiprocessor: 98304 memory_size: 15345844224 bandwidth: 898048000 } outputs { dtype: DT_FLOAT shape { dim { size: -41 } dim { size: 28 } dim { size: 28 } dim { size: 1 } } }\n",
      "2022-12-13 05:06:06.968677: W tensorflow/core/grappler/costs/op_level_cost_estimator.cc:690] Error in PredictCost() for the op: op: \"CropAndResize\" attr { key: \"T\" value { type: DT_FLOAT } } attr { key: \"extrapolation_value\" value { f: 0 } } attr { key: \"method\" value { s: \"bilinear\" } } inputs { dtype: DT_FLOAT shape { dim { size: -1159 } dim { size: 56 } dim { size: 56 } dim { size: 1 } } } inputs { dtype: DT_FLOAT shape { dim { size: -53 } dim { size: 4 } } } inputs { dtype: DT_INT32 shape { dim { size: -53 } } } inputs { dtype: DT_INT32 shape { dim { size: 2 } } value { dtype: DT_INT32 tensor_shape { dim { size: 2 } } tensor_content: \"\\034\\000\\000\\000\\034\\000\\000\\000\" } } device { type: \"GPU\" vendor: \"NVIDIA\" model: \"Tesla V100-SXM2-16GB\" frequency: 1530 num_cores: 80 environment { key: \"architecture\" value: \"7.0\" } environment { key: \"cuda\" value: \"11000\" } environment { key: \"cudnn\" value: \"8005\" } num_registers: 65536 l1_cache_size: 24576 l2_cache_size: 6291456 shared_memory_size_per_multiprocessor: 98304 memory_size: 15345844224 bandwidth: 898048000 } outputs { dtype: DT_FLOAT shape { dim { size: -53 } dim { size: 28 } dim { size: 28 } dim { size: 1 } } }\n",
      "2022-12-13 05:06:06.969929: W tensorflow/core/grappler/costs/op_level_cost_estimator.cc:690] Error in PredictCost() for the op: op: \"CropAndResize\" attr { key: \"T\" value { type: DT_FLOAT } } attr { key: \"extrapolation_value\" value { f: 0 } } attr { key: \"method\" value { s: \"bilinear\" } } inputs { dtype: DT_FLOAT shape { dim { size: -1161 } dim { size: 56 } dim { size: 56 } dim { size: 1 } } } inputs { dtype: DT_FLOAT shape { dim { size: -57 } dim { size: 4 } } } inputs { dtype: DT_INT32 shape { dim { size: -57 } } } inputs { dtype: DT_INT32 shape { dim { size: 2 } } value { dtype: DT_INT32 tensor_shape { dim { size: 2 } } tensor_content: \"\\034\\000\\000\\000\\034\\000\\000\\000\" } } device { type: \"GPU\" vendor: \"NVIDIA\" model: \"Tesla V100-SXM2-16GB\" frequency: 1530 num_cores: 80 environment { key: \"architecture\" value: \"7.0\" } environment { key: \"cuda\" value: \"11000\" } environment { key: \"cudnn\" value: \"8005\" } num_registers: 65536 l1_cache_size: 24576 l2_cache_size: 6291456 shared_memory_size_per_multiprocessor: 98304 memory_size: 15345844224 bandwidth: 898048000 } outputs { dtype: DT_FLOAT shape { dim { size: -57 } dim { size: 28 } dim { size: 28 } dim { size: 1 } } }\n",
      "2022-12-13 05:06:06.971081: W tensorflow/core/grappler/costs/op_level_cost_estimator.cc:690] Error in PredictCost() for the op: op: \"CropAndResize\" attr { key: \"T\" value { type: DT_FLOAT } } attr { key: \"extrapolation_value\" value { f: 0 } } attr { key: \"method\" value { s: \"bilinear\" } } inputs { dtype: DT_FLOAT shape { dim { size: -1163 } dim { size: 56 } dim { size: 56 } dim { size: 1 } } } inputs { dtype: DT_FLOAT shape { dim { size: -61 } dim { size: 4 } } } inputs { dtype: DT_INT32 shape { dim { size: -61 } } } inputs { dtype: DT_INT32 shape { dim { size: 2 } } value { dtype: DT_INT32 tensor_shape { dim { size: 2 } } tensor_content: \"\\034\\000\\000\\000\\034\\000\\000\\000\" } } device { type: \"GPU\" vendor: \"NVIDIA\" model: \"Tesla V100-SXM2-16GB\" frequency: 1530 num_cores: 80 environment { key: \"architecture\" value: \"7.0\" } environment { key: \"cuda\" value: \"11000\" } environment { key: \"cudnn\" value: \"8005\" } num_registers: 65536 l1_cache_size: 24576 l2_cache_size: 6291456 shared_memory_size_per_multiprocessor: 98304 memory_size: 15345844224 bandwidth: 898048000 } outputs { dtype: DT_FLOAT shape { dim { size: -61 } dim { size: 28 } dim { size: 28 } dim { size: 1 } } }\n",
      "2022-12-13 05:06:06.972110: W tensorflow/core/grappler/costs/op_level_cost_estimator.cc:690] Error in PredictCost() for the op: op: \"CropAndResize\" attr { key: \"T\" value { type: DT_FLOAT } } attr { key: \"extrapolation_value\" value { f: 0 } } attr { key: \"method\" value { s: \"bilinear\" } } inputs { dtype: DT_FLOAT shape { dim { size: -1165 } dim { size: 56 } dim { size: 56 } dim { size: 1 } } } inputs { dtype: DT_FLOAT shape { dim { size: -65 } dim { size: 4 } } } inputs { dtype: DT_INT32 shape { dim { size: -65 } } } inputs { dtype: DT_INT32 shape { dim { size: 2 } } value { dtype: DT_INT32 tensor_shape { dim { size: 2 } } tensor_content: \"\\034\\000\\000\\000\\034\\000\\000\\000\" } } device { type: \"GPU\" vendor: \"NVIDIA\" model: \"Tesla V100-SXM2-16GB\" frequency: 1530 num_cores: 80 environment { key: \"architecture\" value: \"7.0\" } environment { key: \"cuda\" value: \"11000\" } environment { key: \"cudnn\" value: \"8005\" } num_registers: 65536 l1_cache_size: 24576 l2_cache_size: 6291456 shared_memory_size_per_multiprocessor: 98304 memory_size: 15345844224 bandwidth: 898048000 } outputs { dtype: DT_FLOAT shape { dim { size: -65 } dim { size: 28 } dim { size: 28 } dim { size: 1 } } }\n",
      "2022-12-13 05:06:06.973008: W tensorflow/core/grappler/costs/op_level_cost_estimator.cc:690] Error in PredictCost() for the op: op: \"CropAndResize\" attr { key: \"T\" value { type: DT_FLOAT } } attr { key: \"extrapolation_value\" value { f: 0 } } attr { key: \"method\" value { s: \"bilinear\" } } inputs { dtype: DT_FLOAT shape { dim { size: -1167 } dim { size: 56 } dim { size: 56 } dim { size: 1 } } } inputs { dtype: DT_FLOAT shape { dim { size: -69 } dim { size: 4 } } } inputs { dtype: DT_INT32 shape { dim { size: -69 } } } inputs { dtype: DT_INT32 shape { dim { size: 2 } } value { dtype: DT_INT32 tensor_shape { dim { size: 2 } } tensor_content: \"\\034\\000\\000\\000\\034\\000\\000\\000\" } } device { type: \"GPU\" vendor: \"NVIDIA\" model: \"Tesla V100-SXM2-16GB\" frequency: 1530 num_cores: 80 environment { key: \"architecture\" value: \"7.0\" } environment { key: \"cuda\" value: \"11000\" } environment { key: \"cudnn\" value: \"8005\" } num_registers: 65536 l1_cache_size: 24576 l2_cache_size: 6291456 shared_memory_size_per_multiprocessor: 98304 memory_size: 15345844224 bandwidth: 898048000 } outputs { dtype: DT_FLOAT shape { dim { size: -69 } dim { size: 28 } dim { size: 28 } dim { size: 1 } } }\n",
      "2022-12-13 05:06:06.974126: W tensorflow/core/grappler/costs/op_level_cost_estimator.cc:690] Error in PredictCost() for the op: op: \"CropAndResize\" attr { key: \"T\" value { type: DT_FLOAT } } attr { key: \"extrapolation_value\" value { f: 0 } } attr { key: \"method\" value { s: \"bilinear\" } } inputs { dtype: DT_FLOAT shape { dim { size: -1155 } dim { size: 56 } dim { size: 56 } dim { size: 1 } } } inputs { dtype: DT_FLOAT shape { dim { size: -45 } dim { size: 4 } } } inputs { dtype: DT_INT32 shape { dim { size: -45 } } } inputs { dtype: DT_INT32 shape { dim { size: 2 } } value { dtype: DT_INT32 tensor_shape { dim { size: 2 } } tensor_content: \"\\034\\000\\000\\000\\034\\000\\000\\000\" } } device { type: \"GPU\" vendor: \"NVIDIA\" model: \"Tesla V100-SXM2-16GB\" frequency: 1530 num_cores: 80 environment { key: \"architecture\" value: \"7.0\" } environment { key: \"cuda\" value: \"11000\" } environment { key: \"cudnn\" value: \"8005\" } num_registers: 65536 l1_cache_size: 24576 l2_cache_size: 6291456 shared_memory_size_per_multiprocessor: 98304 memory_size: 15345844224 bandwidth: 898048000 } outputs { dtype: DT_FLOAT shape { dim { size: -45 } dim { size: 28 } dim { size: 28 } dim { size: 1 } } }\n",
      "2022-12-13 05:06:06.974975: W tensorflow/core/grappler/costs/op_level_cost_estimator.cc:690] Error in PredictCost() for the op: op: \"CropAndResize\" attr { key: \"T\" value { type: DT_FLOAT } } attr { key: \"extrapolation_value\" value { f: 0 } } attr { key: \"method\" value { s: \"bilinear\" } } inputs { dtype: DT_FLOAT shape { dim { size: -1157 } dim { size: 56 } dim { size: 56 } dim { size: 1 } } } inputs { dtype: DT_FLOAT shape { dim { size: -49 } dim { size: 4 } } } inputs { dtype: DT_INT32 shape { dim { size: -49 } } } inputs { dtype: DT_INT32 shape { dim { size: 2 } } value { dtype: DT_INT32 tensor_shape { dim { size: 2 } } tensor_content: \"\\034\\000\\000\\000\\034\\000\\000\\000\" } } device { type: \"GPU\" vendor: \"NVIDIA\" model: \"Tesla V100-SXM2-16GB\" frequency: 1530 num_cores: 80 environment { key: \"architecture\" value: \"7.0\" } environment { key: \"cuda\" value: \"11000\" } environment { key: \"cudnn\" value: \"8005\" } num_registers: 65536 l1_cache_size: 24576 l2_cache_size: 6291456 shared_memory_size_per_multiprocessor: 98304 memory_size: 15345844224 bandwidth: 898048000 } outputs { dtype: DT_FLOAT shape { dim { size: -49 } dim { size: 28 } dim { size: 28 } dim { size: 1 } } }\n",
      "2022-12-13 05:06:06.986759: W tensorflow/core/grappler/costs/op_level_cost_estimator.cc:690] Error in PredictCost() for the op: op: \"CropAndResize\" attr { key: \"T\" value { type: DT_FLOAT } } attr { key: \"extrapolation_value\" value { f: 0 } } attr { key: \"method\" value { s: \"bilinear\" } } inputs { dtype: DT_FLOAT shape { dim { size: -14 } dim { size: -320 } dim { size: -321 } dim { size: 256 } } } inputs { dtype: DT_FLOAT shape { dim { size: -186 } dim { size: 4 } } } inputs { dtype: DT_INT32 shape { dim { size: -186 } } } inputs { dtype: DT_INT32 shape { dim { size: 2 } } value { dtype: DT_INT32 tensor_shape { dim { size: 2 } } tensor_content: \"\\007\\000\\000\\000\\007\\000\\000\\000\" } } device { type: \"GPU\" vendor: \"NVIDIA\" model: \"Tesla V100-SXM2-16GB\" frequency: 1530 num_cores: 80 environment { key: \"architecture\" value: \"7.0\" } environment { key: \"cuda\" value: \"11000\" } environment { key: \"cudnn\" value: \"8005\" } num_registers: 65536 l1_cache_size: 24576 l2_cache_size: 6291456 shared_memory_size_per_multiprocessor: 98304 memory_size: 15345844224 bandwidth: 898048000 } outputs { dtype: DT_FLOAT shape { dim { size: -186 } dim { size: 7 } dim { size: 7 } dim { size: 256 } } }\n",
      "2022-12-13 05:06:06.987421: W tensorflow/core/grappler/costs/op_level_cost_estimator.cc:690] Error in PredictCost() for the op: op: \"CropAndResize\" attr { key: \"T\" value { type: DT_FLOAT } } attr { key: \"extrapolation_value\" value { f: 0 } } attr { key: \"method\" value { s: \"bilinear\" } } inputs { dtype: DT_FLOAT shape { dim { size: -14 } dim { size: -320 } dim { size: -321 } dim { size: 256 } } } inputs { dtype: DT_FLOAT shape { dim { size: -186 } dim { size: 4 } } } inputs { dtype: DT_INT32 shape { dim { size: -186 } } } inputs { dtype: DT_INT32 shape { dim { size: 2 } } value { dtype: DT_INT32 tensor_shape { dim { size: 2 } } tensor_content: \"\\016\\000\\000\\000\\016\\000\\000\\000\" } } device { type: \"GPU\" vendor: \"NVIDIA\" model: \"Tesla V100-SXM2-16GB\" frequency: 1530 num_cores: 80 environment { key: \"architecture\" value: \"7.0\" } environment { key: \"cuda\" value: \"11000\" } environment { key: \"cudnn\" value: \"8005\" } num_registers: 65536 l1_cache_size: 24576 l2_cache_size: 6291456 shared_memory_size_per_multiprocessor: 98304 memory_size: 15345844224 bandwidth: 898048000 } outputs { dtype: DT_FLOAT shape { dim { size: -186 } dim { size: 14 } dim { size: 14 } dim { size: 256 } } }\n",
      "2022-12-13 05:06:06.988056: W tensorflow/core/grappler/costs/op_level_cost_estimator.cc:690] Error in PredictCost() for the op: op: \"CropAndResize\" attr { key: \"T\" value { type: DT_FLOAT } } attr { key: \"extrapolation_value\" value { f: 0 } } attr { key: \"method\" value { s: \"bilinear\" } } inputs { dtype: DT_FLOAT shape { dim { size: -14 } dim { size: -328 } dim { size: -329 } dim { size: 256 } } } inputs { dtype: DT_FLOAT shape { dim { size: -188 } dim { size: 4 } } } inputs { dtype: DT_INT32 shape { dim { size: -188 } } } inputs { dtype: DT_INT32 shape { dim { size: 2 } } value { dtype: DT_INT32 tensor_shape { dim { size: 2 } } tensor_content: \"\\007\\000\\000\\000\\007\\000\\000\\000\" } } device { type: \"GPU\" vendor: \"NVIDIA\" model: \"Tesla V100-SXM2-16GB\" frequency: 1530 num_cores: 80 environment { key: \"architecture\" value: \"7.0\" } environment { key: \"cuda\" value: \"11000\" } environment { key: \"cudnn\" value: \"8005\" } num_registers: 65536 l1_cache_size: 24576 l2_cache_size: 6291456 shared_memory_size_per_multiprocessor: 98304 memory_size: 15345844224 bandwidth: 898048000 } outputs { dtype: DT_FLOAT shape { dim { size: -188 } dim { size: 7 } dim { size: 7 } dim { size: 256 } } }\n",
      "2022-12-13 05:06:06.988695: W tensorflow/core/grappler/costs/op_level_cost_estimator.cc:690] Error in PredictCost() for the op: op: \"CropAndResize\" attr { key: \"T\" value { type: DT_FLOAT } } attr { key: \"extrapolation_value\" value { f: 0 } } attr { key: \"method\" value { s: \"bilinear\" } } inputs { dtype: DT_FLOAT shape { dim { size: -14 } dim { size: -328 } dim { size: -329 } dim { size: 256 } } } inputs { dtype: DT_FLOAT shape { dim { size: -188 } dim { size: 4 } } } inputs { dtype: DT_INT32 shape { dim { size: -188 } } } inputs { dtype: DT_INT32 shape { dim { size: 2 } } value { dtype: DT_INT32 tensor_shape { dim { size: 2 } } tensor_content: \"\\016\\000\\000\\000\\016\\000\\000\\000\" } } device { type: \"GPU\" vendor: \"NVIDIA\" model: \"Tesla V100-SXM2-16GB\" frequency: 1530 num_cores: 80 environment { key: \"architecture\" value: \"7.0\" } environment { key: \"cuda\" value: \"11000\" } environment { key: \"cudnn\" value: \"8005\" } num_registers: 65536 l1_cache_size: 24576 l2_cache_size: 6291456 shared_memory_size_per_multiprocessor: 98304 memory_size: 15345844224 bandwidth: 898048000 } outputs { dtype: DT_FLOAT shape { dim { size: -188 } dim { size: 14 } dim { size: 14 } dim { size: 256 } } }\n",
      "2022-12-13 05:06:06.989314: W tensorflow/core/grappler/costs/op_level_cost_estimator.cc:690] Error in PredictCost() for the op: op: \"CropAndResize\" attr { key: \"T\" value { type: DT_FLOAT } } attr { key: \"extrapolation_value\" value { f: 0 } } attr { key: \"method\" value { s: \"bilinear\" } } inputs { dtype: DT_FLOAT shape { dim { size: -14 } dim { size: -336 } dim { size: -337 } dim { size: 256 } } } inputs { dtype: DT_FLOAT shape { dim { size: -190 } dim { size: 4 } } } inputs { dtype: DT_INT32 shape { dim { size: -190 } } } inputs { dtype: DT_INT32 shape { dim { size: 2 } } value { dtype: DT_INT32 tensor_shape { dim { size: 2 } } tensor_content: \"\\007\\000\\000\\000\\007\\000\\000\\000\" } } device { type: \"GPU\" vendor: \"NVIDIA\" model: \"Tesla V100-SXM2-16GB\" frequency: 1530 num_cores: 80 environment { key: \"architecture\" value: \"7.0\" } environment { key: \"cuda\" value: \"11000\" } environment { key: \"cudnn\" value: \"8005\" } num_registers: 65536 l1_cache_size: 24576 l2_cache_size: 6291456 shared_memory_size_per_multiprocessor: 98304 memory_size: 15345844224 bandwidth: 898048000 } outputs { dtype: DT_FLOAT shape { dim { size: -190 } dim { size: 7 } dim { size: 7 } dim { size: 256 } } }\n",
      "2022-12-13 05:06:06.989995: W tensorflow/core/grappler/costs/op_level_cost_estimator.cc:690] Error in PredictCost() for the op: op: \"CropAndResize\" attr { key: \"T\" value { type: DT_FLOAT } } attr { key: \"extrapolation_value\" value { f: 0 } } attr { key: \"method\" value { s: \"bilinear\" } } inputs { dtype: DT_FLOAT shape { dim { size: -14 } dim { size: -336 } dim { size: -337 } dim { size: 256 } } } inputs { dtype: DT_FLOAT shape { dim { size: -190 } dim { size: 4 } } } inputs { dtype: DT_INT32 shape { dim { size: -190 } } } inputs { dtype: DT_INT32 shape { dim { size: 2 } } value { dtype: DT_INT32 tensor_shape { dim { size: 2 } } tensor_content: \"\\016\\000\\000\\000\\016\\000\\000\\000\" } } device { type: \"GPU\" vendor: \"NVIDIA\" model: \"Tesla V100-SXM2-16GB\" frequency: 1530 num_cores: 80 environment { key: \"architecture\" value: \"7.0\" } environment { key: \"cuda\" value: \"11000\" } environment { key: \"cudnn\" value: \"8005\" } num_registers: 65536 l1_cache_size: 24576 l2_cache_size: 6291456 shared_memory_size_per_multiprocessor: 98304 memory_size: 15345844224 bandwidth: 898048000 } outputs { dtype: DT_FLOAT shape { dim { size: -190 } dim { size: 14 } dim { size: 14 } dim { size: 256 } } }\n",
      "2022-12-13 05:06:06.990666: W tensorflow/core/grappler/costs/op_level_cost_estimator.cc:690] Error in PredictCost() for the op: op: \"CropAndResize\" attr { key: \"T\" value { type: DT_FLOAT } } attr { key: \"extrapolation_value\" value { f: 0 } } attr { key: \"method\" value { s: \"bilinear\" } } inputs { dtype: DT_FLOAT shape { dim { size: -14 } dim { size: -344 } dim { size: -345 } dim { size: 256 } } } inputs { dtype: DT_FLOAT shape { dim { size: -192 } dim { size: 4 } } } inputs { dtype: DT_INT32 shape { dim { size: -192 } } } inputs { dtype: DT_INT32 shape { dim { size: 2 } } value { dtype: DT_INT32 tensor_shape { dim { size: 2 } } tensor_content: \"\\007\\000\\000\\000\\007\\000\\000\\000\" } } device { type: \"GPU\" vendor: \"NVIDIA\" model: \"Tesla V100-SXM2-16GB\" frequency: 1530 num_cores: 80 environment { key: \"architecture\" value: \"7.0\" } environment { key: \"cuda\" value: \"11000\" } environment { key: \"cudnn\" value: \"8005\" } num_registers: 65536 l1_cache_size: 24576 l2_cache_size: 6291456 shared_memory_size_per_multiprocessor: 98304 memory_size: 15345844224 bandwidth: 898048000 } outputs { dtype: DT_FLOAT shape { dim { size: -192 } dim { size: 7 } dim { size: 7 } dim { size: 256 } } }\n",
      "2022-12-13 05:06:06.991289: W tensorflow/core/grappler/costs/op_level_cost_estimator.cc:690] Error in PredictCost() for the op: op: \"CropAndResize\" attr { key: \"T\" value { type: DT_FLOAT } } attr { key: \"extrapolation_value\" value { f: 0 } } attr { key: \"method\" value { s: \"bilinear\" } } inputs { dtype: DT_FLOAT shape { dim { size: -14 } dim { size: -344 } dim { size: -345 } dim { size: 256 } } } inputs { dtype: DT_FLOAT shape { dim { size: -192 } dim { size: 4 } } } inputs { dtype: DT_INT32 shape { dim { size: -192 } } } inputs { dtype: DT_INT32 shape { dim { size: 2 } } value { dtype: DT_INT32 tensor_shape { dim { size: 2 } } tensor_content: \"\\016\\000\\000\\000\\016\\000\\000\\000\" } } device { type: \"GPU\" vendor: \"NVIDIA\" model: \"Tesla V100-SXM2-16GB\" frequency: 1530 num_cores: 80 environment { key: \"architecture\" value: \"7.0\" } environment { key: \"cuda\" value: \"11000\" } environment { key: \"cudnn\" value: \"8005\" } num_registers: 65536 l1_cache_size: 24576 l2_cache_size: 6291456 shared_memory_size_per_multiprocessor: 98304 memory_size: 15345844224 bandwidth: 898048000 } outputs { dtype: DT_FLOAT shape { dim { size: -192 } dim { size: 14 } dim { size: 14 } dim { size: 256 } } }\n"
     ]
    },
    {
     "name": "stdout",
     "output_type": "stream",
     "text": [
      "  1/200 [..............................] - ETA: 1:31:06 - batch: 0.0000e+00 - size: 8.0000 - loss: 15.0271 - rpn_class_loss: 2.9804 - rpn_bbox_loss: 7.1226 - mrcnn_class_loss: 1.0951 - mrcnn_bbox_loss: 3.2797 - mrcnn_mask_loss: 0.5492"
     ]
    },
    {
     "name": "stderr",
     "output_type": "stream",
     "text": [
      "2022-12-13 05:06:12.080160: I tensorflow/core/profiler/lib/profiler_session.cc:131] Profiler session initializing.\n",
      "2022-12-13 05:06:12.080231: I tensorflow/core/profiler/lib/profiler_session.cc:146] Profiler session started.\n",
      "2022-12-13 05:06:13.479375: I tensorflow/core/profiler/lib/profiler_session.cc:66] Profiler session collecting data.\n",
      "2022-12-13 05:06:13.488014: I tensorflow/core/profiler/internal/gpu/cupti_tracer.cc:1748] CUPTI activity buffer flushed\n",
      "2022-12-13 05:06:13.883199: I tensorflow/core/profiler/internal/gpu/cupti_collector.cc:673]  GpuTracer has collected 4289 callback api events and 4288 activity events. \n",
      "2022-12-13 05:06:14.132071: I tensorflow/core/profiler/lib/profiler_session.cc:164] Profiler session tear down.\n",
      "2022-12-13 05:06:14.424100: I tensorflow/core/profiler/rpc/client/save_profile.cc:136] Creating directory: /home/jupyter/pneumonia20221213T0503/plugins/profile/2022_12_13_05_06_14\n",
      "\n",
      "2022-12-13 05:06:14.631618: I tensorflow/core/profiler/rpc/client/save_profile.cc:142] Dumped gzipped tool data for trace.json.gz to /home/jupyter/pneumonia20221213T0503/plugins/profile/2022_12_13_05_06_14/c7011c5febf5.trace.json.gz\n"
     ]
    },
    {
     "name": "stdout",
     "output_type": "stream",
     "text": [
      "  2/200 [..............................] - ETA: 10:51 - batch: 0.5000 - size: 8.0000 - loss: 16.6291 - rpn_class_loss: 2.0552 - rpn_bbox_loss: 7.9091 - mrcnn_class_loss: 0.5900 - mrcnn_bbox_loss: 5.7634 - mrcnn_mask_loss: 0.3114      "
     ]
    },
    {
     "name": "stderr",
     "output_type": "stream",
     "text": [
      "2022-12-13 05:06:15.256242: I tensorflow/core/profiler/rpc/client/save_profile.cc:136] Creating directory: /home/jupyter/pneumonia20221213T0503/plugins/profile/2022_12_13_05_06_14\n",
      "\n",
      "2022-12-13 05:06:15.276954: I tensorflow/core/profiler/rpc/client/save_profile.cc:142] Dumped gzipped tool data for memory_profile.json.gz to /home/jupyter/pneumonia20221213T0503/plugins/profile/2022_12_13_05_06_14/c7011c5febf5.memory_profile.json.gz\n",
      "2022-12-13 05:06:15.287688: I tensorflow/core/profiler/rpc/client/capture_profile.cc:251] Creating directory: /home/jupyter/pneumonia20221213T0503/plugins/profile/2022_12_13_05_06_14\n",
      "Dumped tool data for xplane.pb to /home/jupyter/pneumonia20221213T0503/plugins/profile/2022_12_13_05_06_14/c7011c5febf5.xplane.pb\n",
      "Dumped tool data for overview_page.pb to /home/jupyter/pneumonia20221213T0503/plugins/profile/2022_12_13_05_06_14/c7011c5febf5.overview_page.pb\n",
      "Dumped tool data for input_pipeline.pb to /home/jupyter/pneumonia20221213T0503/plugins/profile/2022_12_13_05_06_14/c7011c5febf5.input_pipeline.pb\n",
      "Dumped tool data for tensorflow_stats.pb to /home/jupyter/pneumonia20221213T0503/plugins/profile/2022_12_13_05_06_14/c7011c5febf5.tensorflow_stats.pb\n",
      "Dumped tool data for kernel_stats.pb to /home/jupyter/pneumonia20221213T0503/plugins/profile/2022_12_13_05_06_14/c7011c5febf5.kernel_stats.pb\n",
      "\n"
     ]
    },
    {
     "name": "stdout",
     "output_type": "stream",
     "text": [
      "200/200 [==============================] - ETA: 0s - batch: 99.5000 - size: 8.0000 - loss: 13.8147 - rpn_class_loss: 0.6101 - rpn_bbox_loss: 7.1380 - mrcnn_class_loss: 1.0550 - mrcnn_bbox_loss: 5.0083 - mrcnn_mask_loss: 0.0032"
     ]
    },
    {
     "name": "stderr",
     "output_type": "stream",
     "text": [
      "2022-12-13 05:08:19.099524: W tensorflow/core/grappler/costs/op_level_cost_estimator.cc:690] Error in PredictCost() for the op: op: \"CropAndResize\" attr { key: \"T\" value { type: DT_FLOAT } } attr { key: \"extrapolation_value\" value { f: 0 } } attr { key: \"method\" value { s: \"bilinear\" } } inputs { dtype: DT_FLOAT shape { dim { size: -896 } dim { size: 56 } dim { size: 56 } dim { size: 1 } } } inputs { dtype: DT_FLOAT shape { dim { size: -28 } dim { size: 4 } } } inputs { dtype: DT_INT32 shape { dim { size: -28 } } } inputs { dtype: DT_INT32 shape { dim { size: 2 } } value { dtype: DT_INT32 tensor_shape { dim { size: 2 } } tensor_content: \"\\034\\000\\000\\000\\034\\000\\000\\000\" } } device { type: \"GPU\" vendor: \"NVIDIA\" model: \"Tesla V100-SXM2-16GB\" frequency: 1530 num_cores: 80 environment { key: \"architecture\" value: \"7.0\" } environment { key: \"cuda\" value: \"11000\" } environment { key: \"cudnn\" value: \"8005\" } num_registers: 65536 l1_cache_size: 24576 l2_cache_size: 6291456 shared_memory_size_per_multiprocessor: 98304 memory_size: 15345844224 bandwidth: 898048000 } outputs { dtype: DT_FLOAT shape { dim { size: -28 } dim { size: 28 } dim { size: 28 } dim { size: 1 } } }\n",
      "2022-12-13 05:08:19.103035: W tensorflow/core/grappler/costs/op_level_cost_estimator.cc:690] Error in PredictCost() for the op: op: \"CropAndResize\" attr { key: \"T\" value { type: DT_FLOAT } } attr { key: \"extrapolation_value\" value { f: 0 } } attr { key: \"method\" value { s: \"bilinear\" } } inputs { dtype: DT_FLOAT shape { dim { size: -902 } dim { size: 56 } dim { size: 56 } dim { size: 1 } } } inputs { dtype: DT_FLOAT shape { dim { size: -40 } dim { size: 4 } } } inputs { dtype: DT_INT32 shape { dim { size: -40 } } } inputs { dtype: DT_INT32 shape { dim { size: 2 } } value { dtype: DT_INT32 tensor_shape { dim { size: 2 } } tensor_content: \"\\034\\000\\000\\000\\034\\000\\000\\000\" } } device { type: \"GPU\" vendor: \"NVIDIA\" model: \"Tesla V100-SXM2-16GB\" frequency: 1530 num_cores: 80 environment { key: \"architecture\" value: \"7.0\" } environment { key: \"cuda\" value: \"11000\" } environment { key: \"cudnn\" value: \"8005\" } num_registers: 65536 l1_cache_size: 24576 l2_cache_size: 6291456 shared_memory_size_per_multiprocessor: 98304 memory_size: 15345844224 bandwidth: 898048000 } outputs { dtype: DT_FLOAT shape { dim { size: -40 } dim { size: 28 } dim { size: 28 } dim { size: 1 } } }\n",
      "2022-12-13 05:08:19.104234: W tensorflow/core/grappler/costs/op_level_cost_estimator.cc:690] Error in PredictCost() for the op: op: \"CropAndResize\" attr { key: \"T\" value { type: DT_FLOAT } } attr { key: \"extrapolation_value\" value { f: 0 } } attr { key: \"method\" value { s: \"bilinear\" } } inputs { dtype: DT_FLOAT shape { dim { size: -904 } dim { size: 56 } dim { size: 56 } dim { size: 1 } } } inputs { dtype: DT_FLOAT shape { dim { size: -44 } dim { size: 4 } } } inputs { dtype: DT_INT32 shape { dim { size: -44 } } } inputs { dtype: DT_INT32 shape { dim { size: 2 } } value { dtype: DT_INT32 tensor_shape { dim { size: 2 } } tensor_content: \"\\034\\000\\000\\000\\034\\000\\000\\000\" } } device { type: \"GPU\" vendor: \"NVIDIA\" model: \"Tesla V100-SXM2-16GB\" frequency: 1530 num_cores: 80 environment { key: \"architecture\" value: \"7.0\" } environment { key: \"cuda\" value: \"11000\" } environment { key: \"cudnn\" value: \"8005\" } num_registers: 65536 l1_cache_size: 24576 l2_cache_size: 6291456 shared_memory_size_per_multiprocessor: 98304 memory_size: 15345844224 bandwidth: 898048000 } outputs { dtype: DT_FLOAT shape { dim { size: -44 } dim { size: 28 } dim { size: 28 } dim { size: 1 } } }\n",
      "2022-12-13 05:08:19.105210: W tensorflow/core/grappler/costs/op_level_cost_estimator.cc:690] Error in PredictCost() for the op: op: \"CropAndResize\" attr { key: \"T\" value { type: DT_FLOAT } } attr { key: \"extrapolation_value\" value { f: 0 } } attr { key: \"method\" value { s: \"bilinear\" } } inputs { dtype: DT_FLOAT shape { dim { size: -906 } dim { size: 56 } dim { size: 56 } dim { size: 1 } } } inputs { dtype: DT_FLOAT shape { dim { size: -48 } dim { size: 4 } } } inputs { dtype: DT_INT32 shape { dim { size: -48 } } } inputs { dtype: DT_INT32 shape { dim { size: 2 } } value { dtype: DT_INT32 tensor_shape { dim { size: 2 } } tensor_content: \"\\034\\000\\000\\000\\034\\000\\000\\000\" } } device { type: \"GPU\" vendor: \"NVIDIA\" model: \"Tesla V100-SXM2-16GB\" frequency: 1530 num_cores: 80 environment { key: \"architecture\" value: \"7.0\" } environment { key: \"cuda\" value: \"11000\" } environment { key: \"cudnn\" value: \"8005\" } num_registers: 65536 l1_cache_size: 24576 l2_cache_size: 6291456 shared_memory_size_per_multiprocessor: 98304 memory_size: 15345844224 bandwidth: 898048000 } outputs { dtype: DT_FLOAT shape { dim { size: -48 } dim { size: 28 } dim { size: 28 } dim { size: 1 } } }\n",
      "2022-12-13 05:08:19.106014: W tensorflow/core/grappler/costs/op_level_cost_estimator.cc:690] Error in PredictCost() for the op: op: \"CropAndResize\" attr { key: \"T\" value { type: DT_FLOAT } } attr { key: \"extrapolation_value\" value { f: 0 } } attr { key: \"method\" value { s: \"bilinear\" } } inputs { dtype: DT_FLOAT shape { dim { size: -908 } dim { size: 56 } dim { size: 56 } dim { size: 1 } } } inputs { dtype: DT_FLOAT shape { dim { size: -52 } dim { size: 4 } } } inputs { dtype: DT_INT32 shape { dim { size: -52 } } } inputs { dtype: DT_INT32 shape { dim { size: 2 } } value { dtype: DT_INT32 tensor_shape { dim { size: 2 } } tensor_content: \"\\034\\000\\000\\000\\034\\000\\000\\000\" } } device { type: \"GPU\" vendor: \"NVIDIA\" model: \"Tesla V100-SXM2-16GB\" frequency: 1530 num_cores: 80 environment { key: \"architecture\" value: \"7.0\" } environment { key: \"cuda\" value: \"11000\" } environment { key: \"cudnn\" value: \"8005\" } num_registers: 65536 l1_cache_size: 24576 l2_cache_size: 6291456 shared_memory_size_per_multiprocessor: 98304 memory_size: 15345844224 bandwidth: 898048000 } outputs { dtype: DT_FLOAT shape { dim { size: -52 } dim { size: 28 } dim { size: 28 } dim { size: 1 } } }\n",
      "2022-12-13 05:08:19.106886: W tensorflow/core/grappler/costs/op_level_cost_estimator.cc:690] Error in PredictCost() for the op: op: \"CropAndResize\" attr { key: \"T\" value { type: DT_FLOAT } } attr { key: \"extrapolation_value\" value { f: 0 } } attr { key: \"method\" value { s: \"bilinear\" } } inputs { dtype: DT_FLOAT shape { dim { size: -910 } dim { size: 56 } dim { size: 56 } dim { size: 1 } } } inputs { dtype: DT_FLOAT shape { dim { size: -56 } dim { size: 4 } } } inputs { dtype: DT_INT32 shape { dim { size: -56 } } } inputs { dtype: DT_INT32 shape { dim { size: 2 } } value { dtype: DT_INT32 tensor_shape { dim { size: 2 } } tensor_content: \"\\034\\000\\000\\000\\034\\000\\000\\000\" } } device { type: \"GPU\" vendor: \"NVIDIA\" model: \"Tesla V100-SXM2-16GB\" frequency: 1530 num_cores: 80 environment { key: \"architecture\" value: \"7.0\" } environment { key: \"cuda\" value: \"11000\" } environment { key: \"cudnn\" value: \"8005\" } num_registers: 65536 l1_cache_size: 24576 l2_cache_size: 6291456 shared_memory_size_per_multiprocessor: 98304 memory_size: 15345844224 bandwidth: 898048000 } outputs { dtype: DT_FLOAT shape { dim { size: -56 } dim { size: 28 } dim { size: 28 } dim { size: 1 } } }\n",
      "2022-12-13 05:08:19.107786: W tensorflow/core/grappler/costs/op_level_cost_estimator.cc:690] Error in PredictCost() for the op: op: \"CropAndResize\" attr { key: \"T\" value { type: DT_FLOAT } } attr { key: \"extrapolation_value\" value { f: 0 } } attr { key: \"method\" value { s: \"bilinear\" } } inputs { dtype: DT_FLOAT shape { dim { size: -898 } dim { size: 56 } dim { size: 56 } dim { size: 1 } } } inputs { dtype: DT_FLOAT shape { dim { size: -32 } dim { size: 4 } } } inputs { dtype: DT_INT32 shape { dim { size: -32 } } } inputs { dtype: DT_INT32 shape { dim { size: 2 } } value { dtype: DT_INT32 tensor_shape { dim { size: 2 } } tensor_content: \"\\034\\000\\000\\000\\034\\000\\000\\000\" } } device { type: \"GPU\" vendor: \"NVIDIA\" model: \"Tesla V100-SXM2-16GB\" frequency: 1530 num_cores: 80 environment { key: \"architecture\" value: \"7.0\" } environment { key: \"cuda\" value: \"11000\" } environment { key: \"cudnn\" value: \"8005\" } num_registers: 65536 l1_cache_size: 24576 l2_cache_size: 6291456 shared_memory_size_per_multiprocessor: 98304 memory_size: 15345844224 bandwidth: 898048000 } outputs { dtype: DT_FLOAT shape { dim { size: -32 } dim { size: 28 } dim { size: 28 } dim { size: 1 } } }\n",
      "2022-12-13 05:08:19.108569: W tensorflow/core/grappler/costs/op_level_cost_estimator.cc:690] Error in PredictCost() for the op: op: \"CropAndResize\" attr { key: \"T\" value { type: DT_FLOAT } } attr { key: \"extrapolation_value\" value { f: 0 } } attr { key: \"method\" value { s: \"bilinear\" } } inputs { dtype: DT_FLOAT shape { dim { size: -900 } dim { size: 56 } dim { size: 56 } dim { size: 1 } } } inputs { dtype: DT_FLOAT shape { dim { size: -36 } dim { size: 4 } } } inputs { dtype: DT_INT32 shape { dim { size: -36 } } } inputs { dtype: DT_INT32 shape { dim { size: 2 } } value { dtype: DT_INT32 tensor_shape { dim { size: 2 } } tensor_content: \"\\034\\000\\000\\000\\034\\000\\000\\000\" } } device { type: \"GPU\" vendor: \"NVIDIA\" model: \"Tesla V100-SXM2-16GB\" frequency: 1530 num_cores: 80 environment { key: \"architecture\" value: \"7.0\" } environment { key: \"cuda\" value: \"11000\" } environment { key: \"cudnn\" value: \"8005\" } num_registers: 65536 l1_cache_size: 24576 l2_cache_size: 6291456 shared_memory_size_per_multiprocessor: 98304 memory_size: 15345844224 bandwidth: 898048000 } outputs { dtype: DT_FLOAT shape { dim { size: -36 } dim { size: 28 } dim { size: 28 } dim { size: 1 } } }\n",
      "2022-12-13 05:08:19.116607: W tensorflow/core/grappler/costs/op_level_cost_estimator.cc:690] Error in PredictCost() for the op: op: \"CropAndResize\" attr { key: \"T\" value { type: DT_FLOAT } } attr { key: \"extrapolation_value\" value { f: 0 } } attr { key: \"method\" value { s: \"bilinear\" } } inputs { dtype: DT_FLOAT shape { dim { size: -199 } dim { size: -463 } dim { size: -464 } dim { size: 256 } } } inputs { dtype: DT_FLOAT shape { dim { size: -173 } dim { size: 4 } } } inputs { dtype: DT_INT32 shape { dim { size: -173 } } } inputs { dtype: DT_INT32 shape { dim { size: 2 } } value { dtype: DT_INT32 tensor_shape { dim { size: 2 } } tensor_content: \"\\007\\000\\000\\000\\007\\000\\000\\000\" } } device { type: \"GPU\" vendor: \"NVIDIA\" model: \"Tesla V100-SXM2-16GB\" frequency: 1530 num_cores: 80 environment { key: \"architecture\" value: \"7.0\" } environment { key: \"cuda\" value: \"11000\" } environment { key: \"cudnn\" value: \"8005\" } num_registers: 65536 l1_cache_size: 24576 l2_cache_size: 6291456 shared_memory_size_per_multiprocessor: 98304 memory_size: 15345844224 bandwidth: 898048000 } outputs { dtype: DT_FLOAT shape { dim { size: -173 } dim { size: 7 } dim { size: 7 } dim { size: 256 } } }\n",
      "2022-12-13 05:08:19.117305: W tensorflow/core/grappler/costs/op_level_cost_estimator.cc:690] Error in PredictCost() for the op: op: \"CropAndResize\" attr { key: \"T\" value { type: DT_FLOAT } } attr { key: \"extrapolation_value\" value { f: 0 } } attr { key: \"method\" value { s: \"bilinear\" } } inputs { dtype: DT_FLOAT shape { dim { size: -199 } dim { size: -463 } dim { size: -464 } dim { size: 256 } } } inputs { dtype: DT_FLOAT shape { dim { size: -173 } dim { size: 4 } } } inputs { dtype: DT_INT32 shape { dim { size: -173 } } } inputs { dtype: DT_INT32 shape { dim { size: 2 } } value { dtype: DT_INT32 tensor_shape { dim { size: 2 } } tensor_content: \"\\016\\000\\000\\000\\016\\000\\000\\000\" } } device { type: \"GPU\" vendor: \"NVIDIA\" model: \"Tesla V100-SXM2-16GB\" frequency: 1530 num_cores: 80 environment { key: \"architecture\" value: \"7.0\" } environment { key: \"cuda\" value: \"11000\" } environment { key: \"cudnn\" value: \"8005\" } num_registers: 65536 l1_cache_size: 24576 l2_cache_size: 6291456 shared_memory_size_per_multiprocessor: 98304 memory_size: 15345844224 bandwidth: 898048000 } outputs { dtype: DT_FLOAT shape { dim { size: -173 } dim { size: 14 } dim { size: 14 } dim { size: 256 } } }\n",
      "2022-12-13 05:08:19.118032: W tensorflow/core/grappler/costs/op_level_cost_estimator.cc:690] Error in PredictCost() for the op: op: \"CropAndResize\" attr { key: \"T\" value { type: DT_FLOAT } } attr { key: \"extrapolation_value\" value { f: 0 } } attr { key: \"method\" value { s: \"bilinear\" } } inputs { dtype: DT_FLOAT shape { dim { size: -199 } dim { size: -453 } dim { size: -454 } dim { size: 256 } } } inputs { dtype: DT_FLOAT shape { dim { size: -175 } dim { size: 4 } } } inputs { dtype: DT_INT32 shape { dim { size: -175 } } } inputs { dtype: DT_INT32 shape { dim { size: 2 } } value { dtype: DT_INT32 tensor_shape { dim { size: 2 } } tensor_content: \"\\007\\000\\000\\000\\007\\000\\000\\000\" } } device { type: \"GPU\" vendor: \"NVIDIA\" model: \"Tesla V100-SXM2-16GB\" frequency: 1530 num_cores: 80 environment { key: \"architecture\" value: \"7.0\" } environment { key: \"cuda\" value: \"11000\" } environment { key: \"cudnn\" value: \"8005\" } num_registers: 65536 l1_cache_size: 24576 l2_cache_size: 6291456 shared_memory_size_per_multiprocessor: 98304 memory_size: 15345844224 bandwidth: 898048000 } outputs { dtype: DT_FLOAT shape { dim { size: -175 } dim { size: 7 } dim { size: 7 } dim { size: 256 } } }\n",
      "2022-12-13 05:08:19.118799: W tensorflow/core/grappler/costs/op_level_cost_estimator.cc:690] Error in PredictCost() for the op: op: \"CropAndResize\" attr { key: \"T\" value { type: DT_FLOAT } } attr { key: \"extrapolation_value\" value { f: 0 } } attr { key: \"method\" value { s: \"bilinear\" } } inputs { dtype: DT_FLOAT shape { dim { size: -199 } dim { size: -453 } dim { size: -454 } dim { size: 256 } } } inputs { dtype: DT_FLOAT shape { dim { size: -175 } dim { size: 4 } } } inputs { dtype: DT_INT32 shape { dim { size: -175 } } } inputs { dtype: DT_INT32 shape { dim { size: 2 } } value { dtype: DT_INT32 tensor_shape { dim { size: 2 } } tensor_content: \"\\016\\000\\000\\000\\016\\000\\000\\000\" } } device { type: \"GPU\" vendor: \"NVIDIA\" model: \"Tesla V100-SXM2-16GB\" frequency: 1530 num_cores: 80 environment { key: \"architecture\" value: \"7.0\" } environment { key: \"cuda\" value: \"11000\" } environment { key: \"cudnn\" value: \"8005\" } num_registers: 65536 l1_cache_size: 24576 l2_cache_size: 6291456 shared_memory_size_per_multiprocessor: 98304 memory_size: 15345844224 bandwidth: 898048000 } outputs { dtype: DT_FLOAT shape { dim { size: -175 } dim { size: 14 } dim { size: 14 } dim { size: 256 } } }\n",
      "2022-12-13 05:08:19.119610: W tensorflow/core/grappler/costs/op_level_cost_estimator.cc:690] Error in PredictCost() for the op: op: \"CropAndResize\" attr { key: \"T\" value { type: DT_FLOAT } } attr { key: \"extrapolation_value\" value { f: 0 } } attr { key: \"method\" value { s: \"bilinear\" } } inputs { dtype: DT_FLOAT shape { dim { size: -199 } dim { size: -441 } dim { size: -442 } dim { size: 256 } } } inputs { dtype: DT_FLOAT shape { dim { size: -177 } dim { size: 4 } } } inputs { dtype: DT_INT32 shape { dim { size: -177 } } } inputs { dtype: DT_INT32 shape { dim { size: 2 } } value { dtype: DT_INT32 tensor_shape { dim { size: 2 } } tensor_content: \"\\007\\000\\000\\000\\007\\000\\000\\000\" } } device { type: \"GPU\" vendor: \"NVIDIA\" model: \"Tesla V100-SXM2-16GB\" frequency: 1530 num_cores: 80 environment { key: \"architecture\" value: \"7.0\" } environment { key: \"cuda\" value: \"11000\" } environment { key: \"cudnn\" value: \"8005\" } num_registers: 65536 l1_cache_size: 24576 l2_cache_size: 6291456 shared_memory_size_per_multiprocessor: 98304 memory_size: 15345844224 bandwidth: 898048000 } outputs { dtype: DT_FLOAT shape { dim { size: -177 } dim { size: 7 } dim { size: 7 } dim { size: 256 } } }\n",
      "2022-12-13 05:08:19.120309: W tensorflow/core/grappler/costs/op_level_cost_estimator.cc:690] Error in PredictCost() for the op: op: \"CropAndResize\" attr { key: \"T\" value { type: DT_FLOAT } } attr { key: \"extrapolation_value\" value { f: 0 } } attr { key: \"method\" value { s: \"bilinear\" } } inputs { dtype: DT_FLOAT shape { dim { size: -199 } dim { size: -441 } dim { size: -442 } dim { size: 256 } } } inputs { dtype: DT_FLOAT shape { dim { size: -177 } dim { size: 4 } } } inputs { dtype: DT_INT32 shape { dim { size: -177 } } } inputs { dtype: DT_INT32 shape { dim { size: 2 } } value { dtype: DT_INT32 tensor_shape { dim { size: 2 } } tensor_content: \"\\016\\000\\000\\000\\016\\000\\000\\000\" } } device { type: \"GPU\" vendor: \"NVIDIA\" model: \"Tesla V100-SXM2-16GB\" frequency: 1530 num_cores: 80 environment { key: \"architecture\" value: \"7.0\" } environment { key: \"cuda\" value: \"11000\" } environment { key: \"cudnn\" value: \"8005\" } num_registers: 65536 l1_cache_size: 24576 l2_cache_size: 6291456 shared_memory_size_per_multiprocessor: 98304 memory_size: 15345844224 bandwidth: 898048000 } outputs { dtype: DT_FLOAT shape { dim { size: -177 } dim { size: 14 } dim { size: 14 } dim { size: 256 } } }\n",
      "2022-12-13 05:08:19.121032: W tensorflow/core/grappler/costs/op_level_cost_estimator.cc:690] Error in PredictCost() for the op: op: \"CropAndResize\" attr { key: \"T\" value { type: DT_FLOAT } } attr { key: \"extrapolation_value\" value { f: 0 } } attr { key: \"method\" value { s: \"bilinear\" } } inputs { dtype: DT_FLOAT shape { dim { size: -199 } dim { size: -427 } dim { size: -428 } dim { size: 256 } } } inputs { dtype: DT_FLOAT shape { dim { size: -179 } dim { size: 4 } } } inputs { dtype: DT_INT32 shape { dim { size: -179 } } } inputs { dtype: DT_INT32 shape { dim { size: 2 } } value { dtype: DT_INT32 tensor_shape { dim { size: 2 } } tensor_content: \"\\007\\000\\000\\000\\007\\000\\000\\000\" } } device { type: \"GPU\" vendor: \"NVIDIA\" model: \"Tesla V100-SXM2-16GB\" frequency: 1530 num_cores: 80 environment { key: \"architecture\" value: \"7.0\" } environment { key: \"cuda\" value: \"11000\" } environment { key: \"cudnn\" value: \"8005\" } num_registers: 65536 l1_cache_size: 24576 l2_cache_size: 6291456 shared_memory_size_per_multiprocessor: 98304 memory_size: 15345844224 bandwidth: 898048000 } outputs { dtype: DT_FLOAT shape { dim { size: -179 } dim { size: 7 } dim { size: 7 } dim { size: 256 } } }\n",
      "2022-12-13 05:08:19.121726: W tensorflow/core/grappler/costs/op_level_cost_estimator.cc:690] Error in PredictCost() for the op: op: \"CropAndResize\" attr { key: \"T\" value { type: DT_FLOAT } } attr { key: \"extrapolation_value\" value { f: 0 } } attr { key: \"method\" value { s: \"bilinear\" } } inputs { dtype: DT_FLOAT shape { dim { size: -199 } dim { size: -427 } dim { size: -428 } dim { size: 256 } } } inputs { dtype: DT_FLOAT shape { dim { size: -179 } dim { size: 4 } } } inputs { dtype: DT_INT32 shape { dim { size: -179 } } } inputs { dtype: DT_INT32 shape { dim { size: 2 } } value { dtype: DT_INT32 tensor_shape { dim { size: 2 } } tensor_content: \"\\016\\000\\000\\000\\016\\000\\000\\000\" } } device { type: \"GPU\" vendor: \"NVIDIA\" model: \"Tesla V100-SXM2-16GB\" frequency: 1530 num_cores: 80 environment { key: \"architecture\" value: \"7.0\" } environment { key: \"cuda\" value: \"11000\" } environment { key: \"cudnn\" value: \"8005\" } num_registers: 65536 l1_cache_size: 24576 l2_cache_size: 6291456 shared_memory_size_per_multiprocessor: 98304 memory_size: 15345844224 bandwidth: 898048000 } outputs { dtype: DT_FLOAT shape { dim { size: -179 } dim { size: 14 } dim { size: 14 } dim { size: 256 } } }\n"
     ]
    },
    {
     "name": "stdout",
     "output_type": "stream",
     "text": [
      "200/200 [==============================] - 315s 1s/step - batch: 99.5000 - size: 8.0000 - loss: 13.8147 - rpn_class_loss: 0.6101 - rpn_bbox_loss: 7.1380 - mrcnn_class_loss: 1.0550 - mrcnn_bbox_loss: 5.0083 - mrcnn_mask_loss: 0.0032 - val_loss: 4.1308 - val_rpn_class_loss: 0.2695 - val_rpn_bbox_loss: 0.8999 - val_mrcnn_class_loss: 0.8727 - val_mrcnn_bbox_loss: 2.0888 - val_mrcnn_mask_loss: 5.9380e-10\n",
      "Epoch 2/2\n",
      "200/200 [==============================] - 187s 938ms/step - batch: 99.5000 - size: 8.0000 - loss: 4.2618 - rpn_class_loss: 0.2660 - rpn_bbox_loss: 1.0361 - mrcnn_class_loss: 1.3258 - mrcnn_bbox_loss: 1.6339 - mrcnn_mask_loss: 1.8535e-09 - val_loss: 1.8654 - val_rpn_class_loss: 0.1712 - val_rpn_bbox_loss: 0.5561 - val_mrcnn_class_loss: 0.4369 - val_mrcnn_bbox_loss: 0.7012 - val_mrcnn_mask_loss: 0.0000e+00\n"
     ]
    }
   ],
   "source": [
    "time_callback = TimeHistory()\n",
    "## train heads with higher lr to speedup the learning\n",
    "model.train(dataset_train, dataset_val,\n",
    "            learning_rate=LEARNING_RATE,\n",
    "            epochs=2,\n",
    "            layers='heads',\n",
    "            augmentation=None,\n",
    "           custom_callbacks=[time_callback])\n",
    "times = time_callback.times\n",
    "times_list = []\n",
    "times_list.append(times)\n",
    "history = model.keras_model.history.history.copy()"
   ]
  },
  {
   "cell_type": "code",
   "execution_count": 27,
   "metadata": {},
   "outputs": [
    {
     "name": "stdout",
     "output_type": "stream",
     "text": [
      "Epoch Training time: [314.7854869365692, 186.89624691009521]\n",
      "{'loss': [13.814655294418335, 4.261818532347679], 'rpn_class_loss': [0.61006063, 0.2660228], 'rpn_bbox_loss': [7.1380205, 1.0361015], 'mrcnn_class_loss': [1.055044, 1.3258195], 'mrcnn_bbox_loss': [5.008331, 1.6338747], 'mrcnn_mask_loss': [0.003199261, 1.8534512e-09], 'val_loss': [4.130836834907532, 1.865436704158783], 'val_rpn_class_loss': [0.26945305, 0.17119516], 'val_rpn_bbox_loss': [0.8999484, 0.55613005], 'val_mrcnn_class_loss': [0.8726566, 0.43693006], 'val_mrcnn_bbox_loss': [2.0887792, 0.7011814], 'val_mrcnn_mask_loss': [5.9379834e-10, 0.0]}\n"
     ]
    }
   ],
   "source": [
    "print('Epoch Training time:', times)\n",
    "print(history)"
   ]
  },
  {
   "cell_type": "code",
   "execution_count": 23,
   "metadata": {},
   "outputs": [],
   "source": [
    "times_list = [314.7854869365692, 186.89624691009521]\n",
    "history = {'loss': [13.814655294418335, 4.261818532347679], 'rpn_class_loss': [0.61006063, 0.2660228], 'rpn_bbox_loss': [7.1380205, 1.0361015], 'mrcnn_class_loss': [1.055044, 1.3258195], 'mrcnn_bbox_loss': [5.008331, 1.6338747], 'mrcnn_mask_loss': [0.003199261, 1.8534512e-09], 'val_loss': [4.130836834907532, 1.865436704158783], 'val_rpn_class_loss': [0.26945305, 0.17119516], 'val_rpn_bbox_loss': [0.8999484, 0.55613005], 'val_mrcnn_class_loss': [0.8726566, 0.43693006], 'val_mrcnn_bbox_loss': [2.0887792, 0.7011814], 'val_mrcnn_mask_loss': [5.9379834e-10, 0.0]}"
   ]
  },
  {
   "cell_type": "code",
   "execution_count": 24,
   "metadata": {
    "_uuid": "8004790d27f041793562e994bbe95edf67f8978b",
    "tags": []
   },
   "outputs": [
    {
     "name": "stdout",
     "output_type": "stream",
     "text": [
      "\n",
      "Starting at epoch 2. LR=0.005\n",
      "\n",
      "Checkpoint Path: /home/jupyter/pneumonia20221213T0503/mask_rcnn_pneumonia_{epoch:04d}.h5\n",
      "Selecting layers to train\n",
      "conv1                  (Conv2D)\n",
      "bn_conv1               (BatchNorm)\n",
      "res2a_branch2a         (Conv2D)\n",
      "bn2a_branch2a          (BatchNorm)\n",
      "res2a_branch2b         (Conv2D)\n",
      "bn2a_branch2b          (BatchNorm)\n",
      "res2a_branch2c         (Conv2D)\n",
      "res2a_branch1          (Conv2D)\n",
      "bn2a_branch2c          (BatchNorm)\n",
      "bn2a_branch1           (BatchNorm)\n",
      "res2b_branch2a         (Conv2D)\n",
      "bn2b_branch2a          (BatchNorm)\n",
      "res2b_branch2b         (Conv2D)\n",
      "bn2b_branch2b          (BatchNorm)\n",
      "res2b_branch2c         (Conv2D)\n",
      "bn2b_branch2c          (BatchNorm)\n",
      "res2c_branch2a         (Conv2D)\n",
      "bn2c_branch2a          (BatchNorm)\n",
      "res2c_branch2b         (Conv2D)\n",
      "bn2c_branch2b          (BatchNorm)\n",
      "res2c_branch2c         (Conv2D)\n",
      "bn2c_branch2c          (BatchNorm)\n",
      "res3a_branch2a         (Conv2D)\n",
      "bn3a_branch2a          (BatchNorm)\n",
      "res3a_branch2b         (Conv2D)\n",
      "bn3a_branch2b          (BatchNorm)\n",
      "res3a_branch2c         (Conv2D)\n",
      "res3a_branch1          (Conv2D)\n",
      "bn3a_branch2c          (BatchNorm)\n",
      "bn3a_branch1           (BatchNorm)\n",
      "res3b_branch2a         (Conv2D)\n",
      "bn3b_branch2a          (BatchNorm)\n",
      "res3b_branch2b         (Conv2D)\n",
      "bn3b_branch2b          (BatchNorm)\n",
      "res3b_branch2c         (Conv2D)\n",
      "bn3b_branch2c          (BatchNorm)\n",
      "res3c_branch2a         (Conv2D)\n",
      "bn3c_branch2a          (BatchNorm)\n",
      "res3c_branch2b         (Conv2D)\n",
      "bn3c_branch2b          (BatchNorm)\n",
      "res3c_branch2c         (Conv2D)\n",
      "bn3c_branch2c          (BatchNorm)\n",
      "res3d_branch2a         (Conv2D)\n",
      "bn3d_branch2a          (BatchNorm)\n",
      "res3d_branch2b         (Conv2D)\n",
      "bn3d_branch2b          (BatchNorm)\n",
      "res3d_branch2c         (Conv2D)\n",
      "bn3d_branch2c          (BatchNorm)\n",
      "res4a_branch2a         (Conv2D)\n",
      "bn4a_branch2a          (BatchNorm)\n",
      "res4a_branch2b         (Conv2D)\n",
      "bn4a_branch2b          (BatchNorm)\n",
      "res4a_branch2c         (Conv2D)\n",
      "res4a_branch1          (Conv2D)\n",
      "bn4a_branch2c          (BatchNorm)\n",
      "bn4a_branch1           (BatchNorm)\n",
      "res4b_branch2a         (Conv2D)\n",
      "bn4b_branch2a          (BatchNorm)\n",
      "res4b_branch2b         (Conv2D)\n",
      "bn4b_branch2b          (BatchNorm)\n",
      "res4b_branch2c         (Conv2D)\n",
      "bn4b_branch2c          (BatchNorm)\n",
      "res4c_branch2a         (Conv2D)\n",
      "bn4c_branch2a          (BatchNorm)\n",
      "res4c_branch2b         (Conv2D)\n",
      "bn4c_branch2b          (BatchNorm)\n",
      "res4c_branch2c         (Conv2D)\n",
      "bn4c_branch2c          (BatchNorm)\n",
      "res4d_branch2a         (Conv2D)\n",
      "bn4d_branch2a          (BatchNorm)\n",
      "res4d_branch2b         (Conv2D)\n",
      "bn4d_branch2b          (BatchNorm)\n",
      "res4d_branch2c         (Conv2D)\n",
      "bn4d_branch2c          (BatchNorm)\n",
      "res4e_branch2a         (Conv2D)\n",
      "bn4e_branch2a          (BatchNorm)\n",
      "res4e_branch2b         (Conv2D)\n",
      "bn4e_branch2b          (BatchNorm)\n",
      "res4e_branch2c         (Conv2D)\n",
      "bn4e_branch2c          (BatchNorm)\n",
      "res4f_branch2a         (Conv2D)\n",
      "bn4f_branch2a          (BatchNorm)\n",
      "res4f_branch2b         (Conv2D)\n",
      "bn4f_branch2b          (BatchNorm)\n",
      "res4f_branch2c         (Conv2D)\n",
      "bn4f_branch2c          (BatchNorm)\n",
      "res5a_branch2a         (Conv2D)\n",
      "bn5a_branch2a          (BatchNorm)\n",
      "res5a_branch2b         (Conv2D)\n",
      "bn5a_branch2b          (BatchNorm)\n",
      "res5a_branch2c         (Conv2D)\n",
      "res5a_branch1          (Conv2D)\n",
      "bn5a_branch2c          (BatchNorm)\n",
      "bn5a_branch1           (BatchNorm)\n",
      "res5b_branch2a         (Conv2D)\n",
      "bn5b_branch2a          (BatchNorm)\n",
      "res5b_branch2b         (Conv2D)\n",
      "bn5b_branch2b          (BatchNorm)\n",
      "res5b_branch2c         (Conv2D)\n",
      "bn5b_branch2c          (BatchNorm)\n",
      "res5c_branch2a         (Conv2D)\n",
      "bn5c_branch2a          (BatchNorm)\n",
      "res5c_branch2b         (Conv2D)\n",
      "bn5c_branch2b          (BatchNorm)\n",
      "res5c_branch2c         (Conv2D)\n",
      "bn5c_branch2c          (BatchNorm)\n",
      "fpn_c5p5               (Conv2D)\n",
      "fpn_c4p4               (Conv2D)\n",
      "fpn_c3p3               (Conv2D)\n",
      "fpn_c2p2               (Conv2D)\n",
      "fpn_p5                 (Conv2D)\n",
      "fpn_p2                 (Conv2D)\n",
      "fpn_p3                 (Conv2D)\n",
      "fpn_p4                 (Conv2D)\n",
      "rpn_model              (Functional)\n",
      "anchors                (ConstLayer)\n",
      "mrcnn_mask_conv1       (TimeDistributed)\n",
      "mrcnn_mask_bn1         (TimeDistributed)\n",
      "mrcnn_mask_conv2       (TimeDistributed)\n",
      "mrcnn_mask_bn2         (TimeDistributed)\n",
      "mrcnn_class_conv1      (TimeDistributed)\n",
      "mrcnn_class_bn1        (TimeDistributed)\n",
      "mrcnn_mask_conv3       (TimeDistributed)\n",
      "mrcnn_mask_bn3         (TimeDistributed)\n",
      "mrcnn_class_conv2      (TimeDistributed)\n",
      "mrcnn_class_bn2        (TimeDistributed)\n",
      "mrcnn_mask_conv4       (TimeDistributed)\n",
      "mrcnn_mask_bn4         (TimeDistributed)\n",
      "mrcnn_bbox_fc          (TimeDistributed)\n",
      "mrcnn_mask_deconv      (TimeDistributed)\n",
      "mrcnn_class_logits     (TimeDistributed)\n",
      "mrcnn_mask             (TimeDistributed)\n"
     ]
    },
    {
     "name": "stderr",
     "output_type": "stream",
     "text": [
      "2022-12-13 07:25:29.466557: I tensorflow/stream_executor/cuda/cuda_gpu_executor.cc:937] successful NUMA node read from SysFS had negative value (-1), but there must be at least one NUMA node, so returning NUMA node zero\n",
      "2022-12-13 07:25:29.467184: I tensorflow/stream_executor/cuda/cuda_gpu_executor.cc:937] successful NUMA node read from SysFS had negative value (-1), but there must be at least one NUMA node, so returning NUMA node zero\n",
      "2022-12-13 07:25:29.467758: I tensorflow/stream_executor/cuda/cuda_gpu_executor.cc:937] successful NUMA node read from SysFS had negative value (-1), but there must be at least one NUMA node, so returning NUMA node zero\n",
      "2022-12-13 07:25:29.468258: I tensorflow/stream_executor/cuda/cuda_gpu_executor.cc:937] successful NUMA node read from SysFS had negative value (-1), but there must be at least one NUMA node, so returning NUMA node zero\n",
      "2022-12-13 07:25:29.468610: I tensorflow/stream_executor/cuda/cuda_gpu_executor.cc:937] successful NUMA node read from SysFS had negative value (-1), but there must be at least one NUMA node, so returning NUMA node zero\n",
      "2022-12-13 07:25:29.468822: I tensorflow/core/common_runtime/gpu/gpu_device.cc:1510] Created device /job:localhost/replica:0/task:0/device:GPU:0 with 14634 MB memory:  -> device: 0, name: Tesla V100-SXM2-16GB, pci bus id: 0000:00:04.0, compute capability: 7.0\n"
     ]
    },
    {
     "name": "stdout",
     "output_type": "stream",
     "text": [
      "Epoch 3/7\n"
     ]
    },
    {
     "name": "stderr",
     "output_type": "stream",
     "text": [
      "2022-12-13 07:27:07.527020: W tensorflow/core/grappler/costs/op_level_cost_estimator.cc:690] Error in PredictCost() for the op: op: \"CropAndResize\" attr { key: \"T\" value { type: DT_FLOAT } } attr { key: \"extrapolation_value\" value { f: 0 } } attr { key: \"method\" value { s: \"bilinear\" } } inputs { dtype: DT_FLOAT shape { dim { size: -1279 } dim { size: 56 } dim { size: 56 } dim { size: 1 } } } inputs { dtype: DT_FLOAT shape { dim { size: -41 } dim { size: 4 } } } inputs { dtype: DT_INT32 shape { dim { size: -41 } } } inputs { dtype: DT_INT32 shape { dim { size: 2 } } value { dtype: DT_INT32 tensor_shape { dim { size: 2 } } tensor_content: \"\\034\\000\\000\\000\\034\\000\\000\\000\" } } device { type: \"GPU\" vendor: \"NVIDIA\" model: \"Tesla V100-SXM2-16GB\" frequency: 1530 num_cores: 80 environment { key: \"architecture\" value: \"7.0\" } environment { key: \"cuda\" value: \"11000\" } environment { key: \"cudnn\" value: \"8005\" } num_registers: 65536 l1_cache_size: 24576 l2_cache_size: 6291456 shared_memory_size_per_multiprocessor: 98304 memory_size: 15345844224 bandwidth: 898048000 } outputs { dtype: DT_FLOAT shape { dim { size: -41 } dim { size: 28 } dim { size: 28 } dim { size: 1 } } }\n",
      "2022-12-13 07:27:07.540387: W tensorflow/core/grappler/costs/op_level_cost_estimator.cc:690] Error in PredictCost() for the op: op: \"CropAndResize\" attr { key: \"T\" value { type: DT_FLOAT } } attr { key: \"extrapolation_value\" value { f: 0 } } attr { key: \"method\" value { s: \"bilinear\" } } inputs { dtype: DT_FLOAT shape { dim { size: -1285 } dim { size: 56 } dim { size: 56 } dim { size: 1 } } } inputs { dtype: DT_FLOAT shape { dim { size: -53 } dim { size: 4 } } } inputs { dtype: DT_INT32 shape { dim { size: -53 } } } inputs { dtype: DT_INT32 shape { dim { size: 2 } } value { dtype: DT_INT32 tensor_shape { dim { size: 2 } } tensor_content: \"\\034\\000\\000\\000\\034\\000\\000\\000\" } } device { type: \"GPU\" vendor: \"NVIDIA\" model: \"Tesla V100-SXM2-16GB\" frequency: 1530 num_cores: 80 environment { key: \"architecture\" value: \"7.0\" } environment { key: \"cuda\" value: \"11000\" } environment { key: \"cudnn\" value: \"8005\" } num_registers: 65536 l1_cache_size: 24576 l2_cache_size: 6291456 shared_memory_size_per_multiprocessor: 98304 memory_size: 15345844224 bandwidth: 898048000 } outputs { dtype: DT_FLOAT shape { dim { size: -53 } dim { size: 28 } dim { size: 28 } dim { size: 1 } } }\n",
      "2022-12-13 07:27:07.541024: W tensorflow/core/grappler/costs/op_level_cost_estimator.cc:690] Error in PredictCost() for the op: op: \"CropAndResize\" attr { key: \"T\" value { type: DT_FLOAT } } attr { key: \"extrapolation_value\" value { f: 0 } } attr { key: \"method\" value { s: \"bilinear\" } } inputs { dtype: DT_FLOAT shape { dim { size: -1287 } dim { size: 56 } dim { size: 56 } dim { size: 1 } } } inputs { dtype: DT_FLOAT shape { dim { size: -57 } dim { size: 4 } } } inputs { dtype: DT_INT32 shape { dim { size: -57 } } } inputs { dtype: DT_INT32 shape { dim { size: 2 } } value { dtype: DT_INT32 tensor_shape { dim { size: 2 } } tensor_content: \"\\034\\000\\000\\000\\034\\000\\000\\000\" } } device { type: \"GPU\" vendor: \"NVIDIA\" model: \"Tesla V100-SXM2-16GB\" frequency: 1530 num_cores: 80 environment { key: \"architecture\" value: \"7.0\" } environment { key: \"cuda\" value: \"11000\" } environment { key: \"cudnn\" value: \"8005\" } num_registers: 65536 l1_cache_size: 24576 l2_cache_size: 6291456 shared_memory_size_per_multiprocessor: 98304 memory_size: 15345844224 bandwidth: 898048000 } outputs { dtype: DT_FLOAT shape { dim { size: -57 } dim { size: 28 } dim { size: 28 } dim { size: 1 } } }\n",
      "2022-12-13 07:27:07.541567: W tensorflow/core/grappler/costs/op_level_cost_estimator.cc:690] Error in PredictCost() for the op: op: \"CropAndResize\" attr { key: \"T\" value { type: DT_FLOAT } } attr { key: \"extrapolation_value\" value { f: 0 } } attr { key: \"method\" value { s: \"bilinear\" } } inputs { dtype: DT_FLOAT shape { dim { size: -1289 } dim { size: 56 } dim { size: 56 } dim { size: 1 } } } inputs { dtype: DT_FLOAT shape { dim { size: -61 } dim { size: 4 } } } inputs { dtype: DT_INT32 shape { dim { size: -61 } } } inputs { dtype: DT_INT32 shape { dim { size: 2 } } value { dtype: DT_INT32 tensor_shape { dim { size: 2 } } tensor_content: \"\\034\\000\\000\\000\\034\\000\\000\\000\" } } device { type: \"GPU\" vendor: \"NVIDIA\" model: \"Tesla V100-SXM2-16GB\" frequency: 1530 num_cores: 80 environment { key: \"architecture\" value: \"7.0\" } environment { key: \"cuda\" value: \"11000\" } environment { key: \"cudnn\" value: \"8005\" } num_registers: 65536 l1_cache_size: 24576 l2_cache_size: 6291456 shared_memory_size_per_multiprocessor: 98304 memory_size: 15345844224 bandwidth: 898048000 } outputs { dtype: DT_FLOAT shape { dim { size: -61 } dim { size: 28 } dim { size: 28 } dim { size: 1 } } }\n",
      "2022-12-13 07:27:07.542106: W tensorflow/core/grappler/costs/op_level_cost_estimator.cc:690] Error in PredictCost() for the op: op: \"CropAndResize\" attr { key: \"T\" value { type: DT_FLOAT } } attr { key: \"extrapolation_value\" value { f: 0 } } attr { key: \"method\" value { s: \"bilinear\" } } inputs { dtype: DT_FLOAT shape { dim { size: -1291 } dim { size: 56 } dim { size: 56 } dim { size: 1 } } } inputs { dtype: DT_FLOAT shape { dim { size: -65 } dim { size: 4 } } } inputs { dtype: DT_INT32 shape { dim { size: -65 } } } inputs { dtype: DT_INT32 shape { dim { size: 2 } } value { dtype: DT_INT32 tensor_shape { dim { size: 2 } } tensor_content: \"\\034\\000\\000\\000\\034\\000\\000\\000\" } } device { type: \"GPU\" vendor: \"NVIDIA\" model: \"Tesla V100-SXM2-16GB\" frequency: 1530 num_cores: 80 environment { key: \"architecture\" value: \"7.0\" } environment { key: \"cuda\" value: \"11000\" } environment { key: \"cudnn\" value: \"8005\" } num_registers: 65536 l1_cache_size: 24576 l2_cache_size: 6291456 shared_memory_size_per_multiprocessor: 98304 memory_size: 15345844224 bandwidth: 898048000 } outputs { dtype: DT_FLOAT shape { dim { size: -65 } dim { size: 28 } dim { size: 28 } dim { size: 1 } } }\n",
      "2022-12-13 07:27:07.542652: W tensorflow/core/grappler/costs/op_level_cost_estimator.cc:690] Error in PredictCost() for the op: op: \"CropAndResize\" attr { key: \"T\" value { type: DT_FLOAT } } attr { key: \"extrapolation_value\" value { f: 0 } } attr { key: \"method\" value { s: \"bilinear\" } } inputs { dtype: DT_FLOAT shape { dim { size: -1293 } dim { size: 56 } dim { size: 56 } dim { size: 1 } } } inputs { dtype: DT_FLOAT shape { dim { size: -69 } dim { size: 4 } } } inputs { dtype: DT_INT32 shape { dim { size: -69 } } } inputs { dtype: DT_INT32 shape { dim { size: 2 } } value { dtype: DT_INT32 tensor_shape { dim { size: 2 } } tensor_content: \"\\034\\000\\000\\000\\034\\000\\000\\000\" } } device { type: \"GPU\" vendor: \"NVIDIA\" model: \"Tesla V100-SXM2-16GB\" frequency: 1530 num_cores: 80 environment { key: \"architecture\" value: \"7.0\" } environment { key: \"cuda\" value: \"11000\" } environment { key: \"cudnn\" value: \"8005\" } num_registers: 65536 l1_cache_size: 24576 l2_cache_size: 6291456 shared_memory_size_per_multiprocessor: 98304 memory_size: 15345844224 bandwidth: 898048000 } outputs { dtype: DT_FLOAT shape { dim { size: -69 } dim { size: 28 } dim { size: 28 } dim { size: 1 } } }\n",
      "2022-12-13 07:27:07.543185: W tensorflow/core/grappler/costs/op_level_cost_estimator.cc:690] Error in PredictCost() for the op: op: \"CropAndResize\" attr { key: \"T\" value { type: DT_FLOAT } } attr { key: \"extrapolation_value\" value { f: 0 } } attr { key: \"method\" value { s: \"bilinear\" } } inputs { dtype: DT_FLOAT shape { dim { size: -1281 } dim { size: 56 } dim { size: 56 } dim { size: 1 } } } inputs { dtype: DT_FLOAT shape { dim { size: -45 } dim { size: 4 } } } inputs { dtype: DT_INT32 shape { dim { size: -45 } } } inputs { dtype: DT_INT32 shape { dim { size: 2 } } value { dtype: DT_INT32 tensor_shape { dim { size: 2 } } tensor_content: \"\\034\\000\\000\\000\\034\\000\\000\\000\" } } device { type: \"GPU\" vendor: \"NVIDIA\" model: \"Tesla V100-SXM2-16GB\" frequency: 1530 num_cores: 80 environment { key: \"architecture\" value: \"7.0\" } environment { key: \"cuda\" value: \"11000\" } environment { key: \"cudnn\" value: \"8005\" } num_registers: 65536 l1_cache_size: 24576 l2_cache_size: 6291456 shared_memory_size_per_multiprocessor: 98304 memory_size: 15345844224 bandwidth: 898048000 } outputs { dtype: DT_FLOAT shape { dim { size: -45 } dim { size: 28 } dim { size: 28 } dim { size: 1 } } }\n",
      "2022-12-13 07:27:07.543724: W tensorflow/core/grappler/costs/op_level_cost_estimator.cc:690] Error in PredictCost() for the op: op: \"CropAndResize\" attr { key: \"T\" value { type: DT_FLOAT } } attr { key: \"extrapolation_value\" value { f: 0 } } attr { key: \"method\" value { s: \"bilinear\" } } inputs { dtype: DT_FLOAT shape { dim { size: -1283 } dim { size: 56 } dim { size: 56 } dim { size: 1 } } } inputs { dtype: DT_FLOAT shape { dim { size: -49 } dim { size: 4 } } } inputs { dtype: DT_INT32 shape { dim { size: -49 } } } inputs { dtype: DT_INT32 shape { dim { size: 2 } } value { dtype: DT_INT32 tensor_shape { dim { size: 2 } } tensor_content: \"\\034\\000\\000\\000\\034\\000\\000\\000\" } } device { type: \"GPU\" vendor: \"NVIDIA\" model: \"Tesla V100-SXM2-16GB\" frequency: 1530 num_cores: 80 environment { key: \"architecture\" value: \"7.0\" } environment { key: \"cuda\" value: \"11000\" } environment { key: \"cudnn\" value: \"8005\" } num_registers: 65536 l1_cache_size: 24576 l2_cache_size: 6291456 shared_memory_size_per_multiprocessor: 98304 memory_size: 15345844224 bandwidth: 898048000 } outputs { dtype: DT_FLOAT shape { dim { size: -49 } dim { size: 28 } dim { size: 28 } dim { size: 1 } } }\n",
      "2022-12-13 07:27:07.573652: W tensorflow/core/grappler/costs/op_level_cost_estimator.cc:690] Error in PredictCost() for the op: op: \"CropAndResize\" attr { key: \"T\" value { type: DT_FLOAT } } attr { key: \"extrapolation_value\" value { f: 0 } } attr { key: \"method\" value { s: \"bilinear\" } } inputs { dtype: DT_FLOAT shape { dim { size: -14 } dim { size: -344 } dim { size: -345 } dim { size: 256 } } } inputs { dtype: DT_FLOAT shape { dim { size: -192 } dim { size: 4 } } } inputs { dtype: DT_INT32 shape { dim { size: -192 } } } inputs { dtype: DT_INT32 shape { dim { size: 2 } } value { dtype: DT_INT32 tensor_shape { dim { size: 2 } } tensor_content: \"\\007\\000\\000\\000\\007\\000\\000\\000\" } } device { type: \"GPU\" vendor: \"NVIDIA\" model: \"Tesla V100-SXM2-16GB\" frequency: 1530 num_cores: 80 environment { key: \"architecture\" value: \"7.0\" } environment { key: \"cuda\" value: \"11000\" } environment { key: \"cudnn\" value: \"8005\" } num_registers: 65536 l1_cache_size: 24576 l2_cache_size: 6291456 shared_memory_size_per_multiprocessor: 98304 memory_size: 15345844224 bandwidth: 898048000 } outputs { dtype: DT_FLOAT shape { dim { size: -192 } dim { size: 7 } dim { size: 7 } dim { size: 256 } } }\n",
      "2022-12-13 07:27:07.574643: W tensorflow/core/grappler/costs/op_level_cost_estimator.cc:690] Error in PredictCost() for the op: op: \"CropAndResize\" attr { key: \"T\" value { type: DT_FLOAT } } attr { key: \"extrapolation_value\" value { f: 0 } } attr { key: \"method\" value { s: \"bilinear\" } } inputs { dtype: DT_FLOAT shape { dim { size: -14 } dim { size: -344 } dim { size: -345 } dim { size: 256 } } } inputs { dtype: DT_FLOAT shape { dim { size: -192 } dim { size: 4 } } } inputs { dtype: DT_INT32 shape { dim { size: -192 } } } inputs { dtype: DT_INT32 shape { dim { size: 2 } } value { dtype: DT_INT32 tensor_shape { dim { size: 2 } } tensor_content: \"\\016\\000\\000\\000\\016\\000\\000\\000\" } } device { type: \"GPU\" vendor: \"NVIDIA\" model: \"Tesla V100-SXM2-16GB\" frequency: 1530 num_cores: 80 environment { key: \"architecture\" value: \"7.0\" } environment { key: \"cuda\" value: \"11000\" } environment { key: \"cudnn\" value: \"8005\" } num_registers: 65536 l1_cache_size: 24576 l2_cache_size: 6291456 shared_memory_size_per_multiprocessor: 98304 memory_size: 15345844224 bandwidth: 898048000 } outputs { dtype: DT_FLOAT shape { dim { size: -192 } dim { size: 14 } dim { size: 14 } dim { size: 256 } } }\n",
      "2022-12-13 07:27:07.576182: W tensorflow/core/grappler/costs/op_level_cost_estimator.cc:690] Error in PredictCost() for the op: op: \"CropAndResize\" attr { key: \"T\" value { type: DT_FLOAT } } attr { key: \"extrapolation_value\" value { f: 0 } } attr { key: \"method\" value { s: \"bilinear\" } } inputs { dtype: DT_FLOAT shape { dim { size: -14 } dim { size: -336 } dim { size: -337 } dim { size: 256 } } } inputs { dtype: DT_FLOAT shape { dim { size: -186 } dim { size: 4 } } } inputs { dtype: DT_INT32 shape { dim { size: -186 } } } inputs { dtype: DT_INT32 shape { dim { size: 2 } } value { dtype: DT_INT32 tensor_shape { dim { size: 2 } } tensor_content: \"\\007\\000\\000\\000\\007\\000\\000\\000\" } } device { type: \"GPU\" vendor: \"NVIDIA\" model: \"Tesla V100-SXM2-16GB\" frequency: 1530 num_cores: 80 environment { key: \"architecture\" value: \"7.0\" } environment { key: \"cuda\" value: \"11000\" } environment { key: \"cudnn\" value: \"8005\" } num_registers: 65536 l1_cache_size: 24576 l2_cache_size: 6291456 shared_memory_size_per_multiprocessor: 98304 memory_size: 15345844224 bandwidth: 898048000 } outputs { dtype: DT_FLOAT shape { dim { size: -186 } dim { size: 7 } dim { size: 7 } dim { size: 256 } } }\n",
      "2022-12-13 07:27:07.577291: W tensorflow/core/grappler/costs/op_level_cost_estimator.cc:690] Error in PredictCost() for the op: op: \"CropAndResize\" attr { key: \"T\" value { type: DT_FLOAT } } attr { key: \"extrapolation_value\" value { f: 0 } } attr { key: \"method\" value { s: \"bilinear\" } } inputs { dtype: DT_FLOAT shape { dim { size: -14 } dim { size: -336 } dim { size: -337 } dim { size: 256 } } } inputs { dtype: DT_FLOAT shape { dim { size: -186 } dim { size: 4 } } } inputs { dtype: DT_INT32 shape { dim { size: -186 } } } inputs { dtype: DT_INT32 shape { dim { size: 2 } } value { dtype: DT_INT32 tensor_shape { dim { size: 2 } } tensor_content: \"\\016\\000\\000\\000\\016\\000\\000\\000\" } } device { type: \"GPU\" vendor: \"NVIDIA\" model: \"Tesla V100-SXM2-16GB\" frequency: 1530 num_cores: 80 environment { key: \"architecture\" value: \"7.0\" } environment { key: \"cuda\" value: \"11000\" } environment { key: \"cudnn\" value: \"8005\" } num_registers: 65536 l1_cache_size: 24576 l2_cache_size: 6291456 shared_memory_size_per_multiprocessor: 98304 memory_size: 15345844224 bandwidth: 898048000 } outputs { dtype: DT_FLOAT shape { dim { size: -186 } dim { size: 14 } dim { size: 14 } dim { size: 256 } } }\n",
      "2022-12-13 07:27:07.578418: W tensorflow/core/grappler/costs/op_level_cost_estimator.cc:690] Error in PredictCost() for the op: op: \"CropAndResize\" attr { key: \"T\" value { type: DT_FLOAT } } attr { key: \"extrapolation_value\" value { f: 0 } } attr { key: \"method\" value { s: \"bilinear\" } } inputs { dtype: DT_FLOAT shape { dim { size: -14 } dim { size: -328 } dim { size: -329 } dim { size: 256 } } } inputs { dtype: DT_FLOAT shape { dim { size: -188 } dim { size: 4 } } } inputs { dtype: DT_INT32 shape { dim { size: -188 } } } inputs { dtype: DT_INT32 shape { dim { size: 2 } } value { dtype: DT_INT32 tensor_shape { dim { size: 2 } } tensor_content: \"\\007\\000\\000\\000\\007\\000\\000\\000\" } } device { type: \"GPU\" vendor: \"NVIDIA\" model: \"Tesla V100-SXM2-16GB\" frequency: 1530 num_cores: 80 environment { key: \"architecture\" value: \"7.0\" } environment { key: \"cuda\" value: \"11000\" } environment { key: \"cudnn\" value: \"8005\" } num_registers: 65536 l1_cache_size: 24576 l2_cache_size: 6291456 shared_memory_size_per_multiprocessor: 98304 memory_size: 15345844224 bandwidth: 898048000 } outputs { dtype: DT_FLOAT shape { dim { size: -188 } dim { size: 7 } dim { size: 7 } dim { size: 256 } } }\n",
      "2022-12-13 07:27:07.579519: W tensorflow/core/grappler/costs/op_level_cost_estimator.cc:690] Error in PredictCost() for the op: op: \"CropAndResize\" attr { key: \"T\" value { type: DT_FLOAT } } attr { key: \"extrapolation_value\" value { f: 0 } } attr { key: \"method\" value { s: \"bilinear\" } } inputs { dtype: DT_FLOAT shape { dim { size: -14 } dim { size: -328 } dim { size: -329 } dim { size: 256 } } } inputs { dtype: DT_FLOAT shape { dim { size: -188 } dim { size: 4 } } } inputs { dtype: DT_INT32 shape { dim { size: -188 } } } inputs { dtype: DT_INT32 shape { dim { size: 2 } } value { dtype: DT_INT32 tensor_shape { dim { size: 2 } } tensor_content: \"\\016\\000\\000\\000\\016\\000\\000\\000\" } } device { type: \"GPU\" vendor: \"NVIDIA\" model: \"Tesla V100-SXM2-16GB\" frequency: 1530 num_cores: 80 environment { key: \"architecture\" value: \"7.0\" } environment { key: \"cuda\" value: \"11000\" } environment { key: \"cudnn\" value: \"8005\" } num_registers: 65536 l1_cache_size: 24576 l2_cache_size: 6291456 shared_memory_size_per_multiprocessor: 98304 memory_size: 15345844224 bandwidth: 898048000 } outputs { dtype: DT_FLOAT shape { dim { size: -188 } dim { size: 14 } dim { size: 14 } dim { size: 256 } } }\n",
      "2022-12-13 07:27:07.580828: W tensorflow/core/grappler/costs/op_level_cost_estimator.cc:690] Error in PredictCost() for the op: op: \"CropAndResize\" attr { key: \"T\" value { type: DT_FLOAT } } attr { key: \"extrapolation_value\" value { f: 0 } } attr { key: \"method\" value { s: \"bilinear\" } } inputs { dtype: DT_FLOAT shape { dim { size: -14 } dim { size: -320 } dim { size: -321 } dim { size: 256 } } } inputs { dtype: DT_FLOAT shape { dim { size: -190 } dim { size: 4 } } } inputs { dtype: DT_INT32 shape { dim { size: -190 } } } inputs { dtype: DT_INT32 shape { dim { size: 2 } } value { dtype: DT_INT32 tensor_shape { dim { size: 2 } } tensor_content: \"\\007\\000\\000\\000\\007\\000\\000\\000\" } } device { type: \"GPU\" vendor: \"NVIDIA\" model: \"Tesla V100-SXM2-16GB\" frequency: 1530 num_cores: 80 environment { key: \"architecture\" value: \"7.0\" } environment { key: \"cuda\" value: \"11000\" } environment { key: \"cudnn\" value: \"8005\" } num_registers: 65536 l1_cache_size: 24576 l2_cache_size: 6291456 shared_memory_size_per_multiprocessor: 98304 memory_size: 15345844224 bandwidth: 898048000 } outputs { dtype: DT_FLOAT shape { dim { size: -190 } dim { size: 7 } dim { size: 7 } dim { size: 256 } } }\n",
      "2022-12-13 07:27:07.581697: W tensorflow/core/grappler/costs/op_level_cost_estimator.cc:690] Error in PredictCost() for the op: op: \"CropAndResize\" attr { key: \"T\" value { type: DT_FLOAT } } attr { key: \"extrapolation_value\" value { f: 0 } } attr { key: \"method\" value { s: \"bilinear\" } } inputs { dtype: DT_FLOAT shape { dim { size: -14 } dim { size: -320 } dim { size: -321 } dim { size: 256 } } } inputs { dtype: DT_FLOAT shape { dim { size: -190 } dim { size: 4 } } } inputs { dtype: DT_INT32 shape { dim { size: -190 } } } inputs { dtype: DT_INT32 shape { dim { size: 2 } } value { dtype: DT_INT32 tensor_shape { dim { size: 2 } } tensor_content: \"\\016\\000\\000\\000\\016\\000\\000\\000\" } } device { type: \"GPU\" vendor: \"NVIDIA\" model: \"Tesla V100-SXM2-16GB\" frequency: 1530 num_cores: 80 environment { key: \"architecture\" value: \"7.0\" } environment { key: \"cuda\" value: \"11000\" } environment { key: \"cudnn\" value: \"8005\" } num_registers: 65536 l1_cache_size: 24576 l2_cache_size: 6291456 shared_memory_size_per_multiprocessor: 98304 memory_size: 15345844224 bandwidth: 898048000 } outputs { dtype: DT_FLOAT shape { dim { size: -190 } dim { size: 14 } dim { size: 14 } dim { size: 256 } } }\n",
      "2022-12-13 07:27:14.947400: I tensorflow/stream_executor/cuda/cuda_dnn.cc:369] Loaded cuDNN version 8005\n"
     ]
    },
    {
     "name": "stdout",
     "output_type": "stream",
     "text": [
      "  1/200 [..............................] - ETA: 2:16:50 - batch: 0.0000e+00 - size: 8.0000 - loss: 22.4868 - rpn_class_loss: 0.3826 - rpn_bbox_loss: 10.2325 - mrcnn_class_loss: 7.9311 - mrcnn_bbox_loss: 2.1046 - mrcnn_mask_loss: 1.8360"
     ]
    },
    {
     "name": "stderr",
     "output_type": "stream",
     "text": [
      "2022-12-13 07:27:20.328706: I tensorflow/core/profiler/lib/profiler_session.cc:131] Profiler session initializing.\n",
      "2022-12-13 07:27:20.328756: I tensorflow/core/profiler/lib/profiler_session.cc:146] Profiler session started.\n",
      "2022-12-13 07:27:20.328800: I tensorflow/core/profiler/internal/gpu/cupti_tracer.cc:1614] Profiler found 1 GPUs\n",
      "2022-12-13 07:27:21.396058: I tensorflow/core/profiler/lib/profiler_session.cc:66] Profiler session collecting data.\n",
      "2022-12-13 07:27:21.410487: I tensorflow/core/profiler/internal/gpu/cupti_tracer.cc:1748] CUPTI activity buffer flushed\n",
      "2022-12-13 07:27:21.594655: I tensorflow/core/profiler/internal/gpu/cupti_collector.cc:673]  GpuTracer has collected 8016 callback api events and 8015 activity events. \n",
      "2022-12-13 07:27:22.144324: I tensorflow/core/profiler/lib/profiler_session.cc:164] Profiler session tear down.\n",
      "2022-12-13 07:27:22.682903: I tensorflow/core/profiler/rpc/client/save_profile.cc:136] Creating directory: /home/jupyter/pneumonia20221213T0503/plugins/profile/2022_12_13_07_27_22\n",
      "\n",
      "2022-12-13 07:27:23.055489: I tensorflow/core/profiler/rpc/client/save_profile.cc:142] Dumped gzipped tool data for trace.json.gz to /home/jupyter/pneumonia20221213T0503/plugins/profile/2022_12_13_07_27_22/c7011c5febf5.trace.json.gz\n"
     ]
    },
    {
     "name": "stdout",
     "output_type": "stream",
     "text": [
      "  2/200 [..............................] - ETA: 11:31 - batch: 0.5000 - size: 8.0000 - loss: 16.4530 - rpn_class_loss: 0.3414 - rpn_bbox_loss: 7.9820 - mrcnn_class_loss: 4.0871 - mrcnn_bbox_loss: 2.8263 - mrcnn_mask_loss: 1.2162       "
     ]
    },
    {
     "name": "stderr",
     "output_type": "stream",
     "text": [
      "2022-12-13 07:27:23.661594: I tensorflow/core/profiler/rpc/client/save_profile.cc:136] Creating directory: /home/jupyter/pneumonia20221213T0503/plugins/profile/2022_12_13_07_27_22\n",
      "\n",
      "2022-12-13 07:27:23.685956: I tensorflow/core/profiler/rpc/client/save_profile.cc:142] Dumped gzipped tool data for memory_profile.json.gz to /home/jupyter/pneumonia20221213T0503/plugins/profile/2022_12_13_07_27_22/c7011c5febf5.memory_profile.json.gz\n",
      "2022-12-13 07:27:23.717003: I tensorflow/core/profiler/rpc/client/capture_profile.cc:251] Creating directory: /home/jupyter/pneumonia20221213T0503/plugins/profile/2022_12_13_07_27_22\n",
      "Dumped tool data for xplane.pb to /home/jupyter/pneumonia20221213T0503/plugins/profile/2022_12_13_07_27_22/c7011c5febf5.xplane.pb\n",
      "Dumped tool data for overview_page.pb to /home/jupyter/pneumonia20221213T0503/plugins/profile/2022_12_13_07_27_22/c7011c5febf5.overview_page.pb\n",
      "Dumped tool data for input_pipeline.pb to /home/jupyter/pneumonia20221213T0503/plugins/profile/2022_12_13_07_27_22/c7011c5febf5.input_pipeline.pb\n",
      "Dumped tool data for tensorflow_stats.pb to /home/jupyter/pneumonia20221213T0503/plugins/profile/2022_12_13_07_27_22/c7011c5febf5.tensorflow_stats.pb\n",
      "Dumped tool data for kernel_stats.pb to /home/jupyter/pneumonia20221213T0503/plugins/profile/2022_12_13_07_27_22/c7011c5febf5.kernel_stats.pb\n",
      "\n"
     ]
    },
    {
     "name": "stdout",
     "output_type": "stream",
     "text": [
      "200/200 [==============================] - ETA: 0s - batch: 99.5000 - size: 8.0000 - loss: 2.1497 - rpn_class_loss: 0.1196 - rpn_bbox_loss: 0.7196 - mrcnn_class_loss: 0.5169 - mrcnn_bbox_loss: 0.7710 - mrcnn_mask_loss: 0.0227"
     ]
    },
    {
     "name": "stderr",
     "output_type": "stream",
     "text": [
      "2022-12-13 07:29:40.307601: W tensorflow/core/grappler/costs/op_level_cost_estimator.cc:690] Error in PredictCost() for the op: op: \"CropAndResize\" attr { key: \"T\" value { type: DT_FLOAT } } attr { key: \"extrapolation_value\" value { f: 0 } } attr { key: \"method\" value { s: \"bilinear\" } } inputs { dtype: DT_FLOAT shape { dim { size: -896 } dim { size: 56 } dim { size: 56 } dim { size: 1 } } } inputs { dtype: DT_FLOAT shape { dim { size: -28 } dim { size: 4 } } } inputs { dtype: DT_INT32 shape { dim { size: -28 } } } inputs { dtype: DT_INT32 shape { dim { size: 2 } } value { dtype: DT_INT32 tensor_shape { dim { size: 2 } } tensor_content: \"\\034\\000\\000\\000\\034\\000\\000\\000\" } } device { type: \"GPU\" vendor: \"NVIDIA\" model: \"Tesla V100-SXM2-16GB\" frequency: 1530 num_cores: 80 environment { key: \"architecture\" value: \"7.0\" } environment { key: \"cuda\" value: \"11000\" } environment { key: \"cudnn\" value: \"8005\" } num_registers: 65536 l1_cache_size: 24576 l2_cache_size: 6291456 shared_memory_size_per_multiprocessor: 98304 memory_size: 15345844224 bandwidth: 898048000 } outputs { dtype: DT_FLOAT shape { dim { size: -28 } dim { size: 28 } dim { size: 28 } dim { size: 1 } } }\n",
      "2022-12-13 07:29:40.308913: W tensorflow/core/grappler/costs/op_level_cost_estimator.cc:690] Error in PredictCost() for the op: op: \"CropAndResize\" attr { key: \"T\" value { type: DT_FLOAT } } attr { key: \"extrapolation_value\" value { f: 0 } } attr { key: \"method\" value { s: \"bilinear\" } } inputs { dtype: DT_FLOAT shape { dim { size: -902 } dim { size: 56 } dim { size: 56 } dim { size: 1 } } } inputs { dtype: DT_FLOAT shape { dim { size: -40 } dim { size: 4 } } } inputs { dtype: DT_INT32 shape { dim { size: -40 } } } inputs { dtype: DT_INT32 shape { dim { size: 2 } } value { dtype: DT_INT32 tensor_shape { dim { size: 2 } } tensor_content: \"\\034\\000\\000\\000\\034\\000\\000\\000\" } } device { type: \"GPU\" vendor: \"NVIDIA\" model: \"Tesla V100-SXM2-16GB\" frequency: 1530 num_cores: 80 environment { key: \"architecture\" value: \"7.0\" } environment { key: \"cuda\" value: \"11000\" } environment { key: \"cudnn\" value: \"8005\" } num_registers: 65536 l1_cache_size: 24576 l2_cache_size: 6291456 shared_memory_size_per_multiprocessor: 98304 memory_size: 15345844224 bandwidth: 898048000 } outputs { dtype: DT_FLOAT shape { dim { size: -40 } dim { size: 28 } dim { size: 28 } dim { size: 1 } } }\n",
      "2022-12-13 07:29:40.309274: W tensorflow/core/grappler/costs/op_level_cost_estimator.cc:690] Error in PredictCost() for the op: op: \"CropAndResize\" attr { key: \"T\" value { type: DT_FLOAT } } attr { key: \"extrapolation_value\" value { f: 0 } } attr { key: \"method\" value { s: \"bilinear\" } } inputs { dtype: DT_FLOAT shape { dim { size: -904 } dim { size: 56 } dim { size: 56 } dim { size: 1 } } } inputs { dtype: DT_FLOAT shape { dim { size: -44 } dim { size: 4 } } } inputs { dtype: DT_INT32 shape { dim { size: -44 } } } inputs { dtype: DT_INT32 shape { dim { size: 2 } } value { dtype: DT_INT32 tensor_shape { dim { size: 2 } } tensor_content: \"\\034\\000\\000\\000\\034\\000\\000\\000\" } } device { type: \"GPU\" vendor: \"NVIDIA\" model: \"Tesla V100-SXM2-16GB\" frequency: 1530 num_cores: 80 environment { key: \"architecture\" value: \"7.0\" } environment { key: \"cuda\" value: \"11000\" } environment { key: \"cudnn\" value: \"8005\" } num_registers: 65536 l1_cache_size: 24576 l2_cache_size: 6291456 shared_memory_size_per_multiprocessor: 98304 memory_size: 15345844224 bandwidth: 898048000 } outputs { dtype: DT_FLOAT shape { dim { size: -44 } dim { size: 28 } dim { size: 28 } dim { size: 1 } } }\n",
      "2022-12-13 07:29:40.309588: W tensorflow/core/grappler/costs/op_level_cost_estimator.cc:690] Error in PredictCost() for the op: op: \"CropAndResize\" attr { key: \"T\" value { type: DT_FLOAT } } attr { key: \"extrapolation_value\" value { f: 0 } } attr { key: \"method\" value { s: \"bilinear\" } } inputs { dtype: DT_FLOAT shape { dim { size: -906 } dim { size: 56 } dim { size: 56 } dim { size: 1 } } } inputs { dtype: DT_FLOAT shape { dim { size: -48 } dim { size: 4 } } } inputs { dtype: DT_INT32 shape { dim { size: -48 } } } inputs { dtype: DT_INT32 shape { dim { size: 2 } } value { dtype: DT_INT32 tensor_shape { dim { size: 2 } } tensor_content: \"\\034\\000\\000\\000\\034\\000\\000\\000\" } } device { type: \"GPU\" vendor: \"NVIDIA\" model: \"Tesla V100-SXM2-16GB\" frequency: 1530 num_cores: 80 environment { key: \"architecture\" value: \"7.0\" } environment { key: \"cuda\" value: \"11000\" } environment { key: \"cudnn\" value: \"8005\" } num_registers: 65536 l1_cache_size: 24576 l2_cache_size: 6291456 shared_memory_size_per_multiprocessor: 98304 memory_size: 15345844224 bandwidth: 898048000 } outputs { dtype: DT_FLOAT shape { dim { size: -48 } dim { size: 28 } dim { size: 28 } dim { size: 1 } } }\n",
      "2022-12-13 07:29:40.309908: W tensorflow/core/grappler/costs/op_level_cost_estimator.cc:690] Error in PredictCost() for the op: op: \"CropAndResize\" attr { key: \"T\" value { type: DT_FLOAT } } attr { key: \"extrapolation_value\" value { f: 0 } } attr { key: \"method\" value { s: \"bilinear\" } } inputs { dtype: DT_FLOAT shape { dim { size: -908 } dim { size: 56 } dim { size: 56 } dim { size: 1 } } } inputs { dtype: DT_FLOAT shape { dim { size: -52 } dim { size: 4 } } } inputs { dtype: DT_INT32 shape { dim { size: -52 } } } inputs { dtype: DT_INT32 shape { dim { size: 2 } } value { dtype: DT_INT32 tensor_shape { dim { size: 2 } } tensor_content: \"\\034\\000\\000\\000\\034\\000\\000\\000\" } } device { type: \"GPU\" vendor: \"NVIDIA\" model: \"Tesla V100-SXM2-16GB\" frequency: 1530 num_cores: 80 environment { key: \"architecture\" value: \"7.0\" } environment { key: \"cuda\" value: \"11000\" } environment { key: \"cudnn\" value: \"8005\" } num_registers: 65536 l1_cache_size: 24576 l2_cache_size: 6291456 shared_memory_size_per_multiprocessor: 98304 memory_size: 15345844224 bandwidth: 898048000 } outputs { dtype: DT_FLOAT shape { dim { size: -52 } dim { size: 28 } dim { size: 28 } dim { size: 1 } } }\n",
      "2022-12-13 07:29:40.310170: W tensorflow/core/grappler/costs/op_level_cost_estimator.cc:690] Error in PredictCost() for the op: op: \"CropAndResize\" attr { key: \"T\" value { type: DT_FLOAT } } attr { key: \"extrapolation_value\" value { f: 0 } } attr { key: \"method\" value { s: \"bilinear\" } } inputs { dtype: DT_FLOAT shape { dim { size: -910 } dim { size: 56 } dim { size: 56 } dim { size: 1 } } } inputs { dtype: DT_FLOAT shape { dim { size: -56 } dim { size: 4 } } } inputs { dtype: DT_INT32 shape { dim { size: -56 } } } inputs { dtype: DT_INT32 shape { dim { size: 2 } } value { dtype: DT_INT32 tensor_shape { dim { size: 2 } } tensor_content: \"\\034\\000\\000\\000\\034\\000\\000\\000\" } } device { type: \"GPU\" vendor: \"NVIDIA\" model: \"Tesla V100-SXM2-16GB\" frequency: 1530 num_cores: 80 environment { key: \"architecture\" value: \"7.0\" } environment { key: \"cuda\" value: \"11000\" } environment { key: \"cudnn\" value: \"8005\" } num_registers: 65536 l1_cache_size: 24576 l2_cache_size: 6291456 shared_memory_size_per_multiprocessor: 98304 memory_size: 15345844224 bandwidth: 898048000 } outputs { dtype: DT_FLOAT shape { dim { size: -56 } dim { size: 28 } dim { size: 28 } dim { size: 1 } } }\n",
      "2022-12-13 07:29:40.310407: W tensorflow/core/grappler/costs/op_level_cost_estimator.cc:690] Error in PredictCost() for the op: op: \"CropAndResize\" attr { key: \"T\" value { type: DT_FLOAT } } attr { key: \"extrapolation_value\" value { f: 0 } } attr { key: \"method\" value { s: \"bilinear\" } } inputs { dtype: DT_FLOAT shape { dim { size: -898 } dim { size: 56 } dim { size: 56 } dim { size: 1 } } } inputs { dtype: DT_FLOAT shape { dim { size: -32 } dim { size: 4 } } } inputs { dtype: DT_INT32 shape { dim { size: -32 } } } inputs { dtype: DT_INT32 shape { dim { size: 2 } } value { dtype: DT_INT32 tensor_shape { dim { size: 2 } } tensor_content: \"\\034\\000\\000\\000\\034\\000\\000\\000\" } } device { type: \"GPU\" vendor: \"NVIDIA\" model: \"Tesla V100-SXM2-16GB\" frequency: 1530 num_cores: 80 environment { key: \"architecture\" value: \"7.0\" } environment { key: \"cuda\" value: \"11000\" } environment { key: \"cudnn\" value: \"8005\" } num_registers: 65536 l1_cache_size: 24576 l2_cache_size: 6291456 shared_memory_size_per_multiprocessor: 98304 memory_size: 15345844224 bandwidth: 898048000 } outputs { dtype: DT_FLOAT shape { dim { size: -32 } dim { size: 28 } dim { size: 28 } dim { size: 1 } } }\n",
      "2022-12-13 07:29:40.310652: W tensorflow/core/grappler/costs/op_level_cost_estimator.cc:690] Error in PredictCost() for the op: op: \"CropAndResize\" attr { key: \"T\" value { type: DT_FLOAT } } attr { key: \"extrapolation_value\" value { f: 0 } } attr { key: \"method\" value { s: \"bilinear\" } } inputs { dtype: DT_FLOAT shape { dim { size: -900 } dim { size: 56 } dim { size: 56 } dim { size: 1 } } } inputs { dtype: DT_FLOAT shape { dim { size: -36 } dim { size: 4 } } } inputs { dtype: DT_INT32 shape { dim { size: -36 } } } inputs { dtype: DT_INT32 shape { dim { size: 2 } } value { dtype: DT_INT32 tensor_shape { dim { size: 2 } } tensor_content: \"\\034\\000\\000\\000\\034\\000\\000\\000\" } } device { type: \"GPU\" vendor: \"NVIDIA\" model: \"Tesla V100-SXM2-16GB\" frequency: 1530 num_cores: 80 environment { key: \"architecture\" value: \"7.0\" } environment { key: \"cuda\" value: \"11000\" } environment { key: \"cudnn\" value: \"8005\" } num_registers: 65536 l1_cache_size: 24576 l2_cache_size: 6291456 shared_memory_size_per_multiprocessor: 98304 memory_size: 15345844224 bandwidth: 898048000 } outputs { dtype: DT_FLOAT shape { dim { size: -36 } dim { size: 28 } dim { size: 28 } dim { size: 1 } } }\n",
      "2022-12-13 07:29:40.325351: W tensorflow/core/grappler/costs/op_level_cost_estimator.cc:690] Error in PredictCost() for the op: op: \"CropAndResize\" attr { key: \"T\" value { type: DT_FLOAT } } attr { key: \"extrapolation_value\" value { f: 0 } } attr { key: \"method\" value { s: \"bilinear\" } } inputs { dtype: DT_FLOAT shape { dim { size: -199 } dim { size: -463 } dim { size: -464 } dim { size: 256 } } } inputs { dtype: DT_FLOAT shape { dim { size: -173 } dim { size: 4 } } } inputs { dtype: DT_INT32 shape { dim { size: -173 } } } inputs { dtype: DT_INT32 shape { dim { size: 2 } } value { dtype: DT_INT32 tensor_shape { dim { size: 2 } } tensor_content: \"\\007\\000\\000\\000\\007\\000\\000\\000\" } } device { type: \"GPU\" vendor: \"NVIDIA\" model: \"Tesla V100-SXM2-16GB\" frequency: 1530 num_cores: 80 environment { key: \"architecture\" value: \"7.0\" } environment { key: \"cuda\" value: \"11000\" } environment { key: \"cudnn\" value: \"8005\" } num_registers: 65536 l1_cache_size: 24576 l2_cache_size: 6291456 shared_memory_size_per_multiprocessor: 98304 memory_size: 15345844224 bandwidth: 898048000 } outputs { dtype: DT_FLOAT shape { dim { size: -173 } dim { size: 7 } dim { size: 7 } dim { size: 256 } } }\n",
      "2022-12-13 07:29:40.325560: W tensorflow/core/grappler/costs/op_level_cost_estimator.cc:690] Error in PredictCost() for the op: op: \"CropAndResize\" attr { key: \"T\" value { type: DT_FLOAT } } attr { key: \"extrapolation_value\" value { f: 0 } } attr { key: \"method\" value { s: \"bilinear\" } } inputs { dtype: DT_FLOAT shape { dim { size: -199 } dim { size: -463 } dim { size: -464 } dim { size: 256 } } } inputs { dtype: DT_FLOAT shape { dim { size: -173 } dim { size: 4 } } } inputs { dtype: DT_INT32 shape { dim { size: -173 } } } inputs { dtype: DT_INT32 shape { dim { size: 2 } } value { dtype: DT_INT32 tensor_shape { dim { size: 2 } } tensor_content: \"\\016\\000\\000\\000\\016\\000\\000\\000\" } } device { type: \"GPU\" vendor: \"NVIDIA\" model: \"Tesla V100-SXM2-16GB\" frequency: 1530 num_cores: 80 environment { key: \"architecture\" value: \"7.0\" } environment { key: \"cuda\" value: \"11000\" } environment { key: \"cudnn\" value: \"8005\" } num_registers: 65536 l1_cache_size: 24576 l2_cache_size: 6291456 shared_memory_size_per_multiprocessor: 98304 memory_size: 15345844224 bandwidth: 898048000 } outputs { dtype: DT_FLOAT shape { dim { size: -173 } dim { size: 14 } dim { size: 14 } dim { size: 256 } } }\n",
      "2022-12-13 07:29:40.325718: W tensorflow/core/grappler/costs/op_level_cost_estimator.cc:690] Error in PredictCost() for the op: op: \"CropAndResize\" attr { key: \"T\" value { type: DT_FLOAT } } attr { key: \"extrapolation_value\" value { f: 0 } } attr { key: \"method\" value { s: \"bilinear\" } } inputs { dtype: DT_FLOAT shape { dim { size: -199 } dim { size: -453 } dim { size: -454 } dim { size: 256 } } } inputs { dtype: DT_FLOAT shape { dim { size: -175 } dim { size: 4 } } } inputs { dtype: DT_INT32 shape { dim { size: -175 } } } inputs { dtype: DT_INT32 shape { dim { size: 2 } } value { dtype: DT_INT32 tensor_shape { dim { size: 2 } } tensor_content: \"\\007\\000\\000\\000\\007\\000\\000\\000\" } } device { type: \"GPU\" vendor: \"NVIDIA\" model: \"Tesla V100-SXM2-16GB\" frequency: 1530 num_cores: 80 environment { key: \"architecture\" value: \"7.0\" } environment { key: \"cuda\" value: \"11000\" } environment { key: \"cudnn\" value: \"8005\" } num_registers: 65536 l1_cache_size: 24576 l2_cache_size: 6291456 shared_memory_size_per_multiprocessor: 98304 memory_size: 15345844224 bandwidth: 898048000 } outputs { dtype: DT_FLOAT shape { dim { size: -175 } dim { size: 7 } dim { size: 7 } dim { size: 256 } } }\n",
      "2022-12-13 07:29:40.325884: W tensorflow/core/grappler/costs/op_level_cost_estimator.cc:690] Error in PredictCost() for the op: op: \"CropAndResize\" attr { key: \"T\" value { type: DT_FLOAT } } attr { key: \"extrapolation_value\" value { f: 0 } } attr { key: \"method\" value { s: \"bilinear\" } } inputs { dtype: DT_FLOAT shape { dim { size: -199 } dim { size: -453 } dim { size: -454 } dim { size: 256 } } } inputs { dtype: DT_FLOAT shape { dim { size: -175 } dim { size: 4 } } } inputs { dtype: DT_INT32 shape { dim { size: -175 } } } inputs { dtype: DT_INT32 shape { dim { size: 2 } } value { dtype: DT_INT32 tensor_shape { dim { size: 2 } } tensor_content: \"\\016\\000\\000\\000\\016\\000\\000\\000\" } } device { type: \"GPU\" vendor: \"NVIDIA\" model: \"Tesla V100-SXM2-16GB\" frequency: 1530 num_cores: 80 environment { key: \"architecture\" value: \"7.0\" } environment { key: \"cuda\" value: \"11000\" } environment { key: \"cudnn\" value: \"8005\" } num_registers: 65536 l1_cache_size: 24576 l2_cache_size: 6291456 shared_memory_size_per_multiprocessor: 98304 memory_size: 15345844224 bandwidth: 898048000 } outputs { dtype: DT_FLOAT shape { dim { size: -175 } dim { size: 14 } dim { size: 14 } dim { size: 256 } } }\n",
      "2022-12-13 07:29:40.326098: W tensorflow/core/grappler/costs/op_level_cost_estimator.cc:690] Error in PredictCost() for the op: op: \"CropAndResize\" attr { key: \"T\" value { type: DT_FLOAT } } attr { key: \"extrapolation_value\" value { f: 0 } } attr { key: \"method\" value { s: \"bilinear\" } } inputs { dtype: DT_FLOAT shape { dim { size: -199 } dim { size: -441 } dim { size: -442 } dim { size: 256 } } } inputs { dtype: DT_FLOAT shape { dim { size: -177 } dim { size: 4 } } } inputs { dtype: DT_INT32 shape { dim { size: -177 } } } inputs { dtype: DT_INT32 shape { dim { size: 2 } } value { dtype: DT_INT32 tensor_shape { dim { size: 2 } } tensor_content: \"\\007\\000\\000\\000\\007\\000\\000\\000\" } } device { type: \"GPU\" vendor: \"NVIDIA\" model: \"Tesla V100-SXM2-16GB\" frequency: 1530 num_cores: 80 environment { key: \"architecture\" value: \"7.0\" } environment { key: \"cuda\" value: \"11000\" } environment { key: \"cudnn\" value: \"8005\" } num_registers: 65536 l1_cache_size: 24576 l2_cache_size: 6291456 shared_memory_size_per_multiprocessor: 98304 memory_size: 15345844224 bandwidth: 898048000 } outputs { dtype: DT_FLOAT shape { dim { size: -177 } dim { size: 7 } dim { size: 7 } dim { size: 256 } } }\n",
      "2022-12-13 07:29:40.326294: W tensorflow/core/grappler/costs/op_level_cost_estimator.cc:690] Error in PredictCost() for the op: op: \"CropAndResize\" attr { key: \"T\" value { type: DT_FLOAT } } attr { key: \"extrapolation_value\" value { f: 0 } } attr { key: \"method\" value { s: \"bilinear\" } } inputs { dtype: DT_FLOAT shape { dim { size: -199 } dim { size: -441 } dim { size: -442 } dim { size: 256 } } } inputs { dtype: DT_FLOAT shape { dim { size: -177 } dim { size: 4 } } } inputs { dtype: DT_INT32 shape { dim { size: -177 } } } inputs { dtype: DT_INT32 shape { dim { size: 2 } } value { dtype: DT_INT32 tensor_shape { dim { size: 2 } } tensor_content: \"\\016\\000\\000\\000\\016\\000\\000\\000\" } } device { type: \"GPU\" vendor: \"NVIDIA\" model: \"Tesla V100-SXM2-16GB\" frequency: 1530 num_cores: 80 environment { key: \"architecture\" value: \"7.0\" } environment { key: \"cuda\" value: \"11000\" } environment { key: \"cudnn\" value: \"8005\" } num_registers: 65536 l1_cache_size: 24576 l2_cache_size: 6291456 shared_memory_size_per_multiprocessor: 98304 memory_size: 15345844224 bandwidth: 898048000 } outputs { dtype: DT_FLOAT shape { dim { size: -177 } dim { size: 14 } dim { size: 14 } dim { size: 256 } } }\n",
      "2022-12-13 07:29:40.326561: W tensorflow/core/grappler/costs/op_level_cost_estimator.cc:690] Error in PredictCost() for the op: op: \"CropAndResize\" attr { key: \"T\" value { type: DT_FLOAT } } attr { key: \"extrapolation_value\" value { f: 0 } } attr { key: \"method\" value { s: \"bilinear\" } } inputs { dtype: DT_FLOAT shape { dim { size: -199 } dim { size: -427 } dim { size: -428 } dim { size: 256 } } } inputs { dtype: DT_FLOAT shape { dim { size: -179 } dim { size: 4 } } } inputs { dtype: DT_INT32 shape { dim { size: -179 } } } inputs { dtype: DT_INT32 shape { dim { size: 2 } } value { dtype: DT_INT32 tensor_shape { dim { size: 2 } } tensor_content: \"\\007\\000\\000\\000\\007\\000\\000\\000\" } } device { type: \"GPU\" vendor: \"NVIDIA\" model: \"Tesla V100-SXM2-16GB\" frequency: 1530 num_cores: 80 environment { key: \"architecture\" value: \"7.0\" } environment { key: \"cuda\" value: \"11000\" } environment { key: \"cudnn\" value: \"8005\" } num_registers: 65536 l1_cache_size: 24576 l2_cache_size: 6291456 shared_memory_size_per_multiprocessor: 98304 memory_size: 15345844224 bandwidth: 898048000 } outputs { dtype: DT_FLOAT shape { dim { size: -179 } dim { size: 7 } dim { size: 7 } dim { size: 256 } } }\n",
      "2022-12-13 07:29:40.326770: W tensorflow/core/grappler/costs/op_level_cost_estimator.cc:690] Error in PredictCost() for the op: op: \"CropAndResize\" attr { key: \"T\" value { type: DT_FLOAT } } attr { key: \"extrapolation_value\" value { f: 0 } } attr { key: \"method\" value { s: \"bilinear\" } } inputs { dtype: DT_FLOAT shape { dim { size: -199 } dim { size: -427 } dim { size: -428 } dim { size: 256 } } } inputs { dtype: DT_FLOAT shape { dim { size: -179 } dim { size: 4 } } } inputs { dtype: DT_INT32 shape { dim { size: -179 } } } inputs { dtype: DT_INT32 shape { dim { size: 2 } } value { dtype: DT_INT32 tensor_shape { dim { size: 2 } } tensor_content: \"\\016\\000\\000\\000\\016\\000\\000\\000\" } } device { type: \"GPU\" vendor: \"NVIDIA\" model: \"Tesla V100-SXM2-16GB\" frequency: 1530 num_cores: 80 environment { key: \"architecture\" value: \"7.0\" } environment { key: \"cuda\" value: \"11000\" } environment { key: \"cudnn\" value: \"8005\" } num_registers: 65536 l1_cache_size: 24576 l2_cache_size: 6291456 shared_memory_size_per_multiprocessor: 98304 memory_size: 15345844224 bandwidth: 898048000 } outputs { dtype: DT_FLOAT shape { dim { size: -179 } dim { size: 14 } dim { size: 14 } dim { size: 256 } } }\n"
     ]
    },
    {
     "name": "stdout",
     "output_type": "stream",
     "text": [
      "200/200 [==============================] - 315s 1s/step - batch: 99.5000 - size: 8.0000 - loss: 2.1497 - rpn_class_loss: 0.1196 - rpn_bbox_loss: 0.7196 - mrcnn_class_loss: 0.5169 - mrcnn_bbox_loss: 0.7710 - mrcnn_mask_loss: 0.0227 - val_loss: 1.6115 - val_rpn_class_loss: 0.1076 - val_rpn_bbox_loss: 0.4094 - val_mrcnn_class_loss: 0.4691 - val_mrcnn_bbox_loss: 0.6236 - val_mrcnn_mask_loss: 0.0017\n",
      "Epoch 4/7\n",
      "200/200 [==============================] - 175s 880ms/step - batch: 99.5000 - size: 8.0000 - loss: 1.5875 - rpn_class_loss: 0.0828 - rpn_bbox_loss: 0.4354 - mrcnn_class_loss: 0.4586 - mrcnn_bbox_loss: 0.6100 - mrcnn_mask_loss: 7.5416e-04 - val_loss: 1.5297 - val_rpn_class_loss: 0.0773 - val_rpn_bbox_loss: 0.4130 - val_mrcnn_class_loss: 0.4380 - val_mrcnn_bbox_loss: 0.6012 - val_mrcnn_mask_loss: 2.2943e-04\n",
      "Epoch 5/7\n",
      "200/200 [==============================] - 232s 1s/step - batch: 99.5000 - size: 8.0000 - loss: 1.6210 - rpn_class_loss: 0.0803 - rpn_bbox_loss: 0.4686 - mrcnn_class_loss: 0.4652 - mrcnn_bbox_loss: 0.6064 - mrcnn_mask_loss: 4.1907e-04 - val_loss: 1.5609 - val_rpn_class_loss: 0.0759 - val_rpn_bbox_loss: 0.4170 - val_mrcnn_class_loss: 0.4452 - val_mrcnn_bbox_loss: 0.6225 - val_mrcnn_mask_loss: 3.9281e-04\n",
      "Epoch 6/7\n",
      "200/200 [==============================] - 236s 1s/step - batch: 99.5000 - size: 8.0000 - loss: 1.5297 - rpn_class_loss: 0.0719 - rpn_bbox_loss: 0.4102 - mrcnn_class_loss: 0.4560 - mrcnn_bbox_loss: 0.5912 - mrcnn_mask_loss: 2.7351e-04 - val_loss: 1.5954 - val_rpn_class_loss: 0.0729 - val_rpn_bbox_loss: 0.4577 - val_mrcnn_class_loss: 0.4418 - val_mrcnn_bbox_loss: 0.6230 - val_mrcnn_mask_loss: 1.2353e-04\n",
      "Epoch 7/7\n",
      "200/200 [==============================] - 253s 1s/step - batch: 99.5000 - size: 8.0000 - loss: 1.5485 - rpn_class_loss: 0.0657 - rpn_bbox_loss: 0.4218 - mrcnn_class_loss: 0.4615 - mrcnn_bbox_loss: 0.5993 - mrcnn_mask_loss: 2.3836e-04 - val_loss: 1.5540 - val_rpn_class_loss: 0.0707 - val_rpn_bbox_loss: 0.4270 - val_mrcnn_class_loss: 0.4540 - val_mrcnn_bbox_loss: 0.6023 - val_mrcnn_mask_loss: 1.3646e-04\n"
     ]
    }
   ],
   "source": [
    "time_callback = TimeHistory()\n",
    "model.train(dataset_train, dataset_val,\n",
    "            learning_rate=LEARNING_RATE,\n",
    "            epochs=7,\n",
    "            layers='all',\n",
    "            augmentation=None,\n",
    "           custom_callbacks=[time_callback])\n",
    "\n",
    "times = time_callback.times\n",
    "times_list.append(times)\n",
    "news = model.keras_model.history.history\n",
    "for k in news: history[k] = history[k] + news[k]"
   ]
  },
  {
   "cell_type": "code",
   "execution_count": 25,
   "metadata": {
    "tags": []
   },
   "outputs": [
    {
     "name": "stdout",
     "output_type": "stream",
     "text": [
      "Epoch Training time: [315.1879081726074, 175.38661122322083, 231.95507621765137, 235.58093810081482, 253.15441298484802]\n",
      "{'loss': [13.814655294418335, 4.261818532347679, 2.149739063978195, 1.5875309509038926, 1.6209683310985565, 1.5296859389543533, 1.5485288721323014], 'rpn_class_loss': [0.61006063, 0.2660228, 0.11955166, 0.08275107, 0.08027471, 0.07192697, 0.0657092], 'rpn_bbox_loss': [7.1380205, 1.0361015, 0.7195846, 0.43544614, 0.46861508, 0.41019776, 0.4218356], 'mrcnn_class_loss': [1.055044, 1.3258195, 0.5168961, 0.4585667, 0.46522158, 0.45604286, 0.46145302], 'mrcnn_bbox_loss': [5.008331, 1.6338747, 0.7710201, 0.610013, 0.6064377, 0.59124494, 0.5992926], 'mrcnn_mask_loss': [0.003199261, 1.8534512e-09, 0.022686841, 0.00075415685, 0.00041907103, 0.0002735144, 0.00023836498], 'val_loss': [4.130836834907532, 1.865436704158783, 1.6115158367156983, 1.5297343373298644, 1.56091335773468, 1.5954429888725281, 1.5540254974365235], 'val_rpn_class_loss': [0.26945305, 0.17119516, 0.107639484, 0.07734297, 0.075896345, 0.072909184, 0.07065294], 'val_rpn_bbox_loss': [0.8999484, 0.55613005, 0.40935016, 0.41301593, 0.41698983, 0.45768875, 0.4270183], 'val_mrcnn_class_loss': [0.8726566, 0.43693006, 0.46914533, 0.43797982, 0.44517586, 0.44175187, 0.45396549], 'val_mrcnn_bbox_loss': [2.0887792, 0.7011814, 0.6236454, 0.60116595, 0.6224585, 0.62296957, 0.60225236], 'val_mrcnn_mask_loss': [5.9379834e-10, 0.0, 0.0017355394, 0.00022942954, 0.00039281487, 0.00012353345, 0.00013645862]}\n"
     ]
    }
   ],
   "source": [
    "print('Epoch Training time:', times)\n",
    "print(history)"
   ]
  },
  {
   "cell_type": "code",
   "execution_count": 23,
   "metadata": {},
   "outputs": [],
   "source": [
    "times_list = [314.7854869365692, 186.89624691009521, 315.1879081726074, 175.38661122322083, 231.95507621765137, 235.58093810081482, 253.15441298484802]\n",
    "history = {'loss': [13.814655294418335, 4.261818532347679, 2.149739063978195, 1.5875309509038926, 1.6209683310985565, 1.5296859389543533, 1.5485288721323014], 'rpn_class_loss': [0.61006063, 0.2660228, 0.11955166, 0.08275107, 0.08027471, 0.07192697, 0.0657092], 'rpn_bbox_loss': [7.1380205, 1.0361015, 0.7195846, 0.43544614, 0.46861508, 0.41019776, 0.4218356], 'mrcnn_class_loss': [1.055044, 1.3258195, 0.5168961, 0.4585667, 0.46522158, 0.45604286, 0.46145302], 'mrcnn_bbox_loss': [5.008331, 1.6338747, 0.7710201, 0.610013, 0.6064377, 0.59124494, 0.5992926], 'mrcnn_mask_loss': [0.003199261, 1.8534512e-09, 0.022686841, 0.00075415685, 0.00041907103, 0.0002735144, 0.00023836498], 'val_loss': [4.130836834907532, 1.865436704158783, 1.6115158367156983, 1.5297343373298644, 1.56091335773468, 1.5954429888725281, 1.5540254974365235], 'val_rpn_class_loss': [0.26945305, 0.17119516, 0.107639484, 0.07734297, 0.075896345, 0.072909184, 0.07065294], 'val_rpn_bbox_loss': [0.8999484, 0.55613005, 0.40935016, 0.41301593, 0.41698983, 0.45768875, 0.4270183], 'val_mrcnn_class_loss': [0.8726566, 0.43693006, 0.46914533, 0.43797982, 0.44517586, 0.44175187, 0.45396549], 'val_mrcnn_bbox_loss': [2.0887792, 0.7011814, 0.6236454, 0.60116595, 0.6224585, 0.62296957, 0.60225236], 'val_mrcnn_mask_loss': [5.9379834e-10, 0.0, 0.0017355394, 0.00022942954, 0.00039281487, 0.00012353345, 0.00013645862]}"
   ]
  },
  {
   "cell_type": "code",
   "execution_count": 27,
   "metadata": {
    "_uuid": "ccea214a520c686735e138f64977dcd7f3e3330a",
    "tags": []
   },
   "outputs": [
    {
     "name": "stdout",
     "output_type": "stream",
     "text": [
      "\n",
      "Starting at epoch 7. LR=0.001\n",
      "\n",
      "Checkpoint Path: /home/jupyter/pneumonia20221213T0503/mask_rcnn_pneumonia_{epoch:04d}.h5\n",
      "Selecting layers to train\n",
      "conv1                  (Conv2D)\n",
      "bn_conv1               (BatchNorm)\n",
      "res2a_branch2a         (Conv2D)\n",
      "bn2a_branch2a          (BatchNorm)\n",
      "res2a_branch2b         (Conv2D)\n",
      "bn2a_branch2b          (BatchNorm)\n",
      "res2a_branch2c         (Conv2D)\n",
      "res2a_branch1          (Conv2D)\n",
      "bn2a_branch2c          (BatchNorm)\n",
      "bn2a_branch1           (BatchNorm)\n",
      "res2b_branch2a         (Conv2D)\n",
      "bn2b_branch2a          (BatchNorm)\n",
      "res2b_branch2b         (Conv2D)\n",
      "bn2b_branch2b          (BatchNorm)\n",
      "res2b_branch2c         (Conv2D)\n",
      "bn2b_branch2c          (BatchNorm)\n",
      "res2c_branch2a         (Conv2D)\n",
      "bn2c_branch2a          (BatchNorm)\n",
      "res2c_branch2b         (Conv2D)\n",
      "bn2c_branch2b          (BatchNorm)\n",
      "res2c_branch2c         (Conv2D)\n",
      "bn2c_branch2c          (BatchNorm)\n",
      "res3a_branch2a         (Conv2D)\n",
      "bn3a_branch2a          (BatchNorm)\n",
      "res3a_branch2b         (Conv2D)\n",
      "bn3a_branch2b          (BatchNorm)\n",
      "res3a_branch2c         (Conv2D)\n",
      "res3a_branch1          (Conv2D)\n",
      "bn3a_branch2c          (BatchNorm)\n",
      "bn3a_branch1           (BatchNorm)\n",
      "res3b_branch2a         (Conv2D)\n",
      "bn3b_branch2a          (BatchNorm)\n",
      "res3b_branch2b         (Conv2D)\n",
      "bn3b_branch2b          (BatchNorm)\n",
      "res3b_branch2c         (Conv2D)\n",
      "bn3b_branch2c          (BatchNorm)\n",
      "res3c_branch2a         (Conv2D)\n",
      "bn3c_branch2a          (BatchNorm)\n",
      "res3c_branch2b         (Conv2D)\n",
      "bn3c_branch2b          (BatchNorm)\n",
      "res3c_branch2c         (Conv2D)\n",
      "bn3c_branch2c          (BatchNorm)\n",
      "res3d_branch2a         (Conv2D)\n",
      "bn3d_branch2a          (BatchNorm)\n",
      "res3d_branch2b         (Conv2D)\n",
      "bn3d_branch2b          (BatchNorm)\n",
      "res3d_branch2c         (Conv2D)\n",
      "bn3d_branch2c          (BatchNorm)\n",
      "res4a_branch2a         (Conv2D)\n",
      "bn4a_branch2a          (BatchNorm)\n",
      "res4a_branch2b         (Conv2D)\n",
      "bn4a_branch2b          (BatchNorm)\n",
      "res4a_branch2c         (Conv2D)\n",
      "res4a_branch1          (Conv2D)\n",
      "bn4a_branch2c          (BatchNorm)\n",
      "bn4a_branch1           (BatchNorm)\n",
      "res4b_branch2a         (Conv2D)\n",
      "bn4b_branch2a          (BatchNorm)\n",
      "res4b_branch2b         (Conv2D)\n",
      "bn4b_branch2b          (BatchNorm)\n",
      "res4b_branch2c         (Conv2D)\n",
      "bn4b_branch2c          (BatchNorm)\n",
      "res4c_branch2a         (Conv2D)\n",
      "bn4c_branch2a          (BatchNorm)\n",
      "res4c_branch2b         (Conv2D)\n",
      "bn4c_branch2b          (BatchNorm)\n",
      "res4c_branch2c         (Conv2D)\n",
      "bn4c_branch2c          (BatchNorm)\n",
      "res4d_branch2a         (Conv2D)\n",
      "bn4d_branch2a          (BatchNorm)\n",
      "res4d_branch2b         (Conv2D)\n",
      "bn4d_branch2b          (BatchNorm)\n",
      "res4d_branch2c         (Conv2D)\n",
      "bn4d_branch2c          (BatchNorm)\n",
      "res4e_branch2a         (Conv2D)\n",
      "bn4e_branch2a          (BatchNorm)\n",
      "res4e_branch2b         (Conv2D)\n",
      "bn4e_branch2b          (BatchNorm)\n",
      "res4e_branch2c         (Conv2D)\n",
      "bn4e_branch2c          (BatchNorm)\n",
      "res4f_branch2a         (Conv2D)\n",
      "bn4f_branch2a          (BatchNorm)\n",
      "res4f_branch2b         (Conv2D)\n",
      "bn4f_branch2b          (BatchNorm)\n",
      "res4f_branch2c         (Conv2D)\n",
      "bn4f_branch2c          (BatchNorm)\n",
      "res5a_branch2a         (Conv2D)\n",
      "bn5a_branch2a          (BatchNorm)\n",
      "res5a_branch2b         (Conv2D)\n",
      "bn5a_branch2b          (BatchNorm)\n",
      "res5a_branch2c         (Conv2D)\n",
      "res5a_branch1          (Conv2D)\n",
      "bn5a_branch2c          (BatchNorm)\n",
      "bn5a_branch1           (BatchNorm)\n",
      "res5b_branch2a         (Conv2D)\n",
      "bn5b_branch2a          (BatchNorm)\n",
      "res5b_branch2b         (Conv2D)\n",
      "bn5b_branch2b          (BatchNorm)\n",
      "res5b_branch2c         (Conv2D)\n",
      "bn5b_branch2c          (BatchNorm)\n",
      "res5c_branch2a         (Conv2D)\n",
      "bn5c_branch2a          (BatchNorm)\n",
      "res5c_branch2b         (Conv2D)\n",
      "bn5c_branch2b          (BatchNorm)\n",
      "res5c_branch2c         (Conv2D)\n",
      "bn5c_branch2c          (BatchNorm)\n",
      "fpn_c5p5               (Conv2D)\n",
      "fpn_c4p4               (Conv2D)\n",
      "fpn_c3p3               (Conv2D)\n",
      "fpn_c2p2               (Conv2D)\n",
      "fpn_p5                 (Conv2D)\n",
      "fpn_p2                 (Conv2D)\n",
      "fpn_p3                 (Conv2D)\n",
      "fpn_p4                 (Conv2D)\n",
      "rpn_model              (Functional)\n",
      "anchors                (ConstLayer)\n",
      "mrcnn_mask_conv1       (TimeDistributed)\n",
      "mrcnn_mask_bn1         (TimeDistributed)\n",
      "mrcnn_mask_conv2       (TimeDistributed)\n",
      "mrcnn_mask_bn2         (TimeDistributed)\n",
      "mrcnn_class_conv1      (TimeDistributed)\n",
      "mrcnn_class_bn1        (TimeDistributed)\n",
      "mrcnn_mask_conv3       (TimeDistributed)\n",
      "mrcnn_mask_bn3         (TimeDistributed)\n",
      "mrcnn_class_conv2      (TimeDistributed)\n",
      "mrcnn_class_bn2        (TimeDistributed)\n",
      "mrcnn_mask_conv4       (TimeDistributed)\n",
      "mrcnn_mask_bn4         (TimeDistributed)\n",
      "mrcnn_bbox_fc          (TimeDistributed)\n",
      "mrcnn_mask_deconv      (TimeDistributed)\n",
      "mrcnn_class_logits     (TimeDistributed)\n",
      "mrcnn_mask             (TimeDistributed)\n"
     ]
    },
    {
     "name": "stderr",
     "output_type": "stream",
     "text": [
      "2022-12-13 07:52:24.673276: I tensorflow/stream_executor/cuda/cuda_gpu_executor.cc:937] successful NUMA node read from SysFS had negative value (-1), but there must be at least one NUMA node, so returning NUMA node zero\n",
      "2022-12-13 07:52:24.674837: I tensorflow/stream_executor/cuda/cuda_gpu_executor.cc:937] successful NUMA node read from SysFS had negative value (-1), but there must be at least one NUMA node, so returning NUMA node zero\n",
      "2022-12-13 07:52:24.675558: I tensorflow/stream_executor/cuda/cuda_gpu_executor.cc:937] successful NUMA node read from SysFS had negative value (-1), but there must be at least one NUMA node, so returning NUMA node zero\n",
      "2022-12-13 07:52:24.676331: I tensorflow/stream_executor/cuda/cuda_gpu_executor.cc:937] successful NUMA node read from SysFS had negative value (-1), but there must be at least one NUMA node, so returning NUMA node zero\n",
      "2022-12-13 07:52:24.676977: I tensorflow/stream_executor/cuda/cuda_gpu_executor.cc:937] successful NUMA node read from SysFS had negative value (-1), but there must be at least one NUMA node, so returning NUMA node zero\n",
      "2022-12-13 07:52:24.677509: I tensorflow/core/common_runtime/gpu/gpu_device.cc:1510] Created device /job:localhost/replica:0/task:0/device:GPU:0 with 14634 MB memory:  -> device: 0, name: Tesla V100-SXM2-16GB, pci bus id: 0000:00:04.0, compute capability: 7.0\n"
     ]
    },
    {
     "name": "stdout",
     "output_type": "stream",
     "text": [
      "Epoch 8/15\n"
     ]
    },
    {
     "name": "stderr",
     "output_type": "stream",
     "text": [
      "2022-12-13 07:54:02.763530: W tensorflow/core/grappler/costs/op_level_cost_estimator.cc:690] Error in PredictCost() for the op: op: \"CropAndResize\" attr { key: \"T\" value { type: DT_FLOAT } } attr { key: \"extrapolation_value\" value { f: 0 } } attr { key: \"method\" value { s: \"bilinear\" } } inputs { dtype: DT_FLOAT shape { dim { size: -1279 } dim { size: 56 } dim { size: 56 } dim { size: 1 } } } inputs { dtype: DT_FLOAT shape { dim { size: -41 } dim { size: 4 } } } inputs { dtype: DT_INT32 shape { dim { size: -41 } } } inputs { dtype: DT_INT32 shape { dim { size: 2 } } value { dtype: DT_INT32 tensor_shape { dim { size: 2 } } tensor_content: \"\\034\\000\\000\\000\\034\\000\\000\\000\" } } device { type: \"GPU\" vendor: \"NVIDIA\" model: \"Tesla V100-SXM2-16GB\" frequency: 1530 num_cores: 80 environment { key: \"architecture\" value: \"7.0\" } environment { key: \"cuda\" value: \"11000\" } environment { key: \"cudnn\" value: \"8005\" } num_registers: 65536 l1_cache_size: 24576 l2_cache_size: 6291456 shared_memory_size_per_multiprocessor: 98304 memory_size: 15345844224 bandwidth: 898048000 } outputs { dtype: DT_FLOAT shape { dim { size: -41 } dim { size: 28 } dim { size: 28 } dim { size: 1 } } }\n",
      "2022-12-13 07:54:02.765691: W tensorflow/core/grappler/costs/op_level_cost_estimator.cc:690] Error in PredictCost() for the op: op: \"CropAndResize\" attr { key: \"T\" value { type: DT_FLOAT } } attr { key: \"extrapolation_value\" value { f: 0 } } attr { key: \"method\" value { s: \"bilinear\" } } inputs { dtype: DT_FLOAT shape { dim { size: -1285 } dim { size: 56 } dim { size: 56 } dim { size: 1 } } } inputs { dtype: DT_FLOAT shape { dim { size: -53 } dim { size: 4 } } } inputs { dtype: DT_INT32 shape { dim { size: -53 } } } inputs { dtype: DT_INT32 shape { dim { size: 2 } } value { dtype: DT_INT32 tensor_shape { dim { size: 2 } } tensor_content: \"\\034\\000\\000\\000\\034\\000\\000\\000\" } } device { type: \"GPU\" vendor: \"NVIDIA\" model: \"Tesla V100-SXM2-16GB\" frequency: 1530 num_cores: 80 environment { key: \"architecture\" value: \"7.0\" } environment { key: \"cuda\" value: \"11000\" } environment { key: \"cudnn\" value: \"8005\" } num_registers: 65536 l1_cache_size: 24576 l2_cache_size: 6291456 shared_memory_size_per_multiprocessor: 98304 memory_size: 15345844224 bandwidth: 898048000 } outputs { dtype: DT_FLOAT shape { dim { size: -53 } dim { size: 28 } dim { size: 28 } dim { size: 1 } } }\n",
      "2022-12-13 07:54:02.772150: W tensorflow/core/grappler/costs/op_level_cost_estimator.cc:690] Error in PredictCost() for the op: op: \"CropAndResize\" attr { key: \"T\" value { type: DT_FLOAT } } attr { key: \"extrapolation_value\" value { f: 0 } } attr { key: \"method\" value { s: \"bilinear\" } } inputs { dtype: DT_FLOAT shape { dim { size: -1287 } dim { size: 56 } dim { size: 56 } dim { size: 1 } } } inputs { dtype: DT_FLOAT shape { dim { size: -57 } dim { size: 4 } } } inputs { dtype: DT_INT32 shape { dim { size: -57 } } } inputs { dtype: DT_INT32 shape { dim { size: 2 } } value { dtype: DT_INT32 tensor_shape { dim { size: 2 } } tensor_content: \"\\034\\000\\000\\000\\034\\000\\000\\000\" } } device { type: \"GPU\" vendor: \"NVIDIA\" model: \"Tesla V100-SXM2-16GB\" frequency: 1530 num_cores: 80 environment { key: \"architecture\" value: \"7.0\" } environment { key: \"cuda\" value: \"11000\" } environment { key: \"cudnn\" value: \"8005\" } num_registers: 65536 l1_cache_size: 24576 l2_cache_size: 6291456 shared_memory_size_per_multiprocessor: 98304 memory_size: 15345844224 bandwidth: 898048000 } outputs { dtype: DT_FLOAT shape { dim { size: -57 } dim { size: 28 } dim { size: 28 } dim { size: 1 } } }\n",
      "2022-12-13 07:54:02.773010: W tensorflow/core/grappler/costs/op_level_cost_estimator.cc:690] Error in PredictCost() for the op: op: \"CropAndResize\" attr { key: \"T\" value { type: DT_FLOAT } } attr { key: \"extrapolation_value\" value { f: 0 } } attr { key: \"method\" value { s: \"bilinear\" } } inputs { dtype: DT_FLOAT shape { dim { size: -1289 } dim { size: 56 } dim { size: 56 } dim { size: 1 } } } inputs { dtype: DT_FLOAT shape { dim { size: -61 } dim { size: 4 } } } inputs { dtype: DT_INT32 shape { dim { size: -61 } } } inputs { dtype: DT_INT32 shape { dim { size: 2 } } value { dtype: DT_INT32 tensor_shape { dim { size: 2 } } tensor_content: \"\\034\\000\\000\\000\\034\\000\\000\\000\" } } device { type: \"GPU\" vendor: \"NVIDIA\" model: \"Tesla V100-SXM2-16GB\" frequency: 1530 num_cores: 80 environment { key: \"architecture\" value: \"7.0\" } environment { key: \"cuda\" value: \"11000\" } environment { key: \"cudnn\" value: \"8005\" } num_registers: 65536 l1_cache_size: 24576 l2_cache_size: 6291456 shared_memory_size_per_multiprocessor: 98304 memory_size: 15345844224 bandwidth: 898048000 } outputs { dtype: DT_FLOAT shape { dim { size: -61 } dim { size: 28 } dim { size: 28 } dim { size: 1 } } }\n",
      "2022-12-13 07:54:02.773980: W tensorflow/core/grappler/costs/op_level_cost_estimator.cc:690] Error in PredictCost() for the op: op: \"CropAndResize\" attr { key: \"T\" value { type: DT_FLOAT } } attr { key: \"extrapolation_value\" value { f: 0 } } attr { key: \"method\" value { s: \"bilinear\" } } inputs { dtype: DT_FLOAT shape { dim { size: -1291 } dim { size: 56 } dim { size: 56 } dim { size: 1 } } } inputs { dtype: DT_FLOAT shape { dim { size: -65 } dim { size: 4 } } } inputs { dtype: DT_INT32 shape { dim { size: -65 } } } inputs { dtype: DT_INT32 shape { dim { size: 2 } } value { dtype: DT_INT32 tensor_shape { dim { size: 2 } } tensor_content: \"\\034\\000\\000\\000\\034\\000\\000\\000\" } } device { type: \"GPU\" vendor: \"NVIDIA\" model: \"Tesla V100-SXM2-16GB\" frequency: 1530 num_cores: 80 environment { key: \"architecture\" value: \"7.0\" } environment { key: \"cuda\" value: \"11000\" } environment { key: \"cudnn\" value: \"8005\" } num_registers: 65536 l1_cache_size: 24576 l2_cache_size: 6291456 shared_memory_size_per_multiprocessor: 98304 memory_size: 15345844224 bandwidth: 898048000 } outputs { dtype: DT_FLOAT shape { dim { size: -65 } dim { size: 28 } dim { size: 28 } dim { size: 1 } } }\n",
      "2022-12-13 07:54:02.775017: W tensorflow/core/grappler/costs/op_level_cost_estimator.cc:690] Error in PredictCost() for the op: op: \"CropAndResize\" attr { key: \"T\" value { type: DT_FLOAT } } attr { key: \"extrapolation_value\" value { f: 0 } } attr { key: \"method\" value { s: \"bilinear\" } } inputs { dtype: DT_FLOAT shape { dim { size: -1293 } dim { size: 56 } dim { size: 56 } dim { size: 1 } } } inputs { dtype: DT_FLOAT shape { dim { size: -69 } dim { size: 4 } } } inputs { dtype: DT_INT32 shape { dim { size: -69 } } } inputs { dtype: DT_INT32 shape { dim { size: 2 } } value { dtype: DT_INT32 tensor_shape { dim { size: 2 } } tensor_content: \"\\034\\000\\000\\000\\034\\000\\000\\000\" } } device { type: \"GPU\" vendor: \"NVIDIA\" model: \"Tesla V100-SXM2-16GB\" frequency: 1530 num_cores: 80 environment { key: \"architecture\" value: \"7.0\" } environment { key: \"cuda\" value: \"11000\" } environment { key: \"cudnn\" value: \"8005\" } num_registers: 65536 l1_cache_size: 24576 l2_cache_size: 6291456 shared_memory_size_per_multiprocessor: 98304 memory_size: 15345844224 bandwidth: 898048000 } outputs { dtype: DT_FLOAT shape { dim { size: -69 } dim { size: 28 } dim { size: 28 } dim { size: 1 } } }\n",
      "2022-12-13 07:54:02.776024: W tensorflow/core/grappler/costs/op_level_cost_estimator.cc:690] Error in PredictCost() for the op: op: \"CropAndResize\" attr { key: \"T\" value { type: DT_FLOAT } } attr { key: \"extrapolation_value\" value { f: 0 } } attr { key: \"method\" value { s: \"bilinear\" } } inputs { dtype: DT_FLOAT shape { dim { size: -1281 } dim { size: 56 } dim { size: 56 } dim { size: 1 } } } inputs { dtype: DT_FLOAT shape { dim { size: -45 } dim { size: 4 } } } inputs { dtype: DT_INT32 shape { dim { size: -45 } } } inputs { dtype: DT_INT32 shape { dim { size: 2 } } value { dtype: DT_INT32 tensor_shape { dim { size: 2 } } tensor_content: \"\\034\\000\\000\\000\\034\\000\\000\\000\" } } device { type: \"GPU\" vendor: \"NVIDIA\" model: \"Tesla V100-SXM2-16GB\" frequency: 1530 num_cores: 80 environment { key: \"architecture\" value: \"7.0\" } environment { key: \"cuda\" value: \"11000\" } environment { key: \"cudnn\" value: \"8005\" } num_registers: 65536 l1_cache_size: 24576 l2_cache_size: 6291456 shared_memory_size_per_multiprocessor: 98304 memory_size: 15345844224 bandwidth: 898048000 } outputs { dtype: DT_FLOAT shape { dim { size: -45 } dim { size: 28 } dim { size: 28 } dim { size: 1 } } }\n",
      "2022-12-13 07:54:02.777028: W tensorflow/core/grappler/costs/op_level_cost_estimator.cc:690] Error in PredictCost() for the op: op: \"CropAndResize\" attr { key: \"T\" value { type: DT_FLOAT } } attr { key: \"extrapolation_value\" value { f: 0 } } attr { key: \"method\" value { s: \"bilinear\" } } inputs { dtype: DT_FLOAT shape { dim { size: -1283 } dim { size: 56 } dim { size: 56 } dim { size: 1 } } } inputs { dtype: DT_FLOAT shape { dim { size: -49 } dim { size: 4 } } } inputs { dtype: DT_INT32 shape { dim { size: -49 } } } inputs { dtype: DT_INT32 shape { dim { size: 2 } } value { dtype: DT_INT32 tensor_shape { dim { size: 2 } } tensor_content: \"\\034\\000\\000\\000\\034\\000\\000\\000\" } } device { type: \"GPU\" vendor: \"NVIDIA\" model: \"Tesla V100-SXM2-16GB\" frequency: 1530 num_cores: 80 environment { key: \"architecture\" value: \"7.0\" } environment { key: \"cuda\" value: \"11000\" } environment { key: \"cudnn\" value: \"8005\" } num_registers: 65536 l1_cache_size: 24576 l2_cache_size: 6291456 shared_memory_size_per_multiprocessor: 98304 memory_size: 15345844224 bandwidth: 898048000 } outputs { dtype: DT_FLOAT shape { dim { size: -49 } dim { size: 28 } dim { size: 28 } dim { size: 1 } } }\n",
      "2022-12-13 07:54:02.801858: W tensorflow/core/grappler/costs/op_level_cost_estimator.cc:690] Error in PredictCost() for the op: op: \"CropAndResize\" attr { key: \"T\" value { type: DT_FLOAT } } attr { key: \"extrapolation_value\" value { f: 0 } } attr { key: \"method\" value { s: \"bilinear\" } } inputs { dtype: DT_FLOAT shape { dim { size: -14 } dim { size: -344 } dim { size: -345 } dim { size: 256 } } } inputs { dtype: DT_FLOAT shape { dim { size: -192 } dim { size: 4 } } } inputs { dtype: DT_INT32 shape { dim { size: -192 } } } inputs { dtype: DT_INT32 shape { dim { size: 2 } } value { dtype: DT_INT32 tensor_shape { dim { size: 2 } } tensor_content: \"\\007\\000\\000\\000\\007\\000\\000\\000\" } } device { type: \"GPU\" vendor: \"NVIDIA\" model: \"Tesla V100-SXM2-16GB\" frequency: 1530 num_cores: 80 environment { key: \"architecture\" value: \"7.0\" } environment { key: \"cuda\" value: \"11000\" } environment { key: \"cudnn\" value: \"8005\" } num_registers: 65536 l1_cache_size: 24576 l2_cache_size: 6291456 shared_memory_size_per_multiprocessor: 98304 memory_size: 15345844224 bandwidth: 898048000 } outputs { dtype: DT_FLOAT shape { dim { size: -192 } dim { size: 7 } dim { size: 7 } dim { size: 256 } } }\n",
      "2022-12-13 07:54:02.803462: W tensorflow/core/grappler/costs/op_level_cost_estimator.cc:690] Error in PredictCost() for the op: op: \"CropAndResize\" attr { key: \"T\" value { type: DT_FLOAT } } attr { key: \"extrapolation_value\" value { f: 0 } } attr { key: \"method\" value { s: \"bilinear\" } } inputs { dtype: DT_FLOAT shape { dim { size: -14 } dim { size: -344 } dim { size: -345 } dim { size: 256 } } } inputs { dtype: DT_FLOAT shape { dim { size: -192 } dim { size: 4 } } } inputs { dtype: DT_INT32 shape { dim { size: -192 } } } inputs { dtype: DT_INT32 shape { dim { size: 2 } } value { dtype: DT_INT32 tensor_shape { dim { size: 2 } } tensor_content: \"\\016\\000\\000\\000\\016\\000\\000\\000\" } } device { type: \"GPU\" vendor: \"NVIDIA\" model: \"Tesla V100-SXM2-16GB\" frequency: 1530 num_cores: 80 environment { key: \"architecture\" value: \"7.0\" } environment { key: \"cuda\" value: \"11000\" } environment { key: \"cudnn\" value: \"8005\" } num_registers: 65536 l1_cache_size: 24576 l2_cache_size: 6291456 shared_memory_size_per_multiprocessor: 98304 memory_size: 15345844224 bandwidth: 898048000 } outputs { dtype: DT_FLOAT shape { dim { size: -192 } dim { size: 14 } dim { size: 14 } dim { size: 256 } } }\n",
      "2022-12-13 07:54:02.804381: W tensorflow/core/grappler/costs/op_level_cost_estimator.cc:690] Error in PredictCost() for the op: op: \"CropAndResize\" attr { key: \"T\" value { type: DT_FLOAT } } attr { key: \"extrapolation_value\" value { f: 0 } } attr { key: \"method\" value { s: \"bilinear\" } } inputs { dtype: DT_FLOAT shape { dim { size: -14 } dim { size: -336 } dim { size: -337 } dim { size: 256 } } } inputs { dtype: DT_FLOAT shape { dim { size: -186 } dim { size: 4 } } } inputs { dtype: DT_INT32 shape { dim { size: -186 } } } inputs { dtype: DT_INT32 shape { dim { size: 2 } } value { dtype: DT_INT32 tensor_shape { dim { size: 2 } } tensor_content: \"\\007\\000\\000\\000\\007\\000\\000\\000\" } } device { type: \"GPU\" vendor: \"NVIDIA\" model: \"Tesla V100-SXM2-16GB\" frequency: 1530 num_cores: 80 environment { key: \"architecture\" value: \"7.0\" } environment { key: \"cuda\" value: \"11000\" } environment { key: \"cudnn\" value: \"8005\" } num_registers: 65536 l1_cache_size: 24576 l2_cache_size: 6291456 shared_memory_size_per_multiprocessor: 98304 memory_size: 15345844224 bandwidth: 898048000 } outputs { dtype: DT_FLOAT shape { dim { size: -186 } dim { size: 7 } dim { size: 7 } dim { size: 256 } } }\n",
      "2022-12-13 07:54:02.805172: W tensorflow/core/grappler/costs/op_level_cost_estimator.cc:690] Error in PredictCost() for the op: op: \"CropAndResize\" attr { key: \"T\" value { type: DT_FLOAT } } attr { key: \"extrapolation_value\" value { f: 0 } } attr { key: \"method\" value { s: \"bilinear\" } } inputs { dtype: DT_FLOAT shape { dim { size: -14 } dim { size: -336 } dim { size: -337 } dim { size: 256 } } } inputs { dtype: DT_FLOAT shape { dim { size: -186 } dim { size: 4 } } } inputs { dtype: DT_INT32 shape { dim { size: -186 } } } inputs { dtype: DT_INT32 shape { dim { size: 2 } } value { dtype: DT_INT32 tensor_shape { dim { size: 2 } } tensor_content: \"\\016\\000\\000\\000\\016\\000\\000\\000\" } } device { type: \"GPU\" vendor: \"NVIDIA\" model: \"Tesla V100-SXM2-16GB\" frequency: 1530 num_cores: 80 environment { key: \"architecture\" value: \"7.0\" } environment { key: \"cuda\" value: \"11000\" } environment { key: \"cudnn\" value: \"8005\" } num_registers: 65536 l1_cache_size: 24576 l2_cache_size: 6291456 shared_memory_size_per_multiprocessor: 98304 memory_size: 15345844224 bandwidth: 898048000 } outputs { dtype: DT_FLOAT shape { dim { size: -186 } dim { size: 14 } dim { size: 14 } dim { size: 256 } } }\n",
      "2022-12-13 07:54:02.805940: W tensorflow/core/grappler/costs/op_level_cost_estimator.cc:690] Error in PredictCost() for the op: op: \"CropAndResize\" attr { key: \"T\" value { type: DT_FLOAT } } attr { key: \"extrapolation_value\" value { f: 0 } } attr { key: \"method\" value { s: \"bilinear\" } } inputs { dtype: DT_FLOAT shape { dim { size: -14 } dim { size: -328 } dim { size: -329 } dim { size: 256 } } } inputs { dtype: DT_FLOAT shape { dim { size: -188 } dim { size: 4 } } } inputs { dtype: DT_INT32 shape { dim { size: -188 } } } inputs { dtype: DT_INT32 shape { dim { size: 2 } } value { dtype: DT_INT32 tensor_shape { dim { size: 2 } } tensor_content: \"\\007\\000\\000\\000\\007\\000\\000\\000\" } } device { type: \"GPU\" vendor: \"NVIDIA\" model: \"Tesla V100-SXM2-16GB\" frequency: 1530 num_cores: 80 environment { key: \"architecture\" value: \"7.0\" } environment { key: \"cuda\" value: \"11000\" } environment { key: \"cudnn\" value: \"8005\" } num_registers: 65536 l1_cache_size: 24576 l2_cache_size: 6291456 shared_memory_size_per_multiprocessor: 98304 memory_size: 15345844224 bandwidth: 898048000 } outputs { dtype: DT_FLOAT shape { dim { size: -188 } dim { size: 7 } dim { size: 7 } dim { size: 256 } } }\n",
      "2022-12-13 07:54:02.806703: W tensorflow/core/grappler/costs/op_level_cost_estimator.cc:690] Error in PredictCost() for the op: op: \"CropAndResize\" attr { key: \"T\" value { type: DT_FLOAT } } attr { key: \"extrapolation_value\" value { f: 0 } } attr { key: \"method\" value { s: \"bilinear\" } } inputs { dtype: DT_FLOAT shape { dim { size: -14 } dim { size: -328 } dim { size: -329 } dim { size: 256 } } } inputs { dtype: DT_FLOAT shape { dim { size: -188 } dim { size: 4 } } } inputs { dtype: DT_INT32 shape { dim { size: -188 } } } inputs { dtype: DT_INT32 shape { dim { size: 2 } } value { dtype: DT_INT32 tensor_shape { dim { size: 2 } } tensor_content: \"\\016\\000\\000\\000\\016\\000\\000\\000\" } } device { type: \"GPU\" vendor: \"NVIDIA\" model: \"Tesla V100-SXM2-16GB\" frequency: 1530 num_cores: 80 environment { key: \"architecture\" value: \"7.0\" } environment { key: \"cuda\" value: \"11000\" } environment { key: \"cudnn\" value: \"8005\" } num_registers: 65536 l1_cache_size: 24576 l2_cache_size: 6291456 shared_memory_size_per_multiprocessor: 98304 memory_size: 15345844224 bandwidth: 898048000 } outputs { dtype: DT_FLOAT shape { dim { size: -188 } dim { size: 14 } dim { size: 14 } dim { size: 256 } } }\n",
      "2022-12-13 07:54:02.807574: W tensorflow/core/grappler/costs/op_level_cost_estimator.cc:690] Error in PredictCost() for the op: op: \"CropAndResize\" attr { key: \"T\" value { type: DT_FLOAT } } attr { key: \"extrapolation_value\" value { f: 0 } } attr { key: \"method\" value { s: \"bilinear\" } } inputs { dtype: DT_FLOAT shape { dim { size: -14 } dim { size: -320 } dim { size: -321 } dim { size: 256 } } } inputs { dtype: DT_FLOAT shape { dim { size: -190 } dim { size: 4 } } } inputs { dtype: DT_INT32 shape { dim { size: -190 } } } inputs { dtype: DT_INT32 shape { dim { size: 2 } } value { dtype: DT_INT32 tensor_shape { dim { size: 2 } } tensor_content: \"\\007\\000\\000\\000\\007\\000\\000\\000\" } } device { type: \"GPU\" vendor: \"NVIDIA\" model: \"Tesla V100-SXM2-16GB\" frequency: 1530 num_cores: 80 environment { key: \"architecture\" value: \"7.0\" } environment { key: \"cuda\" value: \"11000\" } environment { key: \"cudnn\" value: \"8005\" } num_registers: 65536 l1_cache_size: 24576 l2_cache_size: 6291456 shared_memory_size_per_multiprocessor: 98304 memory_size: 15345844224 bandwidth: 898048000 } outputs { dtype: DT_FLOAT shape { dim { size: -190 } dim { size: 7 } dim { size: 7 } dim { size: 256 } } }\n",
      "2022-12-13 07:54:02.808308: W tensorflow/core/grappler/costs/op_level_cost_estimator.cc:690] Error in PredictCost() for the op: op: \"CropAndResize\" attr { key: \"T\" value { type: DT_FLOAT } } attr { key: \"extrapolation_value\" value { f: 0 } } attr { key: \"method\" value { s: \"bilinear\" } } inputs { dtype: DT_FLOAT shape { dim { size: -14 } dim { size: -320 } dim { size: -321 } dim { size: 256 } } } inputs { dtype: DT_FLOAT shape { dim { size: -190 } dim { size: 4 } } } inputs { dtype: DT_INT32 shape { dim { size: -190 } } } inputs { dtype: DT_INT32 shape { dim { size: 2 } } value { dtype: DT_INT32 tensor_shape { dim { size: 2 } } tensor_content: \"\\016\\000\\000\\000\\016\\000\\000\\000\" } } device { type: \"GPU\" vendor: \"NVIDIA\" model: \"Tesla V100-SXM2-16GB\" frequency: 1530 num_cores: 80 environment { key: \"architecture\" value: \"7.0\" } environment { key: \"cuda\" value: \"11000\" } environment { key: \"cudnn\" value: \"8005\" } num_registers: 65536 l1_cache_size: 24576 l2_cache_size: 6291456 shared_memory_size_per_multiprocessor: 98304 memory_size: 15345844224 bandwidth: 898048000 } outputs { dtype: DT_FLOAT shape { dim { size: -190 } dim { size: 14 } dim { size: 14 } dim { size: 256 } } }\n",
      "2022-12-13 07:54:10.563419: I tensorflow/stream_executor/cuda/cuda_dnn.cc:369] Loaded cuDNN version 8005\n"
     ]
    },
    {
     "name": "stdout",
     "output_type": "stream",
     "text": [
      "  1/200 [..............................] - ETA: 2:11:03 - batch: 0.0000e+00 - size: 8.0000 - loss: 15.0148 - rpn_class_loss: 6.3371 - rpn_bbox_loss: 8.6245 - mrcnn_class_loss: 0.0532 - mrcnn_bbox_loss: 0.0000e+00 - mrcnn_mask_loss: 0.0000e+00"
     ]
    },
    {
     "name": "stderr",
     "output_type": "stream",
     "text": [
      "2022-12-13 07:54:16.067921: I tensorflow/core/profiler/lib/profiler_session.cc:131] Profiler session initializing.\n",
      "2022-12-13 07:54:16.067983: I tensorflow/core/profiler/lib/profiler_session.cc:146] Profiler session started.\n",
      "2022-12-13 07:54:16.068026: I tensorflow/core/profiler/internal/gpu/cupti_tracer.cc:1614] Profiler found 1 GPUs\n",
      "2022-12-13 07:54:17.300808: I tensorflow/core/profiler/lib/profiler_session.cc:66] Profiler session collecting data.\n",
      "2022-12-13 07:54:17.312070: I tensorflow/core/profiler/internal/gpu/cupti_tracer.cc:1748] CUPTI activity buffer flushed\n",
      "2022-12-13 07:54:17.576493: I tensorflow/core/profiler/internal/gpu/cupti_collector.cc:673]  GpuTracer has collected 7792 callback api events and 7791 activity events. \n",
      "2022-12-13 07:54:18.035569: I tensorflow/core/profiler/lib/profiler_session.cc:164] Profiler session tear down.\n",
      "2022-12-13 07:54:18.529815: I tensorflow/core/profiler/rpc/client/save_profile.cc:136] Creating directory: /home/jupyter/pneumonia20221213T0503/plugins/profile/2022_12_13_07_54_18\n",
      "\n",
      "2022-12-13 07:54:18.989980: I tensorflow/core/profiler/rpc/client/save_profile.cc:142] Dumped gzipped tool data for trace.json.gz to /home/jupyter/pneumonia20221213T0503/plugins/profile/2022_12_13_07_54_18/c7011c5febf5.trace.json.gz\n",
      "2022-12-13 07:54:19.887001: I tensorflow/core/profiler/rpc/client/save_profile.cc:136] Creating directory: /home/jupyter/pneumonia20221213T0503/plugins/profile/2022_12_13_07_54_18\n",
      "\n",
      "2022-12-13 07:54:19.923322: I tensorflow/core/profiler/rpc/client/save_profile.cc:142] Dumped gzipped tool data for memory_profile.json.gz to /home/jupyter/pneumonia20221213T0503/plugins/profile/2022_12_13_07_54_18/c7011c5febf5.memory_profile.json.gz\n",
      "2022-12-13 07:54:19.959365: I tensorflow/core/profiler/rpc/client/capture_profile.cc:251] Creating directory: /home/jupyter/pneumonia20221213T0503/plugins/profile/2022_12_13_07_54_18\n",
      "Dumped tool data for xplane.pb to /home/jupyter/pneumonia20221213T0503/plugins/profile/2022_12_13_07_54_18/c7011c5febf5.xplane.pb\n",
      "Dumped tool data for overview_page.pb to /home/jupyter/pneumonia20221213T0503/plugins/profile/2022_12_13_07_54_18/c7011c5febf5.overview_page.pb\n",
      "Dumped tool data for input_pipeline.pb to /home/jupyter/pneumonia20221213T0503/plugins/profile/2022_12_13_07_54_18/c7011c5febf5.input_pipeline.pb\n",
      "Dumped tool data for tensorflow_stats.pb to /home/jupyter/pneumonia20221213T0503/plugins/profile/2022_12_13_07_54_18/c7011c5febf5.tensorflow_stats.pb\n",
      "Dumped tool data for kernel_stats.pb to /home/jupyter/pneumonia20221213T0503/plugins/profile/2022_12_13_07_54_18/c7011c5febf5.kernel_stats.pb\n",
      "\n"
     ]
    },
    {
     "name": "stdout",
     "output_type": "stream",
     "text": [
      "200/200 [==============================] - ETA: 0s - batch: 99.5000 - size: 8.0000 - loss: 2.0110 - rpn_class_loss: 0.1594 - rpn_bbox_loss: 0.6166 - mrcnn_class_loss: 0.4374 - mrcnn_bbox_loss: 0.7436 - mrcnn_mask_loss: 0.0539"
     ]
    },
    {
     "name": "stderr",
     "output_type": "stream",
     "text": [
      "2022-12-13 07:56:27.948984: W tensorflow/core/grappler/costs/op_level_cost_estimator.cc:690] Error in PredictCost() for the op: op: \"CropAndResize\" attr { key: \"T\" value { type: DT_FLOAT } } attr { key: \"extrapolation_value\" value { f: 0 } } attr { key: \"method\" value { s: \"bilinear\" } } inputs { dtype: DT_FLOAT shape { dim { size: -896 } dim { size: 56 } dim { size: 56 } dim { size: 1 } } } inputs { dtype: DT_FLOAT shape { dim { size: -28 } dim { size: 4 } } } inputs { dtype: DT_INT32 shape { dim { size: -28 } } } inputs { dtype: DT_INT32 shape { dim { size: 2 } } value { dtype: DT_INT32 tensor_shape { dim { size: 2 } } tensor_content: \"\\034\\000\\000\\000\\034\\000\\000\\000\" } } device { type: \"GPU\" vendor: \"NVIDIA\" model: \"Tesla V100-SXM2-16GB\" frequency: 1530 num_cores: 80 environment { key: \"architecture\" value: \"7.0\" } environment { key: \"cuda\" value: \"11000\" } environment { key: \"cudnn\" value: \"8005\" } num_registers: 65536 l1_cache_size: 24576 l2_cache_size: 6291456 shared_memory_size_per_multiprocessor: 98304 memory_size: 15345844224 bandwidth: 898048000 } outputs { dtype: DT_FLOAT shape { dim { size: -28 } dim { size: 28 } dim { size: 28 } dim { size: 1 } } }\n",
      "2022-12-13 07:56:27.950220: W tensorflow/core/grappler/costs/op_level_cost_estimator.cc:690] Error in PredictCost() for the op: op: \"CropAndResize\" attr { key: \"T\" value { type: DT_FLOAT } } attr { key: \"extrapolation_value\" value { f: 0 } } attr { key: \"method\" value { s: \"bilinear\" } } inputs { dtype: DT_FLOAT shape { dim { size: -902 } dim { size: 56 } dim { size: 56 } dim { size: 1 } } } inputs { dtype: DT_FLOAT shape { dim { size: -40 } dim { size: 4 } } } inputs { dtype: DT_INT32 shape { dim { size: -40 } } } inputs { dtype: DT_INT32 shape { dim { size: 2 } } value { dtype: DT_INT32 tensor_shape { dim { size: 2 } } tensor_content: \"\\034\\000\\000\\000\\034\\000\\000\\000\" } } device { type: \"GPU\" vendor: \"NVIDIA\" model: \"Tesla V100-SXM2-16GB\" frequency: 1530 num_cores: 80 environment { key: \"architecture\" value: \"7.0\" } environment { key: \"cuda\" value: \"11000\" } environment { key: \"cudnn\" value: \"8005\" } num_registers: 65536 l1_cache_size: 24576 l2_cache_size: 6291456 shared_memory_size_per_multiprocessor: 98304 memory_size: 15345844224 bandwidth: 898048000 } outputs { dtype: DT_FLOAT shape { dim { size: -40 } dim { size: 28 } dim { size: 28 } dim { size: 1 } } }\n",
      "2022-12-13 07:56:27.950579: W tensorflow/core/grappler/costs/op_level_cost_estimator.cc:690] Error in PredictCost() for the op: op: \"CropAndResize\" attr { key: \"T\" value { type: DT_FLOAT } } attr { key: \"extrapolation_value\" value { f: 0 } } attr { key: \"method\" value { s: \"bilinear\" } } inputs { dtype: DT_FLOAT shape { dim { size: -904 } dim { size: 56 } dim { size: 56 } dim { size: 1 } } } inputs { dtype: DT_FLOAT shape { dim { size: -44 } dim { size: 4 } } } inputs { dtype: DT_INT32 shape { dim { size: -44 } } } inputs { dtype: DT_INT32 shape { dim { size: 2 } } value { dtype: DT_INT32 tensor_shape { dim { size: 2 } } tensor_content: \"\\034\\000\\000\\000\\034\\000\\000\\000\" } } device { type: \"GPU\" vendor: \"NVIDIA\" model: \"Tesla V100-SXM2-16GB\" frequency: 1530 num_cores: 80 environment { key: \"architecture\" value: \"7.0\" } environment { key: \"cuda\" value: \"11000\" } environment { key: \"cudnn\" value: \"8005\" } num_registers: 65536 l1_cache_size: 24576 l2_cache_size: 6291456 shared_memory_size_per_multiprocessor: 98304 memory_size: 15345844224 bandwidth: 898048000 } outputs { dtype: DT_FLOAT shape { dim { size: -44 } dim { size: 28 } dim { size: 28 } dim { size: 1 } } }\n",
      "2022-12-13 07:56:27.950860: W tensorflow/core/grappler/costs/op_level_cost_estimator.cc:690] Error in PredictCost() for the op: op: \"CropAndResize\" attr { key: \"T\" value { type: DT_FLOAT } } attr { key: \"extrapolation_value\" value { f: 0 } } attr { key: \"method\" value { s: \"bilinear\" } } inputs { dtype: DT_FLOAT shape { dim { size: -906 } dim { size: 56 } dim { size: 56 } dim { size: 1 } } } inputs { dtype: DT_FLOAT shape { dim { size: -48 } dim { size: 4 } } } inputs { dtype: DT_INT32 shape { dim { size: -48 } } } inputs { dtype: DT_INT32 shape { dim { size: 2 } } value { dtype: DT_INT32 tensor_shape { dim { size: 2 } } tensor_content: \"\\034\\000\\000\\000\\034\\000\\000\\000\" } } device { type: \"GPU\" vendor: \"NVIDIA\" model: \"Tesla V100-SXM2-16GB\" frequency: 1530 num_cores: 80 environment { key: \"architecture\" value: \"7.0\" } environment { key: \"cuda\" value: \"11000\" } environment { key: \"cudnn\" value: \"8005\" } num_registers: 65536 l1_cache_size: 24576 l2_cache_size: 6291456 shared_memory_size_per_multiprocessor: 98304 memory_size: 15345844224 bandwidth: 898048000 } outputs { dtype: DT_FLOAT shape { dim { size: -48 } dim { size: 28 } dim { size: 28 } dim { size: 1 } } }\n",
      "2022-12-13 07:56:27.952766: W tensorflow/core/grappler/costs/op_level_cost_estimator.cc:690] Error in PredictCost() for the op: op: \"CropAndResize\" attr { key: \"T\" value { type: DT_FLOAT } } attr { key: \"extrapolation_value\" value { f: 0 } } attr { key: \"method\" value { s: \"bilinear\" } } inputs { dtype: DT_FLOAT shape { dim { size: -908 } dim { size: 56 } dim { size: 56 } dim { size: 1 } } } inputs { dtype: DT_FLOAT shape { dim { size: -52 } dim { size: 4 } } } inputs { dtype: DT_INT32 shape { dim { size: -52 } } } inputs { dtype: DT_INT32 shape { dim { size: 2 } } value { dtype: DT_INT32 tensor_shape { dim { size: 2 } } tensor_content: \"\\034\\000\\000\\000\\034\\000\\000\\000\" } } device { type: \"GPU\" vendor: \"NVIDIA\" model: \"Tesla V100-SXM2-16GB\" frequency: 1530 num_cores: 80 environment { key: \"architecture\" value: \"7.0\" } environment { key: \"cuda\" value: \"11000\" } environment { key: \"cudnn\" value: \"8005\" } num_registers: 65536 l1_cache_size: 24576 l2_cache_size: 6291456 shared_memory_size_per_multiprocessor: 98304 memory_size: 15345844224 bandwidth: 898048000 } outputs { dtype: DT_FLOAT shape { dim { size: -52 } dim { size: 28 } dim { size: 28 } dim { size: 1 } } }\n",
      "2022-12-13 07:56:27.953653: W tensorflow/core/grappler/costs/op_level_cost_estimator.cc:690] Error in PredictCost() for the op: op: \"CropAndResize\" attr { key: \"T\" value { type: DT_FLOAT } } attr { key: \"extrapolation_value\" value { f: 0 } } attr { key: \"method\" value { s: \"bilinear\" } } inputs { dtype: DT_FLOAT shape { dim { size: -910 } dim { size: 56 } dim { size: 56 } dim { size: 1 } } } inputs { dtype: DT_FLOAT shape { dim { size: -56 } dim { size: 4 } } } inputs { dtype: DT_INT32 shape { dim { size: -56 } } } inputs { dtype: DT_INT32 shape { dim { size: 2 } } value { dtype: DT_INT32 tensor_shape { dim { size: 2 } } tensor_content: \"\\034\\000\\000\\000\\034\\000\\000\\000\" } } device { type: \"GPU\" vendor: \"NVIDIA\" model: \"Tesla V100-SXM2-16GB\" frequency: 1530 num_cores: 80 environment { key: \"architecture\" value: \"7.0\" } environment { key: \"cuda\" value: \"11000\" } environment { key: \"cudnn\" value: \"8005\" } num_registers: 65536 l1_cache_size: 24576 l2_cache_size: 6291456 shared_memory_size_per_multiprocessor: 98304 memory_size: 15345844224 bandwidth: 898048000 } outputs { dtype: DT_FLOAT shape { dim { size: -56 } dim { size: 28 } dim { size: 28 } dim { size: 1 } } }\n",
      "2022-12-13 07:56:27.954515: W tensorflow/core/grappler/costs/op_level_cost_estimator.cc:690] Error in PredictCost() for the op: op: \"CropAndResize\" attr { key: \"T\" value { type: DT_FLOAT } } attr { key: \"extrapolation_value\" value { f: 0 } } attr { key: \"method\" value { s: \"bilinear\" } } inputs { dtype: DT_FLOAT shape { dim { size: -898 } dim { size: 56 } dim { size: 56 } dim { size: 1 } } } inputs { dtype: DT_FLOAT shape { dim { size: -32 } dim { size: 4 } } } inputs { dtype: DT_INT32 shape { dim { size: -32 } } } inputs { dtype: DT_INT32 shape { dim { size: 2 } } value { dtype: DT_INT32 tensor_shape { dim { size: 2 } } tensor_content: \"\\034\\000\\000\\000\\034\\000\\000\\000\" } } device { type: \"GPU\" vendor: \"NVIDIA\" model: \"Tesla V100-SXM2-16GB\" frequency: 1530 num_cores: 80 environment { key: \"architecture\" value: \"7.0\" } environment { key: \"cuda\" value: \"11000\" } environment { key: \"cudnn\" value: \"8005\" } num_registers: 65536 l1_cache_size: 24576 l2_cache_size: 6291456 shared_memory_size_per_multiprocessor: 98304 memory_size: 15345844224 bandwidth: 898048000 } outputs { dtype: DT_FLOAT shape { dim { size: -32 } dim { size: 28 } dim { size: 28 } dim { size: 1 } } }\n",
      "2022-12-13 07:56:27.955262: W tensorflow/core/grappler/costs/op_level_cost_estimator.cc:690] Error in PredictCost() for the op: op: \"CropAndResize\" attr { key: \"T\" value { type: DT_FLOAT } } attr { key: \"extrapolation_value\" value { f: 0 } } attr { key: \"method\" value { s: \"bilinear\" } } inputs { dtype: DT_FLOAT shape { dim { size: -900 } dim { size: 56 } dim { size: 56 } dim { size: 1 } } } inputs { dtype: DT_FLOAT shape { dim { size: -36 } dim { size: 4 } } } inputs { dtype: DT_INT32 shape { dim { size: -36 } } } inputs { dtype: DT_INT32 shape { dim { size: 2 } } value { dtype: DT_INT32 tensor_shape { dim { size: 2 } } tensor_content: \"\\034\\000\\000\\000\\034\\000\\000\\000\" } } device { type: \"GPU\" vendor: \"NVIDIA\" model: \"Tesla V100-SXM2-16GB\" frequency: 1530 num_cores: 80 environment { key: \"architecture\" value: \"7.0\" } environment { key: \"cuda\" value: \"11000\" } environment { key: \"cudnn\" value: \"8005\" } num_registers: 65536 l1_cache_size: 24576 l2_cache_size: 6291456 shared_memory_size_per_multiprocessor: 98304 memory_size: 15345844224 bandwidth: 898048000 } outputs { dtype: DT_FLOAT shape { dim { size: -36 } dim { size: 28 } dim { size: 28 } dim { size: 1 } } }\n",
      "2022-12-13 07:56:27.962438: W tensorflow/core/grappler/costs/op_level_cost_estimator.cc:690] Error in PredictCost() for the op: op: \"CropAndResize\" attr { key: \"T\" value { type: DT_FLOAT } } attr { key: \"extrapolation_value\" value { f: 0 } } attr { key: \"method\" value { s: \"bilinear\" } } inputs { dtype: DT_FLOAT shape { dim { size: -199 } dim { size: -463 } dim { size: -464 } dim { size: 256 } } } inputs { dtype: DT_FLOAT shape { dim { size: -173 } dim { size: 4 } } } inputs { dtype: DT_INT32 shape { dim { size: -173 } } } inputs { dtype: DT_INT32 shape { dim { size: 2 } } value { dtype: DT_INT32 tensor_shape { dim { size: 2 } } tensor_content: \"\\007\\000\\000\\000\\007\\000\\000\\000\" } } device { type: \"GPU\" vendor: \"NVIDIA\" model: \"Tesla V100-SXM2-16GB\" frequency: 1530 num_cores: 80 environment { key: \"architecture\" value: \"7.0\" } environment { key: \"cuda\" value: \"11000\" } environment { key: \"cudnn\" value: \"8005\" } num_registers: 65536 l1_cache_size: 24576 l2_cache_size: 6291456 shared_memory_size_per_multiprocessor: 98304 memory_size: 15345844224 bandwidth: 898048000 } outputs { dtype: DT_FLOAT shape { dim { size: -173 } dim { size: 7 } dim { size: 7 } dim { size: 256 } } }\n",
      "2022-12-13 07:56:27.963718: W tensorflow/core/grappler/costs/op_level_cost_estimator.cc:690] Error in PredictCost() for the op: op: \"CropAndResize\" attr { key: \"T\" value { type: DT_FLOAT } } attr { key: \"extrapolation_value\" value { f: 0 } } attr { key: \"method\" value { s: \"bilinear\" } } inputs { dtype: DT_FLOAT shape { dim { size: -199 } dim { size: -463 } dim { size: -464 } dim { size: 256 } } } inputs { dtype: DT_FLOAT shape { dim { size: -173 } dim { size: 4 } } } inputs { dtype: DT_INT32 shape { dim { size: -173 } } } inputs { dtype: DT_INT32 shape { dim { size: 2 } } value { dtype: DT_INT32 tensor_shape { dim { size: 2 } } tensor_content: \"\\016\\000\\000\\000\\016\\000\\000\\000\" } } device { type: \"GPU\" vendor: \"NVIDIA\" model: \"Tesla V100-SXM2-16GB\" frequency: 1530 num_cores: 80 environment { key: \"architecture\" value: \"7.0\" } environment { key: \"cuda\" value: \"11000\" } environment { key: \"cudnn\" value: \"8005\" } num_registers: 65536 l1_cache_size: 24576 l2_cache_size: 6291456 shared_memory_size_per_multiprocessor: 98304 memory_size: 15345844224 bandwidth: 898048000 } outputs { dtype: DT_FLOAT shape { dim { size: -173 } dim { size: 14 } dim { size: 14 } dim { size: 256 } } }\n",
      "2022-12-13 07:56:27.965472: W tensorflow/core/grappler/costs/op_level_cost_estimator.cc:690] Error in PredictCost() for the op: op: \"CropAndResize\" attr { key: \"T\" value { type: DT_FLOAT } } attr { key: \"extrapolation_value\" value { f: 0 } } attr { key: \"method\" value { s: \"bilinear\" } } inputs { dtype: DT_FLOAT shape { dim { size: -199 } dim { size: -453 } dim { size: -454 } dim { size: 256 } } } inputs { dtype: DT_FLOAT shape { dim { size: -175 } dim { size: 4 } } } inputs { dtype: DT_INT32 shape { dim { size: -175 } } } inputs { dtype: DT_INT32 shape { dim { size: 2 } } value { dtype: DT_INT32 tensor_shape { dim { size: 2 } } tensor_content: \"\\007\\000\\000\\000\\007\\000\\000\\000\" } } device { type: \"GPU\" vendor: \"NVIDIA\" model: \"Tesla V100-SXM2-16GB\" frequency: 1530 num_cores: 80 environment { key: \"architecture\" value: \"7.0\" } environment { key: \"cuda\" value: \"11000\" } environment { key: \"cudnn\" value: \"8005\" } num_registers: 65536 l1_cache_size: 24576 l2_cache_size: 6291456 shared_memory_size_per_multiprocessor: 98304 memory_size: 15345844224 bandwidth: 898048000 } outputs { dtype: DT_FLOAT shape { dim { size: -175 } dim { size: 7 } dim { size: 7 } dim { size: 256 } } }\n",
      "2022-12-13 07:56:27.967111: W tensorflow/core/grappler/costs/op_level_cost_estimator.cc:690] Error in PredictCost() for the op: op: \"CropAndResize\" attr { key: \"T\" value { type: DT_FLOAT } } attr { key: \"extrapolation_value\" value { f: 0 } } attr { key: \"method\" value { s: \"bilinear\" } } inputs { dtype: DT_FLOAT shape { dim { size: -199 } dim { size: -453 } dim { size: -454 } dim { size: 256 } } } inputs { dtype: DT_FLOAT shape { dim { size: -175 } dim { size: 4 } } } inputs { dtype: DT_INT32 shape { dim { size: -175 } } } inputs { dtype: DT_INT32 shape { dim { size: 2 } } value { dtype: DT_INT32 tensor_shape { dim { size: 2 } } tensor_content: \"\\016\\000\\000\\000\\016\\000\\000\\000\" } } device { type: \"GPU\" vendor: \"NVIDIA\" model: \"Tesla V100-SXM2-16GB\" frequency: 1530 num_cores: 80 environment { key: \"architecture\" value: \"7.0\" } environment { key: \"cuda\" value: \"11000\" } environment { key: \"cudnn\" value: \"8005\" } num_registers: 65536 l1_cache_size: 24576 l2_cache_size: 6291456 shared_memory_size_per_multiprocessor: 98304 memory_size: 15345844224 bandwidth: 898048000 } outputs { dtype: DT_FLOAT shape { dim { size: -175 } dim { size: 14 } dim { size: 14 } dim { size: 256 } } }\n",
      "2022-12-13 07:56:27.967995: W tensorflow/core/grappler/costs/op_level_cost_estimator.cc:690] Error in PredictCost() for the op: op: \"CropAndResize\" attr { key: \"T\" value { type: DT_FLOAT } } attr { key: \"extrapolation_value\" value { f: 0 } } attr { key: \"method\" value { s: \"bilinear\" } } inputs { dtype: DT_FLOAT shape { dim { size: -199 } dim { size: -441 } dim { size: -442 } dim { size: 256 } } } inputs { dtype: DT_FLOAT shape { dim { size: -177 } dim { size: 4 } } } inputs { dtype: DT_INT32 shape { dim { size: -177 } } } inputs { dtype: DT_INT32 shape { dim { size: 2 } } value { dtype: DT_INT32 tensor_shape { dim { size: 2 } } tensor_content: \"\\007\\000\\000\\000\\007\\000\\000\\000\" } } device { type: \"GPU\" vendor: \"NVIDIA\" model: \"Tesla V100-SXM2-16GB\" frequency: 1530 num_cores: 80 environment { key: \"architecture\" value: \"7.0\" } environment { key: \"cuda\" value: \"11000\" } environment { key: \"cudnn\" value: \"8005\" } num_registers: 65536 l1_cache_size: 24576 l2_cache_size: 6291456 shared_memory_size_per_multiprocessor: 98304 memory_size: 15345844224 bandwidth: 898048000 } outputs { dtype: DT_FLOAT shape { dim { size: -177 } dim { size: 7 } dim { size: 7 } dim { size: 256 } } }\n",
      "2022-12-13 07:56:27.969111: W tensorflow/core/grappler/costs/op_level_cost_estimator.cc:690] Error in PredictCost() for the op: op: \"CropAndResize\" attr { key: \"T\" value { type: DT_FLOAT } } attr { key: \"extrapolation_value\" value { f: 0 } } attr { key: \"method\" value { s: \"bilinear\" } } inputs { dtype: DT_FLOAT shape { dim { size: -199 } dim { size: -441 } dim { size: -442 } dim { size: 256 } } } inputs { dtype: DT_FLOAT shape { dim { size: -177 } dim { size: 4 } } } inputs { dtype: DT_INT32 shape { dim { size: -177 } } } inputs { dtype: DT_INT32 shape { dim { size: 2 } } value { dtype: DT_INT32 tensor_shape { dim { size: 2 } } tensor_content: \"\\016\\000\\000\\000\\016\\000\\000\\000\" } } device { type: \"GPU\" vendor: \"NVIDIA\" model: \"Tesla V100-SXM2-16GB\" frequency: 1530 num_cores: 80 environment { key: \"architecture\" value: \"7.0\" } environment { key: \"cuda\" value: \"11000\" } environment { key: \"cudnn\" value: \"8005\" } num_registers: 65536 l1_cache_size: 24576 l2_cache_size: 6291456 shared_memory_size_per_multiprocessor: 98304 memory_size: 15345844224 bandwidth: 898048000 } outputs { dtype: DT_FLOAT shape { dim { size: -177 } dim { size: 14 } dim { size: 14 } dim { size: 256 } } }\n",
      "2022-12-13 07:56:27.970523: W tensorflow/core/grappler/costs/op_level_cost_estimator.cc:690] Error in PredictCost() for the op: op: \"CropAndResize\" attr { key: \"T\" value { type: DT_FLOAT } } attr { key: \"extrapolation_value\" value { f: 0 } } attr { key: \"method\" value { s: \"bilinear\" } } inputs { dtype: DT_FLOAT shape { dim { size: -199 } dim { size: -427 } dim { size: -428 } dim { size: 256 } } } inputs { dtype: DT_FLOAT shape { dim { size: -179 } dim { size: 4 } } } inputs { dtype: DT_INT32 shape { dim { size: -179 } } } inputs { dtype: DT_INT32 shape { dim { size: 2 } } value { dtype: DT_INT32 tensor_shape { dim { size: 2 } } tensor_content: \"\\007\\000\\000\\000\\007\\000\\000\\000\" } } device { type: \"GPU\" vendor: \"NVIDIA\" model: \"Tesla V100-SXM2-16GB\" frequency: 1530 num_cores: 80 environment { key: \"architecture\" value: \"7.0\" } environment { key: \"cuda\" value: \"11000\" } environment { key: \"cudnn\" value: \"8005\" } num_registers: 65536 l1_cache_size: 24576 l2_cache_size: 6291456 shared_memory_size_per_multiprocessor: 98304 memory_size: 15345844224 bandwidth: 898048000 } outputs { dtype: DT_FLOAT shape { dim { size: -179 } dim { size: 7 } dim { size: 7 } dim { size: 256 } } }\n",
      "2022-12-13 07:56:27.971142: W tensorflow/core/grappler/costs/op_level_cost_estimator.cc:690] Error in PredictCost() for the op: op: \"CropAndResize\" attr { key: \"T\" value { type: DT_FLOAT } } attr { key: \"extrapolation_value\" value { f: 0 } } attr { key: \"method\" value { s: \"bilinear\" } } inputs { dtype: DT_FLOAT shape { dim { size: -199 } dim { size: -427 } dim { size: -428 } dim { size: 256 } } } inputs { dtype: DT_FLOAT shape { dim { size: -179 } dim { size: 4 } } } inputs { dtype: DT_INT32 shape { dim { size: -179 } } } inputs { dtype: DT_INT32 shape { dim { size: 2 } } value { dtype: DT_INT32 tensor_shape { dim { size: 2 } } tensor_content: \"\\016\\000\\000\\000\\016\\000\\000\\000\" } } device { type: \"GPU\" vendor: \"NVIDIA\" model: \"Tesla V100-SXM2-16GB\" frequency: 1530 num_cores: 80 environment { key: \"architecture\" value: \"7.0\" } environment { key: \"cuda\" value: \"11000\" } environment { key: \"cudnn\" value: \"8005\" } num_registers: 65536 l1_cache_size: 24576 l2_cache_size: 6291456 shared_memory_size_per_multiprocessor: 98304 memory_size: 15345844224 bandwidth: 898048000 } outputs { dtype: DT_FLOAT shape { dim { size: -179 } dim { size: 14 } dim { size: 14 } dim { size: 256 } } }\n"
     ]
    },
    {
     "name": "stdout",
     "output_type": "stream",
     "text": [
      "200/200 [==============================] - 301s 1s/step - batch: 99.5000 - size: 8.0000 - loss: 2.0110 - rpn_class_loss: 0.1594 - rpn_bbox_loss: 0.6166 - mrcnn_class_loss: 0.4374 - mrcnn_bbox_loss: 0.7436 - mrcnn_mask_loss: 0.0539 - val_loss: 1.5926 - val_rpn_class_loss: 0.0788 - val_rpn_bbox_loss: 0.3973 - val_mrcnn_class_loss: 0.5048 - val_mrcnn_bbox_loss: 0.6085 - val_mrcnn_mask_loss: 0.0033\n",
      "Epoch 9/15\n",
      "200/200 [==============================] - 171s 856ms/step - batch: 99.5000 - size: 8.0000 - loss: 1.5638 - rpn_class_loss: 0.0762 - rpn_bbox_loss: 0.4090 - mrcnn_class_loss: 0.4726 - mrcnn_bbox_loss: 0.6028 - mrcnn_mask_loss: 0.0031 - val_loss: 1.5501 - val_rpn_class_loss: 0.0709 - val_rpn_bbox_loss: 0.3936 - val_mrcnn_class_loss: 0.4804 - val_mrcnn_bbox_loss: 0.6032 - val_mrcnn_mask_loss: 0.0019\n",
      "Epoch 10/15\n",
      "200/200 [==============================] - 245s 1s/step - batch: 99.5000 - size: 8.0000 - loss: 1.5978 - rpn_class_loss: 0.0730 - rpn_bbox_loss: 0.4389 - mrcnn_class_loss: 0.4739 - mrcnn_bbox_loss: 0.6104 - mrcnn_mask_loss: 0.0015 - val_loss: 1.5694 - val_rpn_class_loss: 0.0681 - val_rpn_bbox_loss: 0.4143 - val_mrcnn_class_loss: 0.4801 - val_mrcnn_bbox_loss: 0.6054 - val_mrcnn_mask_loss: 0.0015\n",
      "Epoch 11/15\n",
      "200/200 [==============================] - 236s 1s/step - batch: 99.5000 - size: 8.0000 - loss: 1.5411 - rpn_class_loss: 0.0681 - rpn_bbox_loss: 0.3985 - mrcnn_class_loss: 0.4721 - mrcnn_bbox_loss: 0.6011 - mrcnn_mask_loss: 0.0012 - val_loss: 1.5436 - val_rpn_class_loss: 0.0645 - val_rpn_bbox_loss: 0.4240 - val_mrcnn_class_loss: 0.4659 - val_mrcnn_bbox_loss: 0.5885 - val_mrcnn_mask_loss: 6.5343e-04\n",
      "Epoch 12/15\n",
      "200/200 [==============================] - 238s 1s/step - batch: 99.5000 - size: 8.0000 - loss: 1.5145 - rpn_class_loss: 0.0659 - rpn_bbox_loss: 0.4076 - mrcnn_class_loss: 0.4518 - mrcnn_bbox_loss: 0.5883 - mrcnn_mask_loss: 9.5266e-04 - val_loss: 1.5602 - val_rpn_class_loss: 0.0616 - val_rpn_bbox_loss: 0.4180 - val_mrcnn_class_loss: 0.4859 - val_mrcnn_bbox_loss: 0.5941 - val_mrcnn_mask_loss: 5.1059e-04\n",
      "Epoch 13/15\n",
      "200/200 [==============================] - 241s 1s/step - batch: 99.5000 - size: 8.0000 - loss: 1.4982 - rpn_class_loss: 0.0655 - rpn_bbox_loss: 0.4083 - mrcnn_class_loss: 0.4424 - mrcnn_bbox_loss: 0.5813 - mrcnn_mask_loss: 6.2932e-04 - val_loss: 1.5055 - val_rpn_class_loss: 0.0607 - val_rpn_bbox_loss: 0.3899 - val_mrcnn_class_loss: 0.4542 - val_mrcnn_bbox_loss: 0.6000 - val_mrcnn_mask_loss: 6.3528e-04\n",
      "Epoch 14/15\n",
      "200/200 [==============================] - 232s 1s/step - batch: 99.5000 - size: 8.0000 - loss: 1.4956 - rpn_class_loss: 0.0628 - rpn_bbox_loss: 0.4210 - mrcnn_class_loss: 0.4269 - mrcnn_bbox_loss: 0.5843 - mrcnn_mask_loss: 6.1881e-04 - val_loss: 1.4860 - val_rpn_class_loss: 0.0615 - val_rpn_bbox_loss: 0.3964 - val_mrcnn_class_loss: 0.4285 - val_mrcnn_bbox_loss: 0.5989 - val_mrcnn_mask_loss: 6.5989e-04\n",
      "Epoch 15/15\n",
      "200/200 [==============================] - 243s 1s/step - batch: 99.5000 - size: 8.0000 - loss: 1.5262 - rpn_class_loss: 0.0681 - rpn_bbox_loss: 0.4359 - mrcnn_class_loss: 0.4362 - mrcnn_bbox_loss: 0.5854 - mrcnn_mask_loss: 6.0020e-04 - val_loss: 1.4540 - val_rpn_class_loss: 0.0609 - val_rpn_bbox_loss: 0.3822 - val_mrcnn_class_loss: 0.4338 - val_mrcnn_bbox_loss: 0.5765 - val_mrcnn_mask_loss: 5.8367e-04\n"
     ]
    }
   ],
   "source": [
    "time_callback = TimeHistory()\n",
    "model.train(dataset_train, dataset_val,\n",
    "            learning_rate=LEARNING_RATE/5,\n",
    "            epochs=15,\n",
    "            layers='all',\n",
    "            augmentation=None,\n",
    "           custom_callbacks=[time_callback])\n",
    "\n",
    "times = time_callback.times\n",
    "times_list.append(times)\n",
    "news = model.keras_model.history.history\n",
    "for k in news: history[k] = history[k] + news[k]"
   ]
  },
  {
   "cell_type": "code",
   "execution_count": 28,
   "metadata": {
    "tags": []
   },
   "outputs": [
    {
     "name": "stdout",
     "output_type": "stream",
     "text": [
      "Epoch Training time: [300.8725595474243, 170.78919529914856, 245.47276639938354, 236.1436049938202, 237.65362548828125, 241.30896925926208, 231.780770778656, 242.60855746269226]\n",
      "{'loss': [13.814655294418335, 4.261818532347679, 2.149739063978195, 1.5875309509038926, 1.6209683310985565, 1.5296859389543533, 1.5485288721323014, 2.010971092581749, 1.5637792074680328, 1.5977663666009903, 1.541052247285843, 1.5145171386003495, 1.4981567019224167, 1.4955649870634078, 1.526232585310936], 'rpn_class_loss': [0.61006063, 0.2660228, 0.11955166, 0.08275107, 0.08027471, 0.07192697, 0.0657092, 0.15941727, 0.07617532, 0.073038094, 0.0681474, 0.0659234, 0.06552164, 0.0627648, 0.06808723], 'rpn_bbox_loss': [7.1380205, 1.0361015, 0.7195846, 0.43544614, 0.46861508, 0.41019776, 0.4218356, 0.6166268, 0.4089939, 0.43886158, 0.39851192, 0.4076084, 0.40825015, 0.4210006, 0.43590546], 'mrcnn_class_loss': [1.055044, 1.3258195, 0.5168961, 0.4585667, 0.46522158, 0.45604286, 0.46145302, 0.43739846, 0.47264865, 0.47393999, 0.472082, 0.45176247, 0.44243366, 0.42689037, 0.4362067], 'mrcnn_bbox_loss': [5.008331, 1.6338747, 0.7710201, 0.610013, 0.6064377, 0.59124494, 0.5992926, 0.7435943, 0.60284734, 0.6103895, 0.60108274, 0.58827037, 0.5813219, 0.58429044, 0.58543336], 'mrcnn_mask_loss': [0.003199261, 1.8534512e-09, 0.022686841, 0.00075415685, 0.00041907103, 0.0002735144, 0.00023836498, 0.05393456, 0.003114052, 0.001537271, 0.0012284315, 0.00095266406, 0.0006293243, 0.00061880925, 0.00060020207], 'val_loss': [4.130836834907532, 1.865436704158783, 1.6115158367156983, 1.5297343373298644, 1.56091335773468, 1.5954429888725281, 1.5540254974365235, 1.5926429271697997, 1.5500510621070862, 1.5693660831451417, 1.5435866498947144, 1.5601788711547853, 1.5055242562294007, 1.4860079431533812, 1.4540350174903869], 'val_rpn_class_loss': [0.26945305, 0.17119516, 0.107639484, 0.07734297, 0.075896345, 0.072909184, 0.07065294, 0.07879764, 0.07094584, 0.06808139, 0.06454268, 0.06161721, 0.060749006, 0.061525475, 0.06093213], 'val_rpn_bbox_loss': [0.8999484, 0.55613005, 0.40935016, 0.41301593, 0.41698983, 0.45768875, 0.4270183, 0.39727193, 0.3936074, 0.41434392, 0.42397174, 0.4180069, 0.3898589, 0.39641753, 0.38223994], 'val_mrcnn_class_loss': [0.8726566, 0.43693006, 0.46914533, 0.43797982, 0.44517586, 0.44175187, 0.45396549, 0.50477946, 0.48037624, 0.4800651, 0.46593627, 0.485911, 0.45423204, 0.4284941, 0.43378708], 'val_mrcnn_bbox_loss': [2.0887792, 0.7011814, 0.6236454, 0.60116595, 0.6224585, 0.62296957, 0.60225236, 0.608534, 0.60319257, 0.60540015, 0.5884825, 0.59413326, 0.60004896, 0.59891117, 0.576492], 'val_mrcnn_mask_loss': [5.9379834e-10, 0.0, 0.0017355394, 0.00022942954, 0.00039281487, 0.00012353345, 0.00013645862, 0.0032600302, 0.0019291124, 0.0014756715, 0.00065343425, 0.00051059487, 0.00063527754, 0.0006598859, 0.0005836709]}\n"
     ]
    }
   ],
   "source": [
    "print('Epoch Training time:', times)\n",
    "print(history)"
   ]
  },
  {
   "cell_type": "code",
   "execution_count": 36,
   "metadata": {},
   "outputs": [
    {
     "data": {
      "text/plain": [
       "[314.7854869365692,\n",
       " 186.89624691009521,\n",
       " 315.1879081726074,\n",
       " 175.38661122322083,\n",
       " 231.95507621765137,\n",
       " 235.58093810081482,\n",
       " 253.15441298484802,\n",
       " 300.8725595474243,\n",
       " 170.78919529914856,\n",
       " 245.47276639938354,\n",
       " 236.1436049938202,\n",
       " 237.65362548828125,\n",
       " 241.30896925926208,\n",
       " 231.780770778656,\n",
       " 242.60855746269226]"
      ]
     },
     "execution_count": 36,
     "metadata": {},
     "output_type": "execute_result"
    }
   ],
   "source": [
    "times_list = [314.7854869365692, 186.89624691009521, 315.1879081726074, 175.38661122322083, 231.95507621765137, 235.58093810081482, 253.15441298484802]\n",
    "times_list.extend(times)\n",
    "times_list"
   ]
  },
  {
   "cell_type": "code",
   "execution_count": 37,
   "metadata": {
    "_uuid": "cfce1fa95369d39f958d269e27b07332b9d36f89",
    "tags": []
   },
   "outputs": [],
   "source": [
    "epochs = range(1,len(next(iter(history.values())))+1)\n",
    "df = pd.DataFrame(history, index=epochs)\n",
    "df['epoch_train_time'] = times_list\n",
    "df.to_csv(ROOT_DIR + 'exp2-loss.csv')"
   ]
  },
  {
   "cell_type": "code",
   "execution_count": 38,
   "metadata": {},
   "outputs": [
    {
     "data": {
      "text/html": [
       "<div>\n",
       "<style scoped>\n",
       "    .dataframe tbody tr th:only-of-type {\n",
       "        vertical-align: middle;\n",
       "    }\n",
       "\n",
       "    .dataframe tbody tr th {\n",
       "        vertical-align: top;\n",
       "    }\n",
       "\n",
       "    .dataframe thead th {\n",
       "        text-align: right;\n",
       "    }\n",
       "</style>\n",
       "<table border=\"1\" class=\"dataframe\">\n",
       "  <thead>\n",
       "    <tr style=\"text-align: right;\">\n",
       "      <th></th>\n",
       "      <th>loss</th>\n",
       "      <th>rpn_class_loss</th>\n",
       "      <th>rpn_bbox_loss</th>\n",
       "      <th>mrcnn_class_loss</th>\n",
       "      <th>mrcnn_bbox_loss</th>\n",
       "      <th>mrcnn_mask_loss</th>\n",
       "      <th>val_loss</th>\n",
       "      <th>val_rpn_class_loss</th>\n",
       "      <th>val_rpn_bbox_loss</th>\n",
       "      <th>val_mrcnn_class_loss</th>\n",
       "      <th>val_mrcnn_bbox_loss</th>\n",
       "      <th>val_mrcnn_mask_loss</th>\n",
       "      <th>epoch_train_time</th>\n",
       "    </tr>\n",
       "  </thead>\n",
       "  <tbody>\n",
       "    <tr>\n",
       "      <th>1</th>\n",
       "      <td>13.814655</td>\n",
       "      <td>0.610061</td>\n",
       "      <td>7.138020</td>\n",
       "      <td>1.055044</td>\n",
       "      <td>5.008331</td>\n",
       "      <td>3.199261e-03</td>\n",
       "      <td>4.130837</td>\n",
       "      <td>0.269453</td>\n",
       "      <td>0.899948</td>\n",
       "      <td>0.872657</td>\n",
       "      <td>2.088779</td>\n",
       "      <td>5.937983e-10</td>\n",
       "      <td>314.785487</td>\n",
       "    </tr>\n",
       "    <tr>\n",
       "      <th>2</th>\n",
       "      <td>4.261819</td>\n",
       "      <td>0.266023</td>\n",
       "      <td>1.036102</td>\n",
       "      <td>1.325819</td>\n",
       "      <td>1.633875</td>\n",
       "      <td>1.853451e-09</td>\n",
       "      <td>1.865437</td>\n",
       "      <td>0.171195</td>\n",
       "      <td>0.556130</td>\n",
       "      <td>0.436930</td>\n",
       "      <td>0.701181</td>\n",
       "      <td>0.000000e+00</td>\n",
       "      <td>186.896247</td>\n",
       "    </tr>\n",
       "    <tr>\n",
       "      <th>3</th>\n",
       "      <td>2.149739</td>\n",
       "      <td>0.119552</td>\n",
       "      <td>0.719585</td>\n",
       "      <td>0.516896</td>\n",
       "      <td>0.771020</td>\n",
       "      <td>2.268684e-02</td>\n",
       "      <td>1.611516</td>\n",
       "      <td>0.107639</td>\n",
       "      <td>0.409350</td>\n",
       "      <td>0.469145</td>\n",
       "      <td>0.623645</td>\n",
       "      <td>1.735539e-03</td>\n",
       "      <td>315.187908</td>\n",
       "    </tr>\n",
       "    <tr>\n",
       "      <th>4</th>\n",
       "      <td>1.587531</td>\n",
       "      <td>0.082751</td>\n",
       "      <td>0.435446</td>\n",
       "      <td>0.458567</td>\n",
       "      <td>0.610013</td>\n",
       "      <td>7.541569e-04</td>\n",
       "      <td>1.529734</td>\n",
       "      <td>0.077343</td>\n",
       "      <td>0.413016</td>\n",
       "      <td>0.437980</td>\n",
       "      <td>0.601166</td>\n",
       "      <td>2.294295e-04</td>\n",
       "      <td>175.386611</td>\n",
       "    </tr>\n",
       "    <tr>\n",
       "      <th>5</th>\n",
       "      <td>1.620968</td>\n",
       "      <td>0.080275</td>\n",
       "      <td>0.468615</td>\n",
       "      <td>0.465222</td>\n",
       "      <td>0.606438</td>\n",
       "      <td>4.190710e-04</td>\n",
       "      <td>1.560913</td>\n",
       "      <td>0.075896</td>\n",
       "      <td>0.416990</td>\n",
       "      <td>0.445176</td>\n",
       "      <td>0.622459</td>\n",
       "      <td>3.928149e-04</td>\n",
       "      <td>231.955076</td>\n",
       "    </tr>\n",
       "  </tbody>\n",
       "</table>\n",
       "</div>"
      ],
      "text/plain": [
       "        loss  rpn_class_loss  rpn_bbox_loss  mrcnn_class_loss  \\\n",
       "1  13.814655        0.610061       7.138020          1.055044   \n",
       "2   4.261819        0.266023       1.036102          1.325819   \n",
       "3   2.149739        0.119552       0.719585          0.516896   \n",
       "4   1.587531        0.082751       0.435446          0.458567   \n",
       "5   1.620968        0.080275       0.468615          0.465222   \n",
       "\n",
       "   mrcnn_bbox_loss  mrcnn_mask_loss  val_loss  val_rpn_class_loss  \\\n",
       "1         5.008331     3.199261e-03  4.130837            0.269453   \n",
       "2         1.633875     1.853451e-09  1.865437            0.171195   \n",
       "3         0.771020     2.268684e-02  1.611516            0.107639   \n",
       "4         0.610013     7.541569e-04  1.529734            0.077343   \n",
       "5         0.606438     4.190710e-04  1.560913            0.075896   \n",
       "\n",
       "   val_rpn_bbox_loss  val_mrcnn_class_loss  val_mrcnn_bbox_loss  \\\n",
       "1           0.899948              0.872657             2.088779   \n",
       "2           0.556130              0.436930             0.701181   \n",
       "3           0.409350              0.469145             0.623645   \n",
       "4           0.413016              0.437980             0.601166   \n",
       "5           0.416990              0.445176             0.622459   \n",
       "\n",
       "   val_mrcnn_mask_loss  epoch_train_time  \n",
       "1         5.937983e-10        314.785487  \n",
       "2         0.000000e+00        186.896247  \n",
       "3         1.735539e-03        315.187908  \n",
       "4         2.294295e-04        175.386611  \n",
       "5         3.928149e-04        231.955076  "
      ]
     },
     "execution_count": 38,
     "metadata": {},
     "output_type": "execute_result"
    }
   ],
   "source": [
    "df.head()"
   ]
  },
  {
   "cell_type": "code",
   "execution_count": 39,
   "metadata": {
    "_uuid": "5edee0adf833e2ff6ff86c6ee65d782a8486d3c9",
    "tags": []
   },
   "outputs": [
    {
     "data": {
      "image/png": "[encoded data removed]",
      "text/plain": [
       "<Figure size 1080x360 with 1 Axes>"
      ]
     },
     "metadata": {
      "needs_background": "light"
     },
     "output_type": "display_data"
    }
   ],
   "source": [
    "plt.figure(figsize=(15,5))\n",
    "plt.subplot(111)\n",
    "plt.plot(epochs, history[\"loss\"], label=\"Train loss\")\n",
    "plt.plot(epochs, history[\"val_loss\"], label=\"Valid loss\")\n",
    "plt.title('Masked RCNN Loss')\n",
    "plt.legend()\n",
    "plt.savefig('exp2-mrccn-loss-plot.png')\n",
    "# plt.show()"
   ]
  },
  {
   "cell_type": "code",
   "execution_count": 40,
   "metadata": {
    "_uuid": "db5c10d3f7da099e5751a04a6e6d49819882ecd4",
    "colab": {
     "base_uri": "https://localhost:8080/",
     "height": 35
    },
    "colab_type": "code",
    "id": "eraRlzgPmmIZ",
    "outputId": "de9e688c-ba4f-4b62-f842-dbcf00ce397c",
    "tags": []
   },
   "outputs": [
    {
     "name": "stdout",
     "output_type": "stream",
     "text": [
      "No weight files in /home/jupyter/pneumonia20221213T0432\n",
      "No weight files in /home/jupyter/pneumonia20221213T0436\n",
      "No weight files in /home/jupyter/pneumonia20221213T0439\n",
      "No weight files in /home/jupyter/pneumonia20221213T0451\n",
      "No weight files in /home/jupyter/pneumonia20221213T0543\n",
      "Found model /home/jupyter/pneumonia20221213T0503/mask_rcnn_pneumonia_0015.h5\n"
     ]
    }
   ],
   "source": [
    "# select trained model \n",
    "dir_names = next(os.walk(model.model_dir))[1]\n",
    "key = config.NAME.lower()\n",
    "dir_names = filter(lambda f: f.startswith(key), dir_names)\n",
    "dir_names = sorted(dir_names)\n",
    "\n",
    "if not dir_names:\n",
    "    import errno\n",
    "    raise FileNotFoundError(\n",
    "        errno.ENOENT,\n",
    "        \"Could not find model directory under {}\".format(self.model_dir))\n",
    "    \n",
    "fps = []\n",
    "# Pick last directory\n",
    "for d in dir_names: \n",
    "    dir_name = os.path.join(model.model_dir, d)\n",
    "    # Find the last checkpoint\n",
    "    checkpoints = next(os.walk(dir_name))[2]\n",
    "    checkpoints = filter(lambda f: f.startswith(\"mask_rcnn\"), checkpoints)\n",
    "    checkpoints = sorted(checkpoints)\n",
    "    if not checkpoints:\n",
    "        print('No weight files in {}'.format(dir_name))\n",
    "    else:\n",
    "        checkpoint = os.path.join(dir_name, checkpoints[-1])\n",
    "        fps.append(checkpoint)\n",
    "\n",
    "model_path = sorted(fps)[-1]\n",
    "print('Found model {}'.format(model_path))"
   ]
  },
  {
   "cell_type": "code",
   "execution_count": 41,
   "metadata": {
    "_uuid": "52138636b2ae5bf444bba808518cd8313bde65cd",
    "colab": {
     "base_uri": "https://localhost:8080/",
     "height": 53
    },
    "colab_type": "code",
    "id": "TgpT9AzC2Bgz",
    "outputId": "60f5a175-4666-497d-b4e8-0bdab39a92d0",
    "tags": []
   },
   "outputs": [
    {
     "name": "stdout",
     "output_type": "stream",
     "text": [
      "Loading weights from  /home/jupyter/pneumonia20221213T0503/mask_rcnn_pneumonia_0015.h5\n",
      "Re-starting from epoch 15\n"
     ]
    }
   ],
   "source": [
    "class InferenceConfig(DetectorConfig):\n",
    "    GPU_COUNT = 1\n",
    "    IMAGES_PER_GPU = 1\n",
    "\n",
    "inference_config = InferenceConfig()\n",
    "\n",
    "# Recreate the model in inference mode\n",
    "model = modellib.MaskRCNN(mode='inference', \n",
    "                          config=inference_config,\n",
    "                          model_dir=ROOT_DIR)\n",
    "\n",
    "# Load trained weights (fill in path to trained weights here)\n",
    "assert model_path != \"\", \"Provide path to trained weights\"\n",
    "print(\"Loading weights from \", model_path)\n",
    "model.load_weights(model_path, by_name=True)"
   ]
  },
  {
   "cell_type": "markdown",
   "metadata": {
    "_uuid": "164e18701a830bc6c42a791feea13549de37289b",
    "colab_type": "text",
    "id": "WcV1cL_aiSc4"
   },
   "source": [
    "### Final steps - Create the submission file"
   ]
  },
  {
   "cell_type": "code",
   "execution_count": 42,
   "metadata": {
    "_uuid": "fd9f53fa319a425693e07fe4898ddeeaa5d07f99",
    "colab": {},
    "colab_type": "code",
    "id": "qRWBVJKYNdWM",
    "tags": []
   },
   "outputs": [],
   "source": [
    "# Get filenames of test dataset DICOM images\n",
    "test_image_fps = get_dicom_fps(test_dicom_dir)"
   ]
  },
  {
   "cell_type": "code",
   "execution_count": 43,
   "metadata": {
    "_uuid": "4a5c0c6134408ddbf5a34496d7e9d7be5692e9a1",
    "colab": {},
    "colab_type": "code",
    "id": "C6UWVrbM2Bob",
    "tags": []
   },
   "outputs": [],
   "source": [
    "# Make predictions on test images, write out sample submission\n",
    "def predict(image_fps, filepath='submission.csv', min_conf=0.95):\n",
    "    # assume square image\n",
    "    resize_factor = ORIG_SIZE / config.IMAGE_SHAPE[0]\n",
    "    #resize_factor = ORIG_SIZE\n",
    "    with open(filepath, 'w') as file:\n",
    "        file.write(\"patientId,PredictionString\\n\")\n",
    "\n",
    "        for image_id in tqdm(image_fps):\n",
    "            ds = pydicom.read_file(image_id)\n",
    "            image = ds.pixel_array\n",
    "            # If grayscale. Convert to RGB for consistency.\n",
    "            if len(image.shape) != 3 or image.shape[2] != 3:\n",
    "                image = np.stack((image,) * 3, -1)\n",
    "            image, window, scale, padding, crop = utils.resize_image(\n",
    "                image,\n",
    "                min_dim=config.IMAGE_MIN_DIM,\n",
    "                min_scale=config.IMAGE_MIN_SCALE,\n",
    "                max_dim=config.IMAGE_MAX_DIM,\n",
    "                mode=config.IMAGE_RESIZE_MODE)\n",
    "\n",
    "            patient_id = os.path.splitext(os.path.basename(image_id))[0]\n",
    "\n",
    "            results = model.detect([image])\n",
    "            r = results[0]\n",
    "\n",
    "            out_str = \"\"\n",
    "            out_str += patient_id\n",
    "            out_str += \",\"\n",
    "            assert( len(r['rois']) == len(r['class_ids']) == len(r['scores']) )\n",
    "            if len(r['rois']) == 0:\n",
    "                pass\n",
    "            else:\n",
    "                num_instances = len(r['rois'])\n",
    "\n",
    "                for i in range(num_instances):\n",
    "                    if r['scores'][i] > min_conf:\n",
    "                        out_str += ' '\n",
    "                        out_str += str(round(r['scores'][i], 2))\n",
    "                        out_str += ' '\n",
    "\n",
    "                        # x1, y1, width, height\n",
    "                        x1 = r['rois'][i][1]\n",
    "                        y1 = r['rois'][i][0]\n",
    "                        width = r['rois'][i][3] - x1\n",
    "                        height = r['rois'][i][2] - y1\n",
    "                        bboxes_str = \"{} {} {} {}\".format(x1*resize_factor, y1*resize_factor, \\\n",
    "                                                           width*resize_factor, height*resize_factor)\n",
    "                        out_str += bboxes_str\n",
    "\n",
    "            file.write(out_str+\"\\n\")"
   ]
  },
  {
   "cell_type": "code",
   "execution_count": 44,
   "metadata": {},
   "outputs": [
    {
     "name": "stderr",
     "output_type": "stream",
     "text": [
      "  0% 0/3000 [00:00<?, ?it/s]2022-12-13 08:32:14.871731: W tensorflow/core/grappler/costs/op_level_cost_estimator.cc:690] Error in PredictCost() for the op: op: \"CropAndResize\" attr { key: \"T\" value { type: DT_FLOAT } } attr { key: \"extrapolation_value\" value { f: 0 } } attr { key: \"method\" value { s: \"bilinear\" } } inputs { dtype: DT_FLOAT shape { dim { size: -50 } dim { size: -208 } dim { size: -209 } dim { size: 256 } } } inputs { dtype: DT_FLOAT shape { dim { size: -19 } dim { size: 4 } } } inputs { dtype: DT_INT32 shape { dim { size: -19 } } } inputs { dtype: DT_INT32 shape { dim { size: 2 } } value { dtype: DT_INT32 tensor_shape { dim { size: 2 } } tensor_content: \"\\007\\000\\000\\000\\007\\000\\000\\000\" } } device { type: \"GPU\" vendor: \"NVIDIA\" model: \"Tesla V100-SXM2-16GB\" frequency: 1530 num_cores: 80 environment { key: \"architecture\" value: \"7.0\" } environment { key: \"cuda\" value: \"11000\" } environment { key: \"cudnn\" value: \"8005\" } num_registers: 65536 l1_cache_size: 24576 l2_cache_size: 6291456 shared_memory_size_per_multiprocessor: 98304 memory_size: 15345844224 bandwidth: 898048000 } outputs { dtype: DT_FLOAT shape { dim { size: -19 } dim { size: 7 } dim { size: 7 } dim { size: 256 } } }\n",
      "2022-12-13 08:32:14.871910: W tensorflow/core/grappler/costs/op_level_cost_estimator.cc:690] Error in PredictCost() for the op: op: \"CropAndResize\" attr { key: \"T\" value { type: DT_FLOAT } } attr { key: \"extrapolation_value\" value { f: 0 } } attr { key: \"method\" value { s: \"bilinear\" } } inputs { dtype: DT_FLOAT shape { dim { size: -50 } dim { size: -198 } dim { size: -199 } dim { size: 256 } } } inputs { dtype: DT_FLOAT shape { dim { size: -22 } dim { size: 4 } } } inputs { dtype: DT_INT32 shape { dim { size: -22 } } } inputs { dtype: DT_INT32 shape { dim { size: 2 } } value { dtype: DT_INT32 tensor_shape { dim { size: 2 } } tensor_content: \"\\007\\000\\000\\000\\007\\000\\000\\000\" } } device { type: \"GPU\" vendor: \"NVIDIA\" model: \"Tesla V100-SXM2-16GB\" frequency: 1530 num_cores: 80 environment { key: \"architecture\" value: \"7.0\" } environment { key: \"cuda\" value: \"11000\" } environment { key: \"cudnn\" value: \"8005\" } num_registers: 65536 l1_cache_size: 24576 l2_cache_size: 6291456 shared_memory_size_per_multiprocessor: 98304 memory_size: 15345844224 bandwidth: 898048000 } outputs { dtype: DT_FLOAT shape { dim { size: -22 } dim { size: 7 } dim { size: 7 } dim { size: 256 } } }\n",
      "2022-12-13 08:32:14.872003: W tensorflow/core/grappler/costs/op_level_cost_estimator.cc:690] Error in PredictCost() for the op: op: \"CropAndResize\" attr { key: \"T\" value { type: DT_FLOAT } } attr { key: \"extrapolation_value\" value { f: 0 } } attr { key: \"method\" value { s: \"bilinear\" } } inputs { dtype: DT_FLOAT shape { dim { size: -50 } dim { size: -186 } dim { size: -187 } dim { size: 256 } } } inputs { dtype: DT_FLOAT shape { dim { size: -24 } dim { size: 4 } } } inputs { dtype: DT_INT32 shape { dim { size: -24 } } } inputs { dtype: DT_INT32 shape { dim { size: 2 } } value { dtype: DT_INT32 tensor_shape { dim { size: 2 } } tensor_content: \"\\007\\000\\000\\000\\007\\000\\000\\000\" } } device { type: \"GPU\" vendor: \"NVIDIA\" model: \"Tesla V100-SXM2-16GB\" frequency: 1530 num_cores: 80 environment { key: \"architecture\" value: \"7.0\" } environment { key: \"cuda\" value: \"11000\" } environment { key: \"cudnn\" value: \"8005\" } num_registers: 65536 l1_cache_size: 24576 l2_cache_size: 6291456 shared_memory_size_per_multiprocessor: 98304 memory_size: 15345844224 bandwidth: 898048000 } outputs { dtype: DT_FLOAT shape { dim { size: -24 } dim { size: 7 } dim { size: 7 } dim { size: 256 } } }\n",
      "2022-12-13 08:32:14.872170: W tensorflow/core/grappler/costs/op_level_cost_estimator.cc:690] Error in PredictCost() for the op: op: \"CropAndResize\" attr { key: \"T\" value { type: DT_FLOAT } } attr { key: \"extrapolation_value\" value { f: 0 } } attr { key: \"method\" value { s: \"bilinear\" } } inputs { dtype: DT_FLOAT shape { dim { size: -50 } dim { size: -172 } dim { size: -173 } dim { size: 256 } } } inputs { dtype: DT_FLOAT shape { dim { size: -26 } dim { size: 4 } } } inputs { dtype: DT_INT32 shape { dim { size: -26 } } } inputs { dtype: DT_INT32 shape { dim { size: 2 } } value { dtype: DT_INT32 tensor_shape { dim { size: 2 } } tensor_content: \"\\007\\000\\000\\000\\007\\000\\000\\000\" } } device { type: \"GPU\" vendor: \"NVIDIA\" model: \"Tesla V100-SXM2-16GB\" frequency: 1530 num_cores: 80 environment { key: \"architecture\" value: \"7.0\" } environment { key: \"cuda\" value: \"11000\" } environment { key: \"cudnn\" value: \"8005\" } num_registers: 65536 l1_cache_size: 24576 l2_cache_size: 6291456 shared_memory_size_per_multiprocessor: 98304 memory_size: 15345844224 bandwidth: 898048000 } outputs { dtype: DT_FLOAT shape { dim { size: -26 } dim { size: 7 } dim { size: 7 } dim { size: 256 } } }\n",
      "2022-12-13 08:32:14.878607: W tensorflow/core/grappler/costs/op_level_cost_estimator.cc:690] Error in PredictCost() for the op: op: \"CropAndResize\" attr { key: \"T\" value { type: DT_FLOAT } } attr { key: \"extrapolation_value\" value { f: 0 } } attr { key: \"method\" value { s: \"bilinear\" } } inputs { dtype: DT_FLOAT shape { dim { size: -50 } dim { size: -208 } dim { size: -209 } dim { size: 256 } } } inputs { dtype: DT_FLOAT shape { dim { size: -34 } dim { size: 4 } } } inputs { dtype: DT_INT32 shape { dim { size: -34 } } } inputs { dtype: DT_INT32 shape { dim { size: 2 } } value { dtype: DT_INT32 tensor_shape { dim { size: 2 } } tensor_content: \"\\016\\000\\000\\000\\016\\000\\000\\000\" } } device { type: \"GPU\" vendor: \"NVIDIA\" model: \"Tesla V100-SXM2-16GB\" frequency: 1530 num_cores: 80 environment { key: \"architecture\" value: \"7.0\" } environment { key: \"cuda\" value: \"11000\" } environment { key: \"cudnn\" value: \"8005\" } num_registers: 65536 l1_cache_size: 24576 l2_cache_size: 6291456 shared_memory_size_per_multiprocessor: 98304 memory_size: 15345844224 bandwidth: 898048000 } outputs { dtype: DT_FLOAT shape { dim { size: -34 } dim { size: 14 } dim { size: 14 } dim { size: 256 } } }\n",
      "2022-12-13 08:32:14.878761: W tensorflow/core/grappler/costs/op_level_cost_estimator.cc:690] Error in PredictCost() for the op: op: \"CropAndResize\" attr { key: \"T\" value { type: DT_FLOAT } } attr { key: \"extrapolation_value\" value { f: 0 } } attr { key: \"method\" value { s: \"bilinear\" } } inputs { dtype: DT_FLOAT shape { dim { size: -50 } dim { size: -198 } dim { size: -199 } dim { size: 256 } } } inputs { dtype: DT_FLOAT shape { dim { size: -36 } dim { size: 4 } } } inputs { dtype: DT_INT32 shape { dim { size: -36 } } } inputs { dtype: DT_INT32 shape { dim { size: 2 } } value { dtype: DT_INT32 tensor_shape { dim { size: 2 } } tensor_content: \"\\016\\000\\000\\000\\016\\000\\000\\000\" } } device { type: \"GPU\" vendor: \"NVIDIA\" model: \"Tesla V100-SXM2-16GB\" frequency: 1530 num_cores: 80 environment { key: \"architecture\" value: \"7.0\" } environment { key: \"cuda\" value: \"11000\" } environment { key: \"cudnn\" value: \"8005\" } num_registers: 65536 l1_cache_size: 24576 l2_cache_size: 6291456 shared_memory_size_per_multiprocessor: 98304 memory_size: 15345844224 bandwidth: 898048000 } outputs { dtype: DT_FLOAT shape { dim { size: -36 } dim { size: 14 } dim { size: 14 } dim { size: 256 } } }\n",
      "2022-12-13 08:32:14.878916: W tensorflow/core/grappler/costs/op_level_cost_estimator.cc:690] Error in PredictCost() for the op: op: \"CropAndResize\" attr { key: \"T\" value { type: DT_FLOAT } } attr { key: \"extrapolation_value\" value { f: 0 } } attr { key: \"method\" value { s: \"bilinear\" } } inputs { dtype: DT_FLOAT shape { dim { size: -50 } dim { size: -186 } dim { size: -187 } dim { size: 256 } } } inputs { dtype: DT_FLOAT shape { dim { size: -38 } dim { size: 4 } } } inputs { dtype: DT_INT32 shape { dim { size: -38 } } } inputs { dtype: DT_INT32 shape { dim { size: 2 } } value { dtype: DT_INT32 tensor_shape { dim { size: 2 } } tensor_content: \"\\016\\000\\000\\000\\016\\000\\000\\000\" } } device { type: \"GPU\" vendor: \"NVIDIA\" model: \"Tesla V100-SXM2-16GB\" frequency: 1530 num_cores: 80 environment { key: \"architecture\" value: \"7.0\" } environment { key: \"cuda\" value: \"11000\" } environment { key: \"cudnn\" value: \"8005\" } num_registers: 65536 l1_cache_size: 24576 l2_cache_size: 6291456 shared_memory_size_per_multiprocessor: 98304 memory_size: 15345844224 bandwidth: 898048000 } outputs { dtype: DT_FLOAT shape { dim { size: -38 } dim { size: 14 } dim { size: 14 } dim { size: 256 } } }\n",
      "2022-12-13 08:32:14.879146: W tensorflow/core/grappler/costs/op_level_cost_estimator.cc:690] Error in PredictCost() for the op: op: \"CropAndResize\" attr { key: \"T\" value { type: DT_FLOAT } } attr { key: \"extrapolation_value\" value { f: 0 } } attr { key: \"method\" value { s: \"bilinear\" } } inputs { dtype: DT_FLOAT shape { dim { size: -50 } dim { size: -172 } dim { size: -173 } dim { size: 256 } } } inputs { dtype: DT_FLOAT shape { dim { size: -40 } dim { size: 4 } } } inputs { dtype: DT_INT32 shape { dim { size: -40 } } } inputs { dtype: DT_INT32 shape { dim { size: 2 } } value { dtype: DT_INT32 tensor_shape { dim { size: 2 } } tensor_content: \"\\016\\000\\000\\000\\016\\000\\000\\000\" } } device { type: \"GPU\" vendor: \"NVIDIA\" model: \"Tesla V100-SXM2-16GB\" frequency: 1530 num_cores: 80 environment { key: \"architecture\" value: \"7.0\" } environment { key: \"cuda\" value: \"11000\" } environment { key: \"cudnn\" value: \"8005\" } num_registers: 65536 l1_cache_size: 24576 l2_cache_size: 6291456 shared_memory_size_per_multiprocessor: 98304 memory_size: 15345844224 bandwidth: 898048000 } outputs { dtype: DT_FLOAT shape { dim { size: -40 } dim { size: 14 } dim { size: 14 } dim { size: 256 } } }\n",
      "100% 3000/3000 [05:48<00:00,  8.62it/s]"
     ]
    },
    {
     "name": "stdout",
     "output_type": "stream",
     "text": [
      "/home/jupyter/submission-0.95.csv\n"
     ]
    },
    {
     "name": "stderr",
     "output_type": "stream",
     "text": [
      "\n"
     ]
    }
   ],
   "source": [
    "submission_fp = os.path.join(ROOT_DIR, 'submission-0.95.csv')\n",
    "predict(test_image_fps, filepath=submission_fp, min_conf=0.95)\n",
    "print(submission_fp)"
   ]
  },
  {
   "cell_type": "code",
   "execution_count": null,
   "metadata": {},
   "outputs": [],
   "source": []
  },
  {
   "cell_type": "code",
   "execution_count": null,
   "metadata": {},
   "outputs": [],
   "source": []
  },
  {
   "cell_type": "code",
   "execution_count": null,
   "metadata": {},
   "outputs": [],
   "source": []
  }
 ],
 "metadata": {
  "accelerator": "GPU",
  "colab": {
   "collapsed_sections": [],
   "name": "lesson-3-rsna-pneumonia-detection-challenge-kaggle",
   "provenance": [],
   "version": "0.3.2"
  },
  "kernelspec": {
   "display_name": "Python 3 (ipykernel) (Local)",
   "language": "python",
   "name": "local-python3"
  },
  "language_info": {
   "codemirror_mode": {
    "name": "ipython",
    "version": 3
   },
   "file_extension": ".py",
   "mimetype": "text/x-python",
   "name": "python",
   "nbconvert_exporter": "python",
   "pygments_lexer": "ipython3",
   "version": "3.7.12"
  }
 },
 "nbformat": 4,
 "nbformat_minor": 4
}
