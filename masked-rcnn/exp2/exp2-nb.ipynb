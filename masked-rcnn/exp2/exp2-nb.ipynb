{
 "cells": [
  {
   "cell_type": "markdown",
   "metadata": {
    "_uuid": "7c1fce19a11f95416168ced03c2c70fa818b21a5",
    "colab_type": "text",
    "id": "KBeAf8WgaeSk"
   },
   "source": [
    "Right now, this is substantively identical to version 8 of Henrique Mendoça's RCNN model with Coco transfer learning (see fork link at the top).  The first version, which is an exact copy, got a LB score of 0.162.  I've edited the documentaiton and added the plot code here from his later version.   This version probably does not get such a high score, just because there is a lot of randomness between one run and another.\n",
    "\n",
    "**Mask-RCNN Starter Model for the RSNA Pneumonia Detection Challenge with transfer learning **\n",
    "\n",
    "Using pre-trained COCO weights trained on http://cocodataset.org as in https://github.com/matterport/Mask_RCNN/tree/master/samples/balloon\n",
    "We get the best public kernel performance so far, and also training only within the 6hrs kaggle limit."
   ]
  },
  {
   "cell_type": "code",
   "execution_count": 1,
   "metadata": {
    "_uuid": "40c67b3ff0fa04587dec508363308adaa3ceaf34",
    "colab": {},
    "colab_type": "code",
    "execution": {
     "iopub.execute_input": "2022-12-10T19:33:17.222571Z",
     "iopub.status.busy": "2022-12-10T19:33:17.222243Z",
     "iopub.status.idle": "2022-12-10T19:33:17.227517Z",
     "shell.execute_reply": "2022-12-10T19:33:17.226480Z",
     "shell.execute_reply.started": "2022-12-10T19:33:17.222516Z"
    },
    "id": "4kjcC6QqywWl"
   },
   "outputs": [],
   "source": [
    "import os \n",
    "import sys\n",
    "import random\n",
    "import math\n",
    "import numpy as np\n",
    "import cv2\n",
    "import matplotlib.pyplot as plt\n",
    "import json\n",
    "import pydicom\n",
    "from imgaug import augmenters as iaa\n",
    "from tqdm import tqdm\n",
    "import pandas as pd \n",
    "import glob "
   ]
  },
  {
   "cell_type": "code",
   "execution_count": 2,
   "metadata": {
    "_uuid": "6e5764759e6a0a9b698b44645658f66873edd807",
    "colab": {},
    "colab_type": "code",
    "execution": {
     "iopub.execute_input": "2022-12-10T19:33:17.229309Z",
     "iopub.status.busy": "2022-12-10T19:33:17.228970Z",
     "iopub.status.idle": "2022-12-10T19:33:17.237882Z",
     "shell.execute_reply": "2022-12-10T19:33:17.236833Z",
     "shell.execute_reply.started": "2022-12-10T19:33:17.229202Z"
    },
    "id": "yP0XLJx_x_6o"
   },
   "outputs": [],
   "source": [
    "DATA_DIR = '/home/jyothsnakodandera/FinalProject_PDLS/data/rsna-pneumonia-data'\n",
    "ROOT_DIR = './'"
   ]
  },
  {
   "cell_type": "markdown",
   "metadata": {
    "_uuid": "576df4c47a23d08b1bdb384245e09aa69f88bbd3",
    "colab_type": "text",
    "id": "kdYzLq1zfKL4"
   },
   "source": [
    "### Install Matterport's Mask-RCNN model from github.\n",
    "See the [Matterport's implementation of Mask-RCNN](https://github.com/matterport/Mask_RCNN)."
   ]
  },
  {
   "cell_type": "code",
   "execution_count": 3,
   "metadata": {
    "_uuid": "b37d22551d332f0f7b722cc7204eb614524b6c21",
    "colab": {
     "base_uri": "https://localhost:8080/",
     "height": 143
    },
    "colab_type": "code",
    "execution": {
     "iopub.execute_input": "2022-12-10T19:33:17.241124Z",
     "iopub.status.busy": "2022-12-10T19:33:17.240555Z",
     "iopub.status.idle": "2022-12-10T19:33:24.966406Z",
     "shell.execute_reply": "2022-12-10T19:33:24.965507Z",
     "shell.execute_reply.started": "2022-12-10T19:33:17.240769Z"
    },
    "id": "KgllzLnDr7kF",
    "outputId": "6c978df7-2013-437e-acd1-5011048dfb53"
   },
   "outputs": [],
   "source": [
    "# !git clone https://www.github.com/matterport/Mask_RCNN.git\n",
    "# os.chdir('Mask_RCNN')\n",
    "#!python setup.py -q install"
   ]
  },
  {
   "cell_type": "code",
   "execution_count": 3,
   "metadata": {
    "_uuid": "3acbbbe055b6a409d3c50ae0f893acf51b5ae7ba",
    "colab": {
     "base_uri": "https://localhost:8080/",
     "height": 35
    },
    "colab_type": "code",
    "execution": {
     "iopub.execute_input": "2022-12-10T19:33:24.970080Z",
     "iopub.status.busy": "2022-12-10T19:33:24.969819Z",
     "iopub.status.idle": "2022-12-10T19:33:24.975339Z",
     "shell.execute_reply": "2022-12-10T19:33:24.974397Z",
     "shell.execute_reply.started": "2022-12-10T19:33:24.970014Z"
    },
    "id": "-KZXyWwhzOVU",
    "outputId": "2576cc17-7484-4311-ad72-3c5643dcb5bb"
   },
   "outputs": [
    {
     "name": "stderr",
     "output_type": "stream",
     "text": [
      "/opt/conda/envs/pytorch-build/lib/python3.7/site-packages/tensorflow/python/framework/dtypes.py:526: FutureWarning: Passing (type, 1) or '1type' as a synonym of type is deprecated; in a future version of numpy, it will be understood as (type, (1,)) / '(1,)type'.\n",
      "  _np_qint8 = np.dtype([(\"qint8\", np.int8, 1)])\n",
      "/opt/conda/envs/pytorch-build/lib/python3.7/site-packages/tensorflow/python/framework/dtypes.py:527: FutureWarning: Passing (type, 1) or '1type' as a synonym of type is deprecated; in a future version of numpy, it will be understood as (type, (1,)) / '(1,)type'.\n",
      "  _np_quint8 = np.dtype([(\"quint8\", np.uint8, 1)])\n",
      "/opt/conda/envs/pytorch-build/lib/python3.7/site-packages/tensorflow/python/framework/dtypes.py:528: FutureWarning: Passing (type, 1) or '1type' as a synonym of type is deprecated; in a future version of numpy, it will be understood as (type, (1,)) / '(1,)type'.\n",
      "  _np_qint16 = np.dtype([(\"qint16\", np.int16, 1)])\n",
      "/opt/conda/envs/pytorch-build/lib/python3.7/site-packages/tensorflow/python/framework/dtypes.py:529: FutureWarning: Passing (type, 1) or '1type' as a synonym of type is deprecated; in a future version of numpy, it will be understood as (type, (1,)) / '(1,)type'.\n",
      "  _np_quint16 = np.dtype([(\"quint16\", np.uint16, 1)])\n",
      "/opt/conda/envs/pytorch-build/lib/python3.7/site-packages/tensorflow/python/framework/dtypes.py:530: FutureWarning: Passing (type, 1) or '1type' as a synonym of type is deprecated; in a future version of numpy, it will be understood as (type, (1,)) / '(1,)type'.\n",
      "  _np_qint32 = np.dtype([(\"qint32\", np.int32, 1)])\n",
      "/opt/conda/envs/pytorch-build/lib/python3.7/site-packages/tensorflow/python/framework/dtypes.py:535: FutureWarning: Passing (type, 1) or '1type' as a synonym of type is deprecated; in a future version of numpy, it will be understood as (type, (1,)) / '(1,)type'.\n",
      "  np_resource = np.dtype([(\"resource\", np.ubyte, 1)])\n",
      "Using TensorFlow backend.\n"
     ]
    }
   ],
   "source": [
    "# Import Mask RCNN\n",
    "sys.path.append(os.path.join(ROOT_DIR, 'Mask_RCNN'))  # To find local version of the library\n",
    "from mrcnn.config import Config\n",
    "from mrcnn import utils\n",
    "import mrcnn.model as modellib\n",
    "from mrcnn import visualize\n",
    "from mrcnn.model import log"
   ]
  },
  {
   "cell_type": "code",
   "execution_count": 4,
   "metadata": {
    "_uuid": "50089cc61791871cdf6a5c0037dc4f28b7b7d7cc",
    "colab": {},
    "colab_type": "code",
    "execution": {
     "iopub.execute_input": "2022-12-10T19:33:24.976832Z",
     "iopub.status.busy": "2022-12-10T19:33:24.976564Z",
     "iopub.status.idle": "2022-12-10T19:33:24.986825Z",
     "shell.execute_reply": "2022-12-10T19:33:24.985915Z",
     "shell.execute_reply.started": "2022-12-10T19:33:24.976780Z"
    },
    "id": "FghMmiMjzOX2"
   },
   "outputs": [],
   "source": [
    "train_dicom_dir = os.path.join(DATA_DIR, 'stage_2_train_images')\n",
    "test_dicom_dir = os.path.join(DATA_DIR, 'stage_2_test_images')"
   ]
  },
  {
   "cell_type": "code",
   "execution_count": 6,
   "metadata": {
    "_uuid": "c3ee0cd0ee0b1defdec97b94bc736587c1f7631f",
    "execution": {
     "iopub.execute_input": "2022-12-10T19:33:24.990113Z",
     "iopub.status.busy": "2022-12-10T19:33:24.989846Z",
     "iopub.status.idle": "2022-12-10T19:33:28.562877Z",
     "shell.execute_reply": "2022-12-10T19:33:28.561925Z",
     "shell.execute_reply.started": "2022-12-10T19:33:24.990064Z"
    }
   },
   "outputs": [
    {
     "name": "stdout",
     "output_type": "stream",
     "text": [
      "-rw-r--r-- 1 jyothsnakodandera jyothsnakodandera 246M Dec  6  2021 mask_rcnn_coco.h5\r\n"
     ]
    }
   ],
   "source": [
    "### Download COCO pre-trained weights\n",
    "# !wget --quiet https://github.com/matterport/Mask_RCNN/releases/download/v2.0/mask_rcnn_coco.h5\n",
    "# !ls -lh mask_rcnn_coco.h5\n",
    "\n",
    "COCO_WEIGHTS_PATH = \"mask_rcnn_coco.h5\""
   ]
  },
  {
   "cell_type": "markdown",
   "metadata": {
    "_uuid": "032cc5fe4baa051108106675e6ca4f4fdb2846ed",
    "colab_type": "text",
    "id": "gj-tvDvEaDiC"
   },
   "source": [
    "### Some setup functions and classes for Mask-RCNN\n",
    "\n",
    "- dicom_fps is a list of the dicom image path and filenames \n",
    "- image_annotions is a dictionary of the annotations keyed by the filenames\n",
    "- parsing the dataset returns a list of the image filenames and the annotations dictionary"
   ]
  },
  {
   "cell_type": "code",
   "execution_count": 7,
   "metadata": {
    "_uuid": "778cb19865d7cc63440491aef9202b71c61e8bb2",
    "colab": {},
    "colab_type": "code",
    "execution": {
     "iopub.execute_input": "2022-12-10T19:33:28.564715Z",
     "iopub.status.busy": "2022-12-10T19:33:28.564423Z",
     "iopub.status.idle": "2022-12-10T19:33:28.572404Z",
     "shell.execute_reply": "2022-12-10T19:33:28.569866Z",
     "shell.execute_reply.started": "2022-12-10T19:33:28.564664Z"
    },
    "id": "ivqC4cnszOaM"
   },
   "outputs": [],
   "source": [
    "def get_dicom_fps(dicom_dir):\n",
    "    dicom_fps = glob.glob(dicom_dir+'/'+'*.dcm')\n",
    "    return list(set(dicom_fps))\n",
    "\n",
    "def parse_dataset(dicom_dir, anns): \n",
    "    image_fps = get_dicom_fps(dicom_dir)\n",
    "    image_annotations = {fp: [] for fp in image_fps}\n",
    "    for index, row in anns.iterrows(): \n",
    "        fp = os.path.join(dicom_dir, row['patientId']+'.dcm')\n",
    "        image_annotations[fp].append(row)\n",
    "    return image_fps, image_annotations "
   ]
  },
  {
   "cell_type": "code",
   "execution_count": 8,
   "metadata": {
    "_uuid": "dfcffc4eaa94a41497717851dee9f702d8a2a73b",
    "colab": {
     "base_uri": "https://localhost:8080/",
     "height": 917
    },
    "colab_type": "code",
    "execution": {
     "iopub.execute_input": "2022-12-10T19:33:28.573924Z",
     "iopub.status.busy": "2022-12-10T19:33:28.573629Z",
     "iopub.status.idle": "2022-12-10T19:33:28.587328Z",
     "shell.execute_reply": "2022-12-10T19:33:28.586035Z",
     "shell.execute_reply.started": "2022-12-10T19:33:28.573862Z"
    },
    "id": "_SfzTa-1zOck",
    "outputId": "91ae8935-bccb-4b8e-9a7e-aa690f95fd9b"
   },
   "outputs": [
    {
     "name": "stdout",
     "output_type": "stream",
     "text": [
      "\n",
      "Configurations:\n",
      "BACKBONE                       resnet50\n",
      "BACKBONE_STRIDES               [4, 8, 16, 32, 64]\n",
      "BATCH_SIZE                     8\n",
      "BBOX_STD_DEV                   [0.1 0.1 0.2 0.2]\n",
      "COMPUTE_BACKBONE_SHAPE         None\n",
      "DETECTION_MAX_INSTANCES        3\n",
      "DETECTION_MIN_CONFIDENCE       0.7\n",
      "DETECTION_NMS_THRESHOLD        0.1\n",
      "FPN_CLASSIF_FC_LAYERS_SIZE     1024\n",
      "GPU_COUNT                      1\n",
      "GRADIENT_CLIP_NORM             5.0\n",
      "IMAGES_PER_GPU                 8\n",
      "IMAGE_CHANNEL_COUNT            3\n",
      "IMAGE_MAX_DIM                  256\n",
      "IMAGE_META_SIZE                14\n",
      "IMAGE_MIN_DIM                  256\n",
      "IMAGE_MIN_SCALE                0\n",
      "IMAGE_RESIZE_MODE              square\n",
      "IMAGE_SHAPE                    [256 256   3]\n",
      "LEARNING_MOMENTUM              0.9\n",
      "LEARNING_RATE                  0.001\n",
      "LOSS_WEIGHTS                   {'rpn_class_loss': 1.0, 'rpn_bbox_loss': 1.0, 'mrcnn_class_loss': 1.0, 'mrcnn_bbox_loss': 1.0, 'mrcnn_mask_loss': 1.0}\n",
      "MASK_POOL_SIZE                 14\n",
      "MASK_SHAPE                     [28, 28]\n",
      "MAX_GT_INSTANCES               3\n",
      "MEAN_PIXEL                     [123.7 116.8 103.9]\n",
      "MINI_MASK_SHAPE                (56, 56)\n",
      "NAME                           pneumonia\n",
      "NUM_CLASSES                    2\n",
      "POOL_SIZE                      7\n",
      "POST_NMS_ROIS_INFERENCE        1000\n",
      "POST_NMS_ROIS_TRAINING         2000\n",
      "PRE_NMS_LIMIT                  6000\n",
      "ROI_POSITIVE_RATIO             0.33\n",
      "RPN_ANCHOR_RATIOS              [0.5, 1, 2]\n",
      "RPN_ANCHOR_SCALES              (32, 64, 128, 256, 1)\n",
      "RPN_ANCHOR_STRIDE              1\n",
      "RPN_BBOX_STD_DEV               [0.1 0.1 0.2 0.2]\n",
      "RPN_NMS_THRESHOLD              0.7\n",
      "RPN_TRAIN_ANCHORS_PER_IMAGE    256\n",
      "STEPS_PER_EPOCH                200\n",
      "TOP_DOWN_PYRAMID_SIZE          256\n",
      "TRAIN_BN                       False\n",
      "TRAIN_ROIS_PER_IMAGE           32\n",
      "USE_MINI_MASK                  True\n",
      "USE_RPN_ROIS                   True\n",
      "VALIDATION_STEPS               50\n",
      "WEIGHT_DECAY                   0.0001\n",
      "\n",
      "\n"
     ]
    }
   ],
   "source": [
    "# The following parameters have been selected to reduce running time for demonstration purposes \n",
    "# These are not optimal \n",
    "\n",
    "class DetectorConfig(Config):\n",
    "    \"\"\"Configuration for training pneumonia detection on the RSNA pneumonia dataset.\n",
    "    Overrides values in the base Config class.\n",
    "    \"\"\"\n",
    "    \n",
    "    # Give the configuration a recognizable name  \n",
    "    NAME = 'pneumonia'\n",
    "    \n",
    "    # Train on 1 GPU and 8 images per GPU. We can put multiple images on each\n",
    "    # GPU because the images are small. Batch size is 8 (GPUs * images/GPU).\n",
    "    GPU_COUNT = 1\n",
    "    IMAGES_PER_GPU = 8\n",
    "    \n",
    "    BACKBONE = 'resnet50'\n",
    "    \n",
    "    NUM_CLASSES = 2  # background + 1 pneumonia classes\n",
    "    \n",
    "    IMAGE_MIN_DIM = 256\n",
    "    IMAGE_MAX_DIM = 256\n",
    "    RPN_ANCHOR_SCALES = (32, 64, 128, 256, 1)\n",
    "    TRAIN_ROIS_PER_IMAGE = 32\n",
    "    MAX_GT_INSTANCES = 3\n",
    "    DETECTION_MAX_INSTANCES = 3\n",
    "    DETECTION_MIN_CONFIDENCE = 0.7\n",
    "    DETECTION_NMS_THRESHOLD = 0.1\n",
    "\n",
    "    STEPS_PER_EPOCH = 200\n",
    "    \n",
    "config = DetectorConfig()\n",
    "config.display()"
   ]
  },
  {
   "cell_type": "code",
   "execution_count": 9,
   "metadata": {
    "_uuid": "52bd3ffbdde0173a363055482d675da51c2aba99",
    "colab": {},
    "colab_type": "code",
    "execution": {
     "iopub.execute_input": "2022-12-10T19:33:28.590171Z",
     "iopub.status.busy": "2022-12-10T19:33:28.589485Z",
     "iopub.status.idle": "2022-12-10T19:33:28.602945Z",
     "shell.execute_reply": "2022-12-10T19:33:28.602086Z",
     "shell.execute_reply.started": "2022-12-10T19:33:28.589956Z"
    },
    "id": "8EBVA1M60yAj"
   },
   "outputs": [],
   "source": [
    "class DetectorDataset(utils.Dataset):\n",
    "    \"\"\"Dataset class for training pneumonia detection on the RSNA pneumonia dataset.\n",
    "    \"\"\"\n",
    "\n",
    "    def __init__(self, image_fps, image_annotations, orig_height, orig_width):\n",
    "        super().__init__(self)\n",
    "        \n",
    "        # Add classes\n",
    "        self.add_class('pneumonia', 1, 'Lung Opacity')\n",
    "        \n",
    "        # add images \n",
    "        for i, fp in enumerate(image_fps):\n",
    "            annotations = image_annotations[fp]\n",
    "            self.add_image('pneumonia', image_id=i, path=fp, \n",
    "                           annotations=annotations, orig_height=orig_height, orig_width=orig_width)\n",
    "            \n",
    "    def image_reference(self, image_id):\n",
    "        info = self.image_info[image_id]\n",
    "        return info['path']\n",
    "\n",
    "    def load_image(self, image_id):\n",
    "        info = self.image_info[image_id]\n",
    "        fp = info['path']\n",
    "        ds = pydicom.read_file(fp)\n",
    "        image = ds.pixel_array\n",
    "        # If grayscale. Convert to RGB for consistency.\n",
    "        if len(image.shape) != 3 or image.shape[2] != 3:\n",
    "            image = np.stack((image,) * 3, -1)\n",
    "        return image\n",
    "\n",
    "    def load_mask(self, image_id):\n",
    "        info = self.image_info[image_id]\n",
    "        annotations = info['annotations']\n",
    "        count = len(annotations)\n",
    "        if count == 0:\n",
    "            mask = np.zeros((info['orig_height'], info['orig_width'], 1), dtype=np.uint8)\n",
    "            class_ids = np.zeros((1,), dtype=np.int32)\n",
    "        else:\n",
    "            mask = np.zeros((info['orig_height'], info['orig_width'], count), dtype=np.uint8)\n",
    "            class_ids = np.zeros((count,), dtype=np.int32)\n",
    "            for i, a in enumerate(annotations):\n",
    "                if a['Target'] == 1:\n",
    "                    x = int(a['x'])\n",
    "                    y = int(a['y'])\n",
    "                    w = int(a['width'])\n",
    "                    h = int(a['height'])\n",
    "                    mask_instance = mask[:, :, i].copy()\n",
    "                    cv2.rectangle(mask_instance, (x, y), (x+w, y+h), 255, -1)\n",
    "                    mask[:, :, i] = mask_instance\n",
    "                    class_ids[i] = 1\n",
    "        return mask.astype(np.bool), class_ids.astype(np.int32)"
   ]
  },
  {
   "cell_type": "markdown",
   "metadata": {
    "_uuid": "1cb852e262b69d348743767d675573368ab672c9",
    "colab_type": "text",
    "id": "9RlMo04ckd98"
   },
   "source": [
    "### Examine the annotation data, parse the dataset, and view dicom fields"
   ]
  },
  {
   "cell_type": "code",
   "execution_count": 10,
   "metadata": {
    "_uuid": "793b1c6c6ba4e5f0d51e130080aa799f230b5ef6",
    "colab": {
     "base_uri": "https://localhost:8080/",
     "height": 235
    },
    "colab_type": "code",
    "execution": {
     "iopub.execute_input": "2022-12-10T19:33:29.569226Z",
     "iopub.status.busy": "2022-12-10T19:33:29.568895Z",
     "iopub.status.idle": "2022-12-10T19:33:29.624239Z",
     "shell.execute_reply": "2022-12-10T19:33:29.623500Z",
     "shell.execute_reply.started": "2022-12-10T19:33:29.569175Z"
    },
    "id": "EdhUEFDr0yDA",
    "outputId": "1715a5df-a577-41fd-bf20-f1a27aadb28c"
   },
   "outputs": [
    {
     "data": {
      "text/html": [
       "<div>\n",
       "<style scoped>\n",
       "    .dataframe tbody tr th:only-of-type {\n",
       "        vertical-align: middle;\n",
       "    }\n",
       "\n",
       "    .dataframe tbody tr th {\n",
       "        vertical-align: top;\n",
       "    }\n",
       "\n",
       "    .dataframe thead th {\n",
       "        text-align: right;\n",
       "    }\n",
       "</style>\n",
       "<table border=\"1\" class=\"dataframe\">\n",
       "  <thead>\n",
       "    <tr style=\"text-align: right;\">\n",
       "      <th></th>\n",
       "      <th>patientId</th>\n",
       "      <th>x</th>\n",
       "      <th>y</th>\n",
       "      <th>width</th>\n",
       "      <th>height</th>\n",
       "      <th>Target</th>\n",
       "    </tr>\n",
       "  </thead>\n",
       "  <tbody>\n",
       "    <tr>\n",
       "      <th>0</th>\n",
       "      <td>0004cfab-14fd-4e49-80ba-63a80b6bddd6</td>\n",
       "      <td>NaN</td>\n",
       "      <td>NaN</td>\n",
       "      <td>NaN</td>\n",
       "      <td>NaN</td>\n",
       "      <td>0</td>\n",
       "    </tr>\n",
       "    <tr>\n",
       "      <th>1</th>\n",
       "      <td>00313ee0-9eaa-42f4-b0ab-c148ed3241cd</td>\n",
       "      <td>NaN</td>\n",
       "      <td>NaN</td>\n",
       "      <td>NaN</td>\n",
       "      <td>NaN</td>\n",
       "      <td>0</td>\n",
       "    </tr>\n",
       "    <tr>\n",
       "      <th>2</th>\n",
       "      <td>00322d4d-1c29-4943-afc9-b6754be640eb</td>\n",
       "      <td>NaN</td>\n",
       "      <td>NaN</td>\n",
       "      <td>NaN</td>\n",
       "      <td>NaN</td>\n",
       "      <td>0</td>\n",
       "    </tr>\n",
       "    <tr>\n",
       "      <th>3</th>\n",
       "      <td>003d8fa0-6bf1-40ed-b54c-ac657f8495c5</td>\n",
       "      <td>NaN</td>\n",
       "      <td>NaN</td>\n",
       "      <td>NaN</td>\n",
       "      <td>NaN</td>\n",
       "      <td>0</td>\n",
       "    </tr>\n",
       "    <tr>\n",
       "      <th>4</th>\n",
       "      <td>00436515-870c-4b36-a041-de91049b9ab4</td>\n",
       "      <td>264.0</td>\n",
       "      <td>152.0</td>\n",
       "      <td>213.0</td>\n",
       "      <td>379.0</td>\n",
       "      <td>1</td>\n",
       "    </tr>\n",
       "  </tbody>\n",
       "</table>\n",
       "</div>"
      ],
      "text/plain": [
       "                              patientId      x      y  width  height  Target\n",
       "0  0004cfab-14fd-4e49-80ba-63a80b6bddd6    NaN    NaN    NaN     NaN       0\n",
       "1  00313ee0-9eaa-42f4-b0ab-c148ed3241cd    NaN    NaN    NaN     NaN       0\n",
       "2  00322d4d-1c29-4943-afc9-b6754be640eb    NaN    NaN    NaN     NaN       0\n",
       "3  003d8fa0-6bf1-40ed-b54c-ac657f8495c5    NaN    NaN    NaN     NaN       0\n",
       "4  00436515-870c-4b36-a041-de91049b9ab4  264.0  152.0  213.0   379.0       1"
      ]
     },
     "execution_count": 10,
     "metadata": {},
     "output_type": "execute_result"
    }
   ],
   "source": [
    "# training dataset\n",
    "anns = pd.read_csv(os.path.join(DATA_DIR, 'stage_2_train_labels.csv'))\n",
    "anns.head()"
   ]
  },
  {
   "cell_type": "code",
   "execution_count": 11,
   "metadata": {
    "_uuid": "7aebc88f910b232e3b8759421914a007c6ffed94",
    "colab": {},
    "colab_type": "code",
    "execution": {
     "iopub.execute_input": "2022-12-10T19:33:29.625814Z",
     "iopub.status.busy": "2022-12-10T19:33:29.625387Z",
     "iopub.status.idle": "2022-12-10T19:33:32.228986Z",
     "shell.execute_reply": "2022-12-10T19:33:32.228119Z",
     "shell.execute_reply.started": "2022-12-10T19:33:29.625761Z"
    },
    "id": "Mxz-pNbt5txY"
   },
   "outputs": [],
   "source": [
    "image_fps, image_annotations = parse_dataset(train_dicom_dir, anns=anns)"
   ]
  },
  {
   "cell_type": "code",
   "execution_count": 12,
   "metadata": {
    "_uuid": "6c386dcef041b972f6209dd19e247d547c3c349f",
    "colab": {},
    "colab_type": "code",
    "execution": {
     "iopub.execute_input": "2022-12-10T19:33:32.241374Z",
     "iopub.status.busy": "2022-12-10T19:33:32.240813Z",
     "iopub.status.idle": "2022-12-10T19:33:32.260547Z",
     "shell.execute_reply": "2022-12-10T19:33:32.259702Z",
     "shell.execute_reply.started": "2022-12-10T19:33:32.241324Z"
    },
    "id": "YPqjEIXWRhSf"
   },
   "outputs": [
    {
     "data": {
      "text/plain": [
       "Dataset.file_meta -------------------------------\n",
       "(0002, 0000) File Meta Information Group Length  UL: 202\n",
       "(0002, 0001) File Meta Information Version       OB: b'\\x00\\x01'\n",
       "(0002, 0002) Media Storage SOP Class UID         UI: Secondary Capture Image Storage\n",
       "(0002, 0003) Media Storage SOP Instance UID      UI: 1.2.276.0.7230010.3.1.4.8323329.29627.1517874492.886744\n",
       "(0002, 0010) Transfer Syntax UID                 UI: JPEG Baseline (Process 1)\n",
       "(0002, 0012) Implementation Class UID            UI: 1.2.276.0.7230010.3.0.3.6.0\n",
       "(0002, 0013) Implementation Version Name         SH: 'OFFIS_DCMTK_360'\n",
       "-------------------------------------------------\n",
       "(0008, 0005) Specific Character Set              CS: 'ISO_IR 100'\n",
       "(0008, 0016) SOP Class UID                       UI: Secondary Capture Image Storage\n",
       "(0008, 0018) SOP Instance UID                    UI: 1.2.276.0.7230010.3.1.4.8323329.29627.1517874492.886744\n",
       "(0008, 0020) Study Date                          DA: '19010101'\n",
       "(0008, 0030) Study Time                          TM: '000000.00'\n",
       "(0008, 0050) Accession Number                    SH: ''\n",
       "(0008, 0060) Modality                            CS: 'CR'\n",
       "(0008, 0064) Conversion Type                     CS: 'WSD'\n",
       "(0008, 0090) Referring Physician's Name          PN: ''\n",
       "(0008, 103e) Series Description                  LO: 'view: PA'\n",
       "(0010, 0010) Patient's Name                      PN: '634b0a73-98a6-488d-b2b9-1bef05248fc1'\n",
       "(0010, 0020) Patient ID                          LO: '634b0a73-98a6-488d-b2b9-1bef05248fc1'\n",
       "(0010, 0030) Patient's Birth Date                DA: ''\n",
       "(0010, 0040) Patient's Sex                       CS: 'M'\n",
       "(0010, 1010) Patient's Age                       AS: '59'\n",
       "(0018, 0015) Body Part Examined                  CS: 'CHEST'\n",
       "(0018, 5101) View Position                       CS: 'PA'\n",
       "(0020, 000d) Study Instance UID                  UI: 1.2.276.0.7230010.3.1.2.8323329.29627.1517874492.886743\n",
       "(0020, 000e) Series Instance UID                 UI: 1.2.276.0.7230010.3.1.3.8323329.29627.1517874492.886742\n",
       "(0020, 0010) Study ID                            SH: ''\n",
       "(0020, 0011) Series Number                       IS: '1'\n",
       "(0020, 0013) Instance Number                     IS: '1'\n",
       "(0020, 0020) Patient Orientation                 CS: ''\n",
       "(0028, 0002) Samples per Pixel                   US: 1\n",
       "(0028, 0004) Photometric Interpretation          CS: 'MONOCHROME2'\n",
       "(0028, 0010) Rows                                US: 1024\n",
       "(0028, 0011) Columns                             US: 1024\n",
       "(0028, 0030) Pixel Spacing                       DS: [0.14300000000000002, 0.14300000000000002]\n",
       "(0028, 0100) Bits Allocated                      US: 8\n",
       "(0028, 0101) Bits Stored                         US: 8\n",
       "(0028, 0102) High Bit                            US: 7\n",
       "(0028, 0103) Pixel Representation                US: 0\n",
       "(0028, 2110) Lossy Image Compression             CS: '01'\n",
       "(0028, 2114) Lossy Image Compression Method      CS: 'ISO_10918_1'\n",
       "(7fe0, 0010) Pixel Data                          OB: Array of 160644 elements"
      ]
     },
     "execution_count": 12,
     "metadata": {},
     "output_type": "execute_result"
    }
   ],
   "source": [
    "ds = pydicom.read_file(image_fps[0]) # read dicom image from filepath \n",
    "image = ds.pixel_array # get image array\n",
    "# show dicom fields \n",
    "ds"
   ]
  },
  {
   "cell_type": "code",
   "execution_count": 13,
   "metadata": {
    "_uuid": "74277ae9af4a3b044e62b664d10d76b23848bb43",
    "colab": {},
    "colab_type": "code",
    "execution": {
     "iopub.execute_input": "2022-12-10T19:33:32.262361Z",
     "iopub.status.busy": "2022-12-10T19:33:32.261863Z",
     "iopub.status.idle": "2022-12-10T19:33:32.265817Z",
     "shell.execute_reply": "2022-12-10T19:33:32.265109Z",
     "shell.execute_reply.started": "2022-12-10T19:33:32.262106Z"
    },
    "id": "gYNSd1AhRqOV"
   },
   "outputs": [],
   "source": [
    "# Original DICOM image size: 1024 x 1024\n",
    "ORIG_SIZE = 1024"
   ]
  },
  {
   "cell_type": "markdown",
   "metadata": {
    "_uuid": "6563bbca143e4bceb1ea850714d7b43bb1e1178d",
    "colab_type": "text",
    "id": "4FlRu8ML-ceg"
   },
   "source": [
    "### Split the data into training and validation datasets"
   ]
  },
  {
   "cell_type": "code",
   "execution_count": 14,
   "metadata": {
    "_uuid": "6175c72e73639e3190e127f67783988eadced9ba",
    "colab": {
     "base_uri": "https://localhost:8080/",
     "height": 35
    },
    "colab_type": "code",
    "execution": {
     "iopub.execute_input": "2022-12-10T19:33:32.267342Z",
     "iopub.status.busy": "2022-12-10T19:33:32.266885Z",
     "iopub.status.idle": "2022-12-10T19:33:32.302289Z",
     "shell.execute_reply": "2022-12-10T19:33:32.301721Z",
     "shell.execute_reply.started": "2022-12-10T19:33:32.267278Z"
    },
    "id": "7jByVCZt-ZOC",
    "outputId": "f1aa267d-7530-4620-ffc5-2f7aa39083bb"
   },
   "outputs": [
    {
     "name": "stdout",
     "output_type": "stream",
     "text": [
      "25350 1334\n"
     ]
    }
   ],
   "source": [
    "# split dataset into training vs. validation dataset \n",
    "# split ratio is set to 0.95 vs. 0.05 (train vs. validation, respectively)\n",
    "image_fps_list = list(image_fps)\n",
    "random.seed(42)\n",
    "random.shuffle(image_fps_list)\n",
    "\n",
    "val_size = int(0.05 * len(image_fps_list))\n",
    "image_fps_val = image_fps_list[:val_size]\n",
    "image_fps_train = image_fps_list[val_size:]\n",
    "\n",
    "print(len(image_fps_train), len(image_fps_val))"
   ]
  },
  {
   "cell_type": "markdown",
   "metadata": {
    "_uuid": "a5143c19dc22bc00d318a3b28cb7e13c7fbacc8a",
    "colab_type": "text",
    "id": "9KUvacUbgiEX"
   },
   "source": [
    "### Create and prepare the training dataset using the DetectorDataset class."
   ]
  },
  {
   "cell_type": "code",
   "execution_count": 15,
   "metadata": {
    "_uuid": "86c3333d4dfb8b7d00ce1f401693d0df4e6254e1",
    "colab": {},
    "colab_type": "code",
    "execution": {
     "iopub.execute_input": "2022-12-10T19:33:32.303615Z",
     "iopub.status.busy": "2022-12-10T19:33:32.303372Z",
     "iopub.status.idle": "2022-12-10T19:33:32.439966Z",
     "shell.execute_reply": "2022-12-10T19:33:32.439277Z",
     "shell.execute_reply.started": "2022-12-10T19:33:32.303569Z"
    },
    "id": "jwMkhotP0yFf"
   },
   "outputs": [],
   "source": [
    "# prepare the training dataset\n",
    "dataset_train = DetectorDataset(image_fps_train, image_annotations, ORIG_SIZE, ORIG_SIZE)\n",
    "dataset_train.prepare()"
   ]
  },
  {
   "cell_type": "code",
   "execution_count": 16,
   "metadata": {
    "_uuid": "313347d838fa8321a714858c8073f98c50c5be26",
    "colab": {},
    "colab_type": "code",
    "execution": {
     "iopub.execute_input": "2022-12-10T19:33:32.443407Z",
     "iopub.status.busy": "2022-12-10T19:33:32.443183Z",
     "iopub.status.idle": "2022-12-10T19:33:32.454466Z",
     "shell.execute_reply": "2022-12-10T19:33:32.453392Z",
     "shell.execute_reply.started": "2022-12-10T19:33:32.443361Z"
    },
    "id": "K1TkWuGP0yHl"
   },
   "outputs": [],
   "source": [
    "# prepare the validation dataset\n",
    "dataset_val = DetectorDataset(image_fps_val, image_annotations, ORIG_SIZE, ORIG_SIZE)\n",
    "dataset_val.prepare()"
   ]
  },
  {
   "cell_type": "markdown",
   "metadata": {
    "_uuid": "600a8135d4e382f62797d69e9358f5697873c8f9",
    "colab_type": "text",
    "id": "pEXEt8fygWuC"
   },
   "source": [
    "### Display a random image with bounding boxes"
   ]
  },
  {
   "cell_type": "code",
   "execution_count": 17,
   "metadata": {
    "_uuid": "491b78ec96d28fcdbbf8e2d7f9320a05d64c9249",
    "colab": {
     "base_uri": "https://localhost:8080/",
     "height": 359
    },
    "colab_type": "code",
    "execution": {
     "iopub.execute_input": "2022-12-10T19:33:32.456285Z",
     "iopub.status.busy": "2022-12-10T19:33:32.455826Z",
     "iopub.status.idle": "2022-12-10T19:33:32.464450Z",
     "shell.execute_reply": "2022-12-10T19:33:32.463778Z",
     "shell.execute_reply.started": "2022-12-10T19:33:32.456234Z"
    },
    "id": "4xwsrf9G1lHR",
    "outputId": "a13386d3-a918-41fe-8824-13625c9d7b08"
   },
   "outputs": [],
   "source": [
    "# Load and display random sample and their bounding boxes\n",
    "\n",
    "# class_ids = [0]\n",
    "# while class_ids[0] == 0:  ## look for a mask\n",
    "#     image_id = random.choice(dataset_train.image_ids)\n",
    "#     image_fp = dataset_train.image_reference(image_id)\n",
    "#     image = dataset_train.load_image(image_id)\n",
    "#     mask, class_ids = dataset_train.load_mask(image_id)\n",
    "\n",
    "# print(image.shape)\n",
    "\n",
    "# plt.figure(figsize=(10, 10))\n",
    "# plt.subplot(1, 2, 1)\n",
    "# plt.imshow(image)\n",
    "# plt.axis('off')\n",
    "\n",
    "# plt.subplot(1, 2, 2)\n",
    "# masked = np.zeros(image.shape[:2])\n",
    "# for i in range(mask.shape[2]):\n",
    "#     masked += image[:, :, 0] * mask[:, :, i]\n",
    "# plt.imshow(masked, cmap='gray')\n",
    "# plt.axis('off')\n",
    "\n",
    "# print(image_fp)\n",
    "# print(class_ids)"
   ]
  },
  {
   "cell_type": "markdown",
   "metadata": {
    "_uuid": "342b6008873fe7a6a0870a712ee47a87f0d2828d",
    "colab_type": "text",
    "id": "ustAIH78hZI_"
   },
   "source": [
    "### Image Augmentation. Try finetuning some variables to custom values"
   ]
  },
  {
   "cell_type": "code",
   "execution_count": 17,
   "metadata": {
    "_uuid": "4ab9d6086ce611a46f189c047956c43b29783e6d",
    "colab": {},
    "colab_type": "code",
    "execution": {
     "iopub.execute_input": "2022-12-10T19:33:32.467226Z",
     "iopub.status.busy": "2022-12-10T19:33:32.466746Z",
     "iopub.status.idle": "2022-12-10T19:33:32.480412Z",
     "shell.execute_reply": "2022-12-10T19:33:32.479629Z",
     "shell.execute_reply.started": "2022-12-10T19:33:32.467174Z"
    },
    "id": "STZnQTE61lME"
   },
   "outputs": [
    {
     "name": "stderr",
     "output_type": "stream",
     "text": [
      "/opt/conda/envs/pytorch-build/lib/python3.7/site-packages/imgaug/imgaug.py:184: DeprecationWarning: Function `ContrastNormalization()` is deprecated. Use `imgaug.contrast.LinearContrast` instead.\n",
      "  warn_deprecated(msg, stacklevel=3)\n"
     ]
    }
   ],
   "source": [
    "# Image augmentation (light but constant)\n",
    "augmentation = iaa.Sequential([\n",
    "    iaa.OneOf([ ## geometric transform\n",
    "        iaa.Affine(\n",
    "            scale={\"x\": (0.98, 1.02), \"y\": (0.98, 1.02)},\n",
    "            translate_percent={\"x\": (-0.02, 0.02), \"y\": (-0.04, 0.04)},\n",
    "            rotate=(-2, 2),\n",
    "            shear=(-1, 1),\n",
    "        ),\n",
    "        iaa.PiecewiseAffine(scale=(0.001, 0.025)),\n",
    "    ]),\n",
    "    iaa.OneOf([ ## brightness or contrast\n",
    "        iaa.Multiply((0.9, 1.1)),\n",
    "        iaa.ContrastNormalization((0.9, 1.1)),\n",
    "    ]),\n",
    "    iaa.OneOf([ ## blur or sharpen\n",
    "        iaa.GaussianBlur(sigma=(0.0, 0.1)),\n",
    "        iaa.Sharpen(alpha=(0.0, 0.1)),\n",
    "    ]),\n",
    "])\n",
    "\n",
    "# test on the same image as above\n",
    "# imggrid = augmentation.draw_grid(image[:, :, 0], cols=5, rows=2)\n",
    "# plt.figure(figsize=(30, 12))\n",
    "# _ = plt.imshow(imggrid[:, :, 0], cmap='gray')"
   ]
  },
  {
   "cell_type": "markdown",
   "metadata": {
    "_uuid": "7e65d2cecb283f446f34cdde19b663a8a8e9590f",
    "colab_type": "text",
    "id": "M4kt7LKuc78e"
   },
   "source": [
    "### Now it's time to train the model. Note that training even a basic model can take a few hours. \n"
   ]
  },
  {
   "cell_type": "code",
   "execution_count": 18,
   "metadata": {},
   "outputs": [],
   "source": [
    "import keras\n",
    "import time\n",
    "\n",
    "class TimeHistory(keras.callbacks.Callback):\n",
    "    def on_train_begin(self, logs={}):\n",
    "        self.times = []\n",
    "\n",
    "    def on_epoch_begin(self, batch, logs={}):\n",
    "        self.epoch_time_start = time.time()\n",
    "\n",
    "    def on_epoch_end(self, batch, logs={}):\n",
    "        self.times.append(time.time() - self.epoch_time_start)"
   ]
  },
  {
   "cell_type": "code",
   "execution_count": 19,
   "metadata": {
    "_uuid": "138d6197fc8dce9f1f8a7b5a6c27aa2069698e03",
    "execution": {
     "iopub.execute_input": "2022-12-10T19:33:32.482176Z",
     "iopub.status.busy": "2022-12-10T19:33:32.481696Z",
     "iopub.status.idle": "2022-12-10T19:33:42.135190Z",
     "shell.execute_reply": "2022-12-10T19:33:42.134350Z",
     "shell.execute_reply.started": "2022-12-10T19:33:32.481969Z"
    }
   },
   "outputs": [
    {
     "name": "stdout",
     "output_type": "stream",
     "text": [
      "WARNING:tensorflow:From /opt/conda/envs/pytorch-build/lib/python3.7/site-packages/tensorflow/python/framework/op_def_library.py:263: colocate_with (from tensorflow.python.framework.ops) is deprecated and will be removed in a future version.\n",
      "Instructions for updating:\n",
      "Colocations handled automatically by placer.\n"
     ]
    },
    {
     "ename": "NameError",
     "evalue": "name 'COCO_WEIGHTS_PATH' is not defined",
     "output_type": "error",
     "traceback": [
      "\u001b[0;31m---------------------------------------------------------------------------\u001b[0m",
      "\u001b[0;31mNameError\u001b[0m                                 Traceback (most recent call last)",
      "\u001b[0;32m/tmp/ipykernel_1860/148648432.py\u001b[0m in \u001b[0;36m<module>\u001b[0;34m\u001b[0m\n\u001b[1;32m      3\u001b[0m \u001b[0;31m# Exclude the last layers because they require a matching\u001b[0m\u001b[0;34m\u001b[0m\u001b[0;34m\u001b[0m\u001b[0;34m\u001b[0m\u001b[0m\n\u001b[1;32m      4\u001b[0m \u001b[0;31m# number of classes\u001b[0m\u001b[0;34m\u001b[0m\u001b[0;34m\u001b[0m\u001b[0;34m\u001b[0m\u001b[0m\n\u001b[0;32m----> 5\u001b[0;31m model.load_weights(COCO_WEIGHTS_PATH, by_name=True, exclude=[\n\u001b[0m\u001b[1;32m      6\u001b[0m     \u001b[0;34m\"mrcnn_class_logits\"\u001b[0m\u001b[0;34m,\u001b[0m \u001b[0;34m\"mrcnn_bbox_fc\"\u001b[0m\u001b[0;34m,\u001b[0m\u001b[0;34m\u001b[0m\u001b[0;34m\u001b[0m\u001b[0m\n\u001b[1;32m      7\u001b[0m     \"mrcnn_bbox\", \"mrcnn_mask\"])\n",
      "\u001b[0;31mNameError\u001b[0m: name 'COCO_WEIGHTS_PATH' is not defined"
     ]
    }
   ],
   "source": [
    "model = modellib.MaskRCNN(mode='training', config=config, model_dir=ROOT_DIR)\n",
    "\n",
    "# Exclude the last layers because they require a matching\n",
    "# number of classes\n",
    "model.load_weights(COCO_WEIGHTS_PATH, by_name=True, exclude=[\n",
    "    \"mrcnn_class_logits\", \"mrcnn_bbox_fc\",\n",
    "    \"mrcnn_bbox\", \"mrcnn_mask\"])"
   ]
  },
  {
   "cell_type": "code",
   "execution_count": 21,
   "metadata": {
    "_uuid": "64cce2581ffdb8c2b1cb07948ada4a93f64874b0",
    "colab": {
     "base_uri": "https://localhost:8080/",
     "height": 2575
    },
    "colab_type": "code",
    "execution": {
     "iopub.execute_input": "2022-12-10T19:33:42.136850Z",
     "iopub.status.busy": "2022-12-10T19:33:42.136579Z",
     "iopub.status.idle": "2022-12-10T19:33:42.142189Z",
     "shell.execute_reply": "2022-12-10T19:33:42.141201Z",
     "shell.execute_reply.started": "2022-12-10T19:33:42.136802Z"
    },
    "id": "RVgNhHjl1lOS",
    "outputId": "2cba9efc-eeea-472d-d155-3c3d856585bf"
   },
   "outputs": [],
   "source": [
    "LEARNING_RATE = 0.005\n",
    "\n",
    "# Train Mask-RCNN Model \n",
    "import warnings \n",
    "warnings.filterwarnings(\"ignore\")"
   ]
  },
  {
   "cell_type": "code",
   "execution_count": 23,
   "metadata": {
    "_uuid": "cf339a499519d174bcdf2311a1802f0e3acb1758",
    "execution": {
     "iopub.execute_input": "2022-12-10T19:33:42.144042Z",
     "iopub.status.busy": "2022-12-10T19:33:42.143614Z",
     "iopub.status.idle": "2022-12-10T19:56:45.947842Z",
     "shell.execute_reply": "2022-12-10T19:56:45.946871Z",
     "shell.execute_reply.started": "2022-12-10T19:33:42.143957Z"
    }
   },
   "outputs": [
    {
     "name": "stdout",
     "output_type": "stream",
     "text": [
      "\n",
      "Starting at epoch 0. LR=0.01\n",
      "\n",
      "Checkpoint Path: ./pneumonia20221211T2038/mask_rcnn_pneumonia_{epoch:04d}.h5\n",
      "Selecting layers to train\n",
      "fpn_c5p5               (Conv2D)\n",
      "fpn_c4p4               (Conv2D)\n",
      "fpn_c3p3               (Conv2D)\n",
      "fpn_c2p2               (Conv2D)\n",
      "fpn_p5                 (Conv2D)\n",
      "fpn_p2                 (Conv2D)\n",
      "fpn_p3                 (Conv2D)\n",
      "fpn_p4                 (Conv2D)\n",
      "In model:  rpn_model\n",
      "    rpn_conv_shared        (Conv2D)\n",
      "    rpn_class_raw          (Conv2D)\n",
      "    rpn_bbox_pred          (Conv2D)\n",
      "mrcnn_mask_conv1       (TimeDistributed)\n",
      "mrcnn_mask_bn1         (TimeDistributed)\n",
      "mrcnn_mask_conv2       (TimeDistributed)\n",
      "mrcnn_mask_bn2         (TimeDistributed)\n",
      "mrcnn_class_conv1      (TimeDistributed)\n",
      "mrcnn_class_bn1        (TimeDistributed)\n",
      "mrcnn_mask_conv3       (TimeDistributed)\n",
      "mrcnn_mask_bn3         (TimeDistributed)\n",
      "mrcnn_class_conv2      (TimeDistributed)\n",
      "mrcnn_class_bn2        (TimeDistributed)\n",
      "mrcnn_mask_conv4       (TimeDistributed)\n",
      "mrcnn_mask_bn4         (TimeDistributed)\n",
      "mrcnn_bbox_fc          (TimeDistributed)\n",
      "mrcnn_mask_deconv      (TimeDistributed)\n",
      "mrcnn_class_logits     (TimeDistributed)\n",
      "mrcnn_mask             (TimeDistributed)\n",
      "WARNING:tensorflow:From /opt/conda/envs/pytorch-build/lib/python3.7/site-packages/tensorflow/python/ops/math_ops.py:3066: to_int32 (from tensorflow.python.ops.math_ops) is deprecated and will be removed in a future version.\n",
      "Instructions for updating:\n",
      "Use tf.cast instead.\n",
      "Epoch 1/1\n"
     ]
    },
    {
     "name": "stderr",
     "output_type": "stream",
     "text": [
      "2022-12-11 20:43:46.535161: W ./tensorflow/core/grappler/optimizers/graph_optimizer_stage.h:241] Failed to run optimizer ArithmeticOptimizer, stage RemoveStackStridedSliceSameAxis node proposal_targets/strided_slice. Error: ValidateStridedSliceOp returned partial shapes [1,?,?] and [?,?]\n",
      "2022-12-11 20:43:46.535275: W ./tensorflow/core/grappler/optimizers/graph_optimizer_stage.h:241] Failed to run optimizer ArithmeticOptimizer, stage RemoveStackStridedSliceSameAxis node proposal_targets/strided_slice_37. Error: ValidateStridedSliceOp returned partial shapes [1,?,?] and [?,?]\n",
      "2022-12-11 20:43:46.535308: W ./tensorflow/core/grappler/optimizers/graph_optimizer_stage.h:241] Failed to run optimizer ArithmeticOptimizer, stage RemoveStackStridedSliceSameAxis node proposal_targets/strided_slice_74. Error: ValidateStridedSliceOp returned partial shapes [1,?,?] and [?,?]\n",
      "2022-12-11 20:43:46.535343: W ./tensorflow/core/grappler/optimizers/graph_optimizer_stage.h:241] Failed to run optimizer ArithmeticOptimizer, stage RemoveStackStridedSliceSameAxis node proposal_targets/strided_slice_111. Error: ValidateStridedSliceOp returned partial shapes [1,?,?] and [?,?]\n",
      "2022-12-11 20:43:46.535376: W ./tensorflow/core/grappler/optimizers/graph_optimizer_stage.h:241] Failed to run optimizer ArithmeticOptimizer, stage RemoveStackStridedSliceSameAxis node proposal_targets/strided_slice_148. Error: ValidateStridedSliceOp returned partial shapes [1,?,?] and [?,?]\n",
      "2022-12-11 20:43:46.535408: W ./tensorflow/core/grappler/optimizers/graph_optimizer_stage.h:241] Failed to run optimizer ArithmeticOptimizer, stage RemoveStackStridedSliceSameAxis node proposal_targets/strided_slice_185. Error: ValidateStridedSliceOp returned partial shapes [1,?,?] and [?,?]\n",
      "2022-12-11 20:43:46.535443: W ./tensorflow/core/grappler/optimizers/graph_optimizer_stage.h:241] Failed to run optimizer ArithmeticOptimizer, stage RemoveStackStridedSliceSameAxis node proposal_targets/strided_slice_222. Error: ValidateStridedSliceOp returned partial shapes [1,?,?] and [?,?]\n",
      "2022-12-11 20:43:46.535477: W ./tensorflow/core/grappler/optimizers/graph_optimizer_stage.h:241] Failed to run optimizer ArithmeticOptimizer, stage RemoveStackStridedSliceSameAxis node proposal_targets/strided_slice_259. Error: ValidateStridedSliceOp returned partial shapes [1,?,?] and [?,?]\n",
      "2022-12-11 20:44:16.564255: W ./tensorflow/core/grappler/optimizers/graph_optimizer_stage.h:241] Failed to run optimizer ArithmeticOptimizer, stage RemoveStackStridedSliceSameAxis node proposal_targets/strided_slice. Error: ValidateStridedSliceOp returned partial shapes [1,?,?] and [?,?]\n",
      "2022-12-11 20:44:16.570602: W ./tensorflow/core/grappler/optimizers/graph_optimizer_stage.h:241] Failed to run optimizer ArithmeticOptimizer, stage RemoveStackStridedSliceSameAxis node proposal_targets/strided_slice_37. Error: ValidateStridedSliceOp returned partial shapes [1,?,?] and [?,?]\n",
      "2022-12-11 20:44:16.570928: W ./tensorflow/core/grappler/optimizers/graph_optimizer_stage.h:241] Failed to run optimizer ArithmeticOptimizer, stage RemoveStackStridedSliceSameAxis node proposal_targets/strided_slice_74. Error: ValidateStridedSliceOp returned partial shapes [1,?,?] and [?,?]\n",
      "2022-12-11 20:44:16.571095: W ./tensorflow/core/grappler/optimizers/graph_optimizer_stage.h:241] Failed to run optimizer ArithmeticOptimizer, stage RemoveStackStridedSliceSameAxis node proposal_targets/strided_slice_111. Error: ValidateStridedSliceOp returned partial shapes [1,?,?] and [?,?]\n",
      "2022-12-11 20:44:16.571247: W ./tensorflow/core/grappler/optimizers/graph_optimizer_stage.h:241] Failed to run optimizer ArithmeticOptimizer, stage RemoveStackStridedSliceSameAxis node proposal_targets/strided_slice_148. Error: ValidateStridedSliceOp returned partial shapes [1,?,?] and [?,?]\n",
      "2022-12-11 20:44:16.571438: W ./tensorflow/core/grappler/optimizers/graph_optimizer_stage.h:241] Failed to run optimizer ArithmeticOptimizer, stage RemoveStackStridedSliceSameAxis node proposal_targets/strided_slice_185. Error: ValidateStridedSliceOp returned partial shapes [1,?,?] and [?,?]\n",
      "2022-12-11 20:44:16.571654: W ./tensorflow/core/grappler/optimizers/graph_optimizer_stage.h:241] Failed to run optimizer ArithmeticOptimizer, stage RemoveStackStridedSliceSameAxis node proposal_targets/strided_slice_222. Error: ValidateStridedSliceOp returned partial shapes [1,?,?] and [?,?]\n",
      "2022-12-11 20:44:16.571864: W ./tensorflow/core/grappler/optimizers/graph_optimizer_stage.h:241] Failed to run optimizer ArithmeticOptimizer, stage RemoveStackStridedSliceSameAxis node proposal_targets/strided_slice_259. Error: ValidateStridedSliceOp returned partial shapes [1,?,?] and [?,?]\n"
     ]
    },
    {
     "name": "stdout",
     "output_type": "stream",
     "text": [
      "199/200 [============================>.] - ETA: 14s - loss: 1.7028 - rpn_class_loss: 0.0494 - rpn_bbox_loss: 0.4666 - mrcnn_class_loss: 0.3040 - mrcnn_bbox_loss: 0.4622 - mrcnn_mask_loss: 0.4206"
     ]
    },
    {
     "name": "stderr",
     "output_type": "stream",
     "text": [
      "2022-12-11 21:29:46.269846: W ./tensorflow/core/grappler/optimizers/graph_optimizer_stage.h:241] Failed to run optimizer ArithmeticOptimizer, stage RemoveStackStridedSliceSameAxis node proposal_targets/strided_slice. Error: ValidateStridedSliceOp returned partial shapes [1,?,?] and [?,?]\n",
      "2022-12-11 21:29:46.269913: W ./tensorflow/core/grappler/optimizers/graph_optimizer_stage.h:241] Failed to run optimizer ArithmeticOptimizer, stage RemoveStackStridedSliceSameAxis node proposal_targets/strided_slice_37. Error: ValidateStridedSliceOp returned partial shapes [1,?,?] and [?,?]\n",
      "2022-12-11 21:29:46.269930: W ./tensorflow/core/grappler/optimizers/graph_optimizer_stage.h:241] Failed to run optimizer ArithmeticOptimizer, stage RemoveStackStridedSliceSameAxis node proposal_targets/strided_slice_74. Error: ValidateStridedSliceOp returned partial shapes [1,?,?] and [?,?]\n",
      "2022-12-11 21:29:46.269946: W ./tensorflow/core/grappler/optimizers/graph_optimizer_stage.h:241] Failed to run optimizer ArithmeticOptimizer, stage RemoveStackStridedSliceSameAxis node proposal_targets/strided_slice_111. Error: ValidateStridedSliceOp returned partial shapes [1,?,?] and [?,?]\n",
      "2022-12-11 21:29:46.269961: W ./tensorflow/core/grappler/optimizers/graph_optimizer_stage.h:241] Failed to run optimizer ArithmeticOptimizer, stage RemoveStackStridedSliceSameAxis node proposal_targets/strided_slice_148. Error: ValidateStridedSliceOp returned partial shapes [1,?,?] and [?,?]\n",
      "2022-12-11 21:29:46.269976: W ./tensorflow/core/grappler/optimizers/graph_optimizer_stage.h:241] Failed to run optimizer ArithmeticOptimizer, stage RemoveStackStridedSliceSameAxis node proposal_targets/strided_slice_185. Error: ValidateStridedSliceOp returned partial shapes [1,?,?] and [?,?]\n",
      "2022-12-11 21:29:46.269990: W ./tensorflow/core/grappler/optimizers/graph_optimizer_stage.h:241] Failed to run optimizer ArithmeticOptimizer, stage RemoveStackStridedSliceSameAxis node proposal_targets/strided_slice_222. Error: ValidateStridedSliceOp returned partial shapes [1,?,?] and [?,?]\n",
      "2022-12-11 21:29:46.270005: W ./tensorflow/core/grappler/optimizers/graph_optimizer_stage.h:241] Failed to run optimizer ArithmeticOptimizer, stage RemoveStackStridedSliceSameAxis node proposal_targets/strided_slice_259. Error: ValidateStridedSliceOp returned partial shapes [1,?,?] and [?,?]\n",
      "2022-12-11 21:29:47.116988: W ./tensorflow/core/grappler/optimizers/graph_optimizer_stage.h:241] Failed to run optimizer ArithmeticOptimizer, stage RemoveStackStridedSliceSameAxis node proposal_targets/strided_slice. Error: ValidateStridedSliceOp returned partial shapes [1,?,?] and [?,?]\n",
      "2022-12-11 21:29:47.117063: W ./tensorflow/core/grappler/optimizers/graph_optimizer_stage.h:241] Failed to run optimizer ArithmeticOptimizer, stage RemoveStackStridedSliceSameAxis node proposal_targets/strided_slice_37. Error: ValidateStridedSliceOp returned partial shapes [1,?,?] and [?,?]\n",
      "2022-12-11 21:29:47.117079: W ./tensorflow/core/grappler/optimizers/graph_optimizer_stage.h:241] Failed to run optimizer ArithmeticOptimizer, stage RemoveStackStridedSliceSameAxis node proposal_targets/strided_slice_74. Error: ValidateStridedSliceOp returned partial shapes [1,?,?] and [?,?]\n",
      "2022-12-11 21:29:47.117094: W ./tensorflow/core/grappler/optimizers/graph_optimizer_stage.h:241] Failed to run optimizer ArithmeticOptimizer, stage RemoveStackStridedSliceSameAxis node proposal_targets/strided_slice_111. Error: ValidateStridedSliceOp returned partial shapes [1,?,?] and [?,?]\n",
      "2022-12-11 21:29:47.117108: W ./tensorflow/core/grappler/optimizers/graph_optimizer_stage.h:241] Failed to run optimizer ArithmeticOptimizer, stage RemoveStackStridedSliceSameAxis node proposal_targets/strided_slice_148. Error: ValidateStridedSliceOp returned partial shapes [1,?,?] and [?,?]\n",
      "2022-12-11 21:29:47.117122: W ./tensorflow/core/grappler/optimizers/graph_optimizer_stage.h:241] Failed to run optimizer ArithmeticOptimizer, stage RemoveStackStridedSliceSameAxis node proposal_targets/strided_slice_185. Error: ValidateStridedSliceOp returned partial shapes [1,?,?] and [?,?]\n",
      "2022-12-11 21:29:47.117136: W ./tensorflow/core/grappler/optimizers/graph_optimizer_stage.h:241] Failed to run optimizer ArithmeticOptimizer, stage RemoveStackStridedSliceSameAxis node proposal_targets/strided_slice_222. Error: ValidateStridedSliceOp returned partial shapes [1,?,?] and [?,?]\n",
      "2022-12-11 21:29:47.117150: W ./tensorflow/core/grappler/optimizers/graph_optimizer_stage.h:241] Failed to run optimizer ArithmeticOptimizer, stage RemoveStackStridedSliceSameAxis node proposal_targets/strided_slice_259. Error: ValidateStridedSliceOp returned partial shapes [1,?,?] and [?,?]\n"
     ]
    },
    {
     "name": "stdout",
     "output_type": "stream",
     "text": [
      "\b\b\b\b\b\b\b\b\b\b\b\b\b\b\b\b\b\b\b\b\b\b\b\b\b\b\b\b\b\b\b\b\b\b\b\b\b\b\b\b\b\b\b\b\b\b\b\b\b\b\b\b\b\b\b\b\b\b\b\b\b\b\b\b\b\b\b\b\b\b\b\b\b\b\b\b\b\b\b\b\b\b\b\b\b\b\b\b\b\b\b\b\b\b\b\b\b\b\b\b\b\b\b\b\b\b\b\b\b\b\b\b\b\b\b\b\b\b\b\b\b\b\b\b\b\b\b\b\b\b\b\b\b\b\b\b\b\b\b\b\b\b\b\b\b\b\b\b\b\b\b\b\b\b\b\b\b\b\b\b\b\b\b\b\b\b\b\b\b\b\b\b\b\b\b\b\b\b\b\b\b\b\b\b\b\b\b\b\b\b\b\b\b\b\r",
      "200/200 [==============================] - 3014s 15s/step - loss: 1.7005 - rpn_class_loss: 0.0494 - rpn_bbox_loss: 0.4654 - mrcnn_class_loss: 0.3037 - mrcnn_bbox_loss: 0.4615 - mrcnn_mask_loss: 0.4204 - val_loss: 2.1284 - val_rpn_class_loss: 0.0637 - val_rpn_bbox_loss: 0.7130 - val_mrcnn_class_loss: 0.3610 - val_mrcnn_bbox_loss: 0.5618 - val_mrcnn_mask_loss: 0.4289\n"
     ]
    }
   ],
   "source": [
    "time_callback = TimeHistory()\n",
    "## train heads with higher lr to speedup the learning\n",
    "model.train(dataset_train, dataset_val,\n",
    "            learning_rate=LEARNING_RATE*2,\n",
    "            epochs=1,\n",
    "            layers='heads',\n",
    "            augmentation=None,\n",
    "           custom_callbacks=[time_callback])\n",
    "times = time_callback.times\n",
    "times_list = []\n",
    "times_list.append(times)\n",
    "history = model.keras_model.history.history.copy()"
   ]
  },
  {
   "cell_type": "code",
   "execution_count": 24,
   "metadata": {},
   "outputs": [
    {
     "name": "stdout",
     "output_type": "stream",
     "text": [
      "Epoch Training time: [3035.7905662059784]\n",
      "{'val_loss': [2.1283920121192934], 'val_rpn_class_loss': [0.06365897387266159], 'val_rpn_bbox_loss': [0.7130287742614746], 'val_mrcnn_class_loss': [0.36096570432186126], 'val_mrcnn_bbox_loss': [0.5617988348007202], 'val_mrcnn_mask_loss': [0.42893780410289767], 'loss': [1.7004731869697571], 'rpn_class_loss': [0.0494216588884592], 'rpn_bbox_loss': [0.46535423580557106], 'mrcnn_class_loss': [0.3037443346530199], 'mrcnn_bbox_loss': [0.46150872483849525], 'mrcnn_mask_loss': [0.42044259533286094]}\n"
     ]
    }
   ],
   "source": [
    "print('Epoch Training time:', times)\n",
    "print(history)"
   ]
  },
  {
   "cell_type": "code",
   "execution_count": 45,
   "metadata": {
    "_uuid": "8004790d27f041793562e994bbe95edf67f8978b",
    "execution": {
     "iopub.execute_input": "2022-12-10T19:56:45.954036Z",
     "iopub.status.busy": "2022-12-10T19:56:45.951953Z",
     "iopub.status.idle": "2022-12-10T21:57:13.061781Z",
     "shell.execute_reply": "2022-12-10T21:57:13.060238Z",
     "shell.execute_reply.started": "2022-12-10T19:56:45.953955Z"
    }
   },
   "outputs": [
    {
     "name": "stdout",
     "output_type": "stream",
     "text": [
      "\n",
      "Starting at epoch 0. LR=0.005\n",
      "\n",
      "Checkpoint Path: ./pneumonia20221211T0532/mask_rcnn_pneumonia_{epoch:04d}.h5\n",
      "Selecting layers to train\n",
      "conv1                  (Conv2D)\n",
      "bn_conv1               (BatchNorm)\n",
      "res2a_branch2a         (Conv2D)\n",
      "bn2a_branch2a          (BatchNorm)\n",
      "res2a_branch2b         (Conv2D)\n",
      "bn2a_branch2b          (BatchNorm)\n",
      "res2a_branch2c         (Conv2D)\n",
      "res2a_branch1          (Conv2D)\n",
      "bn2a_branch2c          (BatchNorm)\n",
      "bn2a_branch1           (BatchNorm)\n",
      "res2b_branch2a         (Conv2D)\n",
      "bn2b_branch2a          (BatchNorm)\n",
      "res2b_branch2b         (Conv2D)\n",
      "bn2b_branch2b          (BatchNorm)\n",
      "res2b_branch2c         (Conv2D)\n",
      "bn2b_branch2c          (BatchNorm)\n",
      "res2c_branch2a         (Conv2D)\n",
      "bn2c_branch2a          (BatchNorm)\n",
      "res2c_branch2b         (Conv2D)\n",
      "bn2c_branch2b          (BatchNorm)\n",
      "res2c_branch2c         (Conv2D)\n",
      "bn2c_branch2c          (BatchNorm)\n",
      "res3a_branch2a         (Conv2D)\n",
      "bn3a_branch2a          (BatchNorm)\n",
      "res3a_branch2b         (Conv2D)\n",
      "bn3a_branch2b          (BatchNorm)\n",
      "res3a_branch2c         (Conv2D)\n",
      "res3a_branch1          (Conv2D)\n",
      "bn3a_branch2c          (BatchNorm)\n",
      "bn3a_branch1           (BatchNorm)\n",
      "res3b_branch2a         (Conv2D)\n",
      "bn3b_branch2a          (BatchNorm)\n",
      "res3b_branch2b         (Conv2D)\n",
      "bn3b_branch2b          (BatchNorm)\n",
      "res3b_branch2c         (Conv2D)\n",
      "bn3b_branch2c          (BatchNorm)\n",
      "res3c_branch2a         (Conv2D)\n",
      "bn3c_branch2a          (BatchNorm)\n",
      "res3c_branch2b         (Conv2D)\n",
      "bn3c_branch2b          (BatchNorm)\n",
      "res3c_branch2c         (Conv2D)\n",
      "bn3c_branch2c          (BatchNorm)\n",
      "res3d_branch2a         (Conv2D)\n",
      "bn3d_branch2a          (BatchNorm)\n",
      "res3d_branch2b         (Conv2D)\n",
      "bn3d_branch2b          (BatchNorm)\n",
      "res3d_branch2c         (Conv2D)\n",
      "bn3d_branch2c          (BatchNorm)\n",
      "res4a_branch2a         (Conv2D)\n",
      "bn4a_branch2a          (BatchNorm)\n",
      "res4a_branch2b         (Conv2D)\n",
      "bn4a_branch2b          (BatchNorm)\n",
      "res4a_branch2c         (Conv2D)\n",
      "res4a_branch1          (Conv2D)\n",
      "bn4a_branch2c          (BatchNorm)\n",
      "bn4a_branch1           (BatchNorm)\n",
      "res4b_branch2a         (Conv2D)\n",
      "bn4b_branch2a          (BatchNorm)\n",
      "res4b_branch2b         (Conv2D)\n",
      "bn4b_branch2b          (BatchNorm)\n",
      "res4b_branch2c         (Conv2D)\n",
      "bn4b_branch2c          (BatchNorm)\n",
      "res4c_branch2a         (Conv2D)\n",
      "bn4c_branch2a          (BatchNorm)\n",
      "res4c_branch2b         (Conv2D)\n",
      "bn4c_branch2b          (BatchNorm)\n",
      "res4c_branch2c         (Conv2D)\n",
      "bn4c_branch2c          (BatchNorm)\n",
      "res4d_branch2a         (Conv2D)\n",
      "bn4d_branch2a          (BatchNorm)\n",
      "res4d_branch2b         (Conv2D)\n",
      "bn4d_branch2b          (BatchNorm)\n",
      "res4d_branch2c         (Conv2D)\n",
      "bn4d_branch2c          (BatchNorm)\n",
      "res4e_branch2a         (Conv2D)\n",
      "bn4e_branch2a          (BatchNorm)\n",
      "res4e_branch2b         (Conv2D)\n",
      "bn4e_branch2b          (BatchNorm)\n",
      "res4e_branch2c         (Conv2D)\n",
      "bn4e_branch2c          (BatchNorm)\n",
      "res4f_branch2a         (Conv2D)\n",
      "bn4f_branch2a          (BatchNorm)\n",
      "res4f_branch2b         (Conv2D)\n",
      "bn4f_branch2b          (BatchNorm)\n",
      "res4f_branch2c         (Conv2D)\n",
      "bn4f_branch2c          (BatchNorm)\n",
      "res5a_branch2a         (Conv2D)\n",
      "bn5a_branch2a          (BatchNorm)\n",
      "res5a_branch2b         (Conv2D)\n",
      "bn5a_branch2b          (BatchNorm)\n",
      "res5a_branch2c         (Conv2D)\n",
      "res5a_branch1          (Conv2D)\n",
      "bn5a_branch2c          (BatchNorm)\n",
      "bn5a_branch1           (BatchNorm)\n",
      "res5b_branch2a         (Conv2D)\n",
      "bn5b_branch2a          (BatchNorm)\n",
      "res5b_branch2b         (Conv2D)\n",
      "bn5b_branch2b          (BatchNorm)\n",
      "res5b_branch2c         (Conv2D)\n",
      "bn5b_branch2c          (BatchNorm)\n",
      "res5c_branch2a         (Conv2D)\n",
      "bn5c_branch2a          (BatchNorm)\n",
      "res5c_branch2b         (Conv2D)\n",
      "bn5c_branch2b          (BatchNorm)\n",
      "res5c_branch2c         (Conv2D)\n",
      "bn5c_branch2c          (BatchNorm)\n",
      "fpn_c5p5               (Conv2D)\n",
      "fpn_c4p4               (Conv2D)\n",
      "fpn_c3p3               (Conv2D)\n",
      "fpn_c2p2               (Conv2D)\n",
      "fpn_p5                 (Conv2D)\n",
      "fpn_p2                 (Conv2D)\n",
      "fpn_p3                 (Conv2D)\n",
      "fpn_p4                 (Conv2D)\n",
      "In model:  rpn_model\n",
      "    rpn_conv_shared        (Conv2D)\n",
      "    rpn_class_raw          (Conv2D)\n",
      "    rpn_bbox_pred          (Conv2D)\n",
      "mrcnn_mask_conv1       (TimeDistributed)\n",
      "mrcnn_mask_bn1         (TimeDistributed)\n",
      "mrcnn_mask_conv2       (TimeDistributed)\n",
      "mrcnn_mask_bn2         (TimeDistributed)\n",
      "mrcnn_class_conv1      (TimeDistributed)\n",
      "mrcnn_class_bn1        (TimeDistributed)\n",
      "mrcnn_mask_conv3       (TimeDistributed)\n",
      "mrcnn_mask_bn3         (TimeDistributed)\n",
      "mrcnn_class_conv2      (TimeDistributed)\n",
      "mrcnn_class_bn2        (TimeDistributed)\n",
      "mrcnn_mask_conv4       (TimeDistributed)\n",
      "mrcnn_mask_bn4         (TimeDistributed)\n",
      "mrcnn_bbox_fc          (TimeDistributed)\n",
      "mrcnn_mask_deconv      (TimeDistributed)\n",
      "mrcnn_class_logits     (TimeDistributed)\n",
      "mrcnn_mask             (TimeDistributed)\n",
      "Epoch 1/7\n"
     ]
    },
    {
     "ename": "InvalidArgumentError",
     "evalue": "indices[0] = 16362 is not in [0, 16320)\n\t [[node ROI_2/GatherV2_2 (defined at home/jyothsnakodandera/FinalProject_PDLS/masked-rcnn/exp2/Mask_RCNN/mrcnn/model.py:294) ]]\n\nErrors may have originated from an input operation.\nInput Source operations connected to node ROI_2/GatherV2_2:\n ROI_2/strided_slice_6 (defined at home/jyothsnakodandera/FinalProject_PDLS/masked-rcnn/exp2/Mask_RCNN/mrcnn/utils.py:819)\n\nOriginal stack trace for 'ROI_2/GatherV2_2':\n  File \"opt/conda/envs/pytorch-build/lib/python3.7/runpy.py\", line 193, in _run_module_as_main\n    \"__main__\", mod_spec)\n  File \"opt/conda/envs/pytorch-build/lib/python3.7/runpy.py\", line 85, in _run_code\n    exec(code, run_globals)\n  File \"opt/conda/envs/pytorch-build/lib/python3.7/site-packages/ipykernel_launcher.py\", line 17, in <module>\n    app.launch_new_instance()\n  File \"opt/conda/envs/pytorch-build/lib/python3.7/site-packages/traitlets/config/application.py\", line 992, in launch_instance\n    app.start()\n  File \"opt/conda/envs/pytorch-build/lib/python3.7/site-packages/ipykernel/kernelapp.py\", line 712, in start\n    self.io_loop.start()\n  File \"opt/conda/envs/pytorch-build/lib/python3.7/site-packages/tornado/platform/asyncio.py\", line 215, in start\n    self.asyncio_loop.run_forever()\n  File \"opt/conda/envs/pytorch-build/lib/python3.7/asyncio/base_events.py\", line 539, in run_forever\n    self._run_once()\n  File \"opt/conda/envs/pytorch-build/lib/python3.7/asyncio/base_events.py\", line 1775, in _run_once\n    handle._run()\n  File \"opt/conda/envs/pytorch-build/lib/python3.7/asyncio/events.py\", line 88, in _run\n    self._context.run(self._callback, *self._args)\n  File \"opt/conda/envs/pytorch-build/lib/python3.7/site-packages/ipykernel/kernelbase.py\", line 510, in dispatch_queue\n    await self.process_one()\n  File \"opt/conda/envs/pytorch-build/lib/python3.7/site-packages/ipykernel/kernelbase.py\", line 499, in process_one\n    await dispatch(*args)\n  File \"opt/conda/envs/pytorch-build/lib/python3.7/site-packages/ipykernel/kernelbase.py\", line 406, in dispatch_shell\n    await result\n  File \"opt/conda/envs/pytorch-build/lib/python3.7/site-packages/ipykernel/kernelbase.py\", line 730, in execute_request\n    reply_content = await reply_content\n  File \"opt/conda/envs/pytorch-build/lib/python3.7/site-packages/ipykernel/ipkernel.py\", line 387, in do_execute\n    cell_id=cell_id,\n  File \"opt/conda/envs/pytorch-build/lib/python3.7/site-packages/ipykernel/zmqshell.py\", line 528, in run_cell\n    return super().run_cell(*args, **kwargs)\n  File \"opt/conda/envs/pytorch-build/lib/python3.7/site-packages/IPython/core/interactiveshell.py\", line 2976, in run_cell\n    raw_cell, store_history, silent, shell_futures, cell_id\n  File \"opt/conda/envs/pytorch-build/lib/python3.7/site-packages/IPython/core/interactiveshell.py\", line 3030, in _run_cell\n    return runner(coro)\n  File \"opt/conda/envs/pytorch-build/lib/python3.7/site-packages/IPython/core/async_helpers.py\", line 78, in _pseudo_sync_runner\n    coro.send(None)\n  File \"opt/conda/envs/pytorch-build/lib/python3.7/site-packages/IPython/core/interactiveshell.py\", line 3258, in run_cell_async\n    interactivity=interactivity, compiler=compiler, result=result)\n  File \"opt/conda/envs/pytorch-build/lib/python3.7/site-packages/IPython/core/interactiveshell.py\", line 3473, in run_ast_nodes\n    if (await self.run_code(code, result,  async_=asy)):\n  File \"opt/conda/envs/pytorch-build/lib/python3.7/site-packages/IPython/core/interactiveshell.py\", line 3553, in run_code\n    exec(code_obj, self.user_global_ns, self.user_ns)\n  File \"tmp/ipykernel_29840/148648432.py\", line 1, in <module>\n    model = modellib.MaskRCNN(mode='training', config=config, model_dir=ROOT_DIR)\n  File \"home/jyothsnakodandera/FinalProject_PDLS/masked-rcnn/exp2/Mask_RCNN/mrcnn/model.py\", line 1837, in __init__\n    self.keras_model = self.build(mode=mode, config=config)\n  File \"home/jyothsnakodandera/FinalProject_PDLS/masked-rcnn/exp2/Mask_RCNN/mrcnn/model.py\", line 1965, in build\n    config=config)([rpn_class, rpn_bbox, anchors])\n  File \"opt/conda/envs/pytorch-build/lib/python3.7/site-packages/keras/engine/topology.py\", line 602, in __call__\n    output = self.call(inputs, **kwargs)\n  File \"home/jyothsnakodandera/FinalProject_PDLS/masked-rcnn/exp2/Mask_RCNN/mrcnn/model.py\", line 296, in call\n    names=[\"pre_nms_anchors\"])\n  File \"home/jyothsnakodandera/FinalProject_PDLS/masked-rcnn/exp2/Mask_RCNN/mrcnn/utils.py\", line 820, in batch_slice\n    output_slice = graph_fn(*inputs_slice)\n  File \"home/jyothsnakodandera/FinalProject_PDLS/masked-rcnn/exp2/Mask_RCNN/mrcnn/model.py\", line 294, in <lambda>\n    pre_nms_anchors = utils.batch_slice([anchors, ix], lambda a, x: tf.gather(a, x),\n  File \"opt/conda/envs/pytorch-build/lib/python3.7/site-packages/tensorflow/python/util/dispatch.py\", line 180, in wrapper\n    return target(*args, **kwargs)\n  File \"opt/conda/envs/pytorch-build/lib/python3.7/site-packages/tensorflow/python/ops/array_ops.py\", line 3475, in gather\n    return gen_array_ops.gather_v2(params, indices, axis, name=name)\n  File \"opt/conda/envs/pytorch-build/lib/python3.7/site-packages/tensorflow/python/ops/gen_array_ops.py\", line 4097, in gather_v2\n    batch_dims=batch_dims, name=name)\n  File \"opt/conda/envs/pytorch-build/lib/python3.7/site-packages/tensorflow/python/framework/op_def_library.py\", line 788, in _apply_op_helper\n    op_def=op_def)\n  File \"opt/conda/envs/pytorch-build/lib/python3.7/site-packages/tensorflow/python/util/deprecation.py\", line 507, in new_func\n    return func(*args, **kwargs)\n  File \"opt/conda/envs/pytorch-build/lib/python3.7/site-packages/tensorflow/python/framework/ops.py\", line 3616, in create_op\n    op_def=op_def)\n  File \"opt/conda/envs/pytorch-build/lib/python3.7/site-packages/tensorflow/python/framework/ops.py\", line 2005, in __init__\n    self._traceback = tf_stack.extract_stack()\n",
     "output_type": "error",
     "traceback": [
      "\u001b[0;31m---------------------------------------------------------------------------\u001b[0m",
      "\u001b[0;31mInvalidArgumentError\u001b[0m                      Traceback (most recent call last)",
      "\u001b[0;32m/opt/conda/envs/pytorch-build/lib/python3.7/site-packages/tensorflow/python/client/session.py\u001b[0m in \u001b[0;36m_do_call\u001b[0;34m(self, fn, *args)\u001b[0m\n\u001b[1;32m   1355\u001b[0m     \u001b[0;32mtry\u001b[0m\u001b[0;34m:\u001b[0m\u001b[0;34m\u001b[0m\u001b[0;34m\u001b[0m\u001b[0m\n\u001b[0;32m-> 1356\u001b[0;31m       \u001b[0;32mreturn\u001b[0m \u001b[0mfn\u001b[0m\u001b[0;34m(\u001b[0m\u001b[0;34m*\u001b[0m\u001b[0margs\u001b[0m\u001b[0;34m)\u001b[0m\u001b[0;34m\u001b[0m\u001b[0;34m\u001b[0m\u001b[0m\n\u001b[0m\u001b[1;32m   1357\u001b[0m     \u001b[0;32mexcept\u001b[0m \u001b[0merrors\u001b[0m\u001b[0;34m.\u001b[0m\u001b[0mOpError\u001b[0m \u001b[0;32mas\u001b[0m \u001b[0me\u001b[0m\u001b[0;34m:\u001b[0m\u001b[0;34m\u001b[0m\u001b[0;34m\u001b[0m\u001b[0m\n",
      "\u001b[0;32m/opt/conda/envs/pytorch-build/lib/python3.7/site-packages/tensorflow/python/client/session.py\u001b[0m in \u001b[0;36m_run_fn\u001b[0;34m(feed_dict, fetch_list, target_list, options, run_metadata)\u001b[0m\n\u001b[1;32m   1340\u001b[0m       return self._call_tf_sessionrun(\n\u001b[0;32m-> 1341\u001b[0;31m           options, feed_dict, fetch_list, target_list, run_metadata)\n\u001b[0m\u001b[1;32m   1342\u001b[0m \u001b[0;34m\u001b[0m\u001b[0m\n",
      "\u001b[0;32m/opt/conda/envs/pytorch-build/lib/python3.7/site-packages/tensorflow/python/client/session.py\u001b[0m in \u001b[0;36m_call_tf_sessionrun\u001b[0;34m(self, options, feed_dict, fetch_list, target_list, run_metadata)\u001b[0m\n\u001b[1;32m   1428\u001b[0m         \u001b[0mself\u001b[0m\u001b[0;34m.\u001b[0m\u001b[0m_session\u001b[0m\u001b[0;34m,\u001b[0m \u001b[0moptions\u001b[0m\u001b[0;34m,\u001b[0m \u001b[0mfeed_dict\u001b[0m\u001b[0;34m,\u001b[0m \u001b[0mfetch_list\u001b[0m\u001b[0;34m,\u001b[0m \u001b[0mtarget_list\u001b[0m\u001b[0;34m,\u001b[0m\u001b[0;34m\u001b[0m\u001b[0;34m\u001b[0m\u001b[0m\n\u001b[0;32m-> 1429\u001b[0;31m         run_metadata)\n\u001b[0m\u001b[1;32m   1430\u001b[0m \u001b[0;34m\u001b[0m\u001b[0m\n",
      "\u001b[0;31mInvalidArgumentError\u001b[0m: indices[0] = 16362 is not in [0, 16320)\n\t [[{{node ROI_2/GatherV2_2}}]]",
      "\nDuring handling of the above exception, another exception occurred:\n",
      "\u001b[0;31mInvalidArgumentError\u001b[0m                      Traceback (most recent call last)",
      "\u001b[0;32m<timed exec>\u001b[0m in \u001b[0;36m<module>\u001b[0;34m\u001b[0m\n",
      "\u001b[0;32m~/FinalProject_PDLS/masked-rcnn/exp2/Mask_RCNN/mrcnn/model.py\u001b[0m in \u001b[0;36mtrain\u001b[0;34m(self, train_dataset, val_dataset, learning_rate, epochs, layers, augmentation, custom_callbacks, no_augmentation_sources)\u001b[0m\n\u001b[1;32m   2372\u001b[0m             \u001b[0mmax_queue_size\u001b[0m\u001b[0;34m=\u001b[0m\u001b[0;36m100\u001b[0m\u001b[0;34m,\u001b[0m\u001b[0;34m\u001b[0m\u001b[0;34m\u001b[0m\u001b[0m\n\u001b[1;32m   2373\u001b[0m             \u001b[0mworkers\u001b[0m\u001b[0;34m=\u001b[0m\u001b[0mworkers\u001b[0m\u001b[0;34m,\u001b[0m\u001b[0;34m\u001b[0m\u001b[0;34m\u001b[0m\u001b[0m\n\u001b[0;32m-> 2374\u001b[0;31m             \u001b[0muse_multiprocessing\u001b[0m\u001b[0;34m=\u001b[0m\u001b[0;32mTrue\u001b[0m\u001b[0;34m,\u001b[0m\u001b[0;34m\u001b[0m\u001b[0;34m\u001b[0m\u001b[0m\n\u001b[0m\u001b[1;32m   2375\u001b[0m         )\n\u001b[1;32m   2376\u001b[0m         \u001b[0mself\u001b[0m\u001b[0;34m.\u001b[0m\u001b[0mepoch\u001b[0m \u001b[0;34m=\u001b[0m \u001b[0mmax\u001b[0m\u001b[0;34m(\u001b[0m\u001b[0mself\u001b[0m\u001b[0;34m.\u001b[0m\u001b[0mepoch\u001b[0m\u001b[0;34m,\u001b[0m \u001b[0mepochs\u001b[0m\u001b[0;34m)\u001b[0m\u001b[0;34m\u001b[0m\u001b[0;34m\u001b[0m\u001b[0m\n",
      "\u001b[0;32m/opt/conda/envs/pytorch-build/lib/python3.7/site-packages/keras/legacy/interfaces.py\u001b[0m in \u001b[0;36mwrapper\u001b[0;34m(*args, **kwargs)\u001b[0m\n\u001b[1;32m     85\u001b[0m                 warnings.warn('Update your `' + object_name +\n\u001b[1;32m     86\u001b[0m                               '` call to the Keras 2 API: ' + signature, stacklevel=2)\n\u001b[0;32m---> 87\u001b[0;31m             \u001b[0;32mreturn\u001b[0m \u001b[0mfunc\u001b[0m\u001b[0;34m(\u001b[0m\u001b[0;34m*\u001b[0m\u001b[0margs\u001b[0m\u001b[0;34m,\u001b[0m \u001b[0;34m**\u001b[0m\u001b[0mkwargs\u001b[0m\u001b[0;34m)\u001b[0m\u001b[0;34m\u001b[0m\u001b[0;34m\u001b[0m\u001b[0m\n\u001b[0m\u001b[1;32m     88\u001b[0m         \u001b[0mwrapper\u001b[0m\u001b[0;34m.\u001b[0m\u001b[0m_original_function\u001b[0m \u001b[0;34m=\u001b[0m \u001b[0mfunc\u001b[0m\u001b[0;34m\u001b[0m\u001b[0;34m\u001b[0m\u001b[0m\n\u001b[1;32m     89\u001b[0m         \u001b[0;32mreturn\u001b[0m \u001b[0mwrapper\u001b[0m\u001b[0;34m\u001b[0m\u001b[0;34m\u001b[0m\u001b[0m\n",
      "\u001b[0;32m/opt/conda/envs/pytorch-build/lib/python3.7/site-packages/keras/engine/training.py\u001b[0m in \u001b[0;36mfit_generator\u001b[0;34m(self, generator, steps_per_epoch, epochs, verbose, callbacks, validation_data, validation_steps, class_weight, max_queue_size, workers, use_multiprocessing, shuffle, initial_epoch)\u001b[0m\n\u001b[1;32m   2040\u001b[0m                     outs = self.train_on_batch(x, y,\n\u001b[1;32m   2041\u001b[0m                                                \u001b[0msample_weight\u001b[0m\u001b[0;34m=\u001b[0m\u001b[0msample_weight\u001b[0m\u001b[0;34m,\u001b[0m\u001b[0;34m\u001b[0m\u001b[0;34m\u001b[0m\u001b[0m\n\u001b[0;32m-> 2042\u001b[0;31m                                                class_weight=class_weight)\n\u001b[0m\u001b[1;32m   2043\u001b[0m \u001b[0;34m\u001b[0m\u001b[0m\n\u001b[1;32m   2044\u001b[0m                     \u001b[0;32mif\u001b[0m \u001b[0;32mnot\u001b[0m \u001b[0misinstance\u001b[0m\u001b[0;34m(\u001b[0m\u001b[0mouts\u001b[0m\u001b[0;34m,\u001b[0m \u001b[0mlist\u001b[0m\u001b[0;34m)\u001b[0m\u001b[0;34m:\u001b[0m\u001b[0;34m\u001b[0m\u001b[0;34m\u001b[0m\u001b[0m\n",
      "\u001b[0;32m/opt/conda/envs/pytorch-build/lib/python3.7/site-packages/keras/engine/training.py\u001b[0m in \u001b[0;36mtrain_on_batch\u001b[0;34m(self, x, y, sample_weight, class_weight)\u001b[0m\n\u001b[1;32m   1760\u001b[0m             \u001b[0mins\u001b[0m \u001b[0;34m=\u001b[0m \u001b[0mx\u001b[0m \u001b[0;34m+\u001b[0m \u001b[0my\u001b[0m \u001b[0;34m+\u001b[0m \u001b[0msample_weights\u001b[0m\u001b[0;34m\u001b[0m\u001b[0;34m\u001b[0m\u001b[0m\n\u001b[1;32m   1761\u001b[0m         \u001b[0mself\u001b[0m\u001b[0;34m.\u001b[0m\u001b[0m_make_train_function\u001b[0m\u001b[0;34m(\u001b[0m\u001b[0;34m)\u001b[0m\u001b[0;34m\u001b[0m\u001b[0;34m\u001b[0m\u001b[0m\n\u001b[0;32m-> 1762\u001b[0;31m         \u001b[0moutputs\u001b[0m \u001b[0;34m=\u001b[0m \u001b[0mself\u001b[0m\u001b[0;34m.\u001b[0m\u001b[0mtrain_function\u001b[0m\u001b[0;34m(\u001b[0m\u001b[0mins\u001b[0m\u001b[0;34m)\u001b[0m\u001b[0;34m\u001b[0m\u001b[0;34m\u001b[0m\u001b[0m\n\u001b[0m\u001b[1;32m   1763\u001b[0m         \u001b[0;32mif\u001b[0m \u001b[0mlen\u001b[0m\u001b[0;34m(\u001b[0m\u001b[0moutputs\u001b[0m\u001b[0;34m)\u001b[0m \u001b[0;34m==\u001b[0m \u001b[0;36m1\u001b[0m\u001b[0;34m:\u001b[0m\u001b[0;34m\u001b[0m\u001b[0;34m\u001b[0m\u001b[0m\n\u001b[1;32m   1764\u001b[0m             \u001b[0;32mreturn\u001b[0m \u001b[0moutputs\u001b[0m\u001b[0;34m[\u001b[0m\u001b[0;36m0\u001b[0m\u001b[0;34m]\u001b[0m\u001b[0;34m\u001b[0m\u001b[0;34m\u001b[0m\u001b[0m\n",
      "\u001b[0;32m/opt/conda/envs/pytorch-build/lib/python3.7/site-packages/keras/backend/tensorflow_backend.py\u001b[0m in \u001b[0;36m__call__\u001b[0;34m(self, inputs)\u001b[0m\n\u001b[1;32m   2271\u001b[0m         updated = session.run(self.outputs + [self.updates_op],\n\u001b[1;32m   2272\u001b[0m                               \u001b[0mfeed_dict\u001b[0m\u001b[0;34m=\u001b[0m\u001b[0mfeed_dict\u001b[0m\u001b[0;34m,\u001b[0m\u001b[0;34m\u001b[0m\u001b[0;34m\u001b[0m\u001b[0m\n\u001b[0;32m-> 2273\u001b[0;31m                               **self.session_kwargs)\n\u001b[0m\u001b[1;32m   2274\u001b[0m         \u001b[0;32mreturn\u001b[0m \u001b[0mupdated\u001b[0m\u001b[0;34m[\u001b[0m\u001b[0;34m:\u001b[0m\u001b[0mlen\u001b[0m\u001b[0;34m(\u001b[0m\u001b[0mself\u001b[0m\u001b[0;34m.\u001b[0m\u001b[0moutputs\u001b[0m\u001b[0;34m)\u001b[0m\u001b[0;34m]\u001b[0m\u001b[0;34m\u001b[0m\u001b[0;34m\u001b[0m\u001b[0m\n\u001b[1;32m   2275\u001b[0m \u001b[0;34m\u001b[0m\u001b[0m\n",
      "\u001b[0;32m/opt/conda/envs/pytorch-build/lib/python3.7/site-packages/tensorflow/python/client/session.py\u001b[0m in \u001b[0;36mrun\u001b[0;34m(self, fetches, feed_dict, options, run_metadata)\u001b[0m\n\u001b[1;32m    948\u001b[0m     \u001b[0;32mtry\u001b[0m\u001b[0;34m:\u001b[0m\u001b[0;34m\u001b[0m\u001b[0;34m\u001b[0m\u001b[0m\n\u001b[1;32m    949\u001b[0m       result = self._run(None, fetches, feed_dict, options_ptr,\n\u001b[0;32m--> 950\u001b[0;31m                          run_metadata_ptr)\n\u001b[0m\u001b[1;32m    951\u001b[0m       \u001b[0;32mif\u001b[0m \u001b[0mrun_metadata\u001b[0m\u001b[0;34m:\u001b[0m\u001b[0;34m\u001b[0m\u001b[0;34m\u001b[0m\u001b[0m\n\u001b[1;32m    952\u001b[0m         \u001b[0mproto_data\u001b[0m \u001b[0;34m=\u001b[0m \u001b[0mtf_session\u001b[0m\u001b[0;34m.\u001b[0m\u001b[0mTF_GetBuffer\u001b[0m\u001b[0;34m(\u001b[0m\u001b[0mrun_metadata_ptr\u001b[0m\u001b[0;34m)\u001b[0m\u001b[0;34m\u001b[0m\u001b[0;34m\u001b[0m\u001b[0m\n",
      "\u001b[0;32m/opt/conda/envs/pytorch-build/lib/python3.7/site-packages/tensorflow/python/client/session.py\u001b[0m in \u001b[0;36m_run\u001b[0;34m(self, handle, fetches, feed_dict, options, run_metadata)\u001b[0m\n\u001b[1;32m   1171\u001b[0m     \u001b[0;32mif\u001b[0m \u001b[0mfinal_fetches\u001b[0m \u001b[0;32mor\u001b[0m \u001b[0mfinal_targets\u001b[0m \u001b[0;32mor\u001b[0m \u001b[0;34m(\u001b[0m\u001b[0mhandle\u001b[0m \u001b[0;32mand\u001b[0m \u001b[0mfeed_dict_tensor\u001b[0m\u001b[0;34m)\u001b[0m\u001b[0;34m:\u001b[0m\u001b[0;34m\u001b[0m\u001b[0;34m\u001b[0m\u001b[0m\n\u001b[1;32m   1172\u001b[0m       results = self._do_run(handle, final_targets, final_fetches,\n\u001b[0;32m-> 1173\u001b[0;31m                              feed_dict_tensor, options, run_metadata)\n\u001b[0m\u001b[1;32m   1174\u001b[0m     \u001b[0;32melse\u001b[0m\u001b[0;34m:\u001b[0m\u001b[0;34m\u001b[0m\u001b[0;34m\u001b[0m\u001b[0m\n\u001b[1;32m   1175\u001b[0m       \u001b[0mresults\u001b[0m \u001b[0;34m=\u001b[0m \u001b[0;34m[\u001b[0m\u001b[0;34m]\u001b[0m\u001b[0;34m\u001b[0m\u001b[0;34m\u001b[0m\u001b[0m\n",
      "\u001b[0;32m/opt/conda/envs/pytorch-build/lib/python3.7/site-packages/tensorflow/python/client/session.py\u001b[0m in \u001b[0;36m_do_run\u001b[0;34m(self, handle, target_list, fetch_list, feed_dict, options, run_metadata)\u001b[0m\n\u001b[1;32m   1348\u001b[0m     \u001b[0;32mif\u001b[0m \u001b[0mhandle\u001b[0m \u001b[0;32mis\u001b[0m \u001b[0;32mNone\u001b[0m\u001b[0;34m:\u001b[0m\u001b[0;34m\u001b[0m\u001b[0;34m\u001b[0m\u001b[0m\n\u001b[1;32m   1349\u001b[0m       return self._do_call(_run_fn, feeds, fetches, targets, options,\n\u001b[0;32m-> 1350\u001b[0;31m                            run_metadata)\n\u001b[0m\u001b[1;32m   1351\u001b[0m     \u001b[0;32melse\u001b[0m\u001b[0;34m:\u001b[0m\u001b[0;34m\u001b[0m\u001b[0;34m\u001b[0m\u001b[0m\n\u001b[1;32m   1352\u001b[0m       \u001b[0;32mreturn\u001b[0m \u001b[0mself\u001b[0m\u001b[0;34m.\u001b[0m\u001b[0m_do_call\u001b[0m\u001b[0;34m(\u001b[0m\u001b[0m_prun_fn\u001b[0m\u001b[0;34m,\u001b[0m \u001b[0mhandle\u001b[0m\u001b[0;34m,\u001b[0m \u001b[0mfeeds\u001b[0m\u001b[0;34m,\u001b[0m \u001b[0mfetches\u001b[0m\u001b[0;34m)\u001b[0m\u001b[0;34m\u001b[0m\u001b[0;34m\u001b[0m\u001b[0m\n",
      "\u001b[0;32m/opt/conda/envs/pytorch-build/lib/python3.7/site-packages/tensorflow/python/client/session.py\u001b[0m in \u001b[0;36m_do_call\u001b[0;34m(self, fn, *args)\u001b[0m\n\u001b[1;32m   1368\u001b[0m           \u001b[0;32mpass\u001b[0m\u001b[0;34m\u001b[0m\u001b[0;34m\u001b[0m\u001b[0m\n\u001b[1;32m   1369\u001b[0m       \u001b[0mmessage\u001b[0m \u001b[0;34m=\u001b[0m \u001b[0merror_interpolation\u001b[0m\u001b[0;34m.\u001b[0m\u001b[0minterpolate\u001b[0m\u001b[0;34m(\u001b[0m\u001b[0mmessage\u001b[0m\u001b[0;34m,\u001b[0m \u001b[0mself\u001b[0m\u001b[0;34m.\u001b[0m\u001b[0m_graph\u001b[0m\u001b[0;34m)\u001b[0m\u001b[0;34m\u001b[0m\u001b[0;34m\u001b[0m\u001b[0m\n\u001b[0;32m-> 1370\u001b[0;31m       \u001b[0;32mraise\u001b[0m \u001b[0mtype\u001b[0m\u001b[0;34m(\u001b[0m\u001b[0me\u001b[0m\u001b[0;34m)\u001b[0m\u001b[0;34m(\u001b[0m\u001b[0mnode_def\u001b[0m\u001b[0;34m,\u001b[0m \u001b[0mop\u001b[0m\u001b[0;34m,\u001b[0m \u001b[0mmessage\u001b[0m\u001b[0;34m)\u001b[0m\u001b[0;34m\u001b[0m\u001b[0;34m\u001b[0m\u001b[0m\n\u001b[0m\u001b[1;32m   1371\u001b[0m \u001b[0;34m\u001b[0m\u001b[0m\n\u001b[1;32m   1372\u001b[0m   \u001b[0;32mdef\u001b[0m \u001b[0m_extend_graph\u001b[0m\u001b[0;34m(\u001b[0m\u001b[0mself\u001b[0m\u001b[0;34m)\u001b[0m\u001b[0;34m:\u001b[0m\u001b[0;34m\u001b[0m\u001b[0;34m\u001b[0m\u001b[0m\n",
      "\u001b[0;31mInvalidArgumentError\u001b[0m: indices[0] = 16362 is not in [0, 16320)\n\t [[node ROI_2/GatherV2_2 (defined at home/jyothsnakodandera/FinalProject_PDLS/masked-rcnn/exp2/Mask_RCNN/mrcnn/model.py:294) ]]\n\nErrors may have originated from an input operation.\nInput Source operations connected to node ROI_2/GatherV2_2:\n ROI_2/strided_slice_6 (defined at home/jyothsnakodandera/FinalProject_PDLS/masked-rcnn/exp2/Mask_RCNN/mrcnn/utils.py:819)\n\nOriginal stack trace for 'ROI_2/GatherV2_2':\n  File \"opt/conda/envs/pytorch-build/lib/python3.7/runpy.py\", line 193, in _run_module_as_main\n    \"__main__\", mod_spec)\n  File \"opt/conda/envs/pytorch-build/lib/python3.7/runpy.py\", line 85, in _run_code\n    exec(code, run_globals)\n  File \"opt/conda/envs/pytorch-build/lib/python3.7/site-packages/ipykernel_launcher.py\", line 17, in <module>\n    app.launch_new_instance()\n  File \"opt/conda/envs/pytorch-build/lib/python3.7/site-packages/traitlets/config/application.py\", line 992, in launch_instance\n    app.start()\n  File \"opt/conda/envs/pytorch-build/lib/python3.7/site-packages/ipykernel/kernelapp.py\", line 712, in start\n    self.io_loop.start()\n  File \"opt/conda/envs/pytorch-build/lib/python3.7/site-packages/tornado/platform/asyncio.py\", line 215, in start\n    self.asyncio_loop.run_forever()\n  File \"opt/conda/envs/pytorch-build/lib/python3.7/asyncio/base_events.py\", line 539, in run_forever\n    self._run_once()\n  File \"opt/conda/envs/pytorch-build/lib/python3.7/asyncio/base_events.py\", line 1775, in _run_once\n    handle._run()\n  File \"opt/conda/envs/pytorch-build/lib/python3.7/asyncio/events.py\", line 88, in _run\n    self._context.run(self._callback, *self._args)\n  File \"opt/conda/envs/pytorch-build/lib/python3.7/site-packages/ipykernel/kernelbase.py\", line 510, in dispatch_queue\n    await self.process_one()\n  File \"opt/conda/envs/pytorch-build/lib/python3.7/site-packages/ipykernel/kernelbase.py\", line 499, in process_one\n    await dispatch(*args)\n  File \"opt/conda/envs/pytorch-build/lib/python3.7/site-packages/ipykernel/kernelbase.py\", line 406, in dispatch_shell\n    await result\n  File \"opt/conda/envs/pytorch-build/lib/python3.7/site-packages/ipykernel/kernelbase.py\", line 730, in execute_request\n    reply_content = await reply_content\n  File \"opt/conda/envs/pytorch-build/lib/python3.7/site-packages/ipykernel/ipkernel.py\", line 387, in do_execute\n    cell_id=cell_id,\n  File \"opt/conda/envs/pytorch-build/lib/python3.7/site-packages/ipykernel/zmqshell.py\", line 528, in run_cell\n    return super().run_cell(*args, **kwargs)\n  File \"opt/conda/envs/pytorch-build/lib/python3.7/site-packages/IPython/core/interactiveshell.py\", line 2976, in run_cell\n    raw_cell, store_history, silent, shell_futures, cell_id\n  File \"opt/conda/envs/pytorch-build/lib/python3.7/site-packages/IPython/core/interactiveshell.py\", line 3030, in _run_cell\n    return runner(coro)\n  File \"opt/conda/envs/pytorch-build/lib/python3.7/site-packages/IPython/core/async_helpers.py\", line 78, in _pseudo_sync_runner\n    coro.send(None)\n  File \"opt/conda/envs/pytorch-build/lib/python3.7/site-packages/IPython/core/interactiveshell.py\", line 3258, in run_cell_async\n    interactivity=interactivity, compiler=compiler, result=result)\n  File \"opt/conda/envs/pytorch-build/lib/python3.7/site-packages/IPython/core/interactiveshell.py\", line 3473, in run_ast_nodes\n    if (await self.run_code(code, result,  async_=asy)):\n  File \"opt/conda/envs/pytorch-build/lib/python3.7/site-packages/IPython/core/interactiveshell.py\", line 3553, in run_code\n    exec(code_obj, self.user_global_ns, self.user_ns)\n  File \"tmp/ipykernel_29840/148648432.py\", line 1, in <module>\n    model = modellib.MaskRCNN(mode='training', config=config, model_dir=ROOT_DIR)\n  File \"home/jyothsnakodandera/FinalProject_PDLS/masked-rcnn/exp2/Mask_RCNN/mrcnn/model.py\", line 1837, in __init__\n    self.keras_model = self.build(mode=mode, config=config)\n  File \"home/jyothsnakodandera/FinalProject_PDLS/masked-rcnn/exp2/Mask_RCNN/mrcnn/model.py\", line 1965, in build\n    config=config)([rpn_class, rpn_bbox, anchors])\n  File \"opt/conda/envs/pytorch-build/lib/python3.7/site-packages/keras/engine/topology.py\", line 602, in __call__\n    output = self.call(inputs, **kwargs)\n  File \"home/jyothsnakodandera/FinalProject_PDLS/masked-rcnn/exp2/Mask_RCNN/mrcnn/model.py\", line 296, in call\n    names=[\"pre_nms_anchors\"])\n  File \"home/jyothsnakodandera/FinalProject_PDLS/masked-rcnn/exp2/Mask_RCNN/mrcnn/utils.py\", line 820, in batch_slice\n    output_slice = graph_fn(*inputs_slice)\n  File \"home/jyothsnakodandera/FinalProject_PDLS/masked-rcnn/exp2/Mask_RCNN/mrcnn/model.py\", line 294, in <lambda>\n    pre_nms_anchors = utils.batch_slice([anchors, ix], lambda a, x: tf.gather(a, x),\n  File \"opt/conda/envs/pytorch-build/lib/python3.7/site-packages/tensorflow/python/util/dispatch.py\", line 180, in wrapper\n    return target(*args, **kwargs)\n  File \"opt/conda/envs/pytorch-build/lib/python3.7/site-packages/tensorflow/python/ops/array_ops.py\", line 3475, in gather\n    return gen_array_ops.gather_v2(params, indices, axis, name=name)\n  File \"opt/conda/envs/pytorch-build/lib/python3.7/site-packages/tensorflow/python/ops/gen_array_ops.py\", line 4097, in gather_v2\n    batch_dims=batch_dims, name=name)\n  File \"opt/conda/envs/pytorch-build/lib/python3.7/site-packages/tensorflow/python/framework/op_def_library.py\", line 788, in _apply_op_helper\n    op_def=op_def)\n  File \"opt/conda/envs/pytorch-build/lib/python3.7/site-packages/tensorflow/python/util/deprecation.py\", line 507, in new_func\n    return func(*args, **kwargs)\n  File \"opt/conda/envs/pytorch-build/lib/python3.7/site-packages/tensorflow/python/framework/ops.py\", line 3616, in create_op\n    op_def=op_def)\n  File \"opt/conda/envs/pytorch-build/lib/python3.7/site-packages/tensorflow/python/framework/ops.py\", line 2005, in __init__\n    self._traceback = tf_stack.extract_stack()\n"
     ]
    }
   ],
   "source": [
    "time_callback = TimeHistory()\n",
    "model.train(dataset_train, dataset_val,\n",
    "            learning_rate=LEARNING_RATE,\n",
    "            epochs=7,\n",
    "            layers='all',\n",
    "            augmentation=augmentation,\n",
    "           custom_callbacks=[time_callback])\n",
    "\n",
    "times = time_callback.times\n",
    "times_list.append(times)\n",
    "news = model.keras_model.history.history\n",
    "for k in news: history[k] = history[k] + news[k]"
   ]
  },
  {
   "cell_type": "code",
   "execution_count": 49,
   "metadata": {
    "execution": {
     "iopub.execute_input": "2022-12-10T21:57:13.063663Z",
     "iopub.status.busy": "2022-12-10T21:57:13.063370Z",
     "iopub.status.idle": "2022-12-10T21:57:13.072008Z",
     "shell.execute_reply": "2022-12-10T21:57:13.071123Z",
     "shell.execute_reply.started": "2022-12-10T21:57:13.063614Z"
    }
   },
   "outputs": [
    {
     "name": "stdout",
     "output_type": "stream",
     "text": [
      "{'val_loss': [1.539666006565094, 1.4354641103744508, 1.4388747859001159, 1.3694477522373198, 1.3945681548118591], 'val_rpn_class_loss': [0.04150051455944777, 0.03726499106734991, 0.03375799585133791, 0.0303593366779387, 0.035314059015363455], 'val_rpn_bbox_loss': [0.4235430935025215, 0.41399493515491487, 0.3692898827791214, 0.4242341086268425, 0.3850941848754883], 'val_mrcnn_class_loss': [0.28004062741994856, 0.2218485364317894, 0.2567757558822632, 0.1626374414563179, 0.23315046966075897], 'val_mrcnn_bbox_loss': [0.4280914199352264, 0.39991325795650484, 0.4070220082998276, 0.3809104681015015, 0.383866999745369], 'val_mrcnn_mask_loss': [0.36648010194301606, 0.3624313968420029, 0.37201721251010894, 0.3712937593460083, 0.3571290993690491], 'loss': [1.630573497414589, 1.4859343469142914, 1.449229816198349, 1.4084395080804826, 1.4040239164233208], 'rpn_class_loss': [0.04954254918731749, 0.041748126232996584, 0.03477288282476366, 0.03205885575618595, 0.03260616020299494], 'rpn_bbox_loss': [0.4864824840426445, 0.4157892951369286, 0.38260979220271113, 0.3674211277067661, 0.3822054420411587], 'mrcnn_class_loss': [0.27137423533946275, 0.2313579313457012, 0.25019227139651773, 0.2374965672940016, 0.22431667480617762], 'mrcnn_bbox_loss': [0.42857548847794535, 0.40911453038454054, 0.39814041420817375, 0.3921333409845829, 0.38592533573508264], 'mrcnn_mask_loss': [0.3945888340473175, 0.38791381239891054, 0.38350301995873454, 0.3793173350393772, 0.37895728468894957]}\n",
      "{'val_loss': [1.6505980610847473, 1.6767777299880982, 1.539666006565094, 1.4354641103744508, 1.4388747859001159, 1.3694477522373198, 1.3945681548118591], 'val_rpn_class_loss': [0.053800752349197865, 0.046265261620283125, 0.04150051455944777, 0.03726499106734991, 0.03375799585133791, 0.0303593366779387, 0.035314059015363455], 'val_rpn_bbox_loss': [0.42872911870479585, 0.575403009057045, 0.4235430935025215, 0.41399493515491487, 0.3692898827791214, 0.4242341086268425, 0.3850941848754883], 'val_mrcnn_class_loss': [0.30515114396810533, 0.2511425930261612, 0.28004062741994856, 0.2218485364317894, 0.2567757558822632, 0.1626374414563179, 0.23315046966075897], 'val_mrcnn_bbox_loss': [0.47991430580615996, 0.42024434566497804, 0.4280914199352264, 0.39991325795650484, 0.4070220082998276, 0.3809104681015015, 0.383866999745369], 'val_mrcnn_mask_loss': [0.38300052225589754, 0.3837181633710861, 0.36648010194301606, 0.3624313968420029, 0.37201721251010894, 0.3712937593460083, 0.3571290993690491], 'loss': [1.8536515307426453, 1.756772723197937, 1.630573497414589, 1.4859343469142914, 1.449229816198349, 1.4084395080804826, 1.4040239164233208], 'rpn_class_loss': [0.05456894168630242, 0.054414782151579855, 0.04954254918731749, 0.041748126232996584, 0.03477288282476366, 0.03205885575618595, 0.03260616020299494], 'rpn_bbox_loss': [0.4758906251937151, 0.5647212748974562, 0.4864824840426445, 0.4157892951369286, 0.38260979220271113, 0.3674211277067661, 0.3822054420411587], 'mrcnn_class_loss': [0.3612159771472216, 0.29016622066497805, 0.27137423533946275, 0.2313579313457012, 0.25019227139651773, 0.2374965672940016, 0.22431667480617762], 'mrcnn_bbox_loss': [0.5402418600022793, 0.46234432473778725, 0.42857548847794535, 0.40911453038454054, 0.39814041420817375, 0.3921333409845829, 0.38592533573508264], 'mrcnn_mask_loss': [0.4217323623597622, 0.38512293845415113, 0.3945888340473175, 0.38791381239891054, 0.38350301995873454, 0.3793173350393772, 0.37895728468894957]}\n"
     ]
    }
   ],
   "source": [
    "print('Epoch Training time:', times)\n",
    "print(history)"
   ]
  },
  {
   "cell_type": "code",
   "execution_count": 50,
   "metadata": {
    "_uuid": "ccea214a520c686735e138f64977dcd7f3e3330a",
    "execution": {
     "iopub.execute_input": "2022-12-10T21:57:13.073655Z",
     "iopub.status.busy": "2022-12-10T21:57:13.073190Z",
     "iopub.status.idle": "2022-12-11T01:07:59.466815Z",
     "shell.execute_reply": "2022-12-11T01:07:59.465662Z",
     "shell.execute_reply.started": "2022-12-10T21:57:13.073607Z"
    }
   },
   "outputs": [
    {
     "name": "stdout",
     "output_type": "stream",
     "text": [
      "\n",
      "Starting at epoch 7. LR=0.001\n",
      "\n",
      "Checkpoint Path: /kaggle/working/pneumonia20221210T1933/mask_rcnn_pneumonia_{epoch:04d}.h5\n",
      "Selecting layers to train\n",
      "conv1                  (Conv2D)\n",
      "bn_conv1               (BatchNorm)\n",
      "res2a_branch2a         (Conv2D)\n",
      "bn2a_branch2a          (BatchNorm)\n",
      "res2a_branch2b         (Conv2D)\n",
      "bn2a_branch2b          (BatchNorm)\n",
      "res2a_branch2c         (Conv2D)\n",
      "res2a_branch1          (Conv2D)\n",
      "bn2a_branch2c          (BatchNorm)\n",
      "bn2a_branch1           (BatchNorm)\n",
      "res2b_branch2a         (Conv2D)\n",
      "bn2b_branch2a          (BatchNorm)\n",
      "res2b_branch2b         (Conv2D)\n",
      "bn2b_branch2b          (BatchNorm)\n",
      "res2b_branch2c         (Conv2D)\n",
      "bn2b_branch2c          (BatchNorm)\n",
      "res2c_branch2a         (Conv2D)\n",
      "bn2c_branch2a          (BatchNorm)\n",
      "res2c_branch2b         (Conv2D)\n",
      "bn2c_branch2b          (BatchNorm)\n",
      "res2c_branch2c         (Conv2D)\n",
      "bn2c_branch2c          (BatchNorm)\n",
      "res3a_branch2a         (Conv2D)\n",
      "bn3a_branch2a          (BatchNorm)\n",
      "res3a_branch2b         (Conv2D)\n",
      "bn3a_branch2b          (BatchNorm)\n",
      "res3a_branch2c         (Conv2D)\n",
      "res3a_branch1          (Conv2D)\n",
      "bn3a_branch2c          (BatchNorm)\n",
      "bn3a_branch1           (BatchNorm)\n",
      "res3b_branch2a         (Conv2D)\n",
      "bn3b_branch2a          (BatchNorm)\n",
      "res3b_branch2b         (Conv2D)\n",
      "bn3b_branch2b          (BatchNorm)\n",
      "res3b_branch2c         (Conv2D)\n",
      "bn3b_branch2c          (BatchNorm)\n",
      "res3c_branch2a         (Conv2D)\n",
      "bn3c_branch2a          (BatchNorm)\n",
      "res3c_branch2b         (Conv2D)\n",
      "bn3c_branch2b          (BatchNorm)\n",
      "res3c_branch2c         (Conv2D)\n",
      "bn3c_branch2c          (BatchNorm)\n",
      "res3d_branch2a         (Conv2D)\n",
      "bn3d_branch2a          (BatchNorm)\n",
      "res3d_branch2b         (Conv2D)\n",
      "bn3d_branch2b          (BatchNorm)\n",
      "res3d_branch2c         (Conv2D)\n",
      "bn3d_branch2c          (BatchNorm)\n",
      "res4a_branch2a         (Conv2D)\n",
      "bn4a_branch2a          (BatchNorm)\n",
      "res4a_branch2b         (Conv2D)\n",
      "bn4a_branch2b          (BatchNorm)\n",
      "res4a_branch2c         (Conv2D)\n",
      "res4a_branch1          (Conv2D)\n",
      "bn4a_branch2c          (BatchNorm)\n",
      "bn4a_branch1           (BatchNorm)\n",
      "res4b_branch2a         (Conv2D)\n",
      "bn4b_branch2a          (BatchNorm)\n",
      "res4b_branch2b         (Conv2D)\n",
      "bn4b_branch2b          (BatchNorm)\n",
      "res4b_branch2c         (Conv2D)\n",
      "bn4b_branch2c          (BatchNorm)\n",
      "res4c_branch2a         (Conv2D)\n",
      "bn4c_branch2a          (BatchNorm)\n",
      "res4c_branch2b         (Conv2D)\n",
      "bn4c_branch2b          (BatchNorm)\n",
      "res4c_branch2c         (Conv2D)\n",
      "bn4c_branch2c          (BatchNorm)\n",
      "res4d_branch2a         (Conv2D)\n",
      "bn4d_branch2a          (BatchNorm)\n",
      "res4d_branch2b         (Conv2D)\n",
      "bn4d_branch2b          (BatchNorm)\n",
      "res4d_branch2c         (Conv2D)\n",
      "bn4d_branch2c          (BatchNorm)\n",
      "res4e_branch2a         (Conv2D)\n",
      "bn4e_branch2a          (BatchNorm)\n",
      "res4e_branch2b         (Conv2D)\n",
      "bn4e_branch2b          (BatchNorm)\n",
      "res4e_branch2c         (Conv2D)\n",
      "bn4e_branch2c          (BatchNorm)\n",
      "res4f_branch2a         (Conv2D)\n",
      "bn4f_branch2a          (BatchNorm)\n",
      "res4f_branch2b         (Conv2D)\n",
      "bn4f_branch2b          (BatchNorm)\n",
      "res4f_branch2c         (Conv2D)\n",
      "bn4f_branch2c          (BatchNorm)\n",
      "res5a_branch2a         (Conv2D)\n",
      "bn5a_branch2a          (BatchNorm)\n",
      "res5a_branch2b         (Conv2D)\n",
      "bn5a_branch2b          (BatchNorm)\n",
      "res5a_branch2c         (Conv2D)\n",
      "res5a_branch1          (Conv2D)\n",
      "bn5a_branch2c          (BatchNorm)\n",
      "bn5a_branch1           (BatchNorm)\n",
      "res5b_branch2a         (Conv2D)\n",
      "bn5b_branch2a          (BatchNorm)\n",
      "res5b_branch2b         (Conv2D)\n",
      "bn5b_branch2b          (BatchNorm)\n",
      "res5b_branch2c         (Conv2D)\n",
      "bn5b_branch2c          (BatchNorm)\n",
      "res5c_branch2a         (Conv2D)\n",
      "bn5c_branch2a          (BatchNorm)\n",
      "res5c_branch2b         (Conv2D)\n",
      "bn5c_branch2b          (BatchNorm)\n",
      "res5c_branch2c         (Conv2D)\n",
      "bn5c_branch2c          (BatchNorm)\n",
      "fpn_c5p5               (Conv2D)\n",
      "fpn_c4p4               (Conv2D)\n",
      "fpn_c3p3               (Conv2D)\n",
      "fpn_c2p2               (Conv2D)\n",
      "fpn_p5                 (Conv2D)\n",
      "fpn_p2                 (Conv2D)\n",
      "fpn_p3                 (Conv2D)\n",
      "fpn_p4                 (Conv2D)\n",
      "In model:  rpn_model\n",
      "    rpn_conv_shared        (Conv2D)\n",
      "    rpn_class_raw          (Conv2D)\n",
      "    rpn_bbox_pred          (Conv2D)\n",
      "mrcnn_mask_conv1       (TimeDistributed)\n",
      "mrcnn_mask_bn1         (TimeDistributed)\n",
      "mrcnn_mask_conv2       (TimeDistributed)\n",
      "mrcnn_mask_bn2         (TimeDistributed)\n",
      "mrcnn_class_conv1      (TimeDistributed)\n",
      "mrcnn_class_bn1        (TimeDistributed)\n",
      "mrcnn_mask_conv3       (TimeDistributed)\n",
      "mrcnn_mask_bn3         (TimeDistributed)\n",
      "mrcnn_class_conv2      (TimeDistributed)\n",
      "mrcnn_class_bn2        (TimeDistributed)\n",
      "mrcnn_mask_conv4       (TimeDistributed)\n",
      "mrcnn_mask_bn4         (TimeDistributed)\n",
      "mrcnn_bbox_fc          (TimeDistributed)\n",
      "mrcnn_mask_deconv      (TimeDistributed)\n",
      "mrcnn_class_logits     (TimeDistributed)\n",
      "mrcnn_mask             (TimeDistributed)\n",
      "Epoch 8/15\n",
      "200/200 [==============================] - 1579s 8s/step - loss: 1.2946 - rpn_class_loss: 0.0281 - rpn_bbox_loss: 0.3318 - mrcnn_class_loss: 0.1918 - mrcnn_bbox_loss: 0.3668 - mrcnn_mask_loss: 0.3761 - val_loss: 1.2845 - val_rpn_class_loss: 0.0266 - val_rpn_bbox_loss: 0.3476 - val_mrcnn_class_loss: 0.1732 - val_mrcnn_bbox_loss: 0.3709 - val_mrcnn_mask_loss: 0.3662\n",
      "Epoch 9/15\n",
      "200/200 [==============================] - 1386s 7s/step - loss: 1.2499 - rpn_class_loss: 0.0259 - rpn_bbox_loss: 0.3251 - mrcnn_class_loss: 0.1788 - mrcnn_bbox_loss: 0.3497 - mrcnn_mask_loss: 0.3704 - val_loss: 1.3261 - val_rpn_class_loss: 0.0283 - val_rpn_bbox_loss: 0.3797 - val_mrcnn_class_loss: 0.1840 - val_mrcnn_bbox_loss: 0.3652 - val_mrcnn_mask_loss: 0.3689\n",
      "Epoch 10/15\n",
      "200/200 [==============================] - 1404s 7s/step - loss: 1.2566 - rpn_class_loss: 0.0265 - rpn_bbox_loss: 0.3301 - mrcnn_class_loss: 0.1781 - mrcnn_bbox_loss: 0.3501 - mrcnn_mask_loss: 0.3718 - val_loss: 1.2497 - val_rpn_class_loss: 0.0249 - val_rpn_bbox_loss: 0.3253 - val_mrcnn_class_loss: 0.1803 - val_mrcnn_bbox_loss: 0.3615 - val_mrcnn_mask_loss: 0.3577\n",
      "Epoch 11/15\n",
      "200/200 [==============================] - 1398s 7s/step - loss: 1.2052 - rpn_class_loss: 0.0231 - rpn_bbox_loss: 0.3098 - mrcnn_class_loss: 0.1700 - mrcnn_bbox_loss: 0.3374 - mrcnn_mask_loss: 0.3649 - val_loss: 1.2574 - val_rpn_class_loss: 0.0248 - val_rpn_bbox_loss: 0.3428 - val_mrcnn_class_loss: 0.1779 - val_mrcnn_bbox_loss: 0.3596 - val_mrcnn_mask_loss: 0.3523\n",
      "Epoch 12/15\n",
      "200/200 [==============================] - 1391s 7s/step - loss: 1.2341 - rpn_class_loss: 0.0246 - rpn_bbox_loss: 0.3183 - mrcnn_class_loss: 0.1749 - mrcnn_bbox_loss: 0.3473 - mrcnn_mask_loss: 0.3690 - val_loss: 1.2562 - val_rpn_class_loss: 0.0244 - val_rpn_bbox_loss: 0.3276 - val_mrcnn_class_loss: 0.1773 - val_mrcnn_bbox_loss: 0.3632 - val_mrcnn_mask_loss: 0.3636\n",
      "Epoch 13/15\n",
      "200/200 [==============================] - 1424s 7s/step - loss: 1.2378 - rpn_class_loss: 0.0240 - rpn_bbox_loss: 0.3168 - mrcnn_class_loss: 0.1803 - mrcnn_bbox_loss: 0.3475 - mrcnn_mask_loss: 0.3692 - val_loss: 1.2630 - val_rpn_class_loss: 0.0246 - val_rpn_bbox_loss: 0.3589 - val_mrcnn_class_loss: 0.1673 - val_mrcnn_bbox_loss: 0.3548 - val_mrcnn_mask_loss: 0.3574\n",
      "Epoch 14/15\n",
      "200/200 [==============================] - 1410s 7s/step - loss: 1.2518 - rpn_class_loss: 0.0243 - rpn_bbox_loss: 0.3285 - mrcnn_class_loss: 0.1795 - mrcnn_bbox_loss: 0.3525 - mrcnn_mask_loss: 0.3670 - val_loss: 1.2578 - val_rpn_class_loss: 0.0227 - val_rpn_bbox_loss: 0.3295 - val_mrcnn_class_loss: 0.1719 - val_mrcnn_bbox_loss: 0.3690 - val_mrcnn_mask_loss: 0.3646\n",
      "Epoch 15/15\n",
      "200/200 [==============================] - 1396s 7s/step - loss: 1.2046 - rpn_class_loss: 0.0224 - rpn_bbox_loss: 0.3132 - mrcnn_class_loss: 0.1695 - mrcnn_bbox_loss: 0.3347 - mrcnn_mask_loss: 0.3648 - val_loss: 1.2541 - val_rpn_class_loss: 0.0255 - val_rpn_bbox_loss: 0.3665 - val_mrcnn_class_loss: 0.1530 - val_mrcnn_bbox_loss: 0.3497 - val_mrcnn_mask_loss: 0.3595\n",
      "CPU times: user 22min 35s, sys: 3min 4s, total: 25min 40s\n",
      "Wall time: 3h 10min 46s\n"
     ]
    }
   ],
   "source": [
    "model.train(dataset_train, dataset_val,\n",
    "            learning_rate=LEARNING_RATE/5,\n",
    "            epochs=15,\n",
    "            layers='all',\n",
    "            augmentation=augmentation,\n",
    "           custom_callbacks=[time_callback])\n",
    "\n",
    "times = time_callback.times\n",
    "times_list.append(times)\n",
    "news = model.keras_model.history.history\n",
    "for k in news: history[k] = history[k] + news[k]"
   ]
  },
  {
   "cell_type": "code",
   "execution_count": 51,
   "metadata": {
    "execution": {
     "iopub.execute_input": "2022-12-11T01:07:59.474921Z",
     "iopub.status.busy": "2022-12-11T01:07:59.472385Z",
     "iopub.status.idle": "2022-12-11T01:07:59.486566Z",
     "shell.execute_reply": "2022-12-11T01:07:59.485742Z",
     "shell.execute_reply.started": "2022-12-11T01:07:59.474859Z"
    }
   },
   "outputs": [
    {
     "name": "stdout",
     "output_type": "stream",
     "text": [
      "{'val_loss': [1.2845248365402222, 1.326075977087021, 1.2497450017929077, 1.2574406504631042, 1.256157205104828, 1.2630465972423552, 1.2578339982032776, 1.2540998601913451], 'val_rpn_class_loss': [0.026643633656203747, 0.02828007297590375, 0.02490645498037338, 0.02482836341485381, 0.024375034999102353, 0.02462427329272032, 0.022659214232116937, 0.02545882949605584], 'val_rpn_bbox_loss': [0.34757002383470537, 0.37968476235866544, 0.3252993211150169, 0.34276214987039566, 0.3275559103488922, 0.35893029898405077, 0.3295386692881584, 0.366499160528183], 'val_mrcnn_class_loss': [0.17319305047392844, 0.18400524377822877, 0.18033866479992866, 0.1779482139647007, 0.1773434779047966, 0.16726559907197952, 0.17194708496332167, 0.1530036748945713], 'val_mrcnn_bbox_loss': [0.3708620202541351, 0.36518600314855576, 0.36148798525333403, 0.3595801654458046, 0.3632274740934372, 0.35478765666484835, 0.3690298438072205, 0.3496556428074837], 'val_mrcnn_mask_loss': [0.3662428277730942, 0.36890654802322387, 0.3576991754770279, 0.35230829179286954, 0.36364184200763705, 0.3574252223968506, 0.36464560449123384, 0.35946896851062776], 'loss': [1.2945984250307083, 1.2499057811498642, 1.2565855365991592, 1.205207287967205, 1.2340935531258583, 1.2378340730071067, 1.2518249234557153, 1.2046320641040802], 'rpn_class_loss': [0.028082378543913364, 0.025883392840623857, 0.026483368473127485, 0.02305265439208597, 0.024605058543384076, 0.02402601124253124, 0.024319772005546837, 0.022421377706341446], 'rpn_bbox_loss': [0.3317843230068684, 0.3250696985423565, 0.33010472007095815, 0.30983532160520555, 0.31826124526560307, 0.31681349866092207, 0.32846488043665883, 0.3132226586341858], 'mrcnn_class_loss': [0.19177488394081593, 0.17883563939481972, 0.17808536142110826, 0.16998677495867015, 0.17489943876862526, 0.1802686543017626, 0.17953997772186994, 0.16948793701827525], 'mrcnn_bbox_loss': [0.3668272821605206, 0.3496573089808226, 0.35006890147924424, 0.3374146965146065, 0.34726972617208957, 0.347544809654355, 0.35245708338916304, 0.33469069093465803], 'mrcnn_mask_loss': [0.37611625865101816, 0.3704464113712311, 0.37182981133460996, 0.3649044051766396, 0.36904461607336997, 0.3691675868630409, 0.3670296487212181, 0.3647958041727543]}\n",
      "{'val_loss': [1.6505980610847473, 1.6767777299880982, 1.539666006565094, 1.4354641103744508, 1.4388747859001159, 1.3694477522373198, 1.3945681548118591, 1.2845248365402222, 1.326075977087021, 1.2497450017929077, 1.2574406504631042, 1.256157205104828, 1.2630465972423552, 1.2578339982032776, 1.2540998601913451], 'val_rpn_class_loss': [0.053800752349197865, 0.046265261620283125, 0.04150051455944777, 0.03726499106734991, 0.03375799585133791, 0.0303593366779387, 0.035314059015363455, 0.026643633656203747, 0.02828007297590375, 0.02490645498037338, 0.02482836341485381, 0.024375034999102353, 0.02462427329272032, 0.022659214232116937, 0.02545882949605584], 'val_rpn_bbox_loss': [0.42872911870479585, 0.575403009057045, 0.4235430935025215, 0.41399493515491487, 0.3692898827791214, 0.4242341086268425, 0.3850941848754883, 0.34757002383470537, 0.37968476235866544, 0.3252993211150169, 0.34276214987039566, 0.3275559103488922, 0.35893029898405077, 0.3295386692881584, 0.366499160528183], 'val_mrcnn_class_loss': [0.30515114396810533, 0.2511425930261612, 0.28004062741994856, 0.2218485364317894, 0.2567757558822632, 0.1626374414563179, 0.23315046966075897, 0.17319305047392844, 0.18400524377822877, 0.18033866479992866, 0.1779482139647007, 0.1773434779047966, 0.16726559907197952, 0.17194708496332167, 0.1530036748945713], 'val_mrcnn_bbox_loss': [0.47991430580615996, 0.42024434566497804, 0.4280914199352264, 0.39991325795650484, 0.4070220082998276, 0.3809104681015015, 0.383866999745369, 0.3708620202541351, 0.36518600314855576, 0.36148798525333403, 0.3595801654458046, 0.3632274740934372, 0.35478765666484835, 0.3690298438072205, 0.3496556428074837], 'val_mrcnn_mask_loss': [0.38300052225589754, 0.3837181633710861, 0.36648010194301606, 0.3624313968420029, 0.37201721251010894, 0.3712937593460083, 0.3571290993690491, 0.3662428277730942, 0.36890654802322387, 0.3576991754770279, 0.35230829179286954, 0.36364184200763705, 0.3574252223968506, 0.36464560449123384, 0.35946896851062776], 'loss': [1.8536515307426453, 1.756772723197937, 1.630573497414589, 1.4859343469142914, 1.449229816198349, 1.4084395080804826, 1.4040239164233208, 1.2945984250307083, 1.2499057811498642, 1.2565855365991592, 1.205207287967205, 1.2340935531258583, 1.2378340730071067, 1.2518249234557153, 1.2046320641040802], 'rpn_class_loss': [0.05456894168630242, 0.054414782151579855, 0.04954254918731749, 0.041748126232996584, 0.03477288282476366, 0.03205885575618595, 0.03260616020299494, 0.028082378543913364, 0.025883392840623857, 0.026483368473127485, 0.02305265439208597, 0.024605058543384076, 0.02402601124253124, 0.024319772005546837, 0.022421377706341446], 'rpn_bbox_loss': [0.4758906251937151, 0.5647212748974562, 0.4864824840426445, 0.4157892951369286, 0.38260979220271113, 0.3674211277067661, 0.3822054420411587, 0.3317843230068684, 0.3250696985423565, 0.33010472007095815, 0.30983532160520555, 0.31826124526560307, 0.31681349866092207, 0.32846488043665883, 0.3132226586341858], 'mrcnn_class_loss': [0.3612159771472216, 0.29016622066497805, 0.27137423533946275, 0.2313579313457012, 0.25019227139651773, 0.2374965672940016, 0.22431667480617762, 0.19177488394081593, 0.17883563939481972, 0.17808536142110826, 0.16998677495867015, 0.17489943876862526, 0.1802686543017626, 0.17953997772186994, 0.16948793701827525], 'mrcnn_bbox_loss': [0.5402418600022793, 0.46234432473778725, 0.42857548847794535, 0.40911453038454054, 0.39814041420817375, 0.3921333409845829, 0.38592533573508264, 0.3668272821605206, 0.3496573089808226, 0.35006890147924424, 0.3374146965146065, 0.34726972617208957, 0.347544809654355, 0.35245708338916304, 0.33469069093465803], 'mrcnn_mask_loss': [0.4217323623597622, 0.38512293845415113, 0.3945888340473175, 0.38791381239891054, 0.38350301995873454, 0.3793173350393772, 0.37895728468894957, 0.37611625865101816, 0.3704464113712311, 0.37182981133460996, 0.3649044051766396, 0.36904461607336997, 0.3691675868630409, 0.3670296487212181, 0.3647958041727543]}\n"
     ]
    }
   ],
   "source": [
    "print('Epoch Training time:', times)\n",
    "print(history)"
   ]
  },
  {
   "cell_type": "code",
   "execution_count": 25,
   "metadata": {},
   "outputs": [],
   "source": [
    "times_list = [3100.942350625992, 2919.7681403160095, 3838.4051370620728, 3599.8287439346313, 3495.5102343559265, 3518.391268968582, 3519.0389177799225,\\\n",
    "              3478.5074512958527, 3487.1403295993805, 3517.974394083023, 3769.775235891342, 3505.0972604751587,\\\n",
    "              3472.0826065540314, 3501.41512465477, 3548.938042163849]\n",
    "\n",
    "history = {'val_loss': [2.1349234700202944, 2.147835547924042, 2.4837684845924377, 1.8685538101196288, 2.0208426308631897, 1.7835288906097413, 2.1596428179740905, 1.845558943748474, 1.6052807068824768, 1.8365731835365295, 1.6694264531135559, 1.5303184461593629, 1.707759747505188, 1.7015903282165528, 1.7054264092445373], 'val_rpn_class_loss': [0.04658446967601776, 0.05706217020750046, 0.11906431913375855, 0.04865313470363617, 0.0641091126203537, 0.05134088814258576, 0.11253377944231033, 0.041337343454360964, 0.06361831873655319, 0.06697328984737397, 0.04519646793603897, 0.03301035538315773, 0.04317634582519531, 0.04615139797329903, 0.06197271704673767], 'val_rpn_bbox_loss': [0.7988203525543213, 0.7603895425796509, 1.0590975427627562, 0.6537582349777221, 0.8529054498672486, 0.6533264136314392, 0.8036744308471679, 0.6015525484085082, 0.37754886865615844, 0.6647035610675812, 0.4591502666473389, 0.4020089447498322, 0.6658352994918824, 0.6185073781013489, 0.5450826215744019], 'val_mrcnn_class_loss': [0.3001007318496704, 0.42004683524370195, 0.38407862454652786, 0.278115805387497, 0.2533662602305412, 0.2070675927400589, 0.3140053552389145, 0.28961500376462934, 0.2609559667110443, 0.2859273490309715, 0.3224626702070236, 0.2542493477463722, 0.23160688251256942, 0.21454885095357895, 0.2932953494787216], 'val_mrcnn_bbox_loss': [0.5343035399913788, 0.5152025067806244, 0.4825208222866058, 0.4738758391141891, 0.42918141186237335, 0.46791244208812716, 0.4871657419204712, 0.4820220875740051, 0.5082382065057754, 0.4476338052749634, 0.447416757941246, 0.44375345051288606, 0.3831925439834595, 0.434260288476944, 0.4139433282613754], 'val_mrcnn_mask_loss': [0.4551124614477158, 0.3951312863826752, 0.4389987939596176, 0.4141421568393707, 0.4212715005874634, 0.4038719892501831, 0.4422535026073456, 0.4310212141275406, 0.3949078291654587, 0.3713231307268143, 0.39518837332725526, 0.3972841930389404, 0.3839365237951279, 0.3881101757287979, 0.39111999213695525], 'loss': [1.6924433368444443, 1.6365146499872207, 1.5009415435791016, 1.4937750425934793, 1.5247445008158684, 1.436292625963688, 1.4406316682696343, 1.4023514473438263, 1.456989742219448, 1.4321323603391647, 1.4400130516290666, 1.3522206622362136, 1.366101324558258, 1.304487758874893, 1.3250547388195992], 'rpn_class_loss': [0.05106937070377171, 0.047678104992955925, 0.04178414295427501, 0.045540219824761155, 0.041070490051060914, 0.03939811036922038, 0.03917291934601962, 0.0381872689165175, 0.03830301174428314, 0.03800602498464287, 0.03868988418020308, 0.03379754251334816, 0.029579305206425488, 0.030042875772342086, 0.030249744141474365], 'rpn_bbox_loss': [0.45435774259269235, 0.4868608736619353, 0.385777458101511, 0.4335597462207079, 0.4180106008052826, 0.41113966137170793, 0.4168174934387207, 0.4032985591888428, 0.42667851962149145, 0.3842571173608303, 0.3919811151176691, 0.3349699617177248, 0.35824386671185493, 0.3409699536859989, 0.38090036988258363], 'mrcnn_class_loss': [0.3177102542668581, 0.296053314357996, 0.2714362735301256, 0.24562902595847846, 0.2793010775744915, 0.2359589432179928, 0.22086567215621472, 0.2381404500454664, 0.2476743443310261, 0.23599101148545742, 0.24394403472542764, 0.2418520660698414, 0.22107554625719786, 0.20274938840419054, 0.19967874679714442], 'mrcnn_bbox_loss': [0.45967494644224643, 0.420139332190156, 0.4038297978788614, 0.38631139136850834, 0.40236317917704584, 0.3724007372558117, 0.3804102852195501, 0.3517476116120815, 0.37148970536887643, 0.39076235875487325, 0.38799280911684036, 0.3714153411984444, 0.3808877325057983, 0.3577812670171261, 0.3508153384923935], 'mrcnn_mask_loss': [0.40962940737605097, 0.38578060701489447, 0.3981056097149849, 0.38272617995738983, 0.38399034455418585, 0.3773859353363514, 0.38335548907518385, 0.37096726313233375, 0.37283308237791063, 0.3831042113900185, 0.3773932348191738, 0.370173719227314, 0.3763026627898216, 0.3729320442676544, 0.36339816957712173]}"
   ]
  },
  {
   "cell_type": "code",
   "execution_count": 28,
   "metadata": {
    "_uuid": "cfce1fa95369d39f958d269e27b07332b9d36f89",
    "execution": {
     "iopub.execute_input": "2022-12-11T01:07:59.491529Z",
     "iopub.status.busy": "2022-12-11T01:07:59.490112Z",
     "iopub.status.idle": "2022-12-11T01:07:59.538710Z",
     "shell.execute_reply": "2022-12-11T01:07:59.538019Z",
     "shell.execute_reply.started": "2022-12-11T01:07:59.491469Z"
    }
   },
   "outputs": [],
   "source": [
    "epochs = range(1,len(next(iter(history.values())))+1)\n",
    "df = pd.DataFrame(history, index=epochs)\n",
    "df['epoch_train_time'] = times_list\n",
    "df.to_csv(ROOT_DIR + 'exp2-loss.csv')"
   ]
  },
  {
   "cell_type": "code",
   "execution_count": 31,
   "metadata": {},
   "outputs": [
    {
     "data": {
      "text/html": [
       "<div>\n",
       "<style scoped>\n",
       "    .dataframe tbody tr th:only-of-type {\n",
       "        vertical-align: middle;\n",
       "    }\n",
       "\n",
       "    .dataframe tbody tr th {\n",
       "        vertical-align: top;\n",
       "    }\n",
       "\n",
       "    .dataframe thead th {\n",
       "        text-align: right;\n",
       "    }\n",
       "</style>\n",
       "<table border=\"1\" class=\"dataframe\">\n",
       "  <thead>\n",
       "    <tr style=\"text-align: right;\">\n",
       "      <th></th>\n",
       "      <th>val_loss</th>\n",
       "      <th>val_rpn_class_loss</th>\n",
       "      <th>val_rpn_bbox_loss</th>\n",
       "      <th>val_mrcnn_class_loss</th>\n",
       "      <th>val_mrcnn_bbox_loss</th>\n",
       "      <th>val_mrcnn_mask_loss</th>\n",
       "      <th>loss</th>\n",
       "      <th>rpn_class_loss</th>\n",
       "      <th>rpn_bbox_loss</th>\n",
       "      <th>mrcnn_class_loss</th>\n",
       "      <th>mrcnn_bbox_loss</th>\n",
       "      <th>mrcnn_mask_loss</th>\n",
       "      <th>epoch_train_time</th>\n",
       "    </tr>\n",
       "  </thead>\n",
       "  <tbody>\n",
       "    <tr>\n",
       "      <th>1</th>\n",
       "      <td>2.134923</td>\n",
       "      <td>0.046584</td>\n",
       "      <td>0.798820</td>\n",
       "      <td>0.300101</td>\n",
       "      <td>0.534304</td>\n",
       "      <td>0.455112</td>\n",
       "      <td>1.692443</td>\n",
       "      <td>0.051069</td>\n",
       "      <td>0.454358</td>\n",
       "      <td>0.317710</td>\n",
       "      <td>0.459675</td>\n",
       "      <td>0.409629</td>\n",
       "      <td>3100.942351</td>\n",
       "    </tr>\n",
       "    <tr>\n",
       "      <th>2</th>\n",
       "      <td>2.147836</td>\n",
       "      <td>0.057062</td>\n",
       "      <td>0.760390</td>\n",
       "      <td>0.420047</td>\n",
       "      <td>0.515203</td>\n",
       "      <td>0.395131</td>\n",
       "      <td>1.636515</td>\n",
       "      <td>0.047678</td>\n",
       "      <td>0.486861</td>\n",
       "      <td>0.296053</td>\n",
       "      <td>0.420139</td>\n",
       "      <td>0.385781</td>\n",
       "      <td>2919.768140</td>\n",
       "    </tr>\n",
       "    <tr>\n",
       "      <th>3</th>\n",
       "      <td>2.483768</td>\n",
       "      <td>0.119064</td>\n",
       "      <td>1.059098</td>\n",
       "      <td>0.384079</td>\n",
       "      <td>0.482521</td>\n",
       "      <td>0.438999</td>\n",
       "      <td>1.500942</td>\n",
       "      <td>0.041784</td>\n",
       "      <td>0.385777</td>\n",
       "      <td>0.271436</td>\n",
       "      <td>0.403830</td>\n",
       "      <td>0.398106</td>\n",
       "      <td>3838.405137</td>\n",
       "    </tr>\n",
       "    <tr>\n",
       "      <th>4</th>\n",
       "      <td>1.868554</td>\n",
       "      <td>0.048653</td>\n",
       "      <td>0.653758</td>\n",
       "      <td>0.278116</td>\n",
       "      <td>0.473876</td>\n",
       "      <td>0.414142</td>\n",
       "      <td>1.493775</td>\n",
       "      <td>0.045540</td>\n",
       "      <td>0.433560</td>\n",
       "      <td>0.245629</td>\n",
       "      <td>0.386311</td>\n",
       "      <td>0.382726</td>\n",
       "      <td>3599.828744</td>\n",
       "    </tr>\n",
       "    <tr>\n",
       "      <th>5</th>\n",
       "      <td>2.020843</td>\n",
       "      <td>0.064109</td>\n",
       "      <td>0.852905</td>\n",
       "      <td>0.253366</td>\n",
       "      <td>0.429181</td>\n",
       "      <td>0.421272</td>\n",
       "      <td>1.524745</td>\n",
       "      <td>0.041070</td>\n",
       "      <td>0.418011</td>\n",
       "      <td>0.279301</td>\n",
       "      <td>0.402363</td>\n",
       "      <td>0.383990</td>\n",
       "      <td>3495.510234</td>\n",
       "    </tr>\n",
       "  </tbody>\n",
       "</table>\n",
       "</div>"
      ],
      "text/plain": [
       "   val_loss  val_rpn_class_loss  val_rpn_bbox_loss  val_mrcnn_class_loss  \\\n",
       "1  2.134923            0.046584           0.798820              0.300101   \n",
       "2  2.147836            0.057062           0.760390              0.420047   \n",
       "3  2.483768            0.119064           1.059098              0.384079   \n",
       "4  1.868554            0.048653           0.653758              0.278116   \n",
       "5  2.020843            0.064109           0.852905              0.253366   \n",
       "\n",
       "   val_mrcnn_bbox_loss  val_mrcnn_mask_loss      loss  rpn_class_loss  \\\n",
       "1             0.534304             0.455112  1.692443        0.051069   \n",
       "2             0.515203             0.395131  1.636515        0.047678   \n",
       "3             0.482521             0.438999  1.500942        0.041784   \n",
       "4             0.473876             0.414142  1.493775        0.045540   \n",
       "5             0.429181             0.421272  1.524745        0.041070   \n",
       "\n",
       "   rpn_bbox_loss  mrcnn_class_loss  mrcnn_bbox_loss  mrcnn_mask_loss  \\\n",
       "1       0.454358          0.317710         0.459675         0.409629   \n",
       "2       0.486861          0.296053         0.420139         0.385781   \n",
       "3       0.385777          0.271436         0.403830         0.398106   \n",
       "4       0.433560          0.245629         0.386311         0.382726   \n",
       "5       0.418011          0.279301         0.402363         0.383990   \n",
       "\n",
       "   epoch_train_time  \n",
       "1       3100.942351  \n",
       "2       2919.768140  \n",
       "3       3838.405137  \n",
       "4       3599.828744  \n",
       "5       3495.510234  "
      ]
     },
     "execution_count": 31,
     "metadata": {},
     "output_type": "execute_result"
    }
   ],
   "source": [
    "df.head()"
   ]
  },
  {
   "cell_type": "code",
   "execution_count": 29,
   "metadata": {
    "_uuid": "5edee0adf833e2ff6ff86c6ee65d782a8486d3c9",
    "execution": {
     "iopub.execute_input": "2022-12-11T01:07:59.540167Z",
     "iopub.status.busy": "2022-12-11T01:07:59.539889Z",
     "iopub.status.idle": "2022-12-11T01:07:59.907193Z",
     "shell.execute_reply": "2022-12-11T01:07:59.906277Z",
     "shell.execute_reply.started": "2022-12-11T01:07:59.540119Z"
    }
   },
   "outputs": [
    {
     "data": {
      "image/png": "[encoded data removed]",
      "text/plain": [
       "<Figure size 1500x500 with 1 Axes>"
      ]
     },
     "metadata": {},
     "output_type": "display_data"
    }
   ],
   "source": [
    "plt.figure(figsize=(15,5))\n",
    "plt.subplot(111)\n",
    "plt.plot(epochs, history[\"loss\"], label=\"Train loss\")\n",
    "plt.plot(epochs, history[\"val_loss\"], label=\"Valid loss\")\n",
    "plt.title('Masked RCNN Loss')\n",
    "plt.legend()\n",
    "plt.savefig('exp2-mrccn-loss-plot.png')\n",
    "# plt.show()"
   ]
  },
  {
   "cell_type": "code",
   "execution_count": 20,
   "metadata": {
    "_uuid": "db5c10d3f7da099e5751a04a6e6d49819882ecd4",
    "colab": {
     "base_uri": "https://localhost:8080/",
     "height": 35
    },
    "colab_type": "code",
    "execution": {
     "iopub.execute_input": "2022-12-11T01:07:59.913712Z",
     "iopub.status.busy": "2022-12-11T01:07:59.911653Z",
     "iopub.status.idle": "2022-12-11T01:07:59.947276Z",
     "shell.execute_reply": "2022-12-11T01:07:59.945244Z",
     "shell.execute_reply.started": "2022-12-11T01:07:59.913652Z"
    },
    "id": "eraRlzgPmmIZ",
    "outputId": "de9e688c-ba4f-4b62-f842-dbcf00ce397c"
   },
   "outputs": [
    {
     "name": "stdout",
     "output_type": "stream",
     "text": [
      "Found model ./pneumonia20221212T0116/mask_rcnn_pneumonia_0015.h5\n"
     ]
    }
   ],
   "source": [
    "# select trained model \n",
    "dir_names = next(os.walk(model.model_dir))[1]\n",
    "key = config.NAME.lower()\n",
    "dir_names = filter(lambda f: f.startswith(key), dir_names)\n",
    "dir_names = sorted(dir_names)\n",
    "\n",
    "if not dir_names:\n",
    "    import errno\n",
    "    raise FileNotFoundError(\n",
    "        errno.ENOENT,\n",
    "        \"Could not find model directory under {}\".format(self.model_dir))\n",
    "    \n",
    "fps = []\n",
    "# Pick last directory\n",
    "for d in dir_names: \n",
    "    dir_name = os.path.join(model.model_dir, d)\n",
    "    # Find the last checkpoint\n",
    "    checkpoints = next(os.walk(dir_name))[2]\n",
    "    checkpoints = filter(lambda f: f.startswith(\"mask_rcnn\"), checkpoints)\n",
    "    checkpoints = sorted(checkpoints)\n",
    "    if not checkpoints:\n",
    "        print('No weight files in {}'.format(dir_name))\n",
    "    else:\n",
    "        checkpoint = os.path.join(dir_name, checkpoints[-1])\n",
    "        fps.append(checkpoint)\n",
    "\n",
    "model_path = sorted(fps)[-1]\n",
    "print('Found model {}'.format(model_path))"
   ]
  },
  {
   "cell_type": "code",
   "execution_count": 21,
   "metadata": {
    "_uuid": "52138636b2ae5bf444bba808518cd8313bde65cd",
    "colab": {
     "base_uri": "https://localhost:8080/",
     "height": 53
    },
    "colab_type": "code",
    "execution": {
     "iopub.execute_input": "2022-12-11T01:07:59.949156Z",
     "iopub.status.busy": "2022-12-11T01:07:59.948752Z",
     "iopub.status.idle": "2022-12-11T01:08:09.797019Z",
     "shell.execute_reply": "2022-12-11T01:08:09.796233Z",
     "shell.execute_reply.started": "2022-12-11T01:07:59.949074Z"
    },
    "id": "TgpT9AzC2Bgz",
    "outputId": "60f5a175-4666-497d-b4e8-0bdab39a92d0"
   },
   "outputs": [
    {
     "name": "stdout",
     "output_type": "stream",
     "text": [
      "WARNING:tensorflow:From ./Mask_RCNN/mrcnn/model.py:772: to_float (from tensorflow.python.ops.math_ops) is deprecated and will be removed in a future version.\n",
      "Instructions for updating:\n",
      "Use tf.cast instead.\n",
      "Loading weights from  ./pneumonia20221212T0116/mask_rcnn_pneumonia_0015.h5\n"
     ]
    },
    {
     "name": "stderr",
     "output_type": "stream",
     "text": [
      "2022-12-12 19:13:36.767625: I tensorflow/core/platform/cpu_feature_guard.cc:141] Your CPU supports instructions that this TensorFlow binary was not compiled to use: AVX2 FMA\n",
      "2022-12-12 19:13:36.772623: I tensorflow/core/platform/profile_utils/cpu_utils.cc:94] CPU Frequency: 2199995000 Hz\n",
      "2022-12-12 19:13:36.773670: I tensorflow/compiler/xla/service/service.cc:150] XLA service 0x560c7c718dc0 executing computations on platform Host. Devices:\n",
      "2022-12-12 19:13:36.773700: I tensorflow/compiler/xla/service/service.cc:158]   StreamExecutor device (0): <undefined>, <undefined>\n"
     ]
    },
    {
     "name": "stdout",
     "output_type": "stream",
     "text": [
      "Re-starting from epoch 15\n"
     ]
    }
   ],
   "source": [
    "class InferenceConfig(DetectorConfig):\n",
    "    GPU_COUNT = 1\n",
    "    IMAGES_PER_GPU = 1\n",
    "\n",
    "inference_config = InferenceConfig()\n",
    "\n",
    "# Recreate the model in inference mode\n",
    "model = modellib.MaskRCNN(mode='inference', \n",
    "                          config=inference_config,\n",
    "                          model_dir=ROOT_DIR)\n",
    "\n",
    "# Load trained weights (fill in path to trained weights here)\n",
    "assert model_path != \"\", \"Provide path to trained weights\"\n",
    "print(\"Loading weights from \", model_path)\n",
    "model.load_weights(model_path, by_name=True)"
   ]
  },
  {
   "cell_type": "markdown",
   "metadata": {
    "_uuid": "164e18701a830bc6c42a791feea13549de37289b",
    "colab_type": "text",
    "id": "WcV1cL_aiSc4"
   },
   "source": [
    "### Final steps - Create the submission file"
   ]
  },
  {
   "cell_type": "code",
   "execution_count": 22,
   "metadata": {
    "_uuid": "fd9f53fa319a425693e07fe4898ddeeaa5d07f99",
    "colab": {},
    "colab_type": "code",
    "execution": {
     "iopub.execute_input": "2022-12-11T01:08:15.125461Z",
     "iopub.status.busy": "2022-12-11T01:08:15.125215Z",
     "iopub.status.idle": "2022-12-11T01:08:15.667185Z",
     "shell.execute_reply": "2022-12-11T01:08:15.666417Z",
     "shell.execute_reply.started": "2022-12-11T01:08:15.125419Z"
    },
    "id": "qRWBVJKYNdWM"
   },
   "outputs": [],
   "source": [
    "# Get filenames of test dataset DICOM images\n",
    "test_image_fps = get_dicom_fps(test_dicom_dir)"
   ]
  },
  {
   "cell_type": "code",
   "execution_count": 23,
   "metadata": {
    "_uuid": "4a5c0c6134408ddbf5a34496d7e9d7be5692e9a1",
    "colab": {},
    "colab_type": "code",
    "execution": {
     "iopub.execute_input": "2022-12-11T01:08:15.669490Z",
     "iopub.status.busy": "2022-12-11T01:08:15.669224Z",
     "iopub.status.idle": "2022-12-11T01:08:15.678578Z",
     "shell.execute_reply": "2022-12-11T01:08:15.677828Z",
     "shell.execute_reply.started": "2022-12-11T01:08:15.669443Z"
    },
    "id": "C6UWVrbM2Bob"
   },
   "outputs": [],
   "source": [
    "# Make predictions on test images, write out sample submission\n",
    "def predict(image_fps, filepath='submission.csv', min_conf=0.95):\n",
    "    # assume square image\n",
    "    resize_factor = ORIG_SIZE / config.IMAGE_SHAPE[0]\n",
    "    #resize_factor = ORIG_SIZE\n",
    "    with open(filepath, 'w') as file:\n",
    "        file.write(\"patientId,PredictionString\\n\")\n",
    "\n",
    "        for image_id in tqdm(image_fps):\n",
    "            ds = pydicom.read_file(image_id)\n",
    "            image = ds.pixel_array\n",
    "            # If grayscale. Convert to RGB for consistency.\n",
    "            if len(image.shape) != 3 or image.shape[2] != 3:\n",
    "                image = np.stack((image,) * 3, -1)\n",
    "            image, window, scale, padding, crop = utils.resize_image(\n",
    "                image,\n",
    "                min_dim=config.IMAGE_MIN_DIM,\n",
    "                min_scale=config.IMAGE_MIN_SCALE,\n",
    "                max_dim=config.IMAGE_MAX_DIM,\n",
    "                mode=config.IMAGE_RESIZE_MODE)\n",
    "\n",
    "            patient_id = os.path.splitext(os.path.basename(image_id))[0]\n",
    "\n",
    "            results = model.detect([image])\n",
    "            r = results[0]\n",
    "\n",
    "            out_str = \"\"\n",
    "            out_str += patient_id\n",
    "            out_str += \",\"\n",
    "            assert( len(r['rois']) == len(r['class_ids']) == len(r['scores']) )\n",
    "            if len(r['rois']) == 0:\n",
    "                pass\n",
    "            else:\n",
    "                num_instances = len(r['rois'])\n",
    "\n",
    "                for i in range(num_instances):\n",
    "                    if r['scores'][i] > min_conf:\n",
    "                        out_str += ' '\n",
    "                        out_str += str(round(r['scores'][i], 2))\n",
    "                        out_str += ' '\n",
    "\n",
    "                        # x1, y1, width, height\n",
    "                        x1 = r['rois'][i][1]\n",
    "                        y1 = r['rois'][i][0]\n",
    "                        width = r['rois'][i][3] - x1\n",
    "                        height = r['rois'][i][2] - y1\n",
    "                        bboxes_str = \"{} {} {} {}\".format(x1*resize_factor, y1*resize_factor, \\\n",
    "                                                           width*resize_factor, height*resize_factor)\n",
    "                        out_str += bboxes_str\n",
    "\n",
    "            file.write(out_str+\"\\n\")"
   ]
  },
  {
   "cell_type": "code",
   "execution_count": null,
   "metadata": {},
   "outputs": [
    {
     "name": "stderr",
     "output_type": "stream",
     "text": [
      " 51%|██████████████████████████████████████████████████████████████████████▎                                                                  | 1539/3000 [13:20<12:12,  1.99it/s]"
     ]
    }
   ],
   "source": [
    "submission_fp = os.path.join(ROOT_DIR, 'submission-0.95.csv')\n",
    "predict(test_image_fps, filepath=submission_fp, min_conf=0.95)\n",
    "print(submission_fp)"
   ]
  },
  {
   "cell_type": "code",
   "execution_count": null,
   "metadata": {
    "_uuid": "0406e7f5aaa4867782c4f9c064f90bba386128e7",
    "colab": {
     "base_uri": "https://localhost:8080/",
     "height": 35
    },
    "colab_type": "code",
    "execution": {
     "iopub.execute_input": "2022-12-11T01:22:19.349330Z",
     "iopub.status.busy": "2022-12-11T01:22:19.348900Z",
     "iopub.status.idle": "2022-12-11T01:30:19.877752Z",
     "shell.execute_reply": "2022-12-11T01:30:19.876784Z",
     "shell.execute_reply.started": "2022-12-11T01:22:19.349261Z"
    },
    "id": "C5cBpNka2Bsv",
    "outputId": "a2af9176-d9d6-49f6-f22a-5a1c455d144f"
   },
   "outputs": [],
   "source": [
    "submission_fp = os.path.join(ROOT_DIR, 'submission-0.5.csv')\n",
    "predict(test_image_fps, filepath=submission_fp, min_conf=0.5)\n",
    "print(submission_fp)"
   ]
  },
  {
   "cell_type": "code",
   "execution_count": null,
   "metadata": {
    "execution": {
     "iopub.execute_input": "2022-12-11T01:30:19.885771Z",
     "iopub.status.busy": "2022-12-11T01:30:19.879572Z",
     "iopub.status.idle": "2022-12-11T01:38:09.654844Z",
     "shell.execute_reply": "2022-12-11T01:38:09.653850Z",
     "shell.execute_reply.started": "2022-12-11T01:30:19.885691Z"
    }
   },
   "outputs": [],
   "source": [
    "submission_fp = os.path.join(ROOT_DIR, 'submission-0.3.csv')\n",
    "predict(test_image_fps, filepath=submission_fp, min_conf=0.3)\n",
    "print(submission_fp)"
   ]
  },
  {
   "cell_type": "code",
   "execution_count": null,
   "metadata": {},
   "outputs": [],
   "source": []
  }
 ],
 "metadata": {
  "accelerator": "GPU",
  "colab": {
   "collapsed_sections": [],
   "name": "lesson-3-rsna-pneumonia-detection-challenge-kaggle",
   "provenance": [],
   "version": "0.3.2"
  },
  "kernelspec": {
   "display_name": "Python 3 (ipykernel)",
   "language": "python",
   "name": "python3"
  },
  "language_info": {
   "codemirror_mode": {
    "name": "ipython",
    "version": 3
   },
   "file_extension": ".py",
   "mimetype": "text/x-python",
   "name": "python",
   "nbconvert_exporter": "python",
   "pygments_lexer": "ipython3",
   "version": "3.7.3"
  }
 },
 "nbformat": 4,
 "nbformat_minor": 4
}
