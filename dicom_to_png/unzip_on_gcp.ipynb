{
  "nbformat": 4,
  "nbformat_minor": 0,
  "metadata": {
    "colab": {
      "provenance": []
    },
    "kernelspec": {
      "name": "python3",
      "display_name": "Python 3"
    },
    "language_info": {
      "name": "python"
    }
  },
  "cells": [
    {
      "cell_type": "code",
      "source": [
        "import io\n",
        "from zipfile import ZipFile, is_zipfile\n",
        "\n",
        "from google.cloud import storage\n",
        "from google.oauth2 import service_account\n",
        "\n",
        "# declare unzipping function\n",
        "\n",
        "def zipextract(zipfilename_with_path):\n",
        "\n",
        "    # auth config\n",
        "    SERVICE_ACCOUNT_FILE = 'dlclass1-3803998da56f.json'\n",
        "    credentials = service_account.Credentials.from_service_account_file(\n",
        "        SERVICE_ACCOUNT_FILE)\n",
        "\n",
        "    bucketname = 'rsna_png_29nov'\n",
        "\n",
        "    storage_client = storage.Client(credentials=credentials)\n",
        "    bucket = storage_client.get_bucket(bucketname)\n",
        "\n",
        "    destination_blob_pathname = zipfilename_with_path\n",
        "\n",
        "    blob = bucket.blob(destination_blob_pathname)\n",
        "\n",
        "    zipbytes = io.BytesIO(blob.download_as_string())\n",
        "\n",
        "    if is_zipfile(zipbytes):\n",
        "        with ZipFile(zipbytes, 'r') as myzip:\n",
        "            for contentfilename in myzip.namelist():\n",
        "                contentfile = myzip.read(contentfilename)\n",
        "\n",
        "                # unzip pdf files only, leave out if you don't need this.\n",
        "                #if '.pdf' in contentfilename.casefold():\n",
        "\n",
        "                output_file = f'./{contentfilename.split(\"/\")[-1]}'\n",
        "                outfile = open(output_file, 'wb')\n",
        "                outfile.write(contentfile)\n",
        "                outfile.close()\n",
        "\n",
        "                blob = bucket.blob(\n",
        "                    f'{zipfilename_with_path.rstrip(\".zip\")}/{contentfilename}'\n",
        "                )\n",
        "                with open(output_file, \"rb\") as my_png:\n",
        "                    blob.upload_from_file(my_png)\n",
        "\n",
        "                # make the file publicly accessible\n",
        "                #blob.make_public()\n",
        "    print('done running function')\n",
        "\n",
        "if __name__ == '__main__':\n",
        "    zipfilename_with_path = input('enter the zipfile path: ')\n",
        "    zipextract(zipfilename_with_path)"
      ],
      "metadata": {
        "colab": {
          "base_uri": "https://localhost:8080/"
        },
        "id": "LYK1e9L2Cu3C",
        "outputId": "11c6e96a-1128-4dfc-c865-49357a1f504a"
      },
      "execution_count": null,
      "outputs": [
        {
          "output_type": "stream",
          "name": "stdout",
          "text": [
            "enter the zipfile path: stage_2_test_images_png.zip\n",
            "done running function\n"
          ]
        }
      ]
    },
    {
      "cell_type": "code",
      "source": [
        "import io\n",
        "from zipfile import ZipFile, is_zipfile\n",
        "\n",
        "from google.cloud import storage\n",
        "from google.oauth2 import service_account\n",
        "\n",
        "# declare unzipping function\n",
        "\n",
        "def zipextract(zipfilename_with_path):\n",
        "\n",
        "    # auth config\n",
        "    SERVICE_ACCOUNT_FILE = 'dlclass1-3803998da56f.json'\n",
        "    credentials = service_account.Credentials.from_service_account_file(\n",
        "        SERVICE_ACCOUNT_FILE)\n",
        "\n",
        "    bucketname = 'rsna_png_29nov'\n",
        "\n",
        "    storage_client = storage.Client(credentials=credentials)\n",
        "    bucket = storage_client.get_bucket(bucketname)\n",
        "\n",
        "    destination_blob_pathname = zipfilename_with_path\n",
        "\n",
        "    blob = bucket.blob(destination_blob_pathname)\n",
        "\n",
        "    zipbytes = io.BytesIO(blob.download_as_string())\n",
        "\n",
        "    if is_zipfile(zipbytes):\n",
        "        with ZipFile(zipbytes, 'r') as myzip:\n",
        "            for contentfilename in myzip.namelist():\n",
        "                contentfile = myzip.read(contentfilename)\n",
        "\n",
        "                # unzip pdf files only, leave out if you don't need this.\n",
        "                #if '.pdf' in contentfilename.casefold():\n",
        "\n",
        "                output_file = f'./{contentfilename.split(\"/\")[-1]}'\n",
        "                outfile = open(output_file, 'wb')\n",
        "                outfile.write(contentfile)\n",
        "                outfile.close()\n",
        "\n",
        "                blob = bucket.blob(\n",
        "                    f'{zipfilename_with_path.rstrip(\".zip\")}/{contentfilename}'\n",
        "                )\n",
        "                with open(output_file, \"rb\") as my_png:\n",
        "                    blob.upload_from_file(my_png)\n",
        "\n",
        "                # make the file publicly accessible\n",
        "                #blob.make_public()\n",
        "    print('done running function')\n",
        "\n",
        "if __name__ == '__main__':\n",
        "    zipfilename_with_path = input('enter the zipfile path: ')\n",
        "    zipextract(zipfilename_with_path)\n"
      ],
      "metadata": {
        "colab": {
          "base_uri": "https://localhost:8080/"
        },
        "id": "ReHU0m-5JZSH",
        "outputId": "1e8d19bc-10ae-4438-df20-8d3f2cbda4d1"
      },
      "execution_count": 1,
      "outputs": [
        {
          "output_type": "stream",
          "name": "stdout",
          "text": [
            "enter the zipfile path: stage_2_train_images_png.zip\n",
            "done running function\n"
          ]
        }
      ]
    }
  ]
}